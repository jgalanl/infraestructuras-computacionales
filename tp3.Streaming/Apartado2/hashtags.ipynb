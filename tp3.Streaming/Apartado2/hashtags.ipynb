{
 "cells": [
  {
   "cell_type": "markdown",
   "id": "1cf5cc6f",
   "metadata": {},
   "source": [
    "## Infraestructuras Computacionales para el Procesamiento de Datos Masivos\n",
    "### Práctica del Módulo 3: Gestión de datos en tiempo real (Streaming)\n",
    "### Autor: Jesús Galán Llano\n",
    "#### Correo: jgalan279@alumno.uned.es"
   ]
  },
  {
   "cell_type": "code",
   "execution_count": 1,
   "id": "853ff8da",
   "metadata": {},
   "outputs": [],
   "source": [
    "from pyspark.sql import SparkSession\n",
    "from pyspark.sql.functions import split\n",
    "from pyspark.sql.functions import explode"
   ]
  },
  {
   "cell_type": "markdown",
   "id": "6c5a2211",
   "metadata": {},
   "source": [
    "En primer lugar, creamos la sesión de Spark"
   ]
  },
  {
   "cell_type": "code",
   "execution_count": 2,
   "id": "1a9dda79",
   "metadata": {},
   "outputs": [],
   "source": [
    "spark = SparkSession \\\n",
    "    .builder \\\n",
    "    .appName(\"tp3\") \\\n",
    "    .getOrCreate()"
   ]
  },
  {
   "cell_type": "markdown",
   "id": "8b9996f0",
   "metadata": {},
   "source": [
    "Tras esto, especificamos el tipo de entrada de datos que en este caso se corresponde con Apache Kafka. \n",
    "Es importante configurar correctamente el número de brokers de Kafka así como su dirección. La configuración descrita en la memoria\n",
    "consiste de dos servidores, que están disponibles en los puertos 9092 y 9093 en el equipo local."
   ]
  },
  {
   "cell_type": "code",
   "execution_count": 3,
   "id": "971873e9",
   "metadata": {},
   "outputs": [],
   "source": [
    "lines = spark \\\n",
    "  .readStream \\\n",
    "  .format(\"kafka\") \\\n",
    "  .option(\"kafka.bootstrap.servers\", \"localhost:9092,localhost:9093\") \\\n",
    "  .option(\"subscribe\", \"kafkaTwitter\") \\\n",
    "  .option(\"includeHeaders\", \"true\") \\\n",
    "  .load()"
   ]
  },
  {
   "cell_type": "markdown",
   "id": "7b8a0e53",
   "metadata": {},
   "source": [
    "Creamos un DataFrame formado por todas las palabras que aparecen en los tweets. Para ello, dividimos los mensajes en espacios en blanco\n",
    "con la función split(). La función explode permite devolver más de un elemento, que es la lista de palabras, por cada elemento procesado, que es un tweet."
   ]
  },
  {
   "cell_type": "code",
   "execution_count": 4,
   "id": "64ac7b02",
   "metadata": {},
   "outputs": [],
   "source": [
    "words = lines.select(\n",
    "        explode(split(lines.value, ' ')).alias('word'),\n",
    "    )"
   ]
  },
  {
   "cell_type": "markdown",
   "id": "9cb4fac9",
   "metadata": {},
   "source": [
    "Como solamente nos interesa almacenar los hashtags aplicamos una operación de filtrado sobre el DataFrame anterior. \n",
    "Los hashtags son aquellas palabras que empiezan por el caracter '#'. "
   ]
  },
  {
   "cell_type": "code",
   "execution_count": 5,
   "id": "92f89928",
   "metadata": {},
   "outputs": [],
   "source": [
    "hashtags = words.filter(words.word.startswith('#'))"
   ]
  },
  {
   "cell_type": "markdown",
   "id": "6f4c76ac",
   "metadata": {},
   "source": [
    "Tras obtener todos los hashtags, se agrupan utilizando la función groupBy() y se realiza el cálculo de cuántas veces aparece dicho hashtag con la función count().\n",
    "Seguidamente, ordenamos los resultados utilizando la función orderBy en base al número de veces que aparece cada hashtags de forma descendente, empezando por los que más se repiten.\n",
    "Por último, limitamos los resultados a los 10 hashtags más utilizados con la función limit()."
   ]
  },
  {
   "cell_type": "code",
   "execution_count": 9,
   "id": "d9ab07c4",
   "metadata": {},
   "outputs": [],
   "source": [
    "hashtagsCounts = hashtags.groupBy(\n",
    "    hashtags.word\n",
    ").count()\\\n",
    "    .orderBy('count', ascending=False)\\\n",
    "        .limit(10)"
   ]
  },
  {
   "cell_type": "markdown",
   "id": "438607e6",
   "metadata": {},
   "source": [
    "Por último, ejecutamos el proceso para procesar los tweets que van llegando desde el productor.\n",
    "Se ha dejado la ejecución del programa durante un período de tiempo para validar su funcionamiento. Las conclusiones de la práctica se incluyen al final del cuaderno."
   ]
  },
  {
   "cell_type": "code",
   "execution_count": null,
   "id": "94d2a83c",
   "metadata": {},
   "outputs": [
    {
     "name": "stderr",
     "output_type": "stream",
     "text": [
      "22/01/16 21:05:48 WARN ResolveWriteToStream: Temporary checkpoint location created which is deleted normally when the query didn't fail: /tmp/temporary-01f1d75b-e932-475e-b5ea-9e7819519a8e. If it's required to delete it under any circumstances, please set spark.sql.streaming.forceDeleteTempCheckpointLocation to true. Important to know deleting temp checkpoint folder is best effort.\n",
      "22/01/16 21:05:48 WARN ResolveWriteToStream: spark.sql.adaptive.enabled is not supported in streaming DataFrames/Datasets and will be disabled.\n",
      "                                                                                \r"
     ]
    },
    {
     "name": "stdout",
     "output_type": "stream",
     "text": [
      "-------------------------------------------\n",
      "Batch: 0\n",
      "-------------------------------------------\n",
      "+----+-----+\n",
      "|word|count|\n",
      "+----+-----+\n",
      "+----+-----+\n",
      "\n"
     ]
    },
    {
     "name": "stderr",
     "output_type": "stream",
     "text": [
      "                                                                                \r"
     ]
    },
    {
     "name": "stdout",
     "output_type": "stream",
     "text": [
      "-------------------------------------------\n",
      "Batch: 1\n",
      "-------------------------------------------\n",
      "+----+-----+\n",
      "|word|count|\n",
      "+----+-----+\n",
      "+----+-----+\n",
      "\n"
     ]
    },
    {
     "name": "stderr",
     "output_type": "stream",
     "text": [
      "                                                                                \r"
     ]
    },
    {
     "name": "stdout",
     "output_type": "stream",
     "text": [
      "-------------------------------------------\n",
      "Batch: 2\n",
      "-------------------------------------------\n",
      "+---------------+-----+\n",
      "|word           |count|\n",
      "+---------------+-----+\n",
      "|#EscuelaPPA    |1    |\n",
      "|#DebateTM      |1    |\n",
      "|#AhoraPPCV     |1    |\n",
      "|#representar   |1    |\n",
      "|#liderar       |1    |\n",
      "|#FelizMiercoles|1    |\n",
      "|#digoSÍvotoPSOE|1    |\n",
      "|#Nuñista       |1    |\n",
      "|#TuitUtil      |1    |\n",
      "|#servir        |1    |\n",
      "+---------------+-----+\n",
      "\n"
     ]
    },
    {
     "name": "stderr",
     "output_type": "stream",
     "text": [
      "                                                                                \r"
     ]
    },
    {
     "name": "stdout",
     "output_type": "stream",
     "text": [
      "-------------------------------------------\n",
      "Batch: 3\n",
      "-------------------------------------------\n",
      "+-------------------+-----+\n",
      "|word               |count|\n",
      "+-------------------+-----+\n",
      "|#EscuelaPPA        |1    |\n",
      "|#CD9enHitFM        |1    |\n",
      "|#DebateTM          |1    |\n",
      "|#AhoraPPCV         |1    |\n",
      "|#EnPodemosTúDecides|1    |\n",
      "|#L6Npartidos       |1    |\n",
      "|#TrabajarHacerCreer|1    |\n",
      "|#YoApoyoARafa      |1    |\n",
      "|#representar       |1    |\n",
      "|#liderar           |1    |\n",
      "+-------------------+-----+\n",
      "\n"
     ]
    },
    {
     "name": "stderr",
     "output_type": "stream",
     "text": [
      "                                                                                \r"
     ]
    },
    {
     "name": "stdout",
     "output_type": "stream",
     "text": [
      "-------------------------------------------\n",
      "Batch: 4\n",
      "-------------------------------------------\n",
      "+----------------------+-----+\n",
      "|word                  |count|\n",
      "+----------------------+-----+\n",
      "|#EnPodemosTúDecides   |2    |\n",
      "|#EscuelaPPA           |1    |\n",
      "|#ApocalipsisMinecraft4|1    |\n",
      "|#CD9enHitFM           |1    |\n",
      "|#DebateTM             |1    |\n",
      "|#AhoraPPCV            |1    |\n",
      "|#L6Nlacampaña         |1    |\n",
      "|#L6Npartidos          |1    |\n",
      "|#TrabajarHacerCreer   |1    |\n",
      "|#YoApoyoARafa         |1    |\n",
      "+----------------------+-----+\n",
      "\n"
     ]
    },
    {
     "name": "stderr",
     "output_type": "stream",
     "text": [
      "                                                                                \r"
     ]
    },
    {
     "name": "stdout",
     "output_type": "stream",
     "text": [
      "-------------------------------------------\n",
      "Batch: 5\n",
      "-------------------------------------------\n",
      "+----------------------+-----+\n",
      "|word                  |count|\n",
      "+----------------------+-----+\n",
      "|#EnPodemosTúDecides   |2    |\n",
      "|#UAM                  |2    |\n",
      "|#EscuelaPPA           |1    |\n",
      "|#ULTRALOL             |1    |\n",
      "|#ApocalipsisMinecraft4|1    |\n",
      "|#CD9enHitFM           |1    |\n",
      "|#EMPRENDER            |1    |\n",
      "|#DebateTM             |1    |\n",
      "|#AhoraPPCV            |1    |\n",
      "|#L6Nlacampaña         |1    |\n",
      "+----------------------+-----+\n",
      "\n"
     ]
    },
    {
     "name": "stderr",
     "output_type": "stream",
     "text": [
      "                                                                                \r"
     ]
    },
    {
     "name": "stdout",
     "output_type": "stream",
     "text": [
      "-------------------------------------------\n",
      "Batch: 6\n",
      "-------------------------------------------\n",
      "+----------------------+-----+\n",
      "|word                  |count|\n",
      "+----------------------+-----+\n",
      "|#EnPodemosTúDecides   |3    |\n",
      "|#ForoCambio11J        |2    |\n",
      "|#digoSÍvotoPSOE       |2    |\n",
      "|#UAM                  |2    |\n",
      "|#organic              |1    |\n",
      "|#ULTRALOL             |1    |\n",
      "|#EscuelaPPA           |1    |\n",
      "|#ApocalipsisMinecraft4|1    |\n",
      "|#CD9enHitFM           |1    |\n",
      "|#EMPRENDER            |1    |\n",
      "+----------------------+-----+\n",
      "\n"
     ]
    },
    {
     "name": "stderr",
     "output_type": "stream",
     "text": [
      "                                                                                \r"
     ]
    },
    {
     "name": "stdout",
     "output_type": "stream",
     "text": [
      "-------------------------------------------\n",
      "Batch: 7\n",
      "-------------------------------------------\n",
      "+-------------------+-----+\n",
      "|word               |count|\n",
      "+-------------------+-----+\n",
      "|#EnPodemosTúDecides|3    |\n",
      "|#UAM               |3    |\n",
      "|#EscuelaPPA        |2    |\n",
      "|#representar       |2    |\n",
      "|#ForoCambio11J     |2    |\n",
      "|#digoSÍvotoPSOE    |2    |\n",
      "|#servir            |2    |\n",
      "|#Gitana            |1    |\n",
      "|#organic           |1    |\n",
      "|#Orgullo2015       |1    |\n",
      "+-------------------+-----+\n",
      "\n"
     ]
    },
    {
     "name": "stderr",
     "output_type": "stream",
     "text": [
      "                                                                                \r"
     ]
    },
    {
     "name": "stdout",
     "output_type": "stream",
     "text": [
      "-------------------------------------------\n",
      "Batch: 8\n",
      "-------------------------------------------\n",
      "+-------------------+-----+\n",
      "|word               |count|\n",
      "+-------------------+-----+\n",
      "|#UAM               |4    |\n",
      "|#EnPodemosTúDecides|3    |\n",
      "|#EscuelaPPA        |2    |\n",
      "|#Ciencia           |2    |\n",
      "|#representar       |2    |\n",
      "|#ForoCambio11J     |2    |\n",
      "|#digoSÍvotoPSOE    |2    |\n",
      "|#servir            |2    |\n",
      "|#Gitana            |1    |\n",
      "|#organic           |1    |\n",
      "+-------------------+-----+\n",
      "\n"
     ]
    },
    {
     "name": "stderr",
     "output_type": "stream",
     "text": [
      "                                                                                \r"
     ]
    },
    {
     "name": "stdout",
     "output_type": "stream",
     "text": [
      "-------------------------------------------\n",
      "Batch: 9\n",
      "-------------------------------------------\n",
      "+-------------------+-----+\n",
      "|word               |count|\n",
      "+-------------------+-----+\n",
      "|#UAM               |4    |\n",
      "|#EnPodemosTúDecides|3    |\n",
      "|#EscuelaPPA        |2    |\n",
      "|#UniDeVerano       |2    |\n",
      "|#Ciencia           |2    |\n",
      "|#representar       |2    |\n",
      "|#FelizMiercoles    |2    |\n",
      "|#ForoCambio11J     |2    |\n",
      "|#digoSÍvotoPSOE    |2    |\n",
      "|#servir            |2    |\n",
      "+-------------------+-----+\n",
      "\n"
     ]
    },
    {
     "name": "stderr",
     "output_type": "stream",
     "text": [
      "                                                                                \r"
     ]
    },
    {
     "name": "stdout",
     "output_type": "stream",
     "text": [
      "-------------------------------------------\n",
      "Batch: 10\n",
      "-------------------------------------------\n",
      "+-------------------+-----+\n",
      "|word               |count|\n",
      "+-------------------+-----+\n",
      "|#UAM               |4    |\n",
      "|#EnPodemosTúDecides|3    |\n",
      "|#RdPPodemos        |2    |\n",
      "|#representar       |2    |\n",
      "|#digoSÍvotoPSOE    |2    |\n",
      "|#FelizMiercoles    |2    |\n",
      "|#servir            |2    |\n",
      "|#ForoCambio11J     |2    |\n",
      "|#Ciencia           |2    |\n",
      "|#UniDeVerano       |2    |\n",
      "+-------------------+-----+\n",
      "\n"
     ]
    },
    {
     "name": "stderr",
     "output_type": "stream",
     "text": [
      "                                                                                \r"
     ]
    },
    {
     "name": "stdout",
     "output_type": "stream",
     "text": [
      "-------------------------------------------\n",
      "Batch: 11\n",
      "-------------------------------------------\n",
      "+-------------------+-----+\n",
      "|word               |count|\n",
      "+-------------------+-----+\n",
      "|#UniDeVerano       |4    |\n",
      "|#UAM               |4    |\n",
      "|#EnPodemosTúDecides|3    |\n",
      "|#representar       |2    |\n",
      "|#digoSÍvotoPSOE    |2    |\n",
      "|#FelizMiercoles    |2    |\n",
      "|#EscuelaPPA        |2    |\n",
      "|#ForoCambio11J     |2    |\n",
      "|#Ciencia           |2    |\n",
      "|#servir            |2    |\n",
      "+-------------------+-----+\n",
      "\n"
     ]
    },
    {
     "name": "stderr",
     "output_type": "stream",
     "text": [
      "                                                                                \r"
     ]
    },
    {
     "name": "stdout",
     "output_type": "stream",
     "text": [
      "-------------------------------------------\n",
      "Batch: 12\n",
      "-------------------------------------------\n",
      "+-------------------+-----+\n",
      "|word               |count|\n",
      "+-------------------+-----+\n",
      "|#UAM               |4    |\n",
      "|#UniDeVerano       |4    |\n",
      "|#EnPodemosTúDecides|3    |\n",
      "|#FelizMiercoles    |2    |\n",
      "|#digoSÍvotoPSOE    |2    |\n",
      "|#ciencia           |2    |\n",
      "|#EscuelaPPA        |2    |\n",
      "|#ForoCambio11J     |2    |\n",
      "|#representar       |2    |\n",
      "|#Ciencia           |2    |\n",
      "+-------------------+-----+\n",
      "\n"
     ]
    },
    {
     "name": "stderr",
     "output_type": "stream",
     "text": [
      "                                                                                \r"
     ]
    },
    {
     "name": "stdout",
     "output_type": "stream",
     "text": [
      "-------------------------------------------\n",
      "Batch: 13\n",
      "-------------------------------------------\n",
      "+-------------------+-----+\n",
      "|word               |count|\n",
      "+-------------------+-----+\n",
      "|#UniDeVerano       |4    |\n",
      "|#UAM               |4    |\n",
      "|#EnPodemosTúDecides|3    |\n",
      "|#RdPPodemos        |2    |\n",
      "|#FelizMiercoles    |2    |\n",
      "|#UAM:              |2    |\n",
      "|#ciencia           |2    |\n",
      "|#digoSÍvotoPSOE    |2    |\n",
      "|#ForoCambio11J     |2    |\n",
      "|#representar       |2    |\n",
      "+-------------------+-----+\n",
      "\n"
     ]
    },
    {
     "name": "stderr",
     "output_type": "stream",
     "text": [
      "                                                                                \r"
     ]
    },
    {
     "name": "stdout",
     "output_type": "stream",
     "text": [
      "-------------------------------------------\n",
      "Batch: 14\n",
      "-------------------------------------------\n",
      "+-------------------+-----+\n",
      "|word               |count|\n",
      "+-------------------+-----+\n",
      "|#UAM               |5    |\n",
      "|#UniDeVerano       |4    |\n",
      "|#EnPodemosTúDecides|3    |\n",
      "|#RdPPodemos        |2    |\n",
      "|#representar       |2    |\n",
      "|#ForoCambio11J     |2    |\n",
      "|#FelizMiercoles    |2    |\n",
      "|#UAM:              |2    |\n",
      "|#ciencia           |2    |\n",
      "|#CMin              |2    |\n",
      "+-------------------+-----+\n",
      "\n"
     ]
    },
    {
     "name": "stderr",
     "output_type": "stream",
     "text": [
      "                                                                                \r"
     ]
    },
    {
     "name": "stdout",
     "output_type": "stream",
     "text": [
      "-------------------------------------------\n",
      "Batch: 15\n",
      "-------------------------------------------\n",
      "+-------------------+-----+\n",
      "|word               |count|\n",
      "+-------------------+-----+\n",
      "|#UAM               |5    |\n",
      "|#UniDeVerano       |4    |\n",
      "|#EnPodemosTúDecides|3    |\n",
      "|#RdPPodemos        |2    |\n",
      "|#CMin              |2    |\n",
      "|#representar       |2    |\n",
      "|#EscuelaPPA        |2    |\n",
      "|#FelizMiercoles    |2    |\n",
      "|#UAM:              |2    |\n",
      "|#ciencia           |2    |\n",
      "+-------------------+-----+\n",
      "\n"
     ]
    },
    {
     "name": "stderr",
     "output_type": "stream",
     "text": [
      "                                                                                \r"
     ]
    },
    {
     "name": "stdout",
     "output_type": "stream",
     "text": [
      "-------------------------------------------\n",
      "Batch: 16\n",
      "-------------------------------------------\n",
      "+-------------------+-----+\n",
      "|word               |count|\n",
      "+-------------------+-----+\n",
      "|#UniDeVerano       |6    |\n",
      "|#UAM               |5    |\n",
      "|#EnPodemosTúDecides|3    |\n",
      "|#TuitUtil          |3    |\n",
      "|#RdPPodemos        |2    |\n",
      "|#CMin              |2    |\n",
      "|#representar       |2    |\n",
      "|#EscuelaPPA        |2    |\n",
      "|#directo:          |2    |\n",
      "|#ForoCambio11J     |2    |\n",
      "+-------------------+-----+\n",
      "\n"
     ]
    },
    {
     "name": "stderr",
     "output_type": "stream",
     "text": [
      "                                                                                \r"
     ]
    },
    {
     "name": "stdout",
     "output_type": "stream",
     "text": [
      "-------------------------------------------\n",
      "Batch: 17\n",
      "-------------------------------------------\n",
      "+----------------------+-----+\n",
      "|word                  |count|\n",
      "+----------------------+-----+\n",
      "|#UniDeVerano          |6    |\n",
      "|#UAM                  |6    |\n",
      "|#EnPodemosTúDecides   |3    |\n",
      "|#ForoCambio11J        |3    |\n",
      "|#TuitUtil             |3    |\n",
      "|#Periscope:           |2    |\n",
      "|#Ciencia              |2    |\n",
      "|#ApocalipsisMinecraft4|2    |\n",
      "|#LD33                 |2    |\n",
      "|#directo:             |2    |\n",
      "+----------------------+-----+\n",
      "\n"
     ]
    },
    {
     "name": "stderr",
     "output_type": "stream",
     "text": [
      "                                                                                \r"
     ]
    },
    {
     "name": "stdout",
     "output_type": "stream",
     "text": [
      "-------------------------------------------\n",
      "Batch: 18\n",
      "-------------------------------------------\n",
      "+----------------------+-----+\n",
      "|word                  |count|\n",
      "+----------------------+-----+\n",
      "|#UAM                  |7    |\n",
      "|#UniDeVerano          |6    |\n",
      "|#EnPodemosTúDecides   |3    |\n",
      "|#ForoCambio11J        |3    |\n",
      "|#TuitUtil             |3    |\n",
      "|#Periscope:           |2    |\n",
      "|#Ciencia              |2    |\n",
      "|#ApocalipsisMinecraft4|2    |\n",
      "|#LD33                 |2    |\n",
      "|#directo:             |2    |\n",
      "+----------------------+-----+\n",
      "\n"
     ]
    },
    {
     "name": "stderr",
     "output_type": "stream",
     "text": [
      "                                                                                \r"
     ]
    },
    {
     "name": "stdout",
     "output_type": "stream",
     "text": [
      "-------------------------------------------\n",
      "Batch: 19\n",
      "-------------------------------------------\n",
      "+----------------------+-----+\n",
      "|word                  |count|\n",
      "+----------------------+-----+\n",
      "|#UAM                  |7    |\n",
      "|#UniDeVerano          |6    |\n",
      "|#EnPodemosTúDecides   |3    |\n",
      "|#ForoCambio11J        |3    |\n",
      "|#TuitUtil             |3    |\n",
      "|#Periscope:           |2    |\n",
      "|#Ciencia              |2    |\n",
      "|#ApocalipsisMinecraft4|2    |\n",
      "|#LD33                 |2    |\n",
      "|#directo:             |2    |\n",
      "+----------------------+-----+\n",
      "\n"
     ]
    },
    {
     "name": "stderr",
     "output_type": "stream",
     "text": [
      "                                                                                \r"
     ]
    },
    {
     "name": "stdout",
     "output_type": "stream",
     "text": [
      "-------------------------------------------\n",
      "Batch: 20\n",
      "-------------------------------------------\n",
      "+-------------------+-----+\n",
      "|word               |count|\n",
      "+-------------------+-----+\n",
      "|#UAM               |7    |\n",
      "|#UniDeVerano       |6    |\n",
      "|#EnPodemosTúDecides|3    |\n",
      "|#ForoCambio11J     |3    |\n",
      "|#TuitUtil          |3    |\n",
      "|#ParadiseIsland2   |2    |\n",
      "|#Periscope:        |2    |\n",
      "|#CMin              |2    |\n",
      "|#Ciencia           |2    |\n",
      "|#representar       |2    |\n",
      "+-------------------+-----+\n",
      "\n"
     ]
    },
    {
     "name": "stderr",
     "output_type": "stream",
     "text": [
      "                                                                                \r"
     ]
    },
    {
     "name": "stdout",
     "output_type": "stream",
     "text": [
      "-------------------------------------------\n",
      "Batch: 21\n",
      "-------------------------------------------\n",
      "+----------------------+-----+\n",
      "|word                  |count|\n",
      "+----------------------+-----+\n",
      "|#UAM                  |7    |\n",
      "|#UniDeVerano          |6    |\n",
      "|#EnPodemosTúDecides   |3    |\n",
      "|#ForoCambio11J        |3    |\n",
      "|#TuitUtil             |3    |\n",
      "|#TrabajarHacerCrecer  |3    |\n",
      "|#ApocalipsisMinecraft4|2    |\n",
      "|#LD33                 |2    |\n",
      "|#EscuelaPPA           |2    |\n",
      "|#ParadiseIsland2      |2    |\n",
      "+----------------------+-----+\n",
      "\n"
     ]
    },
    {
     "name": "stderr",
     "output_type": "stream",
     "text": [
      "                                                                                \r"
     ]
    },
    {
     "name": "stdout",
     "output_type": "stream",
     "text": [
      "-------------------------------------------\n",
      "Batch: 22\n",
      "-------------------------------------------\n",
      "+----------------------+-----+\n",
      "|word                  |count|\n",
      "+----------------------+-----+\n",
      "|#UAM                  |7    |\n",
      "|#UniDeVerano          |6    |\n",
      "|#TuitUtil             |4    |\n",
      "|#EnPodemosTúDecides   |3    |\n",
      "|#ForoCambio11J        |3    |\n",
      "|#TrabajarHacerCrecer  |3    |\n",
      "|#ApocalipsisMinecraft4|2    |\n",
      "|#LD33                 |2    |\n",
      "|#EscuelaPPA           |2    |\n",
      "|#ParadiseIsland2      |2    |\n",
      "+----------------------+-----+\n",
      "\n"
     ]
    },
    {
     "name": "stderr",
     "output_type": "stream",
     "text": [
      "                                                                                \r"
     ]
    },
    {
     "name": "stdout",
     "output_type": "stream",
     "text": [
      "-------------------------------------------\n",
      "Batch: 23\n",
      "-------------------------------------------\n",
      "+----------------------+-----+\n",
      "|word                  |count|\n",
      "+----------------------+-----+\n",
      "|#UAM                  |7    |\n",
      "|#UniDeVerano          |6    |\n",
      "|#TuitUtil             |4    |\n",
      "|#EnPodemosTúDecides   |3    |\n",
      "|#RdPPodemos           |3    |\n",
      "|#ForoCambio11J        |3    |\n",
      "|#Apple                |3    |\n",
      "|#TrabajarHacerCrecer  |3    |\n",
      "|#ApocalipsisMinecraft4|2    |\n",
      "|#ParadiseIsland2      |2    |\n",
      "+----------------------+-----+\n",
      "\n"
     ]
    },
    {
     "name": "stderr",
     "output_type": "stream",
     "text": [
      "                                                                                \r"
     ]
    },
    {
     "name": "stdout",
     "output_type": "stream",
     "text": [
      "-------------------------------------------\n",
      "Batch: 24\n",
      "-------------------------------------------\n",
      "+----------------------+-----+\n",
      "|word                  |count|\n",
      "+----------------------+-----+\n",
      "|#UAM                  |7    |\n",
      "|#UniDeVerano          |6    |\n",
      "|#Apple                |5    |\n",
      "|#RdPPodemos           |4    |\n",
      "|#ForoCambio11J        |4    |\n",
      "|#TuitUtil             |4    |\n",
      "|#EnPodemosTúDecides   |3    |\n",
      "|#TrabajarHacerCrecer  |3    |\n",
      "|#PabloIglesiasM4      |3    |\n",
      "|#ApocalipsisMinecraft4|2    |\n",
      "+----------------------+-----+\n",
      "\n"
     ]
    },
    {
     "name": "stderr",
     "output_type": "stream",
     "text": [
      "                                                                                \r"
     ]
    },
    {
     "name": "stdout",
     "output_type": "stream",
     "text": [
      "-------------------------------------------\n",
      "Batch: 25\n",
      "-------------------------------------------\n",
      "+----------------------+-----+\n",
      "|word                  |count|\n",
      "+----------------------+-----+\n",
      "|#UAM                  |7    |\n",
      "|#UniDeVerano          |6    |\n",
      "|#Apple                |5    |\n",
      "|#RdPPodemos           |4    |\n",
      "|#ForoCambio11J        |4    |\n",
      "|#TuitUtil             |4    |\n",
      "|#EnPodemosTúDecides   |3    |\n",
      "|#TrabajarHacerCrecer  |3    |\n",
      "|#PabloIglesiasM4      |3    |\n",
      "|#ApocalipsisMinecraft4|2    |\n",
      "+----------------------+-----+\n",
      "\n"
     ]
    },
    {
     "name": "stderr",
     "output_type": "stream",
     "text": [
      "                                                                                \r"
     ]
    },
    {
     "name": "stdout",
     "output_type": "stream",
     "text": [
      "-------------------------------------------\n",
      "Batch: 26\n",
      "-------------------------------------------\n",
      "+----------------------+-----+\n",
      "|word                  |count|\n",
      "+----------------------+-----+\n",
      "|#UAM                  |7    |\n",
      "|#UniDeVerano          |6    |\n",
      "|#Apple                |5    |\n",
      "|#RdPPodemos           |4    |\n",
      "|#ForoCambio11J        |4    |\n",
      "|#TuitUtil             |4    |\n",
      "|#EnPodemosTúDecides   |3    |\n",
      "|#TrabajarHacerCrecer  |3    |\n",
      "|#PabloIglesiasM4      |3    |\n",
      "|#ApocalipsisMinecraft4|2    |\n",
      "+----------------------+-----+\n",
      "\n"
     ]
    },
    {
     "name": "stderr",
     "output_type": "stream",
     "text": [
      "                                                                                \r"
     ]
    },
    {
     "name": "stdout",
     "output_type": "stream",
     "text": [
      "-------------------------------------------\n",
      "Batch: 27\n",
      "-------------------------------------------\n",
      "+----------------------+-----+\n",
      "|word                  |count|\n",
      "+----------------------+-----+\n",
      "|#UAM                  |8    |\n",
      "|#UniDeVerano          |6    |\n",
      "|#Apple                |5    |\n",
      "|#RdPPodemos           |4    |\n",
      "|#ForoCambio11J        |4    |\n",
      "|#TuitUtil             |4    |\n",
      "|#EnPodemosTúDecides   |3    |\n",
      "|#TrabajarHacerCrecer  |3    |\n",
      "|#PabloIglesiasM4      |3    |\n",
      "|#ApocalipsisMinecraft4|2    |\n",
      "+----------------------+-----+\n",
      "\n"
     ]
    },
    {
     "name": "stderr",
     "output_type": "stream",
     "text": [
      "                                                                                \r"
     ]
    },
    {
     "name": "stdout",
     "output_type": "stream",
     "text": [
      "-------------------------------------------\n",
      "Batch: 28\n",
      "-------------------------------------------\n",
      "+----------------------+-----+\n",
      "|word                  |count|\n",
      "+----------------------+-----+\n",
      "|#UAM                  |8    |\n",
      "|#UniDeVerano          |6    |\n",
      "|#RdPPodemos           |5    |\n",
      "|#Apple                |5    |\n",
      "|#TuitUtil             |5    |\n",
      "|#ForoCambio11J        |4    |\n",
      "|#EnPodemosTúDecides   |3    |\n",
      "|#TrabajarHacerCrecer  |3    |\n",
      "|#PabloIglesiasM4      |3    |\n",
      "|#ApocalipsisMinecraft4|2    |\n",
      "+----------------------+-----+\n",
      "\n"
     ]
    },
    {
     "name": "stderr",
     "output_type": "stream",
     "text": [
      "                                                                                \r"
     ]
    },
    {
     "name": "stdout",
     "output_type": "stream",
     "text": [
      "-------------------------------------------\n",
      "Batch: 29\n",
      "-------------------------------------------\n",
      "+----------------------+-----+\n",
      "|word                  |count|\n",
      "+----------------------+-----+\n",
      "|#UAM                  |8    |\n",
      "|#UniDeVerano          |7    |\n",
      "|#RdPPodemos           |5    |\n",
      "|#Apple                |5    |\n",
      "|#TuitUtil             |5    |\n",
      "|#ForoCambio11J        |4    |\n",
      "|#EnPodemosTúDecides   |3    |\n",
      "|#TrabajarHacerCrecer  |3    |\n",
      "|#PabloIglesiasM4      |3    |\n",
      "|#ApocalipsisMinecraft4|2    |\n",
      "+----------------------+-----+\n",
      "\n"
     ]
    },
    {
     "name": "stderr",
     "output_type": "stream",
     "text": [
      "                                                                                \r"
     ]
    },
    {
     "name": "stdout",
     "output_type": "stream",
     "text": [
      "-------------------------------------------\n",
      "Batch: 30\n",
      "-------------------------------------------\n",
      "+----------------------+-----+\n",
      "|word                  |count|\n",
      "+----------------------+-----+\n",
      "|#UAM                  |8    |\n",
      "|#UniDeVerano          |7    |\n",
      "|#RdPPodemos           |5    |\n",
      "|#ForoCambio11J        |5    |\n",
      "|#Apple                |5    |\n",
      "|#TuitUtil             |5    |\n",
      "|#EnPodemosTúDecides   |3    |\n",
      "|#TrabajarHacerCrecer  |3    |\n",
      "|#PabloIglesiasM4      |3    |\n",
      "|#APOCALIPSISMINECRAFT4|3    |\n",
      "+----------------------+-----+\n",
      "\n"
     ]
    },
    {
     "name": "stderr",
     "output_type": "stream",
     "text": [
      "                                                                                \r"
     ]
    },
    {
     "name": "stdout",
     "output_type": "stream",
     "text": [
      "-------------------------------------------\n",
      "Batch: 31\n",
      "-------------------------------------------\n",
      "+--------------------+-----+\n",
      "|word                |count|\n",
      "+--------------------+-----+\n",
      "|#UAM                |9    |\n",
      "|#UniDeVerano        |8    |\n",
      "|#RdPPodemos         |5    |\n",
      "|#ForoCambio11J      |5    |\n",
      "|#Apple              |5    |\n",
      "|#TuitUtil           |5    |\n",
      "|#TrabajarHacerCrecer|4    |\n",
      "|#EnPodemosTúDecides |3    |\n",
      "|#VotaPP             |3    |\n",
      "|#PabloIglesiasM4    |3    |\n",
      "+--------------------+-----+\n",
      "\n"
     ]
    },
    {
     "name": "stderr",
     "output_type": "stream",
     "text": [
      "                                                                                \r"
     ]
    },
    {
     "name": "stdout",
     "output_type": "stream",
     "text": [
      "-------------------------------------------\n",
      "Batch: 32\n",
      "-------------------------------------------\n",
      "+--------------------+-----+\n",
      "|word                |count|\n",
      "+--------------------+-----+\n",
      "|#UAM                |9    |\n",
      "|#UniDeVerano        |8    |\n",
      "|#RdPPodemos         |5    |\n",
      "|#ForoCambio11J      |5    |\n",
      "|#Apple              |5    |\n",
      "|#TuitUtil           |5    |\n",
      "|#TrabajarHacerCrecer|4    |\n",
      "|#EnPodemosTúDecides |3    |\n",
      "|#VotaPP             |3    |\n",
      "|#PabloIglesiasM4    |3    |\n",
      "+--------------------+-----+\n",
      "\n"
     ]
    },
    {
     "name": "stderr",
     "output_type": "stream",
     "text": [
      "                                                                                \r"
     ]
    },
    {
     "name": "stdout",
     "output_type": "stream",
     "text": [
      "-------------------------------------------\n",
      "Batch: 33\n",
      "-------------------------------------------\n",
      "+--------------------+-----+\n",
      "|word                |count|\n",
      "+--------------------+-----+\n",
      "|#UAM                |10   |\n",
      "|#UniDeVerano        |9    |\n",
      "|#RdPPodemos         |5    |\n",
      "|#ForoCambio11J      |5    |\n",
      "|#Apple              |5    |\n",
      "|#TuitUtil           |5    |\n",
      "|#TrabajarHacerCrecer|4    |\n",
      "|#EnPodemosTúDecides |3    |\n",
      "|#VotaPP             |3    |\n",
      "|#FelizMiercoles     |3    |\n",
      "+--------------------+-----+\n",
      "\n"
     ]
    },
    {
     "name": "stderr",
     "output_type": "stream",
     "text": [
      "[Stage 103:===============================================>     (180 + 8) / 200]\r"
     ]
    },
    {
     "name": "stdout",
     "output_type": "stream",
     "text": [
      "-------------------------------------------\n",
      "Batch: 34\n",
      "-------------------------------------------\n",
      "+--------------------+-----+\n",
      "|word                |count|\n",
      "+--------------------+-----+\n",
      "|#UAM                |10   |\n",
      "|#UniDeVerano        |9    |\n",
      "|#RdPPodemos         |5    |\n",
      "|#ForoCambio11J      |5    |\n",
      "|#Apple              |5    |\n",
      "|#TuitUtil           |5    |\n",
      "|#TrabajarHacerCrecer|5    |\n",
      "|#VotaPP             |4    |\n",
      "|#EnPodemosTúDecides |3    |\n",
      "|#FelizMiercoles     |3    |\n",
      "+--------------------+-----+\n",
      "\n"
     ]
    },
    {
     "name": "stderr",
     "output_type": "stream",
     "text": [
      "                                                                                \r"
     ]
    },
    {
     "name": "stdout",
     "output_type": "stream",
     "text": [
      "-------------------------------------------\n",
      "Batch: 35\n",
      "-------------------------------------------\n",
      "+--------------------+-----+\n",
      "|word                |count|\n",
      "+--------------------+-----+\n",
      "|#UniDeVerano        |10   |\n",
      "|#UAM                |10   |\n",
      "|#TrabajarHacerCrecer|6    |\n",
      "|#VotaPP             |5    |\n",
      "|#RdPPodemos         |5    |\n",
      "|#ForoCambio11J      |5    |\n",
      "|#Apple              |5    |\n",
      "|#TuitUtil           |5    |\n",
      "|#EnPodemosTúDecides |3    |\n",
      "|#FelizMiercoles     |3    |\n",
      "+--------------------+-----+\n",
      "\n"
     ]
    },
    {
     "name": "stderr",
     "output_type": "stream",
     "text": [
      "                                                                                \r"
     ]
    },
    {
     "name": "stdout",
     "output_type": "stream",
     "text": [
      "-------------------------------------------\n",
      "Batch: 36\n",
      "-------------------------------------------\n",
      "+--------------------+-----+\n",
      "|word                |count|\n",
      "+--------------------+-----+\n",
      "|#UniDeVerano        |10   |\n",
      "|#UAM                |10   |\n",
      "|#TrabajarHacerCrecer|7    |\n",
      "|#Apple              |6    |\n",
      "|#RdPPodemos         |5    |\n",
      "|#VotaPP             |5    |\n",
      "|#ForoCambio11J      |5    |\n",
      "|#TuitUtil           |5    |\n",
      "|#FelizMiercoles     |3    |\n",
      "|#UAM:               |3    |\n",
      "+--------------------+-----+\n",
      "\n"
     ]
    },
    {
     "name": "stderr",
     "output_type": "stream",
     "text": [
      "                                                                                \r"
     ]
    },
    {
     "name": "stdout",
     "output_type": "stream",
     "text": [
      "-------------------------------------------\n",
      "Batch: 37\n",
      "-------------------------------------------\n",
      "+--------------------+-----+\n",
      "|word                |count|\n",
      "+--------------------+-----+\n",
      "|#UniDeVerano        |10   |\n",
      "|#UAM                |10   |\n",
      "|#TrabajarHacerCrecer|7    |\n",
      "|#VotaPP             |6    |\n",
      "|#Apple              |6    |\n",
      "|#RdPPodemos         |5    |\n",
      "|#ForoCambio11J      |5    |\n",
      "|#TuitUtil           |5    |\n",
      "|#EnPodemosTúDecides |4    |\n",
      "|#Latch              |3    |\n",
      "+--------------------+-----+\n",
      "\n"
     ]
    },
    {
     "name": "stderr",
     "output_type": "stream",
     "text": [
      "                                                                                \r"
     ]
    },
    {
     "name": "stdout",
     "output_type": "stream",
     "text": [
      "-------------------------------------------\n",
      "Batch: 38\n",
      "-------------------------------------------\n",
      "+--------------------+-----+\n",
      "|word                |count|\n",
      "+--------------------+-----+\n",
      "|#UniDeVerano        |11   |\n",
      "|#UAM                |10   |\n",
      "|#TrabajarHacerCrecer|7    |\n",
      "|#VotaPP             |6    |\n",
      "|#Apple              |6    |\n",
      "|#RdPPodemos         |5    |\n",
      "|#TuitUtil           |5    |\n",
      "|#ForoCambio11J      |5    |\n",
      "|#EnPodemosTúDecides |4    |\n",
      "|#UAM:               |3    |\n",
      "+--------------------+-----+\n",
      "\n"
     ]
    },
    {
     "name": "stderr",
     "output_type": "stream",
     "text": [
      "                                                                                \r"
     ]
    },
    {
     "name": "stdout",
     "output_type": "stream",
     "text": [
      "-------------------------------------------\n",
      "Batch: 39\n",
      "-------------------------------------------\n",
      "+--------------------+-----+\n",
      "|word                |count|\n",
      "+--------------------+-----+\n",
      "|#UniDeVerano        |11   |\n",
      "|#UAM                |11   |\n",
      "|#TrabajarHacerCrecer|7    |\n",
      "|#VotaPP             |6    |\n",
      "|#Apple              |6    |\n",
      "|#RdPPodemos         |5    |\n",
      "|#TuitUtil           |5    |\n",
      "|#ForoCambio11J      |5    |\n",
      "|#EnPodemosTúDecides |4    |\n",
      "|#UAM:               |3    |\n",
      "+--------------------+-----+\n",
      "\n"
     ]
    },
    {
     "name": "stderr",
     "output_type": "stream",
     "text": [
      "                                                                                \r"
     ]
    },
    {
     "name": "stdout",
     "output_type": "stream",
     "text": [
      "-------------------------------------------\n",
      "Batch: 40\n",
      "-------------------------------------------\n",
      "+--------------------+-----+\n",
      "|word                |count|\n",
      "+--------------------+-----+\n",
      "|#UAM                |12   |\n",
      "|#UniDeVerano        |11   |\n",
      "|#TrabajarHacerCrecer|7    |\n",
      "|#VotaPP             |6    |\n",
      "|#Apple              |6    |\n",
      "|#RdPPodemos         |5    |\n",
      "|#TuitUtil           |5    |\n",
      "|#ForoCambio11J      |5    |\n",
      "|#EnPodemosTúDecides |4    |\n",
      "|#UAM:               |3    |\n",
      "+--------------------+-----+\n",
      "\n"
     ]
    },
    {
     "name": "stderr",
     "output_type": "stream",
     "text": [
      "                                                                                \r"
     ]
    },
    {
     "name": "stdout",
     "output_type": "stream",
     "text": [
      "-------------------------------------------\n",
      "Batch: 41\n",
      "-------------------------------------------\n",
      "+--------------------+-----+\n",
      "|word                |count|\n",
      "+--------------------+-----+\n",
      "|#UAM                |13   |\n",
      "|#UniDeVerano        |11   |\n",
      "|#VotaPP             |7    |\n",
      "|#TrabajarHacerCrecer|7    |\n",
      "|#Apple              |6    |\n",
      "|#RdPPodemos         |5    |\n",
      "|#ForoCambio11J      |5    |\n",
      "|#TuitUtil           |5    |\n",
      "|#EnPodemosTúDecides |4    |\n",
      "|#PabloIglesiasM4    |4    |\n",
      "+--------------------+-----+\n",
      "\n"
     ]
    },
    {
     "name": "stderr",
     "output_type": "stream",
     "text": [
      "                                                                                \r"
     ]
    },
    {
     "name": "stdout",
     "output_type": "stream",
     "text": [
      "-------------------------------------------\n",
      "Batch: 42\n",
      "-------------------------------------------\n",
      "+--------------------+-----+\n",
      "|word                |count|\n",
      "+--------------------+-----+\n",
      "|#UAM                |13   |\n",
      "|#UniDeVerano        |11   |\n",
      "|#VotaPP             |7    |\n",
      "|#TrabajarHacerCrecer|7    |\n",
      "|#Apple              |6    |\n",
      "|#ForoCambio11J      |5    |\n",
      "|#RdPPodemos         |5    |\n",
      "|#TuitUtil           |5    |\n",
      "|#RutaDelCambio      |5    |\n",
      "|#EnPodemosTúDecides |4    |\n",
      "+--------------------+-----+\n",
      "\n"
     ]
    },
    {
     "name": "stderr",
     "output_type": "stream",
     "text": [
      "                                                                                \r"
     ]
    },
    {
     "name": "stdout",
     "output_type": "stream",
     "text": [
      "-------------------------------------------\n",
      "Batch: 43\n",
      "-------------------------------------------\n",
      "+--------------------+-----+\n",
      "|word                |count|\n",
      "+--------------------+-----+\n",
      "|#UAM                |14   |\n",
      "|#UniDeVerano        |11   |\n",
      "|#VotaPP             |7    |\n",
      "|#TrabajarHacerCrecer|7    |\n",
      "|#Apple              |6    |\n",
      "|#ForoCambio11J      |5    |\n",
      "|#RdPPodemos         |5    |\n",
      "|#TuitUtil           |5    |\n",
      "|#RutaDelCambio      |5    |\n",
      "|#EnPodemosTúDecides |4    |\n",
      "+--------------------+-----+\n",
      "\n"
     ]
    },
    {
     "name": "stderr",
     "output_type": "stream",
     "text": [
      "                                                                                \r"
     ]
    },
    {
     "name": "stdout",
     "output_type": "stream",
     "text": [
      "-------------------------------------------\n",
      "Batch: 44\n",
      "-------------------------------------------\n",
      "+--------------------+-----+\n",
      "|word                |count|\n",
      "+--------------------+-----+\n",
      "|#UAM                |14   |\n",
      "|#UniDeVerano        |11   |\n",
      "|#Apple              |8    |\n",
      "|#TrabajarHacerCrecer|8    |\n",
      "|#VotaPP             |7    |\n",
      "|#ForoCambio11J      |5    |\n",
      "|#RdPPodemos         |5    |\n",
      "|#TuitUtil           |5    |\n",
      "|#RutaDelCambio      |5    |\n",
      "|#EnPodemosTúDecides |4    |\n",
      "+--------------------+-----+\n",
      "\n"
     ]
    },
    {
     "name": "stderr",
     "output_type": "stream",
     "text": [
      "                                                                                \r"
     ]
    },
    {
     "name": "stdout",
     "output_type": "stream",
     "text": [
      "-------------------------------------------\n",
      "Batch: 45\n",
      "-------------------------------------------\n",
      "+--------------------+-----+\n",
      "|word                |count|\n",
      "+--------------------+-----+\n",
      "|#UAM                |14   |\n",
      "|#UniDeVerano        |12   |\n",
      "|#Apple              |8    |\n",
      "|#TrabajarHacerCrecer|8    |\n",
      "|#VotaPP             |7    |\n",
      "|#RdPPodemos         |5    |\n",
      "|#ForoCambio11J      |5    |\n",
      "|#TuitUtil           |5    |\n",
      "|#RutaDelCambio      |5    |\n",
      "|#EnPodemosTúDecides |4    |\n",
      "+--------------------+-----+\n",
      "\n"
     ]
    },
    {
     "name": "stderr",
     "output_type": "stream",
     "text": [
      "                                                                                \r"
     ]
    },
    {
     "name": "stdout",
     "output_type": "stream",
     "text": [
      "-------------------------------------------\n",
      "Batch: 46\n",
      "-------------------------------------------\n",
      "+--------------------+-----+\n",
      "|word                |count|\n",
      "+--------------------+-----+\n",
      "|#UAM                |14   |\n",
      "|#UniDeVerano        |12   |\n",
      "|#Apple              |8    |\n",
      "|#TrabajarHacerCrecer|8    |\n",
      "|#VotaPP             |7    |\n",
      "|#RdPPodemos         |5    |\n",
      "|#ForoCambio11J      |5    |\n",
      "|#TuitUtil           |5    |\n",
      "|#RutaDelCambio      |5    |\n",
      "|#EnPodemosTúDecides |4    |\n",
      "+--------------------+-----+\n",
      "\n"
     ]
    },
    {
     "name": "stderr",
     "output_type": "stream",
     "text": [
      "                                                                                \r"
     ]
    },
    {
     "name": "stdout",
     "output_type": "stream",
     "text": [
      "-------------------------------------------\n",
      "Batch: 47\n",
      "-------------------------------------------\n",
      "+--------------------+-----+\n",
      "|word                |count|\n",
      "+--------------------+-----+\n",
      "|#UAM                |14   |\n",
      "|#UniDeVerano        |12   |\n",
      "|#Apple              |8    |\n",
      "|#TrabajarHacerCrecer|8    |\n",
      "|#VotaPP             |7    |\n",
      "|#RdPPodemos         |5    |\n",
      "|#ForoCambio11J      |5    |\n",
      "|#TuitUtil           |5    |\n",
      "|#RutaDelCambio      |5    |\n",
      "|#EnPodemosTúDecides |4    |\n",
      "+--------------------+-----+\n",
      "\n"
     ]
    },
    {
     "name": "stderr",
     "output_type": "stream",
     "text": [
      "                                                                                \r"
     ]
    },
    {
     "name": "stdout",
     "output_type": "stream",
     "text": [
      "-------------------------------------------\n",
      "Batch: 48\n",
      "-------------------------------------------\n",
      "+--------------------+-----+\n",
      "|word                |count|\n",
      "+--------------------+-----+\n",
      "|#UAM                |14   |\n",
      "|#UniDeVerano        |12   |\n",
      "|#Apple              |8    |\n",
      "|#TrabajarHacerCrecer|8    |\n",
      "|#VotaPP             |7    |\n",
      "|#RdPPodemos         |5    |\n",
      "|#ForoCambio11J      |5    |\n",
      "|#TuitUtil           |5    |\n",
      "|#RutaDelCambio      |5    |\n",
      "|#EnPodemosTúDecides |4    |\n",
      "+--------------------+-----+\n",
      "\n"
     ]
    },
    {
     "name": "stderr",
     "output_type": "stream",
     "text": [
      "                                                                                \r"
     ]
    },
    {
     "name": "stdout",
     "output_type": "stream",
     "text": [
      "-------------------------------------------\n",
      "Batch: 49\n",
      "-------------------------------------------\n",
      "+--------------------+-----+\n",
      "|word                |count|\n",
      "+--------------------+-----+\n",
      "|#UAM                |14   |\n",
      "|#UniDeVerano        |12   |\n",
      "|#Apple              |9    |\n",
      "|#TrabajarHacerCrecer|8    |\n",
      "|#VotaPP             |7    |\n",
      "|#RdPPodemos         |5    |\n",
      "|#ForoCambio11J      |5    |\n",
      "|#TuitUtil           |5    |\n",
      "|#RutaDelCambio      |5    |\n",
      "|#Periscope:         |4    |\n",
      "+--------------------+-----+\n",
      "\n"
     ]
    },
    {
     "name": "stderr",
     "output_type": "stream",
     "text": [
      "                                                                                \r"
     ]
    },
    {
     "name": "stdout",
     "output_type": "stream",
     "text": [
      "-------------------------------------------\n",
      "Batch: 50\n",
      "-------------------------------------------\n",
      "+--------------------+-----+\n",
      "|word                |count|\n",
      "+--------------------+-----+\n",
      "|#UAM                |14   |\n",
      "|#UniDeVerano        |12   |\n",
      "|#Apple              |9    |\n",
      "|#TrabajarHacerCrecer|8    |\n",
      "|#VotaPP             |7    |\n",
      "|#RdPPodemos         |5    |\n",
      "|#ForoCambio11J      |5    |\n",
      "|#TuitUtil           |5    |\n",
      "|#RutaDelCambio      |5    |\n",
      "|#EnPodemosTúDecides |4    |\n",
      "+--------------------+-----+\n",
      "\n"
     ]
    },
    {
     "name": "stderr",
     "output_type": "stream",
     "text": [
      "                                                                                \r"
     ]
    },
    {
     "name": "stdout",
     "output_type": "stream",
     "text": [
      "-------------------------------------------\n",
      "Batch: 51\n",
      "-------------------------------------------\n",
      "+--------------------+-----+\n",
      "|word                |count|\n",
      "+--------------------+-----+\n",
      "|#UAM                |14   |\n",
      "|#UniDeVerano        |12   |\n",
      "|#Apple              |10   |\n",
      "|#TrabajarHacerCrecer|8    |\n",
      "|#VotaPP             |7    |\n",
      "|#RdPPodemos         |5    |\n",
      "|#ForoCambio11J      |5    |\n",
      "|#TuitUtil           |5    |\n",
      "|#RutaDelCambio      |5    |\n",
      "|#EnPodemosTúDecides |4    |\n",
      "+--------------------+-----+\n",
      "\n"
     ]
    },
    {
     "name": "stderr",
     "output_type": "stream",
     "text": [
      "                                                                                \r"
     ]
    },
    {
     "name": "stdout",
     "output_type": "stream",
     "text": [
      "-------------------------------------------\n",
      "Batch: 52\n",
      "-------------------------------------------\n",
      "+--------------------+-----+\n",
      "|word                |count|\n",
      "+--------------------+-----+\n",
      "|#UAM                |14   |\n",
      "|#UniDeVerano        |12   |\n",
      "|#Apple              |10   |\n",
      "|#TrabajarHacerCrecer|8    |\n",
      "|#VotaPP             |7    |\n",
      "|#ForoCambio11J      |6    |\n",
      "|#RdPPodemos         |5    |\n",
      "|#TuitUtil           |5    |\n",
      "|#RutaDelCambio      |5    |\n",
      "|#EnPodemosTúDecides |4    |\n",
      "+--------------------+-----+\n",
      "\n"
     ]
    },
    {
     "name": "stderr",
     "output_type": "stream",
     "text": [
      "                                                                                \r"
     ]
    },
    {
     "name": "stdout",
     "output_type": "stream",
     "text": [
      "-------------------------------------------\n",
      "Batch: 53\n",
      "-------------------------------------------\n",
      "+----------------------+-----+\n",
      "|word                  |count|\n",
      "+----------------------+-----+\n",
      "|#UAM                  |14   |\n",
      "|#UniDeVerano          |12   |\n",
      "|#Apple                |10   |\n",
      "|#TrabajarHacerCrecer  |8    |\n",
      "|#VotaPP               |7    |\n",
      "|#ForoCambio11J        |6    |\n",
      "|#APOCALIPSISMINECRAFT4|5    |\n",
      "|#RdPPodemos           |5    |\n",
      "|#TuitUtil             |5    |\n",
      "|#RutaDelCambio        |5    |\n",
      "+----------------------+-----+\n",
      "\n"
     ]
    },
    {
     "name": "stderr",
     "output_type": "stream",
     "text": [
      "                                                                                \r"
     ]
    },
    {
     "name": "stdout",
     "output_type": "stream",
     "text": [
      "-------------------------------------------\n",
      "Batch: 54\n",
      "-------------------------------------------\n",
      "+----------------------+-----+\n",
      "|word                  |count|\n",
      "+----------------------+-----+\n",
      "|#UAM                  |14   |\n",
      "|#UniDeVerano          |13   |\n",
      "|#Apple                |12   |\n",
      "|#TrabajarHacerCrecer  |9    |\n",
      "|#VotaPP               |8    |\n",
      "|#ForoCambio11J        |6    |\n",
      "|#RdPPodemos           |5    |\n",
      "|#TuitUtil             |5    |\n",
      "|#RutaDelCambio        |5    |\n",
      "|#APOCALIPSISMINECRAFT4|5    |\n",
      "+----------------------+-----+\n",
      "\n"
     ]
    },
    {
     "name": "stderr",
     "output_type": "stream",
     "text": [
      "                                                                                \r"
     ]
    },
    {
     "name": "stdout",
     "output_type": "stream",
     "text": [
      "-------------------------------------------\n",
      "Batch: 55\n",
      "-------------------------------------------\n",
      "+----------------------+-----+\n",
      "|word                  |count|\n",
      "+----------------------+-----+\n",
      "|#UAM                  |15   |\n",
      "|#UniDeVerano          |14   |\n",
      "|#Apple                |13   |\n",
      "|#TrabajarHacerCrecer  |9    |\n",
      "|#VotaPP               |8    |\n",
      "|#ForoCambio11J        |6    |\n",
      "|#TuitUtil             |5    |\n",
      "|#RdPPodemos           |5    |\n",
      "|#RutaDelCambio        |5    |\n",
      "|#APOCALIPSISMINECRAFT4|5    |\n",
      "+----------------------+-----+\n",
      "\n"
     ]
    },
    {
     "name": "stderr",
     "output_type": "stream",
     "text": [
      "                                                                                \r"
     ]
    },
    {
     "name": "stdout",
     "output_type": "stream",
     "text": [
      "-------------------------------------------\n",
      "Batch: 56\n",
      "-------------------------------------------\n",
      "+----------------------+-----+\n",
      "|word                  |count|\n",
      "+----------------------+-----+\n",
      "|#UAM                  |15   |\n",
      "|#UniDeVerano          |14   |\n",
      "|#Apple                |13   |\n",
      "|#TrabajarHacerCrecer  |9    |\n",
      "|#VotaPP               |8    |\n",
      "|#ForoCambio11J        |6    |\n",
      "|#RdPPodemos           |5    |\n",
      "|#GobernarParaLaMayoría|5    |\n",
      "|#TuitUtil             |5    |\n",
      "|#RutaDelCambio        |5    |\n",
      "+----------------------+-----+\n",
      "\n"
     ]
    },
    {
     "name": "stderr",
     "output_type": "stream",
     "text": [
      "                                                                                \r"
     ]
    },
    {
     "name": "stdout",
     "output_type": "stream",
     "text": [
      "-------------------------------------------\n",
      "Batch: 57\n",
      "-------------------------------------------\n",
      "+----------------------+-----+\n",
      "|word                  |count|\n",
      "+----------------------+-----+\n",
      "|#UniDeVerano          |16   |\n",
      "|#UAM                  |16   |\n",
      "|#Apple                |13   |\n",
      "|#TrabajarHacerCrecer  |9    |\n",
      "|#VotaPP               |8    |\n",
      "|#ForoCambio11J        |6    |\n",
      "|#RdPPodemos           |5    |\n",
      "|#GobernarParaLaMayoría|5    |\n",
      "|#TuitUtil             |5    |\n",
      "|#RutaDelCambio        |5    |\n",
      "+----------------------+-----+\n",
      "\n"
     ]
    },
    {
     "name": "stderr",
     "output_type": "stream",
     "text": [
      "                                                                                \r"
     ]
    },
    {
     "name": "stdout",
     "output_type": "stream",
     "text": [
      "-------------------------------------------\n",
      "Batch: 58\n",
      "-------------------------------------------\n",
      "+----------------------+-----+\n",
      "|word                  |count|\n",
      "+----------------------+-----+\n",
      "|#UniDeVerano          |16   |\n",
      "|#UAM                  |16   |\n",
      "|#Apple                |13   |\n",
      "|#TrabajarHacerCrecer  |9    |\n",
      "|#VotaPP               |8    |\n",
      "|#ForoCambio11J        |6    |\n",
      "|#TuitUtil             |6    |\n",
      "|#RdPPodemos           |5    |\n",
      "|#GobernarParaLaMayoría|5    |\n",
      "|#RutaDelCambio        |5    |\n",
      "+----------------------+-----+\n",
      "\n"
     ]
    },
    {
     "name": "stderr",
     "output_type": "stream",
     "text": [
      "                                                                                \r"
     ]
    },
    {
     "name": "stdout",
     "output_type": "stream",
     "text": [
      "-------------------------------------------\n",
      "Batch: 59\n",
      "-------------------------------------------\n",
      "+----------------------+-----+\n",
      "|word                  |count|\n",
      "+----------------------+-----+\n",
      "|#UniDeVerano          |17   |\n",
      "|#UAM                  |16   |\n",
      "|#Apple                |13   |\n",
      "|#TrabajarHacerCrecer  |10   |\n",
      "|#VotaPP               |8    |\n",
      "|#ForoCambio11J        |6    |\n",
      "|#TuitUtil             |6    |\n",
      "|#RdPPodemos           |5    |\n",
      "|#GobernarParaLaMayoría|5    |\n",
      "|#RutaDelCambio        |5    |\n",
      "+----------------------+-----+\n",
      "\n"
     ]
    },
    {
     "name": "stderr",
     "output_type": "stream",
     "text": [
      "                                                                                \r"
     ]
    },
    {
     "name": "stdout",
     "output_type": "stream",
     "text": [
      "-------------------------------------------\n",
      "Batch: 60\n",
      "-------------------------------------------\n",
      "+----------------------+-----+\n",
      "|word                  |count|\n",
      "+----------------------+-----+\n",
      "|#UniDeVerano          |17   |\n",
      "|#UAM                  |16   |\n",
      "|#Apple                |13   |\n",
      "|#TrabajarHacerCrecer  |10   |\n",
      "|#VotaPP               |8    |\n",
      "|#RdPPodemos           |6    |\n",
      "|#ForoCambio11J        |6    |\n",
      "|#GobernarParaLaMayoría|6    |\n",
      "|#TuitUtil             |6    |\n",
      "|#Ciencia              |5    |\n",
      "+----------------------+-----+\n",
      "\n"
     ]
    },
    {
     "name": "stderr",
     "output_type": "stream",
     "text": [
      "                                                                                \r"
     ]
    },
    {
     "name": "stdout",
     "output_type": "stream",
     "text": [
      "-------------------------------------------\n",
      "Batch: 61\n",
      "-------------------------------------------\n",
      "+----------------------+-----+\n",
      "|word                  |count|\n",
      "+----------------------+-----+\n",
      "|#UniDeVerano          |17   |\n",
      "|#UAM                  |16   |\n",
      "|#Apple                |13   |\n",
      "|#TrabajarHacerCrecer  |11   |\n",
      "|#VotaPP               |8    |\n",
      "|#RdPPodemos           |6    |\n",
      "|#ForoCambio11J        |6    |\n",
      "|#GobernarParaLaMayoría|6    |\n",
      "|#TuitUtil             |6    |\n",
      "|#Ciencia              |5    |\n",
      "+----------------------+-----+\n",
      "\n"
     ]
    },
    {
     "name": "stderr",
     "output_type": "stream",
     "text": [
      "                                                                                \r"
     ]
    },
    {
     "name": "stdout",
     "output_type": "stream",
     "text": [
      "-------------------------------------------\n",
      "Batch: 62\n",
      "-------------------------------------------\n",
      "+----------------------+-----+\n",
      "|word                  |count|\n",
      "+----------------------+-----+\n",
      "|#UniDeVerano          |17   |\n",
      "|#UAM                  |16   |\n",
      "|#Apple                |13   |\n",
      "|#TrabajarHacerCrecer  |11   |\n",
      "|#VotaPP               |8    |\n",
      "|#RdPPodemos           |6    |\n",
      "|#ForoCambio11J        |6    |\n",
      "|#GobernarParaLaMayoría|6    |\n",
      "|#TuitUtil             |6    |\n",
      "|#EnPodemosTúDecides   |5    |\n",
      "+----------------------+-----+\n",
      "\n"
     ]
    },
    {
     "name": "stderr",
     "output_type": "stream",
     "text": [
      "                                                                                \r"
     ]
    },
    {
     "name": "stdout",
     "output_type": "stream",
     "text": [
      "-------------------------------------------\n",
      "Batch: 63\n",
      "-------------------------------------------\n",
      "+----------------------+-----+\n",
      "|word                  |count|\n",
      "+----------------------+-----+\n",
      "|#UniDeVerano          |17   |\n",
      "|#UAM                  |16   |\n",
      "|#Apple                |13   |\n",
      "|#TrabajarHacerCrecer  |11   |\n",
      "|#VotaPP               |8    |\n",
      "|#ForoCambio11J        |7    |\n",
      "|#TuitUtil             |7    |\n",
      "|#RdPPodemos           |6    |\n",
      "|#GobernarParaLaMayoría|6    |\n",
      "|#DesayunosTVE         |6    |\n",
      "+----------------------+-----+\n",
      "\n"
     ]
    },
    {
     "name": "stderr",
     "output_type": "stream",
     "text": [
      "                                                                                \r"
     ]
    },
    {
     "name": "stdout",
     "output_type": "stream",
     "text": [
      "-------------------------------------------\n",
      "Batch: 64\n",
      "-------------------------------------------\n",
      "+----------------------+-----+\n",
      "|word                  |count|\n",
      "+----------------------+-----+\n",
      "|#UniDeVerano          |17   |\n",
      "|#UAM                  |17   |\n",
      "|#Apple                |13   |\n",
      "|#TrabajarHacerCrecer  |11   |\n",
      "|#VotaPP               |8    |\n",
      "|#ForoCambio11J        |7    |\n",
      "|#TuitUtil             |7    |\n",
      "|#RdPPodemos           |6    |\n",
      "|#Ciencia              |6    |\n",
      "|#GobernarParaLaMayoría|6    |\n",
      "+----------------------+-----+\n",
      "\n"
     ]
    },
    {
     "name": "stderr",
     "output_type": "stream",
     "text": [
      "                                                                                \r"
     ]
    },
    {
     "name": "stdout",
     "output_type": "stream",
     "text": [
      "-------------------------------------------\n",
      "Batch: 65\n",
      "-------------------------------------------\n",
      "+----------------------+-----+\n",
      "|word                  |count|\n",
      "+----------------------+-----+\n",
      "|#UniDeVerano          |17   |\n",
      "|#UAM                  |17   |\n",
      "|#Apple                |13   |\n",
      "|#TrabajarHacerCrecer  |11   |\n",
      "|#VotaPP               |8    |\n",
      "|#ForoCambio11J        |7    |\n",
      "|#GobernarParaLaMayoría|7    |\n",
      "|#TuitUtil             |7    |\n",
      "|#RdPPodemos           |6    |\n",
      "|#Ciencia              |6    |\n",
      "+----------------------+-----+\n",
      "\n"
     ]
    },
    {
     "name": "stderr",
     "output_type": "stream",
     "text": [
      "                                                                                \r"
     ]
    },
    {
     "name": "stdout",
     "output_type": "stream",
     "text": [
      "-------------------------------------------\n",
      "Batch: 66\n",
      "-------------------------------------------\n",
      "+----------------------+-----+\n",
      "|word                  |count|\n",
      "+----------------------+-----+\n",
      "|#UAM                  |18   |\n",
      "|#UniDeVerano          |17   |\n",
      "|#Apple                |13   |\n",
      "|#TrabajarHacerCrecer  |11   |\n",
      "|#VotaPP               |8    |\n",
      "|#ForoCambio11J        |7    |\n",
      "|#GobernarParaLaMayoría|7    |\n",
      "|#TuitUtil             |7    |\n",
      "|#RdPPodemos           |6    |\n",
      "|#Ciencia              |6    |\n",
      "+----------------------+-----+\n",
      "\n"
     ]
    },
    {
     "name": "stderr",
     "output_type": "stream",
     "text": [
      "                                                                                \r"
     ]
    },
    {
     "name": "stdout",
     "output_type": "stream",
     "text": [
      "-------------------------------------------\n",
      "Batch: 67\n",
      "-------------------------------------------\n",
      "+----------------------+-----+\n",
      "|word                  |count|\n",
      "+----------------------+-----+\n",
      "|#UAM                  |18   |\n",
      "|#UniDeVerano          |17   |\n",
      "|#Apple                |13   |\n",
      "|#TrabajarHacerCrecer  |11   |\n",
      "|#VotaPP               |8    |\n",
      "|#GobernarParaLaMayoría|8    |\n",
      "|#ForoCambio11J        |7    |\n",
      "|#TuitUtil             |7    |\n",
      "|#RdPPodemos           |6    |\n",
      "|#Ciencia              |6    |\n",
      "+----------------------+-----+\n",
      "\n"
     ]
    },
    {
     "name": "stderr",
     "output_type": "stream",
     "text": [
      "                                                                                \r"
     ]
    },
    {
     "name": "stdout",
     "output_type": "stream",
     "text": [
      "-------------------------------------------\n",
      "Batch: 68\n",
      "-------------------------------------------\n",
      "+----------------------+-----+\n",
      "|word                  |count|\n",
      "+----------------------+-----+\n",
      "|#UAM                  |18   |\n",
      "|#UniDeVerano          |17   |\n",
      "|#Apple                |13   |\n",
      "|#TrabajarHacerCrecer  |11   |\n",
      "|#VotaPP               |8    |\n",
      "|#ForoCambio11J        |8    |\n",
      "|#GobernarParaLaMayoría|8    |\n",
      "|#TuitUtil             |7    |\n",
      "|#RdPPodemos           |6    |\n",
      "|#Ciencia              |6    |\n",
      "+----------------------+-----+\n",
      "\n"
     ]
    },
    {
     "name": "stderr",
     "output_type": "stream",
     "text": [
      "                                                                                \r"
     ]
    },
    {
     "name": "stdout",
     "output_type": "stream",
     "text": [
      "-------------------------------------------\n",
      "Batch: 69\n",
      "-------------------------------------------\n",
      "+----------------------+-----+\n",
      "|word                  |count|\n",
      "+----------------------+-----+\n",
      "|#UAM                  |18   |\n",
      "|#UniDeVerano          |17   |\n",
      "|#Apple                |13   |\n",
      "|#TrabajarHacerCrecer  |11   |\n",
      "|#VotaPP               |8    |\n",
      "|#ForoCambio11J        |8    |\n",
      "|#GobernarParaLaMayoría|8    |\n",
      "|#TuitUtil             |7    |\n",
      "|#RdPPodemos           |6    |\n",
      "|#Ciencia              |6    |\n",
      "+----------------------+-----+\n",
      "\n"
     ]
    },
    {
     "name": "stderr",
     "output_type": "stream",
     "text": [
      "                                                                                \r"
     ]
    },
    {
     "name": "stdout",
     "output_type": "stream",
     "text": [
      "-------------------------------------------\n",
      "Batch: 70\n",
      "-------------------------------------------\n",
      "+----------------------+-----+\n",
      "|word                  |count|\n",
      "+----------------------+-----+\n",
      "|#UAM                  |18   |\n",
      "|#UniDeVerano          |17   |\n",
      "|#Apple                |13   |\n",
      "|#TrabajarHacerCrecer  |11   |\n",
      "|#VotaPP               |8    |\n",
      "|#ForoCambio11J        |8    |\n",
      "|#GobernarParaLaMayoría|8    |\n",
      "|#TuitUtil             |8    |\n",
      "|#RdPPodemos           |6    |\n",
      "|#Ciencia              |6    |\n",
      "+----------------------+-----+\n",
      "\n"
     ]
    },
    {
     "name": "stderr",
     "output_type": "stream",
     "text": [
      "                                                                                \r"
     ]
    },
    {
     "name": "stdout",
     "output_type": "stream",
     "text": [
      "-------------------------------------------\n",
      "Batch: 71\n",
      "-------------------------------------------\n",
      "+----------------------+-----+\n",
      "|word                  |count|\n",
      "+----------------------+-----+\n",
      "|#UAM                  |18   |\n",
      "|#UniDeVerano          |17   |\n",
      "|#Apple                |13   |\n",
      "|#TrabajarHacerCrecer  |11   |\n",
      "|#TuitUtil             |9    |\n",
      "|#VotaPP               |8    |\n",
      "|#ForoCambio11J        |8    |\n",
      "|#GobernarParaLaMayoría|8    |\n",
      "|#RdPPodemos           |6    |\n",
      "|#Ciencia              |6    |\n",
      "+----------------------+-----+\n",
      "\n"
     ]
    },
    {
     "name": "stderr",
     "output_type": "stream",
     "text": [
      "                                                                                \r"
     ]
    },
    {
     "name": "stdout",
     "output_type": "stream",
     "text": [
      "-------------------------------------------\n",
      "Batch: 72\n",
      "-------------------------------------------\n",
      "+----------------------+-----+\n",
      "|word                  |count|\n",
      "+----------------------+-----+\n",
      "|#UAM                  |18   |\n",
      "|#UniDeVerano          |17   |\n",
      "|#Apple                |13   |\n",
      "|#TrabajarHacerCrecer  |11   |\n",
      "|#TuitUtil             |9    |\n",
      "|#VotaPP               |8    |\n",
      "|#ForoCambio11J        |8    |\n",
      "|#GobernarParaLaMayoría|8    |\n",
      "|#Ciencia              |7    |\n",
      "|#RdPPodemos           |6    |\n",
      "+----------------------+-----+\n",
      "\n"
     ]
    },
    {
     "name": "stderr",
     "output_type": "stream",
     "text": [
      "                                                                                \r"
     ]
    },
    {
     "name": "stdout",
     "output_type": "stream",
     "text": [
      "-------------------------------------------\n",
      "Batch: 73\n",
      "-------------------------------------------\n",
      "+----------------------+-----+\n",
      "|word                  |count|\n",
      "+----------------------+-----+\n",
      "|#UAM                  |18   |\n",
      "|#UniDeVerano          |17   |\n",
      "|#Apple                |13   |\n",
      "|#TrabajarHacerCrecer  |11   |\n",
      "|#TuitUtil             |10   |\n",
      "|#ForoCambio11J        |8    |\n",
      "|#VotaPP               |8    |\n",
      "|#GobernarParaLaMayoría|8    |\n",
      "|#Ciencia              |7    |\n",
      "|#xelFuturodeEspaña    |6    |\n",
      "+----------------------+-----+\n",
      "\n"
     ]
    },
    {
     "name": "stderr",
     "output_type": "stream",
     "text": [
      "                                                                                \r"
     ]
    },
    {
     "name": "stdout",
     "output_type": "stream",
     "text": [
      "-------------------------------------------\n",
      "Batch: 74\n",
      "-------------------------------------------\n",
      "+----------------------+-----+\n",
      "|word                  |count|\n",
      "+----------------------+-----+\n",
      "|#UAM                  |18   |\n",
      "|#UniDeVerano          |17   |\n",
      "|#Apple                |13   |\n",
      "|#TrabajarHacerCrecer  |12   |\n",
      "|#TuitUtil             |10   |\n",
      "|#ForoCambio11J        |8    |\n",
      "|#VotaPP               |8    |\n",
      "|#GobernarParaLaMayoría|8    |\n",
      "|#Ciencia              |7    |\n",
      "|#xelFuturodeEspaña    |6    |\n",
      "+----------------------+-----+\n",
      "\n"
     ]
    },
    {
     "name": "stderr",
     "output_type": "stream",
     "text": [
      "                                                                                \r"
     ]
    },
    {
     "name": "stdout",
     "output_type": "stream",
     "text": [
      "-------------------------------------------\n",
      "Batch: 75\n",
      "-------------------------------------------\n",
      "+----------------------+-----+\n",
      "|word                  |count|\n",
      "+----------------------+-----+\n",
      "|#UAM                  |18   |\n",
      "|#UniDeVerano          |17   |\n",
      "|#Apple                |13   |\n",
      "|#TrabajarHacerCrecer  |12   |\n",
      "|#TuitUtil             |10   |\n",
      "|#ForoCambio11J        |9    |\n",
      "|#VotaPP               |8    |\n",
      "|#GobernarParaLaMayoría|8    |\n",
      "|#Ciencia              |7    |\n",
      "|#RutaDelCambio        |7    |\n",
      "+----------------------+-----+\n",
      "\n"
     ]
    },
    {
     "name": "stderr",
     "output_type": "stream",
     "text": [
      "                                                                                \r"
     ]
    },
    {
     "name": "stdout",
     "output_type": "stream",
     "text": [
      "-------------------------------------------\n",
      "Batch: 76\n",
      "-------------------------------------------\n",
      "+----------------------+-----+\n",
      "|word                  |count|\n",
      "+----------------------+-----+\n",
      "|#UAM                  |18   |\n",
      "|#UniDeVerano          |17   |\n",
      "|#Apple                |13   |\n",
      "|#TrabajarHacerCrecer  |12   |\n",
      "|#TuitUtil             |10   |\n",
      "|#ForoCambio11J        |9    |\n",
      "|#VotaPP               |8    |\n",
      "|#GobernarParaLaMayoría|8    |\n",
      "|#Ciencia              |7    |\n",
      "|#RutaDelCambio        |7    |\n",
      "+----------------------+-----+\n",
      "\n"
     ]
    },
    {
     "name": "stderr",
     "output_type": "stream",
     "text": [
      "                                                                                \r"
     ]
    },
    {
     "name": "stdout",
     "output_type": "stream",
     "text": [
      "-------------------------------------------\n",
      "Batch: 77\n",
      "-------------------------------------------\n",
      "+----------------------+-----+\n",
      "|word                  |count|\n",
      "+----------------------+-----+\n",
      "|#UAM                  |18   |\n",
      "|#UniDeVerano          |17   |\n",
      "|#Apple                |13   |\n",
      "|#TrabajarHacerCrecer  |12   |\n",
      "|#TuitUtil             |10   |\n",
      "|#ForoCambio11J        |9    |\n",
      "|#VotaPP               |8    |\n",
      "|#GobernarParaLaMayoría|8    |\n",
      "|#Ciencia              |7    |\n",
      "|#RutaDelCambio        |7    |\n",
      "+----------------------+-----+\n",
      "\n"
     ]
    },
    {
     "name": "stderr",
     "output_type": "stream",
     "text": [
      "                                                                                \r"
     ]
    },
    {
     "name": "stdout",
     "output_type": "stream",
     "text": [
      "-------------------------------------------\n",
      "Batch: 78\n",
      "-------------------------------------------\n",
      "+----------------------+-----+\n",
      "|word                  |count|\n",
      "+----------------------+-----+\n",
      "|#UAM                  |19   |\n",
      "|#UniDeVerano          |17   |\n",
      "|#Apple                |13   |\n",
      "|#TrabajarHacerCrecer  |12   |\n",
      "|#TuitUtil             |10   |\n",
      "|#ForoCambio11J        |9    |\n",
      "|#VotaPP               |8    |\n",
      "|#GobernarParaLaMayoría|8    |\n",
      "|#Ciencia              |7    |\n",
      "|#RutaDelCambio        |7    |\n",
      "+----------------------+-----+\n",
      "\n"
     ]
    },
    {
     "name": "stderr",
     "output_type": "stream",
     "text": [
      "                                                                                \r"
     ]
    },
    {
     "name": "stdout",
     "output_type": "stream",
     "text": [
      "-------------------------------------------\n",
      "Batch: 79\n",
      "-------------------------------------------\n",
      "+----------------------+-----+\n",
      "|word                  |count|\n",
      "+----------------------+-----+\n",
      "|#UAM                  |20   |\n",
      "|#UniDeVerano          |17   |\n",
      "|#Apple                |13   |\n",
      "|#TrabajarHacerCrecer  |12   |\n",
      "|#TuitUtil             |11   |\n",
      "|#ForoCambio11J        |9    |\n",
      "|#VotaPP               |8    |\n",
      "|#GobernarParaLaMayoría|8    |\n",
      "|#Ciencia              |7    |\n",
      "|#RutaDelCambio        |7    |\n",
      "+----------------------+-----+\n",
      "\n"
     ]
    },
    {
     "name": "stderr",
     "output_type": "stream",
     "text": [
      "                                                                                \r"
     ]
    },
    {
     "name": "stdout",
     "output_type": "stream",
     "text": [
      "-------------------------------------------\n",
      "Batch: 80\n",
      "-------------------------------------------\n",
      "+----------------------+-----+\n",
      "|word                  |count|\n",
      "+----------------------+-----+\n",
      "|#UAM                  |20   |\n",
      "|#UniDeVerano          |17   |\n",
      "|#Apple                |13   |\n",
      "|#TrabajarHacerCrecer  |12   |\n",
      "|#TuitUtil             |11   |\n",
      "|#ForoCambio11J        |9    |\n",
      "|#VotaPP               |8    |\n",
      "|#GobernarParaLaMayoría|8    |\n",
      "|#Ciencia              |7    |\n",
      "|#RutaDelCambio        |7    |\n",
      "+----------------------+-----+\n",
      "\n"
     ]
    },
    {
     "name": "stderr",
     "output_type": "stream",
     "text": [
      "                                                                                \r"
     ]
    },
    {
     "name": "stdout",
     "output_type": "stream",
     "text": [
      "-------------------------------------------\n",
      "Batch: 81\n",
      "-------------------------------------------\n",
      "+----------------------+-----+\n",
      "|word                  |count|\n",
      "+----------------------+-----+\n",
      "|#UAM                  |20   |\n",
      "|#UniDeVerano          |17   |\n",
      "|#Apple                |13   |\n",
      "|#TrabajarHacerCrecer  |12   |\n",
      "|#TuitUtil             |11   |\n",
      "|#ForoCambio11J        |9    |\n",
      "|#VotaPP               |8    |\n",
      "|#GobernarParaLaMayoría|8    |\n",
      "|#Ciencia              |7    |\n",
      "|#RutaDelCambio        |7    |\n",
      "+----------------------+-----+\n",
      "\n"
     ]
    },
    {
     "name": "stderr",
     "output_type": "stream",
     "text": [
      "                                                                                \r"
     ]
    },
    {
     "name": "stdout",
     "output_type": "stream",
     "text": [
      "-------------------------------------------\n",
      "Batch: 82\n",
      "-------------------------------------------\n",
      "+----------------------+-----+\n",
      "|word                  |count|\n",
      "+----------------------+-----+\n",
      "|#UAM                  |20   |\n",
      "|#UniDeVerano          |17   |\n",
      "|#Apple                |14   |\n",
      "|#TrabajarHacerCrecer  |12   |\n",
      "|#TuitUtil             |11   |\n",
      "|#ForoCambio11J        |10   |\n",
      "|#VotaPP               |8    |\n",
      "|#GobernarParaLaMayoría|8    |\n",
      "|#Ciencia              |7    |\n",
      "|#RutaDelCambio        |7    |\n",
      "+----------------------+-----+\n",
      "\n"
     ]
    },
    {
     "name": "stderr",
     "output_type": "stream",
     "text": [
      "                                                                                \r"
     ]
    },
    {
     "name": "stdout",
     "output_type": "stream",
     "text": [
      "-------------------------------------------\n",
      "Batch: 83\n",
      "-------------------------------------------\n",
      "+----------------------+-----+\n",
      "|word                  |count|\n",
      "+----------------------+-----+\n",
      "|#UAM                  |20   |\n",
      "|#UniDeVerano          |17   |\n",
      "|#Apple                |14   |\n",
      "|#TuitUtil             |12   |\n",
      "|#TrabajarHacerCrecer  |12   |\n",
      "|#ForoCambio11J        |10   |\n",
      "|#VotaPP               |8    |\n",
      "|#GobernarParaLaMayoría|8    |\n",
      "|#RdPPodemos           |7    |\n",
      "|#Ciencia              |7    |\n",
      "+----------------------+-----+\n",
      "\n"
     ]
    },
    {
     "name": "stderr",
     "output_type": "stream",
     "text": [
      "                                                                                \r"
     ]
    },
    {
     "name": "stdout",
     "output_type": "stream",
     "text": [
      "-------------------------------------------\n",
      "Batch: 84\n",
      "-------------------------------------------\n",
      "+----------------------+-----+\n",
      "|word                  |count|\n",
      "+----------------------+-----+\n",
      "|#UAM                  |20   |\n",
      "|#UniDeVerano          |17   |\n",
      "|#Apple                |14   |\n",
      "|#TuitUtil             |12   |\n",
      "|#TrabajarHacerCrecer  |12   |\n",
      "|#ForoCambio11J        |10   |\n",
      "|#VotaPP               |8    |\n",
      "|#GobernarParaLaMayoría|8    |\n",
      "|#Ciencia              |7    |\n",
      "|#RutaDelCambio        |7    |\n",
      "+----------------------+-----+\n",
      "\n"
     ]
    },
    {
     "name": "stderr",
     "output_type": "stream",
     "text": [
      "                                                                                \r"
     ]
    },
    {
     "name": "stdout",
     "output_type": "stream",
     "text": [
      "-------------------------------------------\n",
      "Batch: 85\n",
      "-------------------------------------------\n",
      "+----------------------+-----+\n",
      "|word                  |count|\n",
      "+----------------------+-----+\n",
      "|#UAM                  |20   |\n",
      "|#UniDeVerano          |17   |\n",
      "|#Apple                |14   |\n",
      "|#TuitUtil             |12   |\n",
      "|#TrabajarHacerCrecer  |12   |\n",
      "|#ForoCambio11J        |10   |\n",
      "|#VotaPP               |8    |\n",
      "|#GobernarParaLaMayoría|8    |\n",
      "|#Ciencia              |7    |\n",
      "|#RutaDelCambio        |7    |\n",
      "+----------------------+-----+\n",
      "\n"
     ]
    },
    {
     "name": "stderr",
     "output_type": "stream",
     "text": [
      "                                                                                \r"
     ]
    },
    {
     "name": "stdout",
     "output_type": "stream",
     "text": [
      "-------------------------------------------\n",
      "Batch: 86\n",
      "-------------------------------------------\n",
      "+----------------------+-----+\n",
      "|word                  |count|\n",
      "+----------------------+-----+\n",
      "|#UAM                  |20   |\n",
      "|#UniDeVerano          |18   |\n",
      "|#Apple                |14   |\n",
      "|#TuitUtil             |12   |\n",
      "|#TrabajarHacerCrecer  |12   |\n",
      "|#ForoCambio11J        |10   |\n",
      "|#VotaPP               |8    |\n",
      "|#GobernarParaLaMayoría|8    |\n",
      "|#Ciencia              |7    |\n",
      "|#RutaDelCambio        |7    |\n",
      "+----------------------+-----+\n",
      "\n"
     ]
    },
    {
     "name": "stderr",
     "output_type": "stream",
     "text": [
      "                                                                                \r"
     ]
    },
    {
     "name": "stdout",
     "output_type": "stream",
     "text": [
      "-------------------------------------------\n",
      "Batch: 87\n",
      "-------------------------------------------\n",
      "+----------------------+-----+\n",
      "|word                  |count|\n",
      "+----------------------+-----+\n",
      "|#UAM                  |20   |\n",
      "|#UniDeVerano          |18   |\n",
      "|#Apple                |15   |\n",
      "|#TuitUtil             |12   |\n",
      "|#TrabajarHacerCrecer  |12   |\n",
      "|#ForoCambio11J        |11   |\n",
      "|#VotaPP               |10   |\n",
      "|#GobernarParaLaMayoría|8    |\n",
      "|#Ciencia              |7    |\n",
      "|#RutaDelCambio        |7    |\n",
      "+----------------------+-----+\n",
      "\n"
     ]
    },
    {
     "name": "stderr",
     "output_type": "stream",
     "text": [
      "                                                                                \r"
     ]
    },
    {
     "name": "stdout",
     "output_type": "stream",
     "text": [
      "-------------------------------------------\n",
      "Batch: 88\n",
      "-------------------------------------------\n",
      "+----------------------+-----+\n",
      "|word                  |count|\n",
      "+----------------------+-----+\n",
      "|#UAM                  |20   |\n",
      "|#UniDeVerano          |19   |\n",
      "|#Apple                |15   |\n",
      "|#TuitUtil             |12   |\n",
      "|#TrabajarHacerCrecer  |12   |\n",
      "|#ForoCambio11J        |11   |\n",
      "|#VotaPP               |10   |\n",
      "|#GobernarParaLaMayoría|8    |\n",
      "|#Ciencia              |7    |\n",
      "|#RdPPodemos           |7    |\n",
      "+----------------------+-----+\n",
      "\n"
     ]
    },
    {
     "name": "stderr",
     "output_type": "stream",
     "text": [
      "                                                                                \r"
     ]
    },
    {
     "name": "stdout",
     "output_type": "stream",
     "text": [
      "-------------------------------------------\n",
      "Batch: 89\n",
      "-------------------------------------------\n",
      "+----------------------+-----+\n",
      "|word                  |count|\n",
      "+----------------------+-----+\n",
      "|#UAM                  |20   |\n",
      "|#UniDeVerano          |19   |\n",
      "|#Apple                |16   |\n",
      "|#TrabajarHacerCrecer  |13   |\n",
      "|#TuitUtil             |12   |\n",
      "|#ForoCambio11J        |11   |\n",
      "|#VotaPP               |10   |\n",
      "|#GobernarParaLaMayoría|8    |\n",
      "|#xelFuturodeEspaña    |7    |\n",
      "|#RdPPodemos           |7    |\n",
      "+----------------------+-----+\n",
      "\n"
     ]
    },
    {
     "name": "stderr",
     "output_type": "stream",
     "text": [
      "                                                                                \r"
     ]
    },
    {
     "name": "stdout",
     "output_type": "stream",
     "text": [
      "-------------------------------------------\n",
      "Batch: 90\n",
      "-------------------------------------------\n",
      "+----------------------+-----+\n",
      "|word                  |count|\n",
      "+----------------------+-----+\n",
      "|#UAM                  |20   |\n",
      "|#UniDeVerano          |19   |\n",
      "|#Apple                |16   |\n",
      "|#TrabajarHacerCrecer  |13   |\n",
      "|#TuitUtil             |12   |\n",
      "|#ForoCambio11J        |11   |\n",
      "|#VotaPP               |10   |\n",
      "|#GobernarParaLaMayoría|8    |\n",
      "|#xelFuturodeEspaña    |7    |\n",
      "|#RdPPodemos           |7    |\n",
      "+----------------------+-----+\n",
      "\n"
     ]
    },
    {
     "name": "stderr",
     "output_type": "stream",
     "text": [
      "                                                                                \r"
     ]
    },
    {
     "name": "stdout",
     "output_type": "stream",
     "text": [
      "-------------------------------------------\n",
      "Batch: 91\n",
      "-------------------------------------------\n",
      "+----------------------+-----+\n",
      "|word                  |count|\n",
      "+----------------------+-----+\n",
      "|#UAM                  |21   |\n",
      "|#UniDeVerano          |19   |\n",
      "|#Apple                |16   |\n",
      "|#TrabajarHacerCrecer  |13   |\n",
      "|#TuitUtil             |12   |\n",
      "|#ForoCambio11J        |11   |\n",
      "|#VotaPP               |10   |\n",
      "|#RdPPodemos           |8    |\n",
      "|#GobernarParaLaMayoría|8    |\n",
      "|#Ciencia              |7    |\n",
      "+----------------------+-----+\n",
      "\n"
     ]
    },
    {
     "name": "stderr",
     "output_type": "stream",
     "text": [
      "                                                                                \r"
     ]
    },
    {
     "name": "stdout",
     "output_type": "stream",
     "text": [
      "-------------------------------------------\n",
      "Batch: 92\n",
      "-------------------------------------------\n",
      "+----------------------+-----+\n",
      "|word                  |count|\n",
      "+----------------------+-----+\n",
      "|#UAM                  |21   |\n",
      "|#UniDeVerano          |19   |\n",
      "|#Apple                |16   |\n",
      "|#TuitUtil             |13   |\n",
      "|#TrabajarHacerCrecer  |13   |\n",
      "|#ForoCambio11J        |11   |\n",
      "|#VotaPP               |10   |\n",
      "|#RdPPodemos           |8    |\n",
      "|#GobernarParaLaMayoría|8    |\n",
      "|#Ciencia              |7    |\n",
      "+----------------------+-----+\n",
      "\n"
     ]
    },
    {
     "name": "stderr",
     "output_type": "stream",
     "text": [
      "                                                                                \r"
     ]
    },
    {
     "name": "stdout",
     "output_type": "stream",
     "text": [
      "-------------------------------------------\n",
      "Batch: 93\n",
      "-------------------------------------------\n",
      "+----------------------+-----+\n",
      "|word                  |count|\n",
      "+----------------------+-----+\n",
      "|#UAM                  |21   |\n",
      "|#UniDeVerano          |19   |\n",
      "|#Apple                |17   |\n",
      "|#TuitUtil             |13   |\n",
      "|#TrabajarHacerCrecer  |13   |\n",
      "|#ForoCambio11J        |11   |\n",
      "|#VotaPP               |10   |\n",
      "|#RdPPodemos           |8    |\n",
      "|#GobernarParaLaMayoría|8    |\n",
      "|#Ciencia              |7    |\n",
      "+----------------------+-----+\n",
      "\n"
     ]
    },
    {
     "name": "stderr",
     "output_type": "stream",
     "text": [
      "                                                                                \r"
     ]
    },
    {
     "name": "stdout",
     "output_type": "stream",
     "text": [
      "-------------------------------------------\n",
      "Batch: 94\n",
      "-------------------------------------------\n",
      "+----------------------+-----+\n",
      "|word                  |count|\n",
      "+----------------------+-----+\n",
      "|#UAM                  |21   |\n",
      "|#UniDeVerano          |19   |\n",
      "|#Apple                |17   |\n",
      "|#TuitUtil             |13   |\n",
      "|#TrabajarHacerCrecer  |13   |\n",
      "|#ForoCambio11J        |12   |\n",
      "|#VotaPP               |10   |\n",
      "|#RdPPodemos           |8    |\n",
      "|#GobernarParaLaMayoría|8    |\n",
      "|#Ciencia              |7    |\n",
      "+----------------------+-----+\n",
      "\n"
     ]
    },
    {
     "name": "stderr",
     "output_type": "stream",
     "text": [
      "                                                                                \r"
     ]
    },
    {
     "name": "stdout",
     "output_type": "stream",
     "text": [
      "-------------------------------------------\n",
      "Batch: 95\n",
      "-------------------------------------------\n",
      "+----------------------+-----+\n",
      "|word                  |count|\n",
      "+----------------------+-----+\n",
      "|#UAM                  |21   |\n",
      "|#UniDeVerano          |20   |\n",
      "|#Apple                |17   |\n",
      "|#TuitUtil             |13   |\n",
      "|#TrabajarHacerCrecer  |13   |\n",
      "|#ForoCambio11J        |12   |\n",
      "|#VotaPP               |10   |\n",
      "|#RdPPodemos           |8    |\n",
      "|#GobernarParaLaMayoría|8    |\n",
      "|#Ciencia              |7    |\n",
      "+----------------------+-----+\n",
      "\n"
     ]
    },
    {
     "name": "stderr",
     "output_type": "stream",
     "text": [
      "                                                                                \r"
     ]
    },
    {
     "name": "stdout",
     "output_type": "stream",
     "text": [
      "-------------------------------------------\n",
      "Batch: 96\n",
      "-------------------------------------------\n",
      "+----------------------+-----+\n",
      "|word                  |count|\n",
      "+----------------------+-----+\n",
      "|#UAM                  |22   |\n",
      "|#UniDeVerano          |20   |\n",
      "|#Apple                |17   |\n",
      "|#TuitUtil             |13   |\n",
      "|#TrabajarHacerCrecer  |13   |\n",
      "|#ForoCambio11J        |12   |\n",
      "|#VotaPP               |10   |\n",
      "|#RdPPodemos           |8    |\n",
      "|#GobernarParaLaMayoría|8    |\n",
      "|#RutaDelCambio        |7    |\n",
      "+----------------------+-----+\n",
      "\n"
     ]
    },
    {
     "name": "stderr",
     "output_type": "stream",
     "text": [
      "                                                                                \r"
     ]
    },
    {
     "name": "stdout",
     "output_type": "stream",
     "text": [
      "-------------------------------------------\n",
      "Batch: 97\n",
      "-------------------------------------------\n",
      "+----------------------+-----+\n",
      "|word                  |count|\n",
      "+----------------------+-----+\n",
      "|#UAM                  |22   |\n",
      "|#UniDeVerano          |20   |\n",
      "|#Apple                |17   |\n",
      "|#TuitUtil             |13   |\n",
      "|#TrabajarHacerCrecer  |13   |\n",
      "|#ForoCambio11J        |12   |\n",
      "|#VotaPP               |10   |\n",
      "|#RdPPodemos           |8    |\n",
      "|#GobernarParaLaMayoría|8    |\n",
      "|#RutaDelCambio        |7    |\n",
      "+----------------------+-----+\n",
      "\n"
     ]
    },
    {
     "name": "stderr",
     "output_type": "stream",
     "text": [
      "                                                                                \r"
     ]
    },
    {
     "name": "stdout",
     "output_type": "stream",
     "text": [
      "-------------------------------------------\n",
      "Batch: 98\n",
      "-------------------------------------------\n",
      "+----------------------+-----+\n",
      "|word                  |count|\n",
      "+----------------------+-----+\n",
      "|#UAM                  |23   |\n",
      "|#UniDeVerano          |20   |\n",
      "|#Apple                |17   |\n",
      "|#TrabajarHacerCrecer  |14   |\n",
      "|#TuitUtil             |13   |\n",
      "|#ForoCambio11J        |12   |\n",
      "|#VotaPP               |10   |\n",
      "|#Ciencia              |8    |\n",
      "|#RdPPodemos           |8    |\n",
      "|#GobernarParaLaMayoría|8    |\n",
      "+----------------------+-----+\n",
      "\n"
     ]
    },
    {
     "name": "stderr",
     "output_type": "stream",
     "text": [
      "                                                                                \r"
     ]
    },
    {
     "name": "stdout",
     "output_type": "stream",
     "text": [
      "-------------------------------------------\n",
      "Batch: 99\n",
      "-------------------------------------------\n",
      "+----------------------+-----+\n",
      "|word                  |count|\n",
      "+----------------------+-----+\n",
      "|#UAM                  |23   |\n",
      "|#UniDeVerano          |20   |\n",
      "|#Apple                |17   |\n",
      "|#TrabajarHacerCrecer  |15   |\n",
      "|#TuitUtil             |13   |\n",
      "|#ForoCambio11J        |12   |\n",
      "|#VotaPP               |11   |\n",
      "|#GobernarParaLaMayoría|8    |\n",
      "|#Ciencia              |8    |\n",
      "|#RdPPodemos           |8    |\n",
      "+----------------------+-----+\n",
      "\n"
     ]
    },
    {
     "name": "stderr",
     "output_type": "stream",
     "text": [
      "                                                                                \r"
     ]
    },
    {
     "name": "stdout",
     "output_type": "stream",
     "text": [
      "-------------------------------------------\n",
      "Batch: 100\n",
      "-------------------------------------------\n",
      "+----------------------+-----+\n",
      "|word                  |count|\n",
      "+----------------------+-----+\n",
      "|#UAM                  |23   |\n",
      "|#UniDeVerano          |20   |\n",
      "|#Apple                |17   |\n",
      "|#TrabajarHacerCrecer  |16   |\n",
      "|#ForoCambio11J        |13   |\n",
      "|#TuitUtil             |13   |\n",
      "|#VotaPP               |12   |\n",
      "|#GobernarParaLaMayoría|8    |\n",
      "|#Ciencia              |8    |\n",
      "|#RdPPodemos           |8    |\n",
      "+----------------------+-----+\n",
      "\n"
     ]
    },
    {
     "name": "stderr",
     "output_type": "stream",
     "text": [
      "                                                                                \r"
     ]
    },
    {
     "name": "stdout",
     "output_type": "stream",
     "text": [
      "-------------------------------------------\n",
      "Batch: 101\n",
      "-------------------------------------------\n",
      "+----------------------+-----+\n",
      "|word                  |count|\n",
      "+----------------------+-----+\n",
      "|#UAM                  |23   |\n",
      "|#UniDeVerano          |20   |\n",
      "|#Apple                |17   |\n",
      "|#TrabajarHacerCrecer  |16   |\n",
      "|#ForoCambio11J        |14   |\n",
      "|#TuitUtil             |13   |\n",
      "|#VotaPP               |12   |\n",
      "|#GobernarParaLaMayoría|8    |\n",
      "|#Ciencia              |8    |\n",
      "|#RdPPodemos           |8    |\n",
      "+----------------------+-----+\n",
      "\n"
     ]
    },
    {
     "name": "stderr",
     "output_type": "stream",
     "text": [
      "                                                                                \r"
     ]
    },
    {
     "name": "stdout",
     "output_type": "stream",
     "text": [
      "-------------------------------------------\n",
      "Batch: 102\n",
      "-------------------------------------------\n",
      "+----------------------+-----+\n",
      "|word                  |count|\n",
      "+----------------------+-----+\n",
      "|#UAM                  |23   |\n",
      "|#UniDeVerano          |20   |\n",
      "|#Apple                |17   |\n",
      "|#TrabajarHacerCrecer  |16   |\n",
      "|#ForoCambio11J        |14   |\n",
      "|#TuitUtil             |13   |\n",
      "|#VotaPP               |12   |\n",
      "|#GobernarParaLaMayoría|8    |\n",
      "|#Ciencia              |8    |\n",
      "|#RdPPodemos           |8    |\n",
      "+----------------------+-----+\n",
      "\n"
     ]
    },
    {
     "name": "stderr",
     "output_type": "stream",
     "text": [
      "                                                                                \r"
     ]
    },
    {
     "name": "stdout",
     "output_type": "stream",
     "text": [
      "-------------------------------------------\n",
      "Batch: 103\n",
      "-------------------------------------------\n",
      "+----------------------+-----+\n",
      "|word                  |count|\n",
      "+----------------------+-----+\n",
      "|#UAM                  |24   |\n",
      "|#UniDeVerano          |20   |\n",
      "|#Apple                |17   |\n",
      "|#TrabajarHacerCrecer  |16   |\n",
      "|#ForoCambio11J        |14   |\n",
      "|#TuitUtil             |13   |\n",
      "|#VotaPP               |12   |\n",
      "|#GobernarParaLaMayoría|8    |\n",
      "|#Ciencia              |8    |\n",
      "|#RdPPodemos           |8    |\n",
      "+----------------------+-----+\n",
      "\n"
     ]
    },
    {
     "name": "stderr",
     "output_type": "stream",
     "text": [
      "                                                                                \r"
     ]
    },
    {
     "name": "stdout",
     "output_type": "stream",
     "text": [
      "-------------------------------------------\n",
      "Batch: 104\n",
      "-------------------------------------------\n",
      "+----------------------+-----+\n",
      "|word                  |count|\n",
      "+----------------------+-----+\n",
      "|#UAM                  |25   |\n",
      "|#UniDeVerano          |21   |\n",
      "|#Apple                |17   |\n",
      "|#TrabajarHacerCrecer  |16   |\n",
      "|#ForoCambio11J        |14   |\n",
      "|#TuitUtil             |13   |\n",
      "|#VotaPP               |12   |\n",
      "|#GobernarParaLaMayoría|8    |\n",
      "|#Ciencia              |8    |\n",
      "|#RdPPodemos           |8    |\n",
      "+----------------------+-----+\n",
      "\n"
     ]
    },
    {
     "name": "stderr",
     "output_type": "stream",
     "text": [
      "                                                                                \r"
     ]
    },
    {
     "name": "stdout",
     "output_type": "stream",
     "text": [
      "-------------------------------------------\n",
      "Batch: 105\n",
      "-------------------------------------------\n",
      "+----------------------+-----+\n",
      "|word                  |count|\n",
      "+----------------------+-----+\n",
      "|#UAM                  |27   |\n",
      "|#UniDeVerano          |21   |\n",
      "|#Apple                |17   |\n",
      "|#TrabajarHacerCrecer  |16   |\n",
      "|#ForoCambio11J        |14   |\n",
      "|#TuitUtil             |13   |\n",
      "|#VotaPP               |12   |\n",
      "|#xelFuturodeEspaña    |9    |\n",
      "|#Ciencia              |8    |\n",
      "|#GobernarParaLaMayoría|8    |\n",
      "+----------------------+-----+\n",
      "\n"
     ]
    },
    {
     "name": "stderr",
     "output_type": "stream",
     "text": [
      "                                                                                \r"
     ]
    },
    {
     "name": "stdout",
     "output_type": "stream",
     "text": [
      "-------------------------------------------\n",
      "Batch: 106\n",
      "-------------------------------------------\n",
      "+----------------------+-----+\n",
      "|word                  |count|\n",
      "+----------------------+-----+\n",
      "|#UAM                  |28   |\n",
      "|#UniDeVerano          |22   |\n",
      "|#TrabajarHacerCrecer  |17   |\n",
      "|#Apple                |17   |\n",
      "|#ForoCambio11J        |14   |\n",
      "|#VotaPP               |13   |\n",
      "|#TuitUtil             |13   |\n",
      "|#xelFuturodeEspaña    |9    |\n",
      "|#Ciencia              |9    |\n",
      "|#GobernarParaLaMayoría|8    |\n",
      "+----------------------+-----+\n",
      "\n"
     ]
    },
    {
     "name": "stderr",
     "output_type": "stream",
     "text": [
      "                                                                                \r"
     ]
    },
    {
     "name": "stdout",
     "output_type": "stream",
     "text": [
      "-------------------------------------------\n",
      "Batch: 107\n",
      "-------------------------------------------\n",
      "+----------------------+-----+\n",
      "|word                  |count|\n",
      "+----------------------+-----+\n",
      "|#UAM                  |28   |\n",
      "|#UniDeVerano          |22   |\n",
      "|#TrabajarHacerCrecer  |18   |\n",
      "|#Apple                |17   |\n",
      "|#VotaPP               |15   |\n",
      "|#ForoCambio11J        |14   |\n",
      "|#TuitUtil             |13   |\n",
      "|#xelFuturodeEspaña    |9    |\n",
      "|#Ciencia              |9    |\n",
      "|#GobernarParaLaMayoría|8    |\n",
      "+----------------------+-----+\n",
      "\n"
     ]
    },
    {
     "name": "stderr",
     "output_type": "stream",
     "text": [
      "                                                                                \r"
     ]
    },
    {
     "name": "stdout",
     "output_type": "stream",
     "text": [
      "-------------------------------------------\n",
      "Batch: 108\n",
      "-------------------------------------------\n",
      "+--------------------+-----+\n",
      "|word                |count|\n",
      "+--------------------+-----+\n",
      "|#UAM                |28   |\n",
      "|#UniDeVerano        |22   |\n",
      "|#Apple              |19   |\n",
      "|#TrabajarHacerCrecer|18   |\n",
      "|#VotaPP             |15   |\n",
      "|#ForoCambio11J      |14   |\n",
      "|#TuitUtil           |13   |\n",
      "|#Ciencia            |9    |\n",
      "|#xelFuturodeEspaña  |9    |\n",
      "|#RdPPodemos         |8    |\n",
      "+--------------------+-----+\n",
      "\n"
     ]
    },
    {
     "name": "stderr",
     "output_type": "stream",
     "text": [
      "                                                                                \r"
     ]
    },
    {
     "name": "stdout",
     "output_type": "stream",
     "text": [
      "-------------------------------------------\n",
      "Batch: 109\n",
      "-------------------------------------------\n",
      "+----------------------+-----+\n",
      "|word                  |count|\n",
      "+----------------------+-----+\n",
      "|#UAM                  |28   |\n",
      "|#UniDeVerano          |22   |\n",
      "|#Apple                |19   |\n",
      "|#TrabajarHacerCrecer  |18   |\n",
      "|#VotaPP               |15   |\n",
      "|#ForoCambio11J        |14   |\n",
      "|#TuitUtil             |13   |\n",
      "|#Ciencia              |10   |\n",
      "|#GobernarParaLaMayoría|9    |\n",
      "|#xelFuturodeEspaña    |9    |\n",
      "+----------------------+-----+\n",
      "\n"
     ]
    },
    {
     "name": "stderr",
     "output_type": "stream",
     "text": [
      "                                                                                \r"
     ]
    },
    {
     "name": "stdout",
     "output_type": "stream",
     "text": [
      "-------------------------------------------\n",
      "Batch: 110\n",
      "-------------------------------------------\n",
      "+----------------------+-----+\n",
      "|word                  |count|\n",
      "+----------------------+-----+\n",
      "|#UAM                  |28   |\n",
      "|#UniDeVerano          |22   |\n",
      "|#Apple                |20   |\n",
      "|#TrabajarHacerCrecer  |18   |\n",
      "|#VotaPP               |15   |\n",
      "|#ForoCambio11J        |14   |\n",
      "|#TuitUtil             |13   |\n",
      "|#Ciencia              |10   |\n",
      "|#GobernarParaLaMayoría|9    |\n",
      "|#xelFuturodeEspaña    |9    |\n",
      "+----------------------+-----+\n",
      "\n"
     ]
    },
    {
     "name": "stderr",
     "output_type": "stream",
     "text": [
      "                                                                                \r"
     ]
    },
    {
     "name": "stdout",
     "output_type": "stream",
     "text": [
      "-------------------------------------------\n",
      "Batch: 111\n",
      "-------------------------------------------\n",
      "+----------------------+-----+\n",
      "|word                  |count|\n",
      "+----------------------+-----+\n",
      "|#UAM                  |28   |\n",
      "|#UniDeVerano          |22   |\n",
      "|#Apple                |20   |\n",
      "|#TrabajarHacerCrecer  |18   |\n",
      "|#VotaPP               |15   |\n",
      "|#ForoCambio11J        |14   |\n",
      "|#TuitUtil             |13   |\n",
      "|#Ciencia              |10   |\n",
      "|#GobernarParaLaMayoría|9    |\n",
      "|#xelFuturodeEspaña    |9    |\n",
      "+----------------------+-----+\n",
      "\n"
     ]
    },
    {
     "name": "stderr",
     "output_type": "stream",
     "text": [
      "                                                                                \r"
     ]
    },
    {
     "name": "stdout",
     "output_type": "stream",
     "text": [
      "-------------------------------------------\n",
      "Batch: 112\n",
      "-------------------------------------------\n",
      "+----------------------+-----+\n",
      "|word                  |count|\n",
      "+----------------------+-----+\n",
      "|#UAM                  |28   |\n",
      "|#UniDeVerano          |22   |\n",
      "|#Apple                |20   |\n",
      "|#TrabajarHacerCrecer  |18   |\n",
      "|#VotaPP               |15   |\n",
      "|#ForoCambio11J        |14   |\n",
      "|#TuitUtil             |13   |\n",
      "|#Ciencia              |10   |\n",
      "|#GobernarParaLaMayoría|9    |\n",
      "|#xelFuturodeEspaña    |9    |\n",
      "+----------------------+-----+\n",
      "\n"
     ]
    },
    {
     "name": "stderr",
     "output_type": "stream",
     "text": [
      "                                                                                \r"
     ]
    },
    {
     "name": "stdout",
     "output_type": "stream",
     "text": [
      "-------------------------------------------\n",
      "Batch: 113\n",
      "-------------------------------------------\n",
      "+----------------------+-----+\n",
      "|word                  |count|\n",
      "+----------------------+-----+\n",
      "|#UAM                  |28   |\n",
      "|#UniDeVerano          |22   |\n",
      "|#Apple                |20   |\n",
      "|#TrabajarHacerCrecer  |18   |\n",
      "|#VotaPP               |15   |\n",
      "|#ForoCambio11J        |14   |\n",
      "|#TuitUtil             |13   |\n",
      "|#Ciencia              |10   |\n",
      "|#xelFuturodeEspaña    |9    |\n",
      "|#GobernarParaLaMayoría|9    |\n",
      "+----------------------+-----+\n",
      "\n"
     ]
    },
    {
     "name": "stderr",
     "output_type": "stream",
     "text": [
      "                                                                                \r"
     ]
    },
    {
     "name": "stdout",
     "output_type": "stream",
     "text": [
      "-------------------------------------------\n",
      "Batch: 114\n",
      "-------------------------------------------\n",
      "+----------------------+-----+\n",
      "|word                  |count|\n",
      "+----------------------+-----+\n",
      "|#UAM                  |28   |\n",
      "|#UniDeVerano          |22   |\n",
      "|#Apple                |20   |\n",
      "|#TrabajarHacerCrecer  |19   |\n",
      "|#ForoCambio11J        |15   |\n",
      "|#VotaPP               |15   |\n",
      "|#TuitUtil             |13   |\n",
      "|#Ciencia              |11   |\n",
      "|#xelFuturodeEspaña    |9    |\n",
      "|#GobernarParaLaMayoría|9    |\n",
      "+----------------------+-----+\n",
      "\n"
     ]
    },
    {
     "name": "stderr",
     "output_type": "stream",
     "text": [
      "                                                                                \r"
     ]
    },
    {
     "name": "stdout",
     "output_type": "stream",
     "text": [
      "-------------------------------------------\n",
      "Batch: 115\n",
      "-------------------------------------------\n",
      "+----------------------+-----+\n",
      "|word                  |count|\n",
      "+----------------------+-----+\n",
      "|#UAM                  |30   |\n",
      "|#UniDeVerano          |22   |\n",
      "|#Apple                |21   |\n",
      "|#TrabajarHacerCrecer  |19   |\n",
      "|#VotaPP               |15   |\n",
      "|#ForoCambio11J        |15   |\n",
      "|#TuitUtil             |13   |\n",
      "|#Ciencia              |11   |\n",
      "|#xelFuturodeEspaña    |9    |\n",
      "|#GobernarParaLaMayoría|9    |\n",
      "+----------------------+-----+\n",
      "\n"
     ]
    },
    {
     "name": "stderr",
     "output_type": "stream",
     "text": [
      "                                                                                \r"
     ]
    },
    {
     "name": "stdout",
     "output_type": "stream",
     "text": [
      "-------------------------------------------\n",
      "Batch: 116\n",
      "-------------------------------------------\n",
      "+----------------------+-----+\n",
      "|word                  |count|\n",
      "+----------------------+-----+\n",
      "|#UAM                  |31   |\n",
      "|#UniDeVerano          |22   |\n",
      "|#Apple                |21   |\n",
      "|#TrabajarHacerCrecer  |19   |\n",
      "|#VotaPP               |15   |\n",
      "|#ForoCambio11J        |15   |\n",
      "|#TuitUtil             |13   |\n",
      "|#Ciencia              |11   |\n",
      "|#xelFuturodeEspaña    |9    |\n",
      "|#GobernarParaLaMayoría|9    |\n",
      "+----------------------+-----+\n",
      "\n"
     ]
    },
    {
     "name": "stderr",
     "output_type": "stream",
     "text": [
      "                                                                                \r"
     ]
    },
    {
     "name": "stdout",
     "output_type": "stream",
     "text": [
      "-------------------------------------------\n",
      "Batch: 117\n",
      "-------------------------------------------\n",
      "+----------------------+-----+\n",
      "|word                  |count|\n",
      "+----------------------+-----+\n",
      "|#UAM                  |31   |\n",
      "|#UniDeVerano          |22   |\n",
      "|#Apple                |22   |\n",
      "|#TrabajarHacerCrecer  |19   |\n",
      "|#VotaPP               |15   |\n",
      "|#ForoCambio11J        |15   |\n",
      "|#TuitUtil             |13   |\n",
      "|#Ciencia              |11   |\n",
      "|#xelFuturodeEspaña    |9    |\n",
      "|#GobernarParaLaMayoría|9    |\n",
      "+----------------------+-----+\n",
      "\n"
     ]
    },
    {
     "name": "stderr",
     "output_type": "stream",
     "text": [
      "                                                                                \r"
     ]
    },
    {
     "name": "stdout",
     "output_type": "stream",
     "text": [
      "-------------------------------------------\n",
      "Batch: 118\n",
      "-------------------------------------------\n",
      "+----------------------+-----+\n",
      "|word                  |count|\n",
      "+----------------------+-----+\n",
      "|#UAM                  |31   |\n",
      "|#UniDeVerano          |22   |\n",
      "|#Apple                |22   |\n",
      "|#TrabajarHacerCrecer  |19   |\n",
      "|#VotaPP               |15   |\n",
      "|#ForoCambio11J        |15   |\n",
      "|#TuitUtil             |13   |\n",
      "|#Ciencia              |11   |\n",
      "|#DesayunosTVE         |10   |\n",
      "|#GobernarParaLaMayoría|9    |\n",
      "+----------------------+-----+\n",
      "\n"
     ]
    },
    {
     "name": "stderr",
     "output_type": "stream",
     "text": [
      "                                                                                \r"
     ]
    },
    {
     "name": "stdout",
     "output_type": "stream",
     "text": [
      "-------------------------------------------\n",
      "Batch: 119\n",
      "-------------------------------------------\n",
      "+--------------------+-----+\n",
      "|word                |count|\n",
      "+--------------------+-----+\n",
      "|#UAM                |31   |\n",
      "|#UniDeVerano        |22   |\n",
      "|#Apple              |22   |\n",
      "|#TrabajarHacerCrecer|19   |\n",
      "|#VotaPP             |15   |\n",
      "|#ForoCambio11J      |15   |\n",
      "|#TuitUtil           |13   |\n",
      "|#Ciencia            |11   |\n",
      "|#DesayunosTVE       |10   |\n",
      "|#CMin               |9    |\n",
      "+--------------------+-----+\n",
      "\n"
     ]
    },
    {
     "name": "stderr",
     "output_type": "stream",
     "text": [
      "                                                                                \r"
     ]
    },
    {
     "name": "stdout",
     "output_type": "stream",
     "text": [
      "-------------------------------------------\n",
      "Batch: 120\n",
      "-------------------------------------------\n",
      "+--------------------+-----+\n",
      "|word                |count|\n",
      "+--------------------+-----+\n",
      "|#UAM                |32   |\n",
      "|#UniDeVerano        |22   |\n",
      "|#Apple              |22   |\n",
      "|#TrabajarHacerCrecer|19   |\n",
      "|#ForoCambio11J      |15   |\n",
      "|#VotaPP             |15   |\n",
      "|#TuitUtil           |13   |\n",
      "|#Ciencia            |11   |\n",
      "|#DesayunosTVE       |10   |\n",
      "|#CMin               |9    |\n",
      "+--------------------+-----+\n",
      "\n"
     ]
    },
    {
     "name": "stderr",
     "output_type": "stream",
     "text": [
      "                                                                                \r"
     ]
    },
    {
     "name": "stdout",
     "output_type": "stream",
     "text": [
      "-------------------------------------------\n",
      "Batch: 121\n",
      "-------------------------------------------\n",
      "+--------------------+-----+\n",
      "|word                |count|\n",
      "+--------------------+-----+\n",
      "|#UAM                |32   |\n",
      "|#Apple              |23   |\n",
      "|#UniDeVerano        |22   |\n",
      "|#TrabajarHacerCrecer|19   |\n",
      "|#ForoCambio11J      |15   |\n",
      "|#VotaPP             |15   |\n",
      "|#TuitUtil           |13   |\n",
      "|#Ciencia            |11   |\n",
      "|#RdPPodemos         |10   |\n",
      "|#DesayunosTVE       |10   |\n",
      "+--------------------+-----+\n",
      "\n"
     ]
    },
    {
     "name": "stderr",
     "output_type": "stream",
     "text": [
      "                                                                                \r"
     ]
    },
    {
     "name": "stdout",
     "output_type": "stream",
     "text": [
      "-------------------------------------------\n",
      "Batch: 122\n",
      "-------------------------------------------\n",
      "+--------------------+-----+\n",
      "|word                |count|\n",
      "+--------------------+-----+\n",
      "|#UAM                |32   |\n",
      "|#Apple              |23   |\n",
      "|#UniDeVerano        |22   |\n",
      "|#TrabajarHacerCrecer|20   |\n",
      "|#VotaPP             |16   |\n",
      "|#ForoCambio11J      |15   |\n",
      "|#TuitUtil           |14   |\n",
      "|#Ciencia            |11   |\n",
      "|#RdPPodemos         |10   |\n",
      "|#DesayunosTVE       |10   |\n",
      "+--------------------+-----+\n",
      "\n"
     ]
    },
    {
     "name": "stderr",
     "output_type": "stream",
     "text": [
      "                                                                                \r"
     ]
    },
    {
     "name": "stdout",
     "output_type": "stream",
     "text": [
      "-------------------------------------------\n",
      "Batch: 123\n",
      "-------------------------------------------\n",
      "+--------------------+-----+\n",
      "|word                |count|\n",
      "+--------------------+-----+\n",
      "|#UAM                |32   |\n",
      "|#Apple              |23   |\n",
      "|#UniDeVerano        |22   |\n",
      "|#TrabajarHacerCrecer|20   |\n",
      "|#VotaPP             |16   |\n",
      "|#ForoCambio11J      |16   |\n",
      "|#TuitUtil           |14   |\n",
      "|#Ciencia            |11   |\n",
      "|#RdPPodemos         |10   |\n",
      "|#DesayunosTVE       |10   |\n",
      "+--------------------+-----+\n",
      "\n"
     ]
    },
    {
     "name": "stderr",
     "output_type": "stream",
     "text": [
      "                                                                                \r"
     ]
    },
    {
     "name": "stdout",
     "output_type": "stream",
     "text": [
      "-------------------------------------------\n",
      "Batch: 124\n",
      "-------------------------------------------\n",
      "+--------------------+-----+\n",
      "|word                |count|\n",
      "+--------------------+-----+\n",
      "|#UAM                |32   |\n",
      "|#Apple              |23   |\n",
      "|#UniDeVerano        |22   |\n",
      "|#TrabajarHacerCrecer|20   |\n",
      "|#VotaPP             |16   |\n",
      "|#ForoCambio11J      |16   |\n",
      "|#TuitUtil           |14   |\n",
      "|#Ciencia            |11   |\n",
      "|#RdPPodemos         |10   |\n",
      "|#DesayunosTVE       |10   |\n",
      "+--------------------+-----+\n",
      "\n"
     ]
    },
    {
     "name": "stderr",
     "output_type": "stream",
     "text": [
      "                                                                                \r"
     ]
    },
    {
     "name": "stdout",
     "output_type": "stream",
     "text": [
      "-------------------------------------------\n",
      "Batch: 125\n",
      "-------------------------------------------\n",
      "+--------------------+-----+\n",
      "|word                |count|\n",
      "+--------------------+-----+\n",
      "|#UAM                |32   |\n",
      "|#Apple              |23   |\n",
      "|#UniDeVerano        |22   |\n",
      "|#TrabajarHacerCrecer|20   |\n",
      "|#ForoCambio11J      |17   |\n",
      "|#VotaPP             |16   |\n",
      "|#TuitUtil           |14   |\n",
      "|#Ciencia            |12   |\n",
      "|#RdPPodemos         |10   |\n",
      "|#DesayunosTVE       |10   |\n",
      "+--------------------+-----+\n",
      "\n"
     ]
    },
    {
     "name": "stderr",
     "output_type": "stream",
     "text": [
      "                                                                                \r"
     ]
    },
    {
     "name": "stdout",
     "output_type": "stream",
     "text": [
      "-------------------------------------------\n",
      "Batch: 126\n",
      "-------------------------------------------\n",
      "+--------------------+-----+\n",
      "|word                |count|\n",
      "+--------------------+-----+\n",
      "|#UAM                |32   |\n",
      "|#Apple              |23   |\n",
      "|#UniDeVerano        |22   |\n",
      "|#TrabajarHacerCrecer|21   |\n",
      "|#ForoCambio11J      |17   |\n",
      "|#VotaPP             |16   |\n",
      "|#TuitUtil           |14   |\n",
      "|#Ciencia            |13   |\n",
      "|#RdPPodemos         |10   |\n",
      "|#DesayunosTVE       |10   |\n",
      "+--------------------+-----+\n",
      "\n"
     ]
    },
    {
     "name": "stderr",
     "output_type": "stream",
     "text": [
      "                                                                                \r"
     ]
    },
    {
     "name": "stdout",
     "output_type": "stream",
     "text": [
      "-------------------------------------------\n",
      "Batch: 127\n",
      "-------------------------------------------\n",
      "+--------------------+-----+\n",
      "|word                |count|\n",
      "+--------------------+-----+\n",
      "|#UAM                |32   |\n",
      "|#Apple              |23   |\n",
      "|#UniDeVerano        |22   |\n",
      "|#TrabajarHacerCrecer|21   |\n",
      "|#ForoCambio11J      |17   |\n",
      "|#VotaPP             |16   |\n",
      "|#TuitUtil           |14   |\n",
      "|#Ciencia            |13   |\n",
      "|#RdPPodemos         |10   |\n",
      "|#DesayunosTVE       |10   |\n",
      "+--------------------+-----+\n",
      "\n"
     ]
    },
    {
     "name": "stderr",
     "output_type": "stream",
     "text": [
      "                                                                                \r"
     ]
    },
    {
     "name": "stdout",
     "output_type": "stream",
     "text": [
      "-------------------------------------------\n",
      "Batch: 128\n",
      "-------------------------------------------\n",
      "+--------------------+-----+\n",
      "|word                |count|\n",
      "+--------------------+-----+\n",
      "|#UAM                |33   |\n",
      "|#Apple              |23   |\n",
      "|#UniDeVerano        |22   |\n",
      "|#TrabajarHacerCrecer|21   |\n",
      "|#ForoCambio11J      |17   |\n",
      "|#VotaPP             |16   |\n",
      "|#TuitUtil           |15   |\n",
      "|#Ciencia            |13   |\n",
      "|#RdPPodemos         |10   |\n",
      "|#DesayunosTVE       |10   |\n",
      "+--------------------+-----+\n",
      "\n"
     ]
    },
    {
     "name": "stderr",
     "output_type": "stream",
     "text": [
      "                                                                                \r"
     ]
    },
    {
     "name": "stdout",
     "output_type": "stream",
     "text": [
      "-------------------------------------------\n",
      "Batch: 129\n",
      "-------------------------------------------\n",
      "+--------------------+-----+\n",
      "|word                |count|\n",
      "+--------------------+-----+\n",
      "|#UAM                |33   |\n",
      "|#Apple              |23   |\n",
      "|#UniDeVerano        |22   |\n",
      "|#TrabajarHacerCrecer|21   |\n",
      "|#ForoCambio11J      |17   |\n",
      "|#VotaPP             |16   |\n",
      "|#TuitUtil           |16   |\n",
      "|#Ciencia            |13   |\n",
      "|#RdPPodemos         |10   |\n",
      "|#DesayunosTVE       |10   |\n",
      "+--------------------+-----+\n",
      "\n"
     ]
    },
    {
     "name": "stderr",
     "output_type": "stream",
     "text": [
      "                                                                                \r"
     ]
    },
    {
     "name": "stdout",
     "output_type": "stream",
     "text": [
      "-------------------------------------------\n",
      "Batch: 130\n",
      "-------------------------------------------\n",
      "+----------------------+-----+\n",
      "|word                  |count|\n",
      "+----------------------+-----+\n",
      "|#UAM                  |33   |\n",
      "|#Apple                |23   |\n",
      "|#UniDeVerano          |22   |\n",
      "|#TrabajarHacerCrecer  |21   |\n",
      "|#ForoCambio11J        |17   |\n",
      "|#TuitUtil             |17   |\n",
      "|#VotaPP               |16   |\n",
      "|#Ciencia              |13   |\n",
      "|#APOCALIPSISMINECRAFT4|10   |\n",
      "|#DesayunosTVE         |10   |\n",
      "+----------------------+-----+\n",
      "\n"
     ]
    },
    {
     "name": "stderr",
     "output_type": "stream",
     "text": [
      "                                                                                \r"
     ]
    },
    {
     "name": "stdout",
     "output_type": "stream",
     "text": [
      "-------------------------------------------\n",
      "Batch: 131\n",
      "-------------------------------------------\n",
      "+----------------------+-----+\n",
      "|word                  |count|\n",
      "+----------------------+-----+\n",
      "|#UAM                  |33   |\n",
      "|#UniDeVerano          |23   |\n",
      "|#Apple                |23   |\n",
      "|#TrabajarHacerCrecer  |21   |\n",
      "|#ForoCambio11J        |17   |\n",
      "|#TuitUtil             |17   |\n",
      "|#VotaPP               |16   |\n",
      "|#Ciencia              |13   |\n",
      "|#APOCALIPSISMINECRAFT4|10   |\n",
      "|#DesayunosTVE         |10   |\n",
      "+----------------------+-----+\n",
      "\n"
     ]
    },
    {
     "name": "stderr",
     "output_type": "stream",
     "text": [
      "                                                                                \r"
     ]
    },
    {
     "name": "stdout",
     "output_type": "stream",
     "text": [
      "-------------------------------------------\n",
      "Batch: 132\n",
      "-------------------------------------------\n",
      "+----------------------+-----+\n",
      "|word                  |count|\n",
      "+----------------------+-----+\n",
      "|#UAM                  |34   |\n",
      "|#UniDeVerano          |23   |\n",
      "|#Apple                |23   |\n",
      "|#TrabajarHacerCrecer  |21   |\n",
      "|#ForoCambio11J        |17   |\n",
      "|#TuitUtil             |17   |\n",
      "|#VotaPP               |16   |\n",
      "|#Ciencia              |13   |\n",
      "|#RdPPodemos           |10   |\n",
      "|#APOCALIPSISMINECRAFT4|10   |\n",
      "+----------------------+-----+\n",
      "\n"
     ]
    },
    {
     "name": "stderr",
     "output_type": "stream",
     "text": [
      "                                                                                \r"
     ]
    },
    {
     "name": "stdout",
     "output_type": "stream",
     "text": [
      "-------------------------------------------\n",
      "Batch: 133\n",
      "-------------------------------------------\n",
      "+----------------------+-----+\n",
      "|word                  |count|\n",
      "+----------------------+-----+\n",
      "|#UAM                  |34   |\n",
      "|#UniDeVerano          |23   |\n",
      "|#Apple                |23   |\n",
      "|#TrabajarHacerCrecer  |21   |\n",
      "|#ForoCambio11J        |18   |\n",
      "|#TuitUtil             |17   |\n",
      "|#VotaPP               |16   |\n",
      "|#Ciencia              |13   |\n",
      "|#RdPPodemos           |10   |\n",
      "|#APOCALIPSISMINECRAFT4|10   |\n",
      "+----------------------+-----+\n",
      "\n"
     ]
    },
    {
     "name": "stderr",
     "output_type": "stream",
     "text": [
      "                                                                                \r"
     ]
    },
    {
     "name": "stdout",
     "output_type": "stream",
     "text": [
      "-------------------------------------------\n",
      "Batch: 134\n",
      "-------------------------------------------\n",
      "+----------------------+-----+\n",
      "|word                  |count|\n",
      "+----------------------+-----+\n",
      "|#UAM                  |34   |\n",
      "|#UniDeVerano          |23   |\n",
      "|#Apple                |23   |\n",
      "|#TrabajarHacerCrecer  |21   |\n",
      "|#ForoCambio11J        |19   |\n",
      "|#TuitUtil             |17   |\n",
      "|#VotaPP               |16   |\n",
      "|#Ciencia              |13   |\n",
      "|#RdPPodemos           |11   |\n",
      "|#APOCALIPSISMINECRAFT4|10   |\n",
      "+----------------------+-----+\n",
      "\n"
     ]
    },
    {
     "name": "stderr",
     "output_type": "stream",
     "text": [
      "                                                                                \r"
     ]
    },
    {
     "name": "stdout",
     "output_type": "stream",
     "text": [
      "-------------------------------------------\n",
      "Batch: 135\n",
      "-------------------------------------------\n",
      "+----------------------+-----+\n",
      "|word                  |count|\n",
      "+----------------------+-----+\n",
      "|#UAM                  |34   |\n",
      "|#UniDeVerano          |24   |\n",
      "|#Apple                |23   |\n",
      "|#TrabajarHacerCrecer  |21   |\n",
      "|#ForoCambio11J        |19   |\n",
      "|#TuitUtil             |17   |\n",
      "|#VotaPP               |16   |\n",
      "|#Ciencia              |13   |\n",
      "|#RdPPodemos           |11   |\n",
      "|#APOCALIPSISMINECRAFT4|10   |\n",
      "+----------------------+-----+\n",
      "\n"
     ]
    },
    {
     "name": "stderr",
     "output_type": "stream",
     "text": [
      "                                                                                \r"
     ]
    },
    {
     "name": "stdout",
     "output_type": "stream",
     "text": [
      "-------------------------------------------\n",
      "Batch: 136\n",
      "-------------------------------------------\n",
      "+----------------------+-----+\n",
      "|word                  |count|\n",
      "+----------------------+-----+\n",
      "|#UAM                  |34   |\n",
      "|#UniDeVerano          |24   |\n",
      "|#Apple                |23   |\n",
      "|#TrabajarHacerCrecer  |21   |\n",
      "|#ForoCambio11J        |19   |\n",
      "|#TuitUtil             |17   |\n",
      "|#VotaPP               |16   |\n",
      "|#Ciencia              |13   |\n",
      "|#RdPPodemos           |11   |\n",
      "|#APOCALIPSISMINECRAFT4|10   |\n",
      "+----------------------+-----+\n",
      "\n"
     ]
    },
    {
     "name": "stderr",
     "output_type": "stream",
     "text": [
      "                                                                                \r"
     ]
    },
    {
     "name": "stdout",
     "output_type": "stream",
     "text": [
      "-------------------------------------------\n",
      "Batch: 137\n",
      "-------------------------------------------\n",
      "+----------------------+-----+\n",
      "|word                  |count|\n",
      "+----------------------+-----+\n",
      "|#UAM                  |34   |\n",
      "|#UniDeVerano          |24   |\n",
      "|#Apple                |23   |\n",
      "|#TrabajarHacerCrecer  |21   |\n",
      "|#ForoCambio11J        |19   |\n",
      "|#TuitUtil             |17   |\n",
      "|#VotaPP               |16   |\n",
      "|#Ciencia              |13   |\n",
      "|#RdPPodemos           |11   |\n",
      "|#APOCALIPSISMINECRAFT4|10   |\n",
      "+----------------------+-----+\n",
      "\n"
     ]
    },
    {
     "name": "stderr",
     "output_type": "stream",
     "text": [
      "                                                                                \r"
     ]
    },
    {
     "name": "stdout",
     "output_type": "stream",
     "text": [
      "-------------------------------------------\n",
      "Batch: 138\n",
      "-------------------------------------------\n",
      "+----------------------+-----+\n",
      "|word                  |count|\n",
      "+----------------------+-----+\n",
      "|#UAM                  |34   |\n",
      "|#UniDeVerano          |24   |\n",
      "|#Apple                |23   |\n",
      "|#TrabajarHacerCrecer  |21   |\n",
      "|#ForoCambio11J        |19   |\n",
      "|#TuitUtil             |18   |\n",
      "|#VotaPP               |16   |\n",
      "|#Ciencia              |13   |\n",
      "|#RdPPodemos           |11   |\n",
      "|#APOCALIPSISMINECRAFT4|10   |\n",
      "+----------------------+-----+\n",
      "\n"
     ]
    },
    {
     "name": "stderr",
     "output_type": "stream",
     "text": [
      "                                                                                \r"
     ]
    },
    {
     "name": "stdout",
     "output_type": "stream",
     "text": [
      "-------------------------------------------\n",
      "Batch: 139\n",
      "-------------------------------------------\n",
      "+----------------------+-----+\n",
      "|word                  |count|\n",
      "+----------------------+-----+\n",
      "|#UAM                  |34   |\n",
      "|#UniDeVerano          |24   |\n",
      "|#Apple                |23   |\n",
      "|#TrabajarHacerCrecer  |21   |\n",
      "|#ForoCambio11J        |19   |\n",
      "|#TuitUtil             |18   |\n",
      "|#VotaPP               |16   |\n",
      "|#Ciencia              |13   |\n",
      "|#RdPPodemos           |11   |\n",
      "|#APOCALIPSISMINECRAFT4|10   |\n",
      "+----------------------+-----+\n",
      "\n"
     ]
    },
    {
     "name": "stderr",
     "output_type": "stream",
     "text": [
      "                                                                                \r"
     ]
    },
    {
     "name": "stdout",
     "output_type": "stream",
     "text": [
      "-------------------------------------------\n",
      "Batch: 140\n",
      "-------------------------------------------\n",
      "+----------------------+-----+\n",
      "|word                  |count|\n",
      "+----------------------+-----+\n",
      "|#UAM                  |34   |\n",
      "|#UniDeVerano          |24   |\n",
      "|#Apple                |23   |\n",
      "|#TrabajarHacerCrecer  |21   |\n",
      "|#ForoCambio11J        |19   |\n",
      "|#TuitUtil             |18   |\n",
      "|#VotaPP               |16   |\n",
      "|#Ciencia              |13   |\n",
      "|#RdPPodemos           |11   |\n",
      "|#APOCALIPSISMINECRAFT4|10   |\n",
      "+----------------------+-----+\n",
      "\n"
     ]
    },
    {
     "name": "stderr",
     "output_type": "stream",
     "text": [
      "[Stage 424:==============================================>      (175 + 8) / 200]\r"
     ]
    },
    {
     "name": "stdout",
     "output_type": "stream",
     "text": [
      "-------------------------------------------\n",
      "Batch: 141\n",
      "-------------------------------------------\n",
      "+--------------------+-----+\n",
      "|word                |count|\n",
      "+--------------------+-----+\n",
      "|#UAM                |34   |\n",
      "|#UniDeVerano        |24   |\n",
      "|#Apple              |24   |\n",
      "|#TrabajarHacerCrecer|21   |\n",
      "|#ForoCambio11J      |20   |\n",
      "|#TuitUtil           |18   |\n",
      "|#VotaPP             |16   |\n",
      "|#Ciencia            |13   |\n",
      "|#RdPPodemos         |11   |\n",
      "|#CMin               |10   |\n",
      "+--------------------+-----+\n",
      "\n"
     ]
    },
    {
     "name": "stderr",
     "output_type": "stream",
     "text": [
      "                                                                                \r"
     ]
    },
    {
     "name": "stdout",
     "output_type": "stream",
     "text": [
      "-------------------------------------------\n",
      "Batch: 142\n",
      "-------------------------------------------\n",
      "+--------------------+-----+\n",
      "|word                |count|\n",
      "+--------------------+-----+\n",
      "|#UAM                |34   |\n",
      "|#UniDeVerano        |24   |\n",
      "|#Apple              |24   |\n",
      "|#TrabajarHacerCrecer|21   |\n",
      "|#ForoCambio11J      |20   |\n",
      "|#TuitUtil           |18   |\n",
      "|#VotaPP             |16   |\n",
      "|#Ciencia            |13   |\n",
      "|#RdPPodemos         |11   |\n",
      "|#CMin               |10   |\n",
      "+--------------------+-----+\n",
      "\n"
     ]
    },
    {
     "name": "stderr",
     "output_type": "stream",
     "text": [
      "                                                                                \r"
     ]
    },
    {
     "name": "stdout",
     "output_type": "stream",
     "text": [
      "-------------------------------------------\n",
      "Batch: 143\n",
      "-------------------------------------------\n",
      "+--------------------+-----+\n",
      "|word                |count|\n",
      "+--------------------+-----+\n",
      "|#UAM                |34   |\n",
      "|#UniDeVerano        |24   |\n",
      "|#Apple              |24   |\n",
      "|#TrabajarHacerCrecer|21   |\n",
      "|#ForoCambio11J      |20   |\n",
      "|#TuitUtil           |18   |\n",
      "|#VotaPP             |16   |\n",
      "|#Ciencia            |14   |\n",
      "|#RdPPodemos         |11   |\n",
      "|#CMin               |10   |\n",
      "+--------------------+-----+\n",
      "\n"
     ]
    },
    {
     "name": "stderr",
     "output_type": "stream",
     "text": [
      "                                                                                \r"
     ]
    },
    {
     "name": "stdout",
     "output_type": "stream",
     "text": [
      "-------------------------------------------\n",
      "Batch: 144\n",
      "-------------------------------------------\n",
      "+--------------------+-----+\n",
      "|word                |count|\n",
      "+--------------------+-----+\n",
      "|#UAM                |34   |\n",
      "|#UniDeVerano        |24   |\n",
      "|#Apple              |24   |\n",
      "|#ForoCambio11J      |21   |\n",
      "|#TrabajarHacerCrecer|21   |\n",
      "|#TuitUtil           |18   |\n",
      "|#VotaPP             |16   |\n",
      "|#Ciencia            |14   |\n",
      "|#RdPPodemos         |11   |\n",
      "|#CMin               |10   |\n",
      "+--------------------+-----+\n",
      "\n"
     ]
    },
    {
     "name": "stderr",
     "output_type": "stream",
     "text": [
      "                                                                                \r"
     ]
    },
    {
     "name": "stdout",
     "output_type": "stream",
     "text": [
      "-------------------------------------------\n",
      "Batch: 145\n",
      "-------------------------------------------\n",
      "+--------------------+-----+\n",
      "|word                |count|\n",
      "+--------------------+-----+\n",
      "|#UAM                |34   |\n",
      "|#Apple              |25   |\n",
      "|#UniDeVerano        |24   |\n",
      "|#ForoCambio11J      |21   |\n",
      "|#TrabajarHacerCrecer|21   |\n",
      "|#TuitUtil           |19   |\n",
      "|#VotaPP             |16   |\n",
      "|#Ciencia            |14   |\n",
      "|#RdPPodemos         |11   |\n",
      "|#CMin               |10   |\n",
      "+--------------------+-----+\n",
      "\n"
     ]
    },
    {
     "name": "stderr",
     "output_type": "stream",
     "text": [
      "                                                                                \r"
     ]
    },
    {
     "name": "stdout",
     "output_type": "stream",
     "text": [
      "-------------------------------------------\n",
      "Batch: 146\n",
      "-------------------------------------------\n",
      "+----------------------+-----+\n",
      "|word                  |count|\n",
      "+----------------------+-----+\n",
      "|#UAM                  |34   |\n",
      "|#Apple                |26   |\n",
      "|#UniDeVerano          |24   |\n",
      "|#TrabajarHacerCrecer  |22   |\n",
      "|#ForoCambio11J        |21   |\n",
      "|#TuitUtil             |20   |\n",
      "|#VotaPP               |16   |\n",
      "|#Ciencia              |14   |\n",
      "|#RdPPodemos           |11   |\n",
      "|#APOCALIPSISMINECRAFT4|11   |\n",
      "+----------------------+-----+\n",
      "\n"
     ]
    },
    {
     "name": "stderr",
     "output_type": "stream",
     "text": [
      "                                                                                \r"
     ]
    },
    {
     "name": "stdout",
     "output_type": "stream",
     "text": [
      "-------------------------------------------\n",
      "Batch: 147\n",
      "-------------------------------------------\n",
      "+----------------------+-----+\n",
      "|word                  |count|\n",
      "+----------------------+-----+\n",
      "|#UAM                  |34   |\n",
      "|#Apple                |26   |\n",
      "|#UniDeVerano          |24   |\n",
      "|#TrabajarHacerCrecer  |22   |\n",
      "|#ForoCambio11J        |21   |\n",
      "|#TuitUtil             |20   |\n",
      "|#VotaPP               |16   |\n",
      "|#Ciencia              |14   |\n",
      "|#RdPPodemos           |11   |\n",
      "|#GobernarParaLaMayoría|11   |\n",
      "+----------------------+-----+\n",
      "\n"
     ]
    },
    {
     "name": "stderr",
     "output_type": "stream",
     "text": [
      "                                                                                \r"
     ]
    },
    {
     "name": "stdout",
     "output_type": "stream",
     "text": [
      "-------------------------------------------\n",
      "Batch: 148\n",
      "-------------------------------------------\n",
      "+----------------------+-----+\n",
      "|word                  |count|\n",
      "+----------------------+-----+\n",
      "|#UAM                  |34   |\n",
      "|#Apple                |26   |\n",
      "|#UniDeVerano          |24   |\n",
      "|#TrabajarHacerCrecer  |22   |\n",
      "|#ForoCambio11J        |21   |\n",
      "|#TuitUtil             |21   |\n",
      "|#VotaPP               |16   |\n",
      "|#Ciencia              |14   |\n",
      "|#RdPPodemos           |11   |\n",
      "|#GobernarParaLaMayoría|11   |\n",
      "+----------------------+-----+\n",
      "\n"
     ]
    },
    {
     "name": "stderr",
     "output_type": "stream",
     "text": [
      "                                                                                \r"
     ]
    },
    {
     "name": "stdout",
     "output_type": "stream",
     "text": [
      "-------------------------------------------\n",
      "Batch: 149\n",
      "-------------------------------------------\n",
      "+----------------------+-----+\n",
      "|word                  |count|\n",
      "+----------------------+-----+\n",
      "|#UAM                  |34   |\n",
      "|#Apple                |26   |\n",
      "|#UniDeVerano          |24   |\n",
      "|#TrabajarHacerCrecer  |22   |\n",
      "|#ForoCambio11J        |21   |\n",
      "|#TuitUtil             |21   |\n",
      "|#VotaPP               |16   |\n",
      "|#Ciencia              |14   |\n",
      "|#RdPPodemos           |11   |\n",
      "|#GobernarParaLaMayoría|11   |\n",
      "+----------------------+-----+\n",
      "\n"
     ]
    },
    {
     "name": "stderr",
     "output_type": "stream",
     "text": [
      "                                                                                \r"
     ]
    },
    {
     "name": "stdout",
     "output_type": "stream",
     "text": [
      "-------------------------------------------\n",
      "Batch: 150\n",
      "-------------------------------------------\n",
      "+----------------------+-----+\n",
      "|word                  |count|\n",
      "+----------------------+-----+\n",
      "|#UAM                  |34   |\n",
      "|#Apple                |26   |\n",
      "|#UniDeVerano          |24   |\n",
      "|#TrabajarHacerCrecer  |22   |\n",
      "|#ForoCambio11J        |21   |\n",
      "|#TuitUtil             |21   |\n",
      "|#VotaPP               |16   |\n",
      "|#Ciencia              |14   |\n",
      "|#RdPPodemos           |11   |\n",
      "|#GobernarParaLaMayoría|11   |\n",
      "+----------------------+-----+\n",
      "\n"
     ]
    },
    {
     "name": "stderr",
     "output_type": "stream",
     "text": [
      "                                                                                \r"
     ]
    },
    {
     "name": "stdout",
     "output_type": "stream",
     "text": [
      "-------------------------------------------\n",
      "Batch: 151\n",
      "-------------------------------------------\n",
      "+----------------------+-----+\n",
      "|word                  |count|\n",
      "+----------------------+-----+\n",
      "|#UAM                  |34   |\n",
      "|#Apple                |26   |\n",
      "|#UniDeVerano          |25   |\n",
      "|#TrabajarHacerCrecer  |22   |\n",
      "|#ForoCambio11J        |21   |\n",
      "|#TuitUtil             |21   |\n",
      "|#VotaPP               |16   |\n",
      "|#Ciencia              |14   |\n",
      "|#APOCALIPSISMINECRAFT4|12   |\n",
      "|#RdPPodemos           |11   |\n",
      "+----------------------+-----+\n",
      "\n"
     ]
    },
    {
     "name": "stderr",
     "output_type": "stream",
     "text": [
      "                                                                                \r"
     ]
    },
    {
     "name": "stdout",
     "output_type": "stream",
     "text": [
      "-------------------------------------------\n",
      "Batch: 152\n",
      "-------------------------------------------\n",
      "+----------------------+-----+\n",
      "|word                  |count|\n",
      "+----------------------+-----+\n",
      "|#UAM                  |34   |\n",
      "|#Apple                |27   |\n",
      "|#UniDeVerano          |25   |\n",
      "|#TrabajarHacerCrecer  |22   |\n",
      "|#ForoCambio11J        |21   |\n",
      "|#TuitUtil             |21   |\n",
      "|#VotaPP               |16   |\n",
      "|#Ciencia              |14   |\n",
      "|#APOCALIPSISMINECRAFT4|12   |\n",
      "|#RdPPodemos           |11   |\n",
      "+----------------------+-----+\n",
      "\n"
     ]
    },
    {
     "name": "stderr",
     "output_type": "stream",
     "text": [
      "                                                                                \r"
     ]
    },
    {
     "name": "stdout",
     "output_type": "stream",
     "text": [
      "-------------------------------------------\n",
      "Batch: 153\n",
      "-------------------------------------------\n",
      "+----------------------+-----+\n",
      "|word                  |count|\n",
      "+----------------------+-----+\n",
      "|#UAM                  |34   |\n",
      "|#Apple                |27   |\n",
      "|#UniDeVerano          |25   |\n",
      "|#TrabajarHacerCrecer  |22   |\n",
      "|#ForoCambio11J        |21   |\n",
      "|#TuitUtil             |21   |\n",
      "|#VotaPP               |16   |\n",
      "|#Ciencia              |14   |\n",
      "|#APOCALIPSISMINECRAFT4|12   |\n",
      "|#RdPPodemos           |11   |\n",
      "+----------------------+-----+\n",
      "\n"
     ]
    },
    {
     "name": "stderr",
     "output_type": "stream",
     "text": [
      "                                                                                \r"
     ]
    },
    {
     "name": "stdout",
     "output_type": "stream",
     "text": [
      "-------------------------------------------\n",
      "Batch: 154\n",
      "-------------------------------------------\n",
      "+----------------------+-----+\n",
      "|word                  |count|\n",
      "+----------------------+-----+\n",
      "|#UAM                  |34   |\n",
      "|#Apple                |27   |\n",
      "|#UniDeVerano          |25   |\n",
      "|#TrabajarHacerCrecer  |22   |\n",
      "|#ForoCambio11J        |21   |\n",
      "|#TuitUtil             |21   |\n",
      "|#VotaPP               |16   |\n",
      "|#Ciencia              |14   |\n",
      "|#APOCALIPSISMINECRAFT4|12   |\n",
      "|#RdPPodemos           |11   |\n",
      "+----------------------+-----+\n",
      "\n"
     ]
    },
    {
     "name": "stderr",
     "output_type": "stream",
     "text": [
      "                                                                                \r"
     ]
    },
    {
     "name": "stdout",
     "output_type": "stream",
     "text": [
      "-------------------------------------------\n",
      "Batch: 155\n",
      "-------------------------------------------\n",
      "+----------------------+-----+\n",
      "|word                  |count|\n",
      "+----------------------+-----+\n",
      "|#UAM                  |34   |\n",
      "|#Apple                |27   |\n",
      "|#UniDeVerano          |25   |\n",
      "|#TrabajarHacerCrecer  |22   |\n",
      "|#ForoCambio11J        |21   |\n",
      "|#TuitUtil             |21   |\n",
      "|#VotaPP               |16   |\n",
      "|#Ciencia              |14   |\n",
      "|#APOCALIPSISMINECRAFT4|12   |\n",
      "|#GobernarParaLaMayoría|12   |\n",
      "+----------------------+-----+\n",
      "\n"
     ]
    },
    {
     "name": "stderr",
     "output_type": "stream",
     "text": [
      "                                                                                \r"
     ]
    },
    {
     "name": "stdout",
     "output_type": "stream",
     "text": [
      "-------------------------------------------\n",
      "Batch: 156\n",
      "-------------------------------------------\n",
      "+----------------------+-----+\n",
      "|word                  |count|\n",
      "+----------------------+-----+\n",
      "|#UAM                  |34   |\n",
      "|#Apple                |27   |\n",
      "|#UniDeVerano          |25   |\n",
      "|#TrabajarHacerCrecer  |22   |\n",
      "|#ForoCambio11J        |21   |\n",
      "|#TuitUtil             |21   |\n",
      "|#VotaPP               |16   |\n",
      "|#Ciencia              |15   |\n",
      "|#APOCALIPSISMINECRAFT4|12   |\n",
      "|#GobernarParaLaMayoría|12   |\n",
      "+----------------------+-----+\n",
      "\n"
     ]
    },
    {
     "name": "stderr",
     "output_type": "stream",
     "text": [
      "                                                                                \r"
     ]
    },
    {
     "name": "stdout",
     "output_type": "stream",
     "text": [
      "-------------------------------------------\n",
      "Batch: 157\n",
      "-------------------------------------------\n",
      "+----------------------+-----+\n",
      "|word                  |count|\n",
      "+----------------------+-----+\n",
      "|#UAM                  |34   |\n",
      "|#Apple                |27   |\n",
      "|#UniDeVerano          |26   |\n",
      "|#TrabajarHacerCrecer  |22   |\n",
      "|#ForoCambio11J        |21   |\n",
      "|#TuitUtil             |21   |\n",
      "|#VotaPP               |17   |\n",
      "|#Ciencia              |15   |\n",
      "|#GobernarParaLaMayoría|12   |\n",
      "|#APOCALIPSISMINECRAFT4|12   |\n",
      "+----------------------+-----+\n",
      "\n"
     ]
    },
    {
     "name": "stderr",
     "output_type": "stream",
     "text": [
      "                                                                                \r"
     ]
    },
    {
     "name": "stdout",
     "output_type": "stream",
     "text": [
      "-------------------------------------------\n",
      "Batch: 158\n",
      "-------------------------------------------\n",
      "+----------------------+-----+\n",
      "|word                  |count|\n",
      "+----------------------+-----+\n",
      "|#UAM                  |35   |\n",
      "|#Apple                |28   |\n",
      "|#UniDeVerano          |26   |\n",
      "|#TrabajarHacerCrecer  |22   |\n",
      "|#ForoCambio11J        |21   |\n",
      "|#TuitUtil             |21   |\n",
      "|#VotaPP               |17   |\n",
      "|#Ciencia              |16   |\n",
      "|#GobernarParaLaMayoría|12   |\n",
      "|#APOCALIPSISMINECRAFT4|12   |\n",
      "+----------------------+-----+\n",
      "\n"
     ]
    },
    {
     "name": "stderr",
     "output_type": "stream",
     "text": [
      "                                                                                \r"
     ]
    },
    {
     "name": "stdout",
     "output_type": "stream",
     "text": [
      "-------------------------------------------\n",
      "Batch: 159\n",
      "-------------------------------------------\n",
      "+----------------------+-----+\n",
      "|word                  |count|\n",
      "+----------------------+-----+\n",
      "|#UAM                  |35   |\n",
      "|#Apple                |28   |\n",
      "|#UniDeVerano          |26   |\n",
      "|#TrabajarHacerCrecer  |22   |\n",
      "|#ForoCambio11J        |21   |\n",
      "|#TuitUtil             |21   |\n",
      "|#VotaPP               |18   |\n",
      "|#Ciencia              |16   |\n",
      "|#GobernarParaLaMayoría|13   |\n",
      "|#APOCALIPSISMINECRAFT4|12   |\n",
      "+----------------------+-----+\n",
      "\n"
     ]
    },
    {
     "name": "stderr",
     "output_type": "stream",
     "text": [
      "                                                                                \r"
     ]
    },
    {
     "name": "stdout",
     "output_type": "stream",
     "text": [
      "-------------------------------------------\n",
      "Batch: 160\n",
      "-------------------------------------------\n",
      "+----------------------+-----+\n",
      "|word                  |count|\n",
      "+----------------------+-----+\n",
      "|#UAM                  |35   |\n",
      "|#Apple                |28   |\n",
      "|#UniDeVerano          |26   |\n",
      "|#ForoCambio11J        |22   |\n",
      "|#TrabajarHacerCrecer  |22   |\n",
      "|#TuitUtil             |21   |\n",
      "|#VotaPP               |18   |\n",
      "|#Ciencia              |16   |\n",
      "|#GobernarParaLaMayoría|13   |\n",
      "|#APOCALIPSISMINECRAFT4|13   |\n",
      "+----------------------+-----+\n",
      "\n"
     ]
    },
    {
     "name": "stderr",
     "output_type": "stream",
     "text": [
      "                                                                                \r"
     ]
    },
    {
     "name": "stdout",
     "output_type": "stream",
     "text": [
      "-------------------------------------------\n",
      "Batch: 161\n",
      "-------------------------------------------\n",
      "+----------------------+-----+\n",
      "|word                  |count|\n",
      "+----------------------+-----+\n",
      "|#UAM                  |35   |\n",
      "|#Apple                |28   |\n",
      "|#UniDeVerano          |26   |\n",
      "|#ForoCambio11J        |22   |\n",
      "|#TrabajarHacerCrecer  |22   |\n",
      "|#TuitUtil             |21   |\n",
      "|#VotaPP               |18   |\n",
      "|#Ciencia              |16   |\n",
      "|#GobernarParaLaMayoría|13   |\n",
      "|#APOCALIPSISMINECRAFT4|13   |\n",
      "+----------------------+-----+\n",
      "\n"
     ]
    },
    {
     "name": "stderr",
     "output_type": "stream",
     "text": [
      "                                                                                \r"
     ]
    },
    {
     "name": "stdout",
     "output_type": "stream",
     "text": [
      "-------------------------------------------\n",
      "Batch: 162\n",
      "-------------------------------------------\n",
      "+----------------------+-----+\n",
      "|word                  |count|\n",
      "+----------------------+-----+\n",
      "|#UAM                  |35   |\n",
      "|#Apple                |28   |\n",
      "|#UniDeVerano          |26   |\n",
      "|#ForoCambio11J        |22   |\n",
      "|#TrabajarHacerCrecer  |22   |\n",
      "|#TuitUtil             |21   |\n",
      "|#VotaPP               |18   |\n",
      "|#Ciencia              |16   |\n",
      "|#GobernarParaLaMayoría|13   |\n",
      "|#APOCALIPSISMINECRAFT4|13   |\n",
      "+----------------------+-----+\n",
      "\n"
     ]
    },
    {
     "name": "stderr",
     "output_type": "stream",
     "text": [
      "                                                                                \r"
     ]
    },
    {
     "name": "stdout",
     "output_type": "stream",
     "text": [
      "-------------------------------------------\n",
      "Batch: 163\n",
      "-------------------------------------------\n",
      "+----------------------+-----+\n",
      "|word                  |count|\n",
      "+----------------------+-----+\n",
      "|#UAM                  |37   |\n",
      "|#Apple                |28   |\n",
      "|#UniDeVerano          |27   |\n",
      "|#ForoCambio11J        |22   |\n",
      "|#TrabajarHacerCrecer  |22   |\n",
      "|#TuitUtil             |21   |\n",
      "|#VotaPP               |18   |\n",
      "|#Ciencia              |16   |\n",
      "|#GobernarParaLaMayoría|13   |\n",
      "|#APOCALIPSISMINECRAFT4|13   |\n",
      "+----------------------+-----+\n",
      "\n"
     ]
    },
    {
     "name": "stderr",
     "output_type": "stream",
     "text": [
      "                                                                                \r"
     ]
    },
    {
     "name": "stdout",
     "output_type": "stream",
     "text": [
      "-------------------------------------------\n",
      "Batch: 164\n",
      "-------------------------------------------\n",
      "+----------------------+-----+\n",
      "|word                  |count|\n",
      "+----------------------+-----+\n",
      "|#UAM                  |37   |\n",
      "|#Apple                |28   |\n",
      "|#UniDeVerano          |27   |\n",
      "|#ForoCambio11J        |22   |\n",
      "|#TrabajarHacerCrecer  |22   |\n",
      "|#TuitUtil             |21   |\n",
      "|#VotaPP               |18   |\n",
      "|#Ciencia              |16   |\n",
      "|#GobernarParaLaMayoría|13   |\n",
      "|#APOCALIPSISMINECRAFT4|13   |\n",
      "+----------------------+-----+\n",
      "\n"
     ]
    },
    {
     "name": "stderr",
     "output_type": "stream",
     "text": [
      "                                                                                \r"
     ]
    },
    {
     "name": "stdout",
     "output_type": "stream",
     "text": [
      "-------------------------------------------\n",
      "Batch: 165\n",
      "-------------------------------------------\n",
      "+----------------------+-----+\n",
      "|word                  |count|\n",
      "+----------------------+-----+\n",
      "|#UAM                  |37   |\n",
      "|#Apple                |28   |\n",
      "|#UniDeVerano          |27   |\n",
      "|#ForoCambio11J        |22   |\n",
      "|#TrabajarHacerCrecer  |22   |\n",
      "|#TuitUtil             |21   |\n",
      "|#VotaPP               |18   |\n",
      "|#Ciencia              |16   |\n",
      "|#GobernarParaLaMayoría|13   |\n",
      "|#APOCALIPSISMINECRAFT4|13   |\n",
      "+----------------------+-----+\n",
      "\n"
     ]
    },
    {
     "name": "stderr",
     "output_type": "stream",
     "text": [
      "                                                                                \r"
     ]
    },
    {
     "name": "stdout",
     "output_type": "stream",
     "text": [
      "-------------------------------------------\n",
      "Batch: 166\n",
      "-------------------------------------------\n",
      "+----------------------+-----+\n",
      "|word                  |count|\n",
      "+----------------------+-----+\n",
      "|#UAM                  |37   |\n",
      "|#Apple                |28   |\n",
      "|#UniDeVerano          |27   |\n",
      "|#ForoCambio11J        |23   |\n",
      "|#TrabajarHacerCrecer  |22   |\n",
      "|#TuitUtil             |21   |\n",
      "|#VotaPP               |18   |\n",
      "|#Ciencia              |16   |\n",
      "|#GobernarParaLaMayoría|13   |\n",
      "|#APOCALIPSISMINECRAFT4|13   |\n",
      "+----------------------+-----+\n",
      "\n"
     ]
    },
    {
     "name": "stderr",
     "output_type": "stream",
     "text": [
      "                                                                                \r"
     ]
    },
    {
     "name": "stdout",
     "output_type": "stream",
     "text": [
      "-------------------------------------------\n",
      "Batch: 167\n",
      "-------------------------------------------\n",
      "+----------------------+-----+\n",
      "|word                  |count|\n",
      "+----------------------+-----+\n",
      "|#UAM                  |37   |\n",
      "|#Apple                |28   |\n",
      "|#UniDeVerano          |27   |\n",
      "|#ForoCambio11J        |24   |\n",
      "|#TrabajarHacerCrecer  |22   |\n",
      "|#TuitUtil             |21   |\n",
      "|#VotaPP               |18   |\n",
      "|#Ciencia              |16   |\n",
      "|#GobernarParaLaMayoría|13   |\n",
      "|#APOCALIPSISMINECRAFT4|13   |\n",
      "+----------------------+-----+\n",
      "\n"
     ]
    },
    {
     "name": "stderr",
     "output_type": "stream",
     "text": [
      "                                                                                \r"
     ]
    },
    {
     "name": "stdout",
     "output_type": "stream",
     "text": [
      "-------------------------------------------\n",
      "Batch: 168\n",
      "-------------------------------------------\n",
      "+----------------------+-----+\n",
      "|word                  |count|\n",
      "+----------------------+-----+\n",
      "|#UAM                  |37   |\n",
      "|#Apple                |28   |\n",
      "|#UniDeVerano          |27   |\n",
      "|#ForoCambio11J        |24   |\n",
      "|#TrabajarHacerCrecer  |22   |\n",
      "|#TuitUtil             |21   |\n",
      "|#VotaPP               |18   |\n",
      "|#Ciencia              |16   |\n",
      "|#GobernarParaLaMayoría|13   |\n",
      "|#APOCALIPSISMINECRAFT4|13   |\n",
      "+----------------------+-----+\n",
      "\n"
     ]
    },
    {
     "name": "stderr",
     "output_type": "stream",
     "text": [
      "                                                                                \r"
     ]
    },
    {
     "name": "stdout",
     "output_type": "stream",
     "text": [
      "-------------------------------------------\n",
      "Batch: 169\n",
      "-------------------------------------------\n",
      "+----------------------+-----+\n",
      "|word                  |count|\n",
      "+----------------------+-----+\n",
      "|#UAM                  |38   |\n",
      "|#Apple                |28   |\n",
      "|#UniDeVerano          |27   |\n",
      "|#ForoCambio11J        |24   |\n",
      "|#TuitUtil             |22   |\n",
      "|#TrabajarHacerCrecer  |22   |\n",
      "|#VotaPP               |18   |\n",
      "|#Ciencia              |17   |\n",
      "|#GobernarParaLaMayoría|13   |\n",
      "|#APOCALIPSISMINECRAFT4|13   |\n",
      "+----------------------+-----+\n",
      "\n"
     ]
    },
    {
     "name": "stderr",
     "output_type": "stream",
     "text": [
      "                                                                                \r"
     ]
    },
    {
     "name": "stdout",
     "output_type": "stream",
     "text": [
      "-------------------------------------------\n",
      "Batch: 170\n",
      "-------------------------------------------\n",
      "+----------------------+-----+\n",
      "|word                  |count|\n",
      "+----------------------+-----+\n",
      "|#UAM                  |38   |\n",
      "|#Apple                |28   |\n",
      "|#UniDeVerano          |27   |\n",
      "|#ForoCambio11J        |24   |\n",
      "|#TuitUtil             |22   |\n",
      "|#TrabajarHacerCrecer  |22   |\n",
      "|#VotaPP               |18   |\n",
      "|#Ciencia              |17   |\n",
      "|#GobernarParaLaMayoría|13   |\n",
      "|#APOCALIPSISMINECRAFT4|13   |\n",
      "+----------------------+-----+\n",
      "\n"
     ]
    },
    {
     "name": "stderr",
     "output_type": "stream",
     "text": [
      "                                                                                \r"
     ]
    },
    {
     "name": "stdout",
     "output_type": "stream",
     "text": [
      "-------------------------------------------\n",
      "Batch: 171\n",
      "-------------------------------------------\n",
      "+----------------------+-----+\n",
      "|word                  |count|\n",
      "+----------------------+-----+\n",
      "|#UAM                  |38   |\n",
      "|#Apple                |29   |\n",
      "|#UniDeVerano          |27   |\n",
      "|#ForoCambio11J        |25   |\n",
      "|#TuitUtil             |22   |\n",
      "|#TrabajarHacerCrecer  |22   |\n",
      "|#VotaPP               |18   |\n",
      "|#Ciencia              |17   |\n",
      "|#GobernarParaLaMayoría|13   |\n",
      "|#APOCALIPSISMINECRAFT4|13   |\n",
      "+----------------------+-----+\n",
      "\n"
     ]
    },
    {
     "name": "stderr",
     "output_type": "stream",
     "text": [
      "                                                                                \r"
     ]
    },
    {
     "name": "stdout",
     "output_type": "stream",
     "text": [
      "-------------------------------------------\n",
      "Batch: 172\n",
      "-------------------------------------------\n",
      "+----------------------+-----+\n",
      "|word                  |count|\n",
      "+----------------------+-----+\n",
      "|#UAM                  |39   |\n",
      "|#Apple                |30   |\n",
      "|#UniDeVerano          |27   |\n",
      "|#ForoCambio11J        |25   |\n",
      "|#TuitUtil             |22   |\n",
      "|#TrabajarHacerCrecer  |22   |\n",
      "|#VotaPP               |18   |\n",
      "|#Ciencia              |17   |\n",
      "|#GobernarParaLaMayoría|13   |\n",
      "|#APOCALIPSISMINECRAFT4|13   |\n",
      "+----------------------+-----+\n",
      "\n"
     ]
    },
    {
     "name": "stderr",
     "output_type": "stream",
     "text": [
      "                                                                                \r"
     ]
    },
    {
     "name": "stdout",
     "output_type": "stream",
     "text": [
      "-------------------------------------------\n",
      "Batch: 173\n",
      "-------------------------------------------\n",
      "+----------------------+-----+\n",
      "|word                  |count|\n",
      "+----------------------+-----+\n",
      "|#UAM                  |39   |\n",
      "|#Apple                |32   |\n",
      "|#UniDeVerano          |27   |\n",
      "|#ForoCambio11J        |25   |\n",
      "|#TrabajarHacerCrecer  |23   |\n",
      "|#TuitUtil             |22   |\n",
      "|#VotaPP               |18   |\n",
      "|#Ciencia              |17   |\n",
      "|#GobernarParaLaMayoría|13   |\n",
      "|#FelizMiercoles       |13   |\n",
      "+----------------------+-----+\n",
      "\n"
     ]
    },
    {
     "name": "stderr",
     "output_type": "stream",
     "text": [
      "                                                                                \r"
     ]
    },
    {
     "name": "stdout",
     "output_type": "stream",
     "text": [
      "-------------------------------------------\n",
      "Batch: 174\n",
      "-------------------------------------------\n",
      "+----------------------+-----+\n",
      "|word                  |count|\n",
      "+----------------------+-----+\n",
      "|#UAM                  |39   |\n",
      "|#Apple                |32   |\n",
      "|#UniDeVerano          |27   |\n",
      "|#ForoCambio11J        |25   |\n",
      "|#TrabajarHacerCrecer  |23   |\n",
      "|#TuitUtil             |22   |\n",
      "|#VotaPP               |18   |\n",
      "|#Ciencia              |17   |\n",
      "|#GobernarParaLaMayoría|14   |\n",
      "|#FelizMiercoles       |13   |\n",
      "+----------------------+-----+\n",
      "\n"
     ]
    },
    {
     "name": "stderr",
     "output_type": "stream",
     "text": [
      "                                                                                \r"
     ]
    },
    {
     "name": "stdout",
     "output_type": "stream",
     "text": [
      "-------------------------------------------\n",
      "Batch: 175\n",
      "-------------------------------------------\n",
      "+----------------------+-----+\n",
      "|word                  |count|\n",
      "+----------------------+-----+\n",
      "|#UAM                  |39   |\n",
      "|#Apple                |32   |\n",
      "|#UniDeVerano          |27   |\n",
      "|#ForoCambio11J        |25   |\n",
      "|#TrabajarHacerCrecer  |23   |\n",
      "|#TuitUtil             |22   |\n",
      "|#VotaPP               |18   |\n",
      "|#Ciencia              |17   |\n",
      "|#GobernarParaLaMayoría|14   |\n",
      "|#FelizMiercoles       |13   |\n",
      "+----------------------+-----+\n",
      "\n"
     ]
    },
    {
     "name": "stderr",
     "output_type": "stream",
     "text": [
      "                                                                                \r"
     ]
    },
    {
     "name": "stdout",
     "output_type": "stream",
     "text": [
      "-------------------------------------------\n",
      "Batch: 176\n",
      "-------------------------------------------\n",
      "+----------------------+-----+\n",
      "|word                  |count|\n",
      "+----------------------+-----+\n",
      "|#UAM                  |39   |\n",
      "|#Apple                |32   |\n",
      "|#UniDeVerano          |27   |\n",
      "|#ForoCambio11J        |25   |\n",
      "|#TrabajarHacerCrecer  |24   |\n",
      "|#TuitUtil             |22   |\n",
      "|#VotaPP               |18   |\n",
      "|#Ciencia              |17   |\n",
      "|#GobernarParaLaMayoría|14   |\n",
      "|#FelizMiercoles       |13   |\n",
      "+----------------------+-----+\n",
      "\n"
     ]
    },
    {
     "name": "stderr",
     "output_type": "stream",
     "text": [
      "                                                                                \r"
     ]
    },
    {
     "name": "stdout",
     "output_type": "stream",
     "text": [
      "-------------------------------------------\n",
      "Batch: 177\n",
      "-------------------------------------------\n",
      "+----------------------+-----+\n",
      "|word                  |count|\n",
      "+----------------------+-----+\n",
      "|#UAM                  |39   |\n",
      "|#Apple                |32   |\n",
      "|#UniDeVerano          |27   |\n",
      "|#ForoCambio11J        |26   |\n",
      "|#TrabajarHacerCrecer  |24   |\n",
      "|#TuitUtil             |22   |\n",
      "|#VotaPP               |18   |\n",
      "|#Ciencia              |17   |\n",
      "|#GobernarParaLaMayoría|14   |\n",
      "|#FelizMiercoles       |13   |\n",
      "+----------------------+-----+\n",
      "\n"
     ]
    },
    {
     "name": "stderr",
     "output_type": "stream",
     "text": [
      "                                                                                \r"
     ]
    },
    {
     "name": "stdout",
     "output_type": "stream",
     "text": [
      "-------------------------------------------\n",
      "Batch: 178\n",
      "-------------------------------------------\n",
      "+----------------------+-----+\n",
      "|word                  |count|\n",
      "+----------------------+-----+\n",
      "|#UAM                  |39   |\n",
      "|#Apple                |32   |\n",
      "|#UniDeVerano          |27   |\n",
      "|#ForoCambio11J        |26   |\n",
      "|#TrabajarHacerCrecer  |25   |\n",
      "|#TuitUtil             |22   |\n",
      "|#VotaPP               |19   |\n",
      "|#Ciencia              |17   |\n",
      "|#GobernarParaLaMayoría|14   |\n",
      "|#FelizMiercoles       |13   |\n",
      "+----------------------+-----+\n",
      "\n"
     ]
    },
    {
     "name": "stderr",
     "output_type": "stream",
     "text": [
      "                                                                                \r"
     ]
    },
    {
     "name": "stdout",
     "output_type": "stream",
     "text": [
      "-------------------------------------------\n",
      "Batch: 179\n",
      "-------------------------------------------\n",
      "+----------------------+-----+\n",
      "|word                  |count|\n",
      "+----------------------+-----+\n",
      "|#UAM                  |40   |\n",
      "|#Apple                |32   |\n",
      "|#UniDeVerano          |27   |\n",
      "|#ForoCambio11J        |26   |\n",
      "|#TrabajarHacerCrecer  |25   |\n",
      "|#TuitUtil             |22   |\n",
      "|#VotaPP               |19   |\n",
      "|#Ciencia              |17   |\n",
      "|#GobernarParaLaMayoría|14   |\n",
      "|#FelizMiercoles       |13   |\n",
      "+----------------------+-----+\n",
      "\n"
     ]
    },
    {
     "name": "stderr",
     "output_type": "stream",
     "text": [
      "                                                                                \r"
     ]
    },
    {
     "name": "stdout",
     "output_type": "stream",
     "text": [
      "-------------------------------------------\n",
      "Batch: 180\n",
      "-------------------------------------------\n",
      "+----------------------+-----+\n",
      "|word                  |count|\n",
      "+----------------------+-----+\n",
      "|#UAM                  |40   |\n",
      "|#Apple                |32   |\n",
      "|#UniDeVerano          |27   |\n",
      "|#ForoCambio11J        |26   |\n",
      "|#TrabajarHacerCrecer  |25   |\n",
      "|#TuitUtil             |22   |\n",
      "|#VotaPP               |19   |\n",
      "|#Ciencia              |17   |\n",
      "|#GobernarParaLaMayoría|15   |\n",
      "|#FelizMiercoles       |13   |\n",
      "+----------------------+-----+\n",
      "\n"
     ]
    },
    {
     "name": "stderr",
     "output_type": "stream",
     "text": [
      "                                                                                \r"
     ]
    },
    {
     "name": "stdout",
     "output_type": "stream",
     "text": [
      "-------------------------------------------\n",
      "Batch: 181\n",
      "-------------------------------------------\n",
      "+----------------------+-----+\n",
      "|word                  |count|\n",
      "+----------------------+-----+\n",
      "|#UAM                  |40   |\n",
      "|#Apple                |32   |\n",
      "|#UniDeVerano          |27   |\n",
      "|#ForoCambio11J        |26   |\n",
      "|#TrabajarHacerCrecer  |25   |\n",
      "|#TuitUtil             |22   |\n",
      "|#VotaPP               |19   |\n",
      "|#Ciencia              |17   |\n",
      "|#GobernarParaLaMayoría|15   |\n",
      "|#RutaDelCambio        |14   |\n",
      "+----------------------+-----+\n",
      "\n"
     ]
    },
    {
     "name": "stderr",
     "output_type": "stream",
     "text": [
      "                                                                                \r"
     ]
    },
    {
     "name": "stdout",
     "output_type": "stream",
     "text": [
      "-------------------------------------------\n",
      "Batch: 182\n",
      "-------------------------------------------\n",
      "+----------------------+-----+\n",
      "|word                  |count|\n",
      "+----------------------+-----+\n",
      "|#UAM                  |40   |\n",
      "|#Apple                |32   |\n",
      "|#UniDeVerano          |27   |\n",
      "|#ForoCambio11J        |26   |\n",
      "|#TrabajarHacerCrecer  |25   |\n",
      "|#TuitUtil             |23   |\n",
      "|#VotaPP               |19   |\n",
      "|#Ciencia              |17   |\n",
      "|#GobernarParaLaMayoría|16   |\n",
      "|#RutaDelCambio        |14   |\n",
      "+----------------------+-----+\n",
      "\n"
     ]
    },
    {
     "name": "stderr",
     "output_type": "stream",
     "text": [
      "                                                                                \r"
     ]
    },
    {
     "name": "stdout",
     "output_type": "stream",
     "text": [
      "-------------------------------------------\n",
      "Batch: 183\n",
      "-------------------------------------------\n",
      "+----------------------+-----+\n",
      "|word                  |count|\n",
      "+----------------------+-----+\n",
      "|#UAM                  |40   |\n",
      "|#Apple                |32   |\n",
      "|#UniDeVerano          |27   |\n",
      "|#ForoCambio11J        |26   |\n",
      "|#TrabajarHacerCrecer  |25   |\n",
      "|#TuitUtil             |23   |\n",
      "|#VotaPP               |19   |\n",
      "|#Ciencia              |17   |\n",
      "|#GobernarParaLaMayoría|16   |\n",
      "|#RutaDelCambio        |14   |\n",
      "+----------------------+-----+\n",
      "\n"
     ]
    },
    {
     "name": "stderr",
     "output_type": "stream",
     "text": [
      "                                                                                \r"
     ]
    },
    {
     "name": "stdout",
     "output_type": "stream",
     "text": [
      "-------------------------------------------\n",
      "Batch: 184\n",
      "-------------------------------------------\n",
      "+----------------------+-----+\n",
      "|word                  |count|\n",
      "+----------------------+-----+\n",
      "|#UAM                  |41   |\n",
      "|#Apple                |33   |\n",
      "|#UniDeVerano          |27   |\n",
      "|#ForoCambio11J        |26   |\n",
      "|#TrabajarHacerCrecer  |25   |\n",
      "|#TuitUtil             |23   |\n",
      "|#VotaPP               |19   |\n",
      "|#Ciencia              |17   |\n",
      "|#GobernarParaLaMayoría|16   |\n",
      "|#RutaDelCambio        |14   |\n",
      "+----------------------+-----+\n",
      "\n"
     ]
    },
    {
     "name": "stderr",
     "output_type": "stream",
     "text": [
      "                                                                                \r"
     ]
    },
    {
     "name": "stdout",
     "output_type": "stream",
     "text": [
      "-------------------------------------------\n",
      "Batch: 185\n",
      "-------------------------------------------\n",
      "+----------------------+-----+\n",
      "|word                  |count|\n",
      "+----------------------+-----+\n",
      "|#UAM                  |41   |\n",
      "|#Apple                |33   |\n",
      "|#UniDeVerano          |27   |\n",
      "|#ForoCambio11J        |26   |\n",
      "|#TrabajarHacerCrecer  |25   |\n",
      "|#TuitUtil             |24   |\n",
      "|#VotaPP               |19   |\n",
      "|#Ciencia              |17   |\n",
      "|#GobernarParaLaMayoría|16   |\n",
      "|#RutaDelCambio        |14   |\n",
      "+----------------------+-----+\n",
      "\n"
     ]
    },
    {
     "name": "stderr",
     "output_type": "stream",
     "text": [
      "                                                                                \r"
     ]
    },
    {
     "name": "stdout",
     "output_type": "stream",
     "text": [
      "-------------------------------------------\n",
      "Batch: 186\n",
      "-------------------------------------------\n",
      "+----------------------+-----+\n",
      "|word                  |count|\n",
      "+----------------------+-----+\n",
      "|#UAM                  |41   |\n",
      "|#Apple                |33   |\n",
      "|#UniDeVerano          |27   |\n",
      "|#ForoCambio11J        |26   |\n",
      "|#TrabajarHacerCrecer  |25   |\n",
      "|#TuitUtil             |25   |\n",
      "|#VotaPP               |19   |\n",
      "|#Ciencia              |17   |\n",
      "|#GobernarParaLaMayoría|16   |\n",
      "|#RutaDelCambio        |14   |\n",
      "+----------------------+-----+\n",
      "\n"
     ]
    },
    {
     "name": "stderr",
     "output_type": "stream",
     "text": [
      "                                                                                \r"
     ]
    },
    {
     "name": "stdout",
     "output_type": "stream",
     "text": [
      "-------------------------------------------\n",
      "Batch: 187\n",
      "-------------------------------------------\n",
      "+----------------------+-----+\n",
      "|word                  |count|\n",
      "+----------------------+-----+\n",
      "|#UAM                  |41   |\n",
      "|#Apple                |33   |\n",
      "|#UniDeVerano          |27   |\n",
      "|#ForoCambio11J        |26   |\n",
      "|#TrabajarHacerCrecer  |25   |\n",
      "|#TuitUtil             |25   |\n",
      "|#VotaPP               |19   |\n",
      "|#Ciencia              |17   |\n",
      "|#GobernarParaLaMayoría|16   |\n",
      "|#RutaDelCambio        |14   |\n",
      "+----------------------+-----+\n",
      "\n"
     ]
    },
    {
     "name": "stderr",
     "output_type": "stream",
     "text": [
      "                                                                                \r"
     ]
    },
    {
     "name": "stdout",
     "output_type": "stream",
     "text": [
      "-------------------------------------------\n",
      "Batch: 188\n",
      "-------------------------------------------\n",
      "+----------------------+-----+\n",
      "|word                  |count|\n",
      "+----------------------+-----+\n",
      "|#UAM                  |41   |\n",
      "|#Apple                |33   |\n",
      "|#UniDeVerano          |27   |\n",
      "|#ForoCambio11J        |26   |\n",
      "|#TrabajarHacerCrecer  |25   |\n",
      "|#TuitUtil             |25   |\n",
      "|#VotaPP               |19   |\n",
      "|#Ciencia              |17   |\n",
      "|#GobernarParaLaMayoría|16   |\n",
      "|#RutaDelCambio        |14   |\n",
      "+----------------------+-----+\n",
      "\n"
     ]
    },
    {
     "name": "stderr",
     "output_type": "stream",
     "text": [
      "                                                                                \r"
     ]
    },
    {
     "name": "stdout",
     "output_type": "stream",
     "text": [
      "-------------------------------------------\n",
      "Batch: 189\n",
      "-------------------------------------------\n",
      "+----------------------+-----+\n",
      "|word                  |count|\n",
      "+----------------------+-----+\n",
      "|#UAM                  |41   |\n",
      "|#Apple                |33   |\n",
      "|#UniDeVerano          |27   |\n",
      "|#ForoCambio11J        |26   |\n",
      "|#TrabajarHacerCrecer  |25   |\n",
      "|#TuitUtil             |25   |\n",
      "|#VotaPP               |19   |\n",
      "|#Ciencia              |17   |\n",
      "|#GobernarParaLaMayoría|16   |\n",
      "|#RutaDelCambio        |14   |\n",
      "+----------------------+-----+\n",
      "\n"
     ]
    },
    {
     "name": "stderr",
     "output_type": "stream",
     "text": [
      "                                                                                \r"
     ]
    },
    {
     "name": "stdout",
     "output_type": "stream",
     "text": [
      "-------------------------------------------\n",
      "Batch: 190\n",
      "-------------------------------------------\n",
      "+----------------------+-----+\n",
      "|word                  |count|\n",
      "+----------------------+-----+\n",
      "|#UAM                  |41   |\n",
      "|#Apple                |33   |\n",
      "|#UniDeVerano          |27   |\n",
      "|#ForoCambio11J        |26   |\n",
      "|#TrabajarHacerCrecer  |25   |\n",
      "|#TuitUtil             |25   |\n",
      "|#VotaPP               |19   |\n",
      "|#Ciencia              |17   |\n",
      "|#GobernarParaLaMayoría|16   |\n",
      "|#RutaDelCambio        |14   |\n",
      "+----------------------+-----+\n",
      "\n"
     ]
    },
    {
     "name": "stderr",
     "output_type": "stream",
     "text": [
      "                                                                                \r"
     ]
    },
    {
     "name": "stdout",
     "output_type": "stream",
     "text": [
      "-------------------------------------------\n",
      "Batch: 191\n",
      "-------------------------------------------\n",
      "+----------------------+-----+\n",
      "|word                  |count|\n",
      "+----------------------+-----+\n",
      "|#UAM                  |41   |\n",
      "|#Apple                |33   |\n",
      "|#UniDeVerano          |27   |\n",
      "|#ForoCambio11J        |26   |\n",
      "|#TuitUtil             |25   |\n",
      "|#TrabajarHacerCrecer  |25   |\n",
      "|#VotaPP               |19   |\n",
      "|#Ciencia              |17   |\n",
      "|#GobernarParaLaMayoría|16   |\n",
      "|#APOCALIPSISMINECRAFT4|14   |\n",
      "+----------------------+-----+\n",
      "\n"
     ]
    },
    {
     "name": "stderr",
     "output_type": "stream",
     "text": [
      "[Stage 577:=================================================>   (186 + 9) / 200]\r"
     ]
    },
    {
     "name": "stdout",
     "output_type": "stream",
     "text": [
      "-------------------------------------------\n",
      "Batch: 192\n",
      "-------------------------------------------\n",
      "+----------------------+-----+\n",
      "|word                  |count|\n",
      "+----------------------+-----+\n",
      "|#UAM                  |41   |\n",
      "|#Apple                |33   |\n",
      "|#UniDeVerano          |27   |\n",
      "|#ForoCambio11J        |26   |\n",
      "|#TuitUtil             |25   |\n",
      "|#TrabajarHacerCrecer  |25   |\n",
      "|#VotaPP               |19   |\n",
      "|#Ciencia              |17   |\n",
      "|#GobernarParaLaMayoría|16   |\n",
      "|#APOCALIPSISMINECRAFT4|14   |\n",
      "+----------------------+-----+\n",
      "\n"
     ]
    },
    {
     "name": "stderr",
     "output_type": "stream",
     "text": [
      "                                                                                \r"
     ]
    },
    {
     "name": "stdout",
     "output_type": "stream",
     "text": [
      "-------------------------------------------\n",
      "Batch: 193\n",
      "-------------------------------------------\n",
      "+----------------------+-----+\n",
      "|word                  |count|\n",
      "+----------------------+-----+\n",
      "|#UAM                  |41   |\n",
      "|#Apple                |33   |\n",
      "|#UniDeVerano          |27   |\n",
      "|#ForoCambio11J        |26   |\n",
      "|#TuitUtil             |25   |\n",
      "|#TrabajarHacerCrecer  |25   |\n",
      "|#VotaPP               |19   |\n",
      "|#GobernarParaLaMayoría|17   |\n",
      "|#Ciencia              |17   |\n",
      "|#APOCALIPSISMINECRAFT4|14   |\n",
      "+----------------------+-----+\n",
      "\n"
     ]
    },
    {
     "name": "stderr",
     "output_type": "stream",
     "text": [
      "                                                                                \r"
     ]
    },
    {
     "name": "stdout",
     "output_type": "stream",
     "text": [
      "-------------------------------------------\n",
      "Batch: 194\n",
      "-------------------------------------------\n",
      "+----------------------+-----+\n",
      "|word                  |count|\n",
      "+----------------------+-----+\n",
      "|#UAM                  |41   |\n",
      "|#Apple                |33   |\n",
      "|#UniDeVerano          |27   |\n",
      "|#ForoCambio11J        |26   |\n",
      "|#TuitUtil             |25   |\n",
      "|#TrabajarHacerCrecer  |25   |\n",
      "|#VotaPP               |19   |\n",
      "|#GobernarParaLaMayoría|17   |\n",
      "|#Ciencia              |17   |\n",
      "|#APOCALIPSISMINECRAFT4|14   |\n",
      "+----------------------+-----+\n",
      "\n"
     ]
    },
    {
     "name": "stderr",
     "output_type": "stream",
     "text": [
      "                                                                                \r"
     ]
    },
    {
     "name": "stdout",
     "output_type": "stream",
     "text": [
      "-------------------------------------------\n",
      "Batch: 195\n",
      "-------------------------------------------\n",
      "+----------------------+-----+\n",
      "|word                  |count|\n",
      "+----------------------+-----+\n",
      "|#UAM                  |41   |\n",
      "|#Apple                |34   |\n",
      "|#UniDeVerano          |27   |\n",
      "|#ForoCambio11J        |26   |\n",
      "|#TrabajarHacerCrecer  |26   |\n",
      "|#TuitUtil             |25   |\n",
      "|#VotaPP               |20   |\n",
      "|#Ciencia              |17   |\n",
      "|#GobernarParaLaMayoría|17   |\n",
      "|#APOCALIPSISMINECRAFT4|14   |\n",
      "+----------------------+-----+\n",
      "\n"
     ]
    },
    {
     "name": "stderr",
     "output_type": "stream",
     "text": [
      "                                                                                \r"
     ]
    },
    {
     "name": "stdout",
     "output_type": "stream",
     "text": [
      "-------------------------------------------\n",
      "Batch: 196\n",
      "-------------------------------------------\n",
      "+----------------------+-----+\n",
      "|word                  |count|\n",
      "+----------------------+-----+\n",
      "|#UAM                  |41   |\n",
      "|#Apple                |35   |\n",
      "|#ForoCambio11J        |27   |\n",
      "|#UniDeVerano          |27   |\n",
      "|#TuitUtil             |26   |\n",
      "|#TrabajarHacerCrecer  |26   |\n",
      "|#VotaPP               |20   |\n",
      "|#Ciencia              |17   |\n",
      "|#GobernarParaLaMayoría|17   |\n",
      "|#OSX                  |15   |\n",
      "+----------------------+-----+\n",
      "\n"
     ]
    },
    {
     "name": "stderr",
     "output_type": "stream",
     "text": [
      "                                                                                \r"
     ]
    },
    {
     "name": "stdout",
     "output_type": "stream",
     "text": [
      "-------------------------------------------\n",
      "Batch: 197\n",
      "-------------------------------------------\n",
      "+----------------------+-----+\n",
      "|word                  |count|\n",
      "+----------------------+-----+\n",
      "|#UAM                  |41   |\n",
      "|#Apple                |35   |\n",
      "|#ForoCambio11J        |27   |\n",
      "|#UniDeVerano          |27   |\n",
      "|#TuitUtil             |26   |\n",
      "|#TrabajarHacerCrecer  |26   |\n",
      "|#VotaPP               |20   |\n",
      "|#Ciencia              |17   |\n",
      "|#GobernarParaLaMayoría|17   |\n",
      "|#OSX                  |15   |\n",
      "+----------------------+-----+\n",
      "\n"
     ]
    },
    {
     "name": "stderr",
     "output_type": "stream",
     "text": [
      "                                                                                \r"
     ]
    },
    {
     "name": "stdout",
     "output_type": "stream",
     "text": [
      "-------------------------------------------\n",
      "Batch: 198\n",
      "-------------------------------------------\n",
      "+----------------------+-----+\n",
      "|word                  |count|\n",
      "+----------------------+-----+\n",
      "|#UAM                  |41   |\n",
      "|#Apple                |35   |\n",
      "|#UniDeVerano          |28   |\n",
      "|#ForoCambio11J        |27   |\n",
      "|#TuitUtil             |26   |\n",
      "|#TrabajarHacerCrecer  |26   |\n",
      "|#VotaPP               |20   |\n",
      "|#Ciencia              |17   |\n",
      "|#GobernarParaLaMayoría|17   |\n",
      "|#OSX                  |15   |\n",
      "+----------------------+-----+\n",
      "\n"
     ]
    },
    {
     "name": "stderr",
     "output_type": "stream",
     "text": [
      "                                                                                \r"
     ]
    },
    {
     "name": "stdout",
     "output_type": "stream",
     "text": [
      "-------------------------------------------\n",
      "Batch: 199\n",
      "-------------------------------------------\n",
      "+----------------------+-----+\n",
      "|word                  |count|\n",
      "+----------------------+-----+\n",
      "|#UAM                  |41   |\n",
      "|#Apple                |37   |\n",
      "|#UniDeVerano          |28   |\n",
      "|#ForoCambio11J        |27   |\n",
      "|#TuitUtil             |26   |\n",
      "|#TrabajarHacerCrecer  |26   |\n",
      "|#VotaPP               |20   |\n",
      "|#Ciencia              |17   |\n",
      "|#GobernarParaLaMayoría|17   |\n",
      "|#OSX                  |15   |\n",
      "+----------------------+-----+\n",
      "\n"
     ]
    },
    {
     "name": "stderr",
     "output_type": "stream",
     "text": [
      "                                                                                \r"
     ]
    },
    {
     "name": "stdout",
     "output_type": "stream",
     "text": [
      "-------------------------------------------\n",
      "Batch: 200\n",
      "-------------------------------------------\n",
      "+----------------------+-----+\n",
      "|word                  |count|\n",
      "+----------------------+-----+\n",
      "|#UAM                  |42   |\n",
      "|#Apple                |37   |\n",
      "|#UniDeVerano          |28   |\n",
      "|#ForoCambio11J        |27   |\n",
      "|#TuitUtil             |26   |\n",
      "|#TrabajarHacerCrecer  |26   |\n",
      "|#VotaPP               |20   |\n",
      "|#Ciencia              |17   |\n",
      "|#GobernarParaLaMayoría|17   |\n",
      "|#OSX                  |15   |\n",
      "+----------------------+-----+\n",
      "\n"
     ]
    },
    {
     "name": "stderr",
     "output_type": "stream",
     "text": [
      "                                                                                \r"
     ]
    },
    {
     "name": "stdout",
     "output_type": "stream",
     "text": [
      "-------------------------------------------\n",
      "Batch: 201\n",
      "-------------------------------------------\n",
      "+----------------------+-----+\n",
      "|word                  |count|\n",
      "+----------------------+-----+\n",
      "|#UAM                  |42   |\n",
      "|#Apple                |37   |\n",
      "|#UniDeVerano          |28   |\n",
      "|#ForoCambio11J        |27   |\n",
      "|#TuitUtil             |27   |\n",
      "|#TrabajarHacerCrecer  |26   |\n",
      "|#VotaPP               |20   |\n",
      "|#Ciencia              |18   |\n",
      "|#GobernarParaLaMayoría|17   |\n",
      "|#OSX                  |15   |\n",
      "+----------------------+-----+\n",
      "\n"
     ]
    },
    {
     "name": "stderr",
     "output_type": "stream",
     "text": [
      "                                                                                \r"
     ]
    },
    {
     "name": "stdout",
     "output_type": "stream",
     "text": [
      "-------------------------------------------\n",
      "Batch: 202\n",
      "-------------------------------------------\n",
      "+----------------------+-----+\n",
      "|word                  |count|\n",
      "+----------------------+-----+\n",
      "|#UAM                  |42   |\n",
      "|#Apple                |37   |\n",
      "|#UniDeVerano          |29   |\n",
      "|#ForoCambio11J        |27   |\n",
      "|#TuitUtil             |27   |\n",
      "|#TrabajarHacerCrecer  |26   |\n",
      "|#VotaPP               |20   |\n",
      "|#Ciencia              |18   |\n",
      "|#GobernarParaLaMayoría|17   |\n",
      "|#OSX                  |15   |\n",
      "+----------------------+-----+\n",
      "\n"
     ]
    },
    {
     "name": "stderr",
     "output_type": "stream",
     "text": [
      "                                                                                \r"
     ]
    },
    {
     "name": "stdout",
     "output_type": "stream",
     "text": [
      "-------------------------------------------\n",
      "Batch: 203\n",
      "-------------------------------------------\n",
      "+----------------------+-----+\n",
      "|word                  |count|\n",
      "+----------------------+-----+\n",
      "|#UAM                  |42   |\n",
      "|#Apple                |37   |\n",
      "|#UniDeVerano          |29   |\n",
      "|#ForoCambio11J        |27   |\n",
      "|#TuitUtil             |27   |\n",
      "|#TrabajarHacerCrecer  |26   |\n",
      "|#VotaPP               |20   |\n",
      "|#Ciencia              |18   |\n",
      "|#GobernarParaLaMayoría|17   |\n",
      "|#OSX                  |15   |\n",
      "+----------------------+-----+\n",
      "\n"
     ]
    },
    {
     "name": "stderr",
     "output_type": "stream",
     "text": [
      "                                                                                \r"
     ]
    },
    {
     "name": "stdout",
     "output_type": "stream",
     "text": [
      "-------------------------------------------\n",
      "Batch: 204\n",
      "-------------------------------------------\n",
      "+----------------------+-----+\n",
      "|word                  |count|\n",
      "+----------------------+-----+\n",
      "|#UAM                  |43   |\n",
      "|#Apple                |38   |\n",
      "|#UniDeVerano          |29   |\n",
      "|#ForoCambio11J        |27   |\n",
      "|#TuitUtil             |27   |\n",
      "|#TrabajarHacerCrecer  |26   |\n",
      "|#VotaPP               |20   |\n",
      "|#Ciencia              |18   |\n",
      "|#GobernarParaLaMayoría|17   |\n",
      "|#OSX                  |16   |\n",
      "+----------------------+-----+\n",
      "\n"
     ]
    },
    {
     "name": "stderr",
     "output_type": "stream",
     "text": [
      "                                                                                \r"
     ]
    },
    {
     "name": "stdout",
     "output_type": "stream",
     "text": [
      "-------------------------------------------\n",
      "Batch: 205\n",
      "-------------------------------------------\n",
      "+----------------------+-----+\n",
      "|word                  |count|\n",
      "+----------------------+-----+\n",
      "|#UAM                  |44   |\n",
      "|#Apple                |39   |\n",
      "|#UniDeVerano          |29   |\n",
      "|#ForoCambio11J        |27   |\n",
      "|#TuitUtil             |27   |\n",
      "|#TrabajarHacerCrecer  |26   |\n",
      "|#VotaPP               |20   |\n",
      "|#Ciencia              |18   |\n",
      "|#GobernarParaLaMayoría|17   |\n",
      "|#OSX                  |16   |\n",
      "+----------------------+-----+\n",
      "\n"
     ]
    },
    {
     "name": "stderr",
     "output_type": "stream",
     "text": [
      "                                                                                \r"
     ]
    },
    {
     "name": "stdout",
     "output_type": "stream",
     "text": [
      "-------------------------------------------\n",
      "Batch: 206\n",
      "-------------------------------------------\n",
      "+----------------------+-----+\n",
      "|word                  |count|\n",
      "+----------------------+-----+\n",
      "|#UAM                  |44   |\n",
      "|#Apple                |39   |\n",
      "|#UniDeVerano          |29   |\n",
      "|#TuitUtil             |28   |\n",
      "|#ForoCambio11J        |27   |\n",
      "|#TrabajarHacerCrecer  |26   |\n",
      "|#VotaPP               |21   |\n",
      "|#Ciencia              |18   |\n",
      "|#GobernarParaLaMayoría|17   |\n",
      "|#OSX                  |16   |\n",
      "+----------------------+-----+\n",
      "\n"
     ]
    },
    {
     "name": "stderr",
     "output_type": "stream",
     "text": [
      "[Stage 622:==================================================>  (190 + 8) / 200]\r"
     ]
    },
    {
     "name": "stdout",
     "output_type": "stream",
     "text": [
      "-------------------------------------------\n",
      "Batch: 207\n",
      "-------------------------------------------\n",
      "+----------------------+-----+\n",
      "|word                  |count|\n",
      "+----------------------+-----+\n",
      "|#UAM                  |44   |\n",
      "|#Apple                |39   |\n",
      "|#UniDeVerano          |29   |\n",
      "|#ForoCambio11J        |28   |\n",
      "|#TuitUtil             |28   |\n",
      "|#TrabajarHacerCrecer  |26   |\n",
      "|#VotaPP               |21   |\n",
      "|#Ciencia              |18   |\n",
      "|#GobernarParaLaMayoría|17   |\n",
      "|#OSX                  |16   |\n",
      "+----------------------+-----+\n",
      "\n"
     ]
    },
    {
     "name": "stderr",
     "output_type": "stream",
     "text": [
      "                                                                                \r"
     ]
    },
    {
     "name": "stdout",
     "output_type": "stream",
     "text": [
      "-------------------------------------------\n",
      "Batch: 208\n",
      "-------------------------------------------\n",
      "+----------------------+-----+\n",
      "|word                  |count|\n",
      "+----------------------+-----+\n",
      "|#UAM                  |45   |\n",
      "|#Apple                |39   |\n",
      "|#UniDeVerano          |29   |\n",
      "|#ForoCambio11J        |28   |\n",
      "|#TuitUtil             |28   |\n",
      "|#TrabajarHacerCrecer  |26   |\n",
      "|#VotaPP               |21   |\n",
      "|#Ciencia              |18   |\n",
      "|#GobernarParaLaMayoría|17   |\n",
      "|#OSX                  |16   |\n",
      "+----------------------+-----+\n",
      "\n"
     ]
    },
    {
     "name": "stderr",
     "output_type": "stream",
     "text": [
      "                                                                                \r"
     ]
    },
    {
     "name": "stdout",
     "output_type": "stream",
     "text": [
      "-------------------------------------------\n",
      "Batch: 209\n",
      "-------------------------------------------\n",
      "+----------------------+-----+\n",
      "|word                  |count|\n",
      "+----------------------+-----+\n",
      "|#UAM                  |45   |\n",
      "|#Apple                |39   |\n",
      "|#UniDeVerano          |29   |\n",
      "|#ForoCambio11J        |28   |\n",
      "|#TuitUtil             |28   |\n",
      "|#TrabajarHacerCrecer  |26   |\n",
      "|#VotaPP               |21   |\n",
      "|#Ciencia              |18   |\n",
      "|#GobernarParaLaMayoría|17   |\n",
      "|#OSX                  |16   |\n",
      "+----------------------+-----+\n",
      "\n"
     ]
    },
    {
     "name": "stderr",
     "output_type": "stream",
     "text": [
      "                                                                                \r"
     ]
    },
    {
     "name": "stdout",
     "output_type": "stream",
     "text": [
      "-------------------------------------------\n",
      "Batch: 210\n",
      "-------------------------------------------\n",
      "+----------------------+-----+\n",
      "|word                  |count|\n",
      "+----------------------+-----+\n",
      "|#UAM                  |46   |\n",
      "|#Apple                |39   |\n",
      "|#UniDeVerano          |29   |\n",
      "|#ForoCambio11J        |28   |\n",
      "|#TuitUtil             |28   |\n",
      "|#TrabajarHacerCrecer  |27   |\n",
      "|#VotaPP               |22   |\n",
      "|#Ciencia              |18   |\n",
      "|#GobernarParaLaMayoría|17   |\n",
      "|#OSX                  |16   |\n",
      "+----------------------+-----+\n",
      "\n"
     ]
    },
    {
     "name": "stderr",
     "output_type": "stream",
     "text": [
      "                                                                                \r"
     ]
    },
    {
     "name": "stdout",
     "output_type": "stream",
     "text": [
      "-------------------------------------------\n",
      "Batch: 211\n",
      "-------------------------------------------\n",
      "+----------------------+-----+\n",
      "|word                  |count|\n",
      "+----------------------+-----+\n",
      "|#UAM                  |47   |\n",
      "|#Apple                |39   |\n",
      "|#UniDeVerano          |29   |\n",
      "|#ForoCambio11J        |28   |\n",
      "|#TuitUtil             |28   |\n",
      "|#TrabajarHacerCrecer  |27   |\n",
      "|#VotaPP               |22   |\n",
      "|#Ciencia              |19   |\n",
      "|#GobernarParaLaMayoría|17   |\n",
      "|#OSX                  |16   |\n",
      "+----------------------+-----+\n",
      "\n"
     ]
    },
    {
     "name": "stderr",
     "output_type": "stream",
     "text": [
      "                                                                                \r"
     ]
    },
    {
     "name": "stdout",
     "output_type": "stream",
     "text": [
      "-------------------------------------------\n",
      "Batch: 212\n",
      "-------------------------------------------\n",
      "+----------------------+-----+\n",
      "|word                  |count|\n",
      "+----------------------+-----+\n",
      "|#UAM                  |47   |\n",
      "|#Apple                |39   |\n",
      "|#UniDeVerano          |29   |\n",
      "|#ForoCambio11J        |28   |\n",
      "|#TuitUtil             |28   |\n",
      "|#TrabajarHacerCrecer  |27   |\n",
      "|#VotaPP               |22   |\n",
      "|#Ciencia              |19   |\n",
      "|#GobernarParaLaMayoría|17   |\n",
      "|#OSX                  |16   |\n",
      "+----------------------+-----+\n",
      "\n"
     ]
    },
    {
     "name": "stderr",
     "output_type": "stream",
     "text": [
      "                                                                                \r"
     ]
    },
    {
     "name": "stdout",
     "output_type": "stream",
     "text": [
      "-------------------------------------------\n",
      "Batch: 213\n",
      "-------------------------------------------\n",
      "+----------------------+-----+\n",
      "|word                  |count|\n",
      "+----------------------+-----+\n",
      "|#UAM                  |47   |\n",
      "|#Apple                |39   |\n",
      "|#UniDeVerano          |29   |\n",
      "|#ForoCambio11J        |28   |\n",
      "|#TuitUtil             |28   |\n",
      "|#TrabajarHacerCrecer  |28   |\n",
      "|#VotaPP               |23   |\n",
      "|#Ciencia              |19   |\n",
      "|#GobernarParaLaMayoría|17   |\n",
      "|#OSX                  |16   |\n",
      "+----------------------+-----+\n",
      "\n"
     ]
    },
    {
     "name": "stderr",
     "output_type": "stream",
     "text": [
      "                                                                                \r"
     ]
    },
    {
     "name": "stdout",
     "output_type": "stream",
     "text": [
      "-------------------------------------------\n",
      "Batch: 214\n",
      "-------------------------------------------\n",
      "+----------------------+-----+\n",
      "|word                  |count|\n",
      "+----------------------+-----+\n",
      "|#UAM                  |47   |\n",
      "|#Apple                |39   |\n",
      "|#UniDeVerano          |29   |\n",
      "|#TrabajarHacerCrecer  |29   |\n",
      "|#ForoCambio11J        |28   |\n",
      "|#TuitUtil             |28   |\n",
      "|#VotaPP               |23   |\n",
      "|#Ciencia              |19   |\n",
      "|#GobernarParaLaMayoría|17   |\n",
      "|#OSX                  |16   |\n",
      "+----------------------+-----+\n",
      "\n"
     ]
    },
    {
     "name": "stderr",
     "output_type": "stream",
     "text": [
      "                                                                                \r"
     ]
    },
    {
     "name": "stdout",
     "output_type": "stream",
     "text": [
      "-------------------------------------------\n",
      "Batch: 215\n",
      "-------------------------------------------\n",
      "+----------------------+-----+\n",
      "|word                  |count|\n",
      "+----------------------+-----+\n",
      "|#UAM                  |47   |\n",
      "|#Apple                |39   |\n",
      "|#UniDeVerano          |29   |\n",
      "|#TrabajarHacerCrecer  |29   |\n",
      "|#ForoCambio11J        |28   |\n",
      "|#TuitUtil             |28   |\n",
      "|#VotaPP               |23   |\n",
      "|#Ciencia              |19   |\n",
      "|#GobernarParaLaMayoría|17   |\n",
      "|#OSX                  |16   |\n",
      "+----------------------+-----+\n",
      "\n"
     ]
    },
    {
     "name": "stderr",
     "output_type": "stream",
     "text": [
      "[Stage 649:==================================================>  (191 + 8) / 200]\r"
     ]
    },
    {
     "name": "stdout",
     "output_type": "stream",
     "text": [
      "-------------------------------------------\n",
      "Batch: 216\n",
      "-------------------------------------------\n",
      "+----------------------+-----+\n",
      "|word                  |count|\n",
      "+----------------------+-----+\n",
      "|#UAM                  |47   |\n",
      "|#Apple                |39   |\n",
      "|#TrabajarHacerCrecer  |30   |\n",
      "|#UniDeVerano          |29   |\n",
      "|#ForoCambio11J        |28   |\n",
      "|#TuitUtil             |28   |\n",
      "|#VotaPP               |24   |\n",
      "|#Ciencia              |19   |\n",
      "|#GobernarParaLaMayoría|17   |\n",
      "|#OSX                  |16   |\n",
      "+----------------------+-----+\n",
      "\n"
     ]
    },
    {
     "name": "stderr",
     "output_type": "stream",
     "text": [
      "                                                                                \r"
     ]
    },
    {
     "name": "stdout",
     "output_type": "stream",
     "text": [
      "-------------------------------------------\n",
      "Batch: 217\n",
      "-------------------------------------------\n",
      "+----------------------+-----+\n",
      "|word                  |count|\n",
      "+----------------------+-----+\n",
      "|#UAM                  |47   |\n",
      "|#Apple                |40   |\n",
      "|#TrabajarHacerCrecer  |30   |\n",
      "|#ForoCambio11J        |29   |\n",
      "|#UniDeVerano          |29   |\n",
      "|#TuitUtil             |28   |\n",
      "|#VotaPP               |24   |\n",
      "|#Ciencia              |19   |\n",
      "|#GobernarParaLaMayoría|17   |\n",
      "|#OSX                  |16   |\n",
      "+----------------------+-----+\n",
      "\n"
     ]
    },
    {
     "name": "stderr",
     "output_type": "stream",
     "text": [
      "                                                                                \r"
     ]
    },
    {
     "name": "stdout",
     "output_type": "stream",
     "text": [
      "-------------------------------------------\n",
      "Batch: 218\n",
      "-------------------------------------------\n",
      "+----------------------+-----+\n",
      "|word                  |count|\n",
      "+----------------------+-----+\n",
      "|#UAM                  |47   |\n",
      "|#Apple                |40   |\n",
      "|#TrabajarHacerCrecer  |30   |\n",
      "|#ForoCambio11J        |29   |\n",
      "|#UniDeVerano          |29   |\n",
      "|#TuitUtil             |29   |\n",
      "|#VotaPP               |24   |\n",
      "|#Ciencia              |19   |\n",
      "|#GobernarParaLaMayoría|17   |\n",
      "|#OSX                  |16   |\n",
      "+----------------------+-----+\n",
      "\n"
     ]
    },
    {
     "name": "stderr",
     "output_type": "stream",
     "text": [
      "                                                                                \r"
     ]
    },
    {
     "name": "stdout",
     "output_type": "stream",
     "text": [
      "-------------------------------------------\n",
      "Batch: 219\n",
      "-------------------------------------------\n",
      "+----------------------+-----+\n",
      "|word                  |count|\n",
      "+----------------------+-----+\n",
      "|#UAM                  |47   |\n",
      "|#Apple                |40   |\n",
      "|#TrabajarHacerCrecer  |30   |\n",
      "|#ForoCambio11J        |29   |\n",
      "|#UniDeVerano          |29   |\n",
      "|#TuitUtil             |29   |\n",
      "|#VotaPP               |24   |\n",
      "|#Ciencia              |19   |\n",
      "|#GobernarParaLaMayoría|17   |\n",
      "|#OSX                  |16   |\n",
      "+----------------------+-----+\n",
      "\n"
     ]
    },
    {
     "name": "stderr",
     "output_type": "stream",
     "text": [
      "                                                                                \r"
     ]
    },
    {
     "name": "stdout",
     "output_type": "stream",
     "text": [
      "-------------------------------------------\n",
      "Batch: 220\n",
      "-------------------------------------------\n",
      "+----------------------+-----+\n",
      "|word                  |count|\n",
      "+----------------------+-----+\n",
      "|#UAM                  |47   |\n",
      "|#Apple                |40   |\n",
      "|#TuitUtil             |30   |\n",
      "|#TrabajarHacerCrecer  |30   |\n",
      "|#ForoCambio11J        |29   |\n",
      "|#UniDeVerano          |29   |\n",
      "|#VotaPP               |24   |\n",
      "|#Ciencia              |19   |\n",
      "|#GobernarParaLaMayoría|17   |\n",
      "|#OSX                  |16   |\n",
      "+----------------------+-----+\n",
      "\n"
     ]
    },
    {
     "name": "stderr",
     "output_type": "stream",
     "text": [
      "                                                                                \r"
     ]
    },
    {
     "name": "stdout",
     "output_type": "stream",
     "text": [
      "-------------------------------------------\n",
      "Batch: 221\n",
      "-------------------------------------------\n",
      "+----------------------+-----+\n",
      "|word                  |count|\n",
      "+----------------------+-----+\n",
      "|#UAM                  |47   |\n",
      "|#Apple                |41   |\n",
      "|#UniDeVerano          |30   |\n",
      "|#TuitUtil             |30   |\n",
      "|#TrabajarHacerCrecer  |30   |\n",
      "|#ForoCambio11J        |29   |\n",
      "|#VotaPP               |24   |\n",
      "|#Ciencia              |19   |\n",
      "|#GobernarParaLaMayoría|17   |\n",
      "|#OSX                  |16   |\n",
      "+----------------------+-----+\n",
      "\n"
     ]
    },
    {
     "name": "stderr",
     "output_type": "stream",
     "text": [
      "                                                                                \r"
     ]
    },
    {
     "name": "stdout",
     "output_type": "stream",
     "text": [
      "-------------------------------------------\n",
      "Batch: 222\n",
      "-------------------------------------------\n",
      "+----------------------+-----+\n",
      "|word                  |count|\n",
      "+----------------------+-----+\n",
      "|#UAM                  |47   |\n",
      "|#Apple                |41   |\n",
      "|#UniDeVerano          |30   |\n",
      "|#TuitUtil             |30   |\n",
      "|#TrabajarHacerCrecer  |30   |\n",
      "|#ForoCambio11J        |29   |\n",
      "|#VotaPP               |24   |\n",
      "|#Ciencia              |19   |\n",
      "|#GobernarParaLaMayoría|17   |\n",
      "|#OSX                  |16   |\n",
      "+----------------------+-----+\n",
      "\n"
     ]
    },
    {
     "name": "stderr",
     "output_type": "stream",
     "text": [
      "                                                                                \r"
     ]
    },
    {
     "name": "stdout",
     "output_type": "stream",
     "text": [
      "-------------------------------------------\n",
      "Batch: 223\n",
      "-------------------------------------------\n",
      "+----------------------+-----+\n",
      "|word                  |count|\n",
      "+----------------------+-----+\n",
      "|#UAM                  |47   |\n",
      "|#Apple                |41   |\n",
      "|#UniDeVerano          |30   |\n",
      "|#TuitUtil             |30   |\n",
      "|#TrabajarHacerCrecer  |30   |\n",
      "|#ForoCambio11J        |29   |\n",
      "|#VotaPP               |24   |\n",
      "|#Ciencia              |19   |\n",
      "|#GobernarParaLaMayoría|17   |\n",
      "|#OSX                  |16   |\n",
      "+----------------------+-----+\n",
      "\n"
     ]
    },
    {
     "name": "stderr",
     "output_type": "stream",
     "text": [
      "                                                                                \r"
     ]
    },
    {
     "name": "stdout",
     "output_type": "stream",
     "text": [
      "-------------------------------------------\n",
      "Batch: 224\n",
      "-------------------------------------------\n",
      "+----------------------+-----+\n",
      "|word                  |count|\n",
      "+----------------------+-----+\n",
      "|#UAM                  |47   |\n",
      "|#Apple                |41   |\n",
      "|#ForoCambio11J        |31   |\n",
      "|#UniDeVerano          |30   |\n",
      "|#TuitUtil             |30   |\n",
      "|#TrabajarHacerCrecer  |30   |\n",
      "|#VotaPP               |24   |\n",
      "|#Ciencia              |19   |\n",
      "|#GobernarParaLaMayoría|17   |\n",
      "|#APOCALIPSISMINECRAFT4|16   |\n",
      "+----------------------+-----+\n",
      "\n"
     ]
    },
    {
     "name": "stderr",
     "output_type": "stream",
     "text": [
      "                                                                                \r"
     ]
    },
    {
     "name": "stdout",
     "output_type": "stream",
     "text": [
      "-------------------------------------------\n",
      "Batch: 225\n",
      "-------------------------------------------\n",
      "+----------------------+-----+\n",
      "|word                  |count|\n",
      "+----------------------+-----+\n",
      "|#UAM                  |48   |\n",
      "|#Apple                |41   |\n",
      "|#ForoCambio11J        |31   |\n",
      "|#UniDeVerano          |30   |\n",
      "|#TuitUtil             |30   |\n",
      "|#TrabajarHacerCrecer  |30   |\n",
      "|#VotaPP               |24   |\n",
      "|#Ciencia              |19   |\n",
      "|#GobernarParaLaMayoría|17   |\n",
      "|#APOCALIPSISMINECRAFT4|16   |\n",
      "+----------------------+-----+\n",
      "\n"
     ]
    },
    {
     "name": "stderr",
     "output_type": "stream",
     "text": [
      "                                                                                \r"
     ]
    },
    {
     "name": "stdout",
     "output_type": "stream",
     "text": [
      "-------------------------------------------\n",
      "Batch: 226\n",
      "-------------------------------------------\n",
      "+----------------------+-----+\n",
      "|word                  |count|\n",
      "+----------------------+-----+\n",
      "|#UAM                  |48   |\n",
      "|#Apple                |41   |\n",
      "|#ForoCambio11J        |33   |\n",
      "|#TuitUtil             |31   |\n",
      "|#UniDeVerano          |30   |\n",
      "|#TrabajarHacerCrecer  |30   |\n",
      "|#VotaPP               |24   |\n",
      "|#Ciencia              |20   |\n",
      "|#GobernarParaLaMayoría|17   |\n",
      "|#APOCALIPSISMINECRAFT4|16   |\n",
      "+----------------------+-----+\n",
      "\n"
     ]
    },
    {
     "name": "stderr",
     "output_type": "stream",
     "text": [
      "                                                                                \r"
     ]
    },
    {
     "name": "stdout",
     "output_type": "stream",
     "text": [
      "-------------------------------------------\n",
      "Batch: 227\n",
      "-------------------------------------------\n",
      "+----------------------+-----+\n",
      "|word                  |count|\n",
      "+----------------------+-----+\n",
      "|#UAM                  |48   |\n",
      "|#Apple                |42   |\n",
      "|#ForoCambio11J        |33   |\n",
      "|#TuitUtil             |32   |\n",
      "|#UniDeVerano          |30   |\n",
      "|#TrabajarHacerCrecer  |30   |\n",
      "|#VotaPP               |24   |\n",
      "|#Ciencia              |20   |\n",
      "|#GobernarParaLaMayoría|18   |\n",
      "|#OSX                  |17   |\n",
      "+----------------------+-----+\n",
      "\n"
     ]
    },
    {
     "name": "stderr",
     "output_type": "stream",
     "text": [
      "                                                                                \r"
     ]
    },
    {
     "name": "stdout",
     "output_type": "stream",
     "text": [
      "-------------------------------------------\n",
      "Batch: 228\n",
      "-------------------------------------------\n",
      "+----------------------+-----+\n",
      "|word                  |count|\n",
      "+----------------------+-----+\n",
      "|#UAM                  |48   |\n",
      "|#Apple                |42   |\n",
      "|#ForoCambio11J        |33   |\n",
      "|#TuitUtil             |32   |\n",
      "|#TrabajarHacerCrecer  |31   |\n",
      "|#UniDeVerano          |30   |\n",
      "|#VotaPP               |25   |\n",
      "|#Ciencia              |20   |\n",
      "|#GobernarParaLaMayoría|18   |\n",
      "|#OSX                  |17   |\n",
      "+----------------------+-----+\n",
      "\n"
     ]
    },
    {
     "name": "stderr",
     "output_type": "stream",
     "text": [
      "                                                                                \r"
     ]
    },
    {
     "name": "stdout",
     "output_type": "stream",
     "text": [
      "-------------------------------------------\n",
      "Batch: 229\n",
      "-------------------------------------------\n",
      "+----------------------+-----+\n",
      "|word                  |count|\n",
      "+----------------------+-----+\n",
      "|#UAM                  |48   |\n",
      "|#Apple                |42   |\n",
      "|#ForoCambio11J        |34   |\n",
      "|#TuitUtil             |32   |\n",
      "|#TrabajarHacerCrecer  |31   |\n",
      "|#UniDeVerano          |30   |\n",
      "|#VotaPP               |25   |\n",
      "|#Ciencia              |20   |\n",
      "|#GobernarParaLaMayoría|18   |\n",
      "|#OSX                  |17   |\n",
      "+----------------------+-----+\n",
      "\n"
     ]
    },
    {
     "name": "stderr",
     "output_type": "stream",
     "text": [
      "                                                                                \r"
     ]
    },
    {
     "name": "stdout",
     "output_type": "stream",
     "text": [
      "-------------------------------------------\n",
      "Batch: 230\n",
      "-------------------------------------------\n",
      "+----------------------+-----+\n",
      "|word                  |count|\n",
      "+----------------------+-----+\n",
      "|#UAM                  |48   |\n",
      "|#Apple                |42   |\n",
      "|#ForoCambio11J        |35   |\n",
      "|#TuitUtil             |32   |\n",
      "|#TrabajarHacerCrecer  |31   |\n",
      "|#UniDeVerano          |30   |\n",
      "|#VotaPP               |25   |\n",
      "|#Ciencia              |20   |\n",
      "|#GobernarParaLaMayoría|18   |\n",
      "|#OSX                  |17   |\n",
      "+----------------------+-----+\n",
      "\n"
     ]
    },
    {
     "name": "stderr",
     "output_type": "stream",
     "text": [
      "                                                                                \r"
     ]
    },
    {
     "name": "stdout",
     "output_type": "stream",
     "text": [
      "-------------------------------------------\n",
      "Batch: 231\n",
      "-------------------------------------------\n",
      "+----------------------+-----+\n",
      "|word                  |count|\n",
      "+----------------------+-----+\n",
      "|#UAM                  |48   |\n",
      "|#Apple                |42   |\n",
      "|#ForoCambio11J        |36   |\n",
      "|#TuitUtil             |32   |\n",
      "|#UniDeVerano          |31   |\n",
      "|#TrabajarHacerCrecer  |31   |\n",
      "|#VotaPP               |25   |\n",
      "|#Ciencia              |20   |\n",
      "|#GobernarParaLaMayoría|19   |\n",
      "|#OSX                  |17   |\n",
      "+----------------------+-----+\n",
      "\n"
     ]
    },
    {
     "name": "stderr",
     "output_type": "stream",
     "text": [
      "                                                                                \r"
     ]
    },
    {
     "name": "stdout",
     "output_type": "stream",
     "text": [
      "-------------------------------------------\n",
      "Batch: 232\n",
      "-------------------------------------------\n",
      "+----------------------+-----+\n",
      "|word                  |count|\n",
      "+----------------------+-----+\n",
      "|#UAM                  |48   |\n",
      "|#Apple                |42   |\n",
      "|#ForoCambio11J        |36   |\n",
      "|#TuitUtil             |32   |\n",
      "|#UniDeVerano          |31   |\n",
      "|#TrabajarHacerCrecer  |31   |\n",
      "|#VotaPP               |26   |\n",
      "|#Ciencia              |21   |\n",
      "|#GobernarParaLaMayoría|19   |\n",
      "|#OSX                  |17   |\n",
      "+----------------------+-----+\n",
      "\n"
     ]
    },
    {
     "name": "stderr",
     "output_type": "stream",
     "text": [
      "                                                                                \r"
     ]
    },
    {
     "name": "stdout",
     "output_type": "stream",
     "text": [
      "-------------------------------------------\n",
      "Batch: 233\n",
      "-------------------------------------------\n",
      "+----------------------+-----+\n",
      "|word                  |count|\n",
      "+----------------------+-----+\n",
      "|#UAM                  |49   |\n",
      "|#Apple                |42   |\n",
      "|#ForoCambio11J        |36   |\n",
      "|#TuitUtil             |32   |\n",
      "|#UniDeVerano          |31   |\n",
      "|#TrabajarHacerCrecer  |31   |\n",
      "|#VotaPP               |26   |\n",
      "|#Ciencia              |21   |\n",
      "|#GobernarParaLaMayoría|19   |\n",
      "|#FelizMiercoles       |18   |\n",
      "+----------------------+-----+\n",
      "\n"
     ]
    },
    {
     "name": "stderr",
     "output_type": "stream",
     "text": [
      "                                                                                \r"
     ]
    },
    {
     "name": "stdout",
     "output_type": "stream",
     "text": [
      "-------------------------------------------\n",
      "Batch: 234\n",
      "-------------------------------------------\n",
      "+----------------------+-----+\n",
      "|word                  |count|\n",
      "+----------------------+-----+\n",
      "|#UAM                  |49   |\n",
      "|#Apple                |42   |\n",
      "|#ForoCambio11J        |36   |\n",
      "|#TuitUtil             |32   |\n",
      "|#UniDeVerano          |31   |\n",
      "|#TrabajarHacerCrecer  |31   |\n",
      "|#VotaPP               |27   |\n",
      "|#Ciencia              |21   |\n",
      "|#GobernarParaLaMayoría|19   |\n",
      "|#FelizMiercoles       |18   |\n",
      "+----------------------+-----+\n",
      "\n"
     ]
    },
    {
     "name": "stderr",
     "output_type": "stream",
     "text": [
      "                                                                                \r"
     ]
    },
    {
     "name": "stdout",
     "output_type": "stream",
     "text": [
      "-------------------------------------------\n",
      "Batch: 235\n",
      "-------------------------------------------\n",
      "+----------------------+-----+\n",
      "|word                  |count|\n",
      "+----------------------+-----+\n",
      "|#UAM                  |49   |\n",
      "|#Apple                |42   |\n",
      "|#ForoCambio11J        |36   |\n",
      "|#TuitUtil             |32   |\n",
      "|#UniDeVerano          |31   |\n",
      "|#TrabajarHacerCrecer  |31   |\n",
      "|#VotaPP               |27   |\n",
      "|#Ciencia              |21   |\n",
      "|#GobernarParaLaMayoría|19   |\n",
      "|#FelizMiercoles       |18   |\n",
      "+----------------------+-----+\n",
      "\n"
     ]
    },
    {
     "name": "stderr",
     "output_type": "stream",
     "text": [
      "                                                                                \r"
     ]
    },
    {
     "name": "stdout",
     "output_type": "stream",
     "text": [
      "-------------------------------------------\n",
      "Batch: 236\n",
      "-------------------------------------------\n",
      "+----------------------+-----+\n",
      "|word                  |count|\n",
      "+----------------------+-----+\n",
      "|#UAM                  |49   |\n",
      "|#Apple                |42   |\n",
      "|#ForoCambio11J        |36   |\n",
      "|#TuitUtil             |33   |\n",
      "|#UniDeVerano          |31   |\n",
      "|#TrabajarHacerCrecer  |31   |\n",
      "|#VotaPP               |27   |\n",
      "|#Ciencia              |21   |\n",
      "|#GobernarParaLaMayoría|19   |\n",
      "|#FelizMiercoles       |18   |\n",
      "+----------------------+-----+\n",
      "\n"
     ]
    },
    {
     "name": "stderr",
     "output_type": "stream",
     "text": [
      "                                                                                \r"
     ]
    },
    {
     "name": "stdout",
     "output_type": "stream",
     "text": [
      "-------------------------------------------\n",
      "Batch: 237\n",
      "-------------------------------------------\n",
      "+----------------------+-----+\n",
      "|word                  |count|\n",
      "+----------------------+-----+\n",
      "|#UAM                  |49   |\n",
      "|#Apple                |42   |\n",
      "|#ForoCambio11J        |36   |\n",
      "|#TuitUtil             |33   |\n",
      "|#TrabajarHacerCrecer  |32   |\n",
      "|#UniDeVerano          |31   |\n",
      "|#VotaPP               |27   |\n",
      "|#Ciencia              |21   |\n",
      "|#FelizMiercoles       |19   |\n",
      "|#GobernarParaLaMayoría|19   |\n",
      "+----------------------+-----+\n",
      "\n"
     ]
    },
    {
     "name": "stderr",
     "output_type": "stream",
     "text": [
      "                                                                                \r"
     ]
    },
    {
     "name": "stdout",
     "output_type": "stream",
     "text": [
      "-------------------------------------------\n",
      "Batch: 238\n",
      "-------------------------------------------\n",
      "+----------------------+-----+\n",
      "|word                  |count|\n",
      "+----------------------+-----+\n",
      "|#UAM                  |49   |\n",
      "|#Apple                |43   |\n",
      "|#ForoCambio11J        |36   |\n",
      "|#TuitUtil             |33   |\n",
      "|#TrabajarHacerCrecer  |32   |\n",
      "|#UniDeVerano          |31   |\n",
      "|#VotaPP               |27   |\n",
      "|#Ciencia              |23   |\n",
      "|#FelizMiercoles       |19   |\n",
      "|#GobernarParaLaMayoría|19   |\n",
      "+----------------------+-----+\n",
      "\n"
     ]
    },
    {
     "name": "stderr",
     "output_type": "stream",
     "text": [
      "                                                                                \r"
     ]
    },
    {
     "name": "stdout",
     "output_type": "stream",
     "text": [
      "-------------------------------------------\n",
      "Batch: 239\n",
      "-------------------------------------------\n",
      "+----------------------+-----+\n",
      "|word                  |count|\n",
      "+----------------------+-----+\n",
      "|#UAM                  |49   |\n",
      "|#Apple                |43   |\n",
      "|#ForoCambio11J        |36   |\n",
      "|#TuitUtil             |33   |\n",
      "|#TrabajarHacerCrecer  |32   |\n",
      "|#UniDeVerano          |31   |\n",
      "|#VotaPP               |27   |\n",
      "|#Ciencia              |23   |\n",
      "|#GobernarParaLaMayoría|19   |\n",
      "|#FelizMiercoles       |19   |\n",
      "+----------------------+-----+\n",
      "\n"
     ]
    },
    {
     "name": "stderr",
     "output_type": "stream",
     "text": [
      "                                                                                \r"
     ]
    },
    {
     "name": "stdout",
     "output_type": "stream",
     "text": [
      "-------------------------------------------\n",
      "Batch: 240\n",
      "-------------------------------------------\n",
      "+----------------------+-----+\n",
      "|word                  |count|\n",
      "+----------------------+-----+\n",
      "|#UAM                  |49   |\n",
      "|#Apple                |43   |\n",
      "|#ForoCambio11J        |36   |\n",
      "|#TuitUtil             |33   |\n",
      "|#TrabajarHacerCrecer  |32   |\n",
      "|#UniDeVerano          |31   |\n",
      "|#VotaPP               |27   |\n",
      "|#Ciencia              |23   |\n",
      "|#GobernarParaLaMayoría|19   |\n",
      "|#FelizMiercoles       |19   |\n",
      "+----------------------+-----+\n",
      "\n"
     ]
    },
    {
     "name": "stderr",
     "output_type": "stream",
     "text": [
      "                                                                                \r"
     ]
    },
    {
     "name": "stdout",
     "output_type": "stream",
     "text": [
      "-------------------------------------------\n",
      "Batch: 241\n",
      "-------------------------------------------\n",
      "+----------------------+-----+\n",
      "|word                  |count|\n",
      "+----------------------+-----+\n",
      "|#UAM                  |49   |\n",
      "|#Apple                |43   |\n",
      "|#ForoCambio11J        |36   |\n",
      "|#TuitUtil             |33   |\n",
      "|#TrabajarHacerCrecer  |32   |\n",
      "|#UniDeVerano          |31   |\n",
      "|#VotaPP               |27   |\n",
      "|#Ciencia              |23   |\n",
      "|#GobernarParaLaMayoría|19   |\n",
      "|#FelizMiercoles       |19   |\n",
      "+----------------------+-----+\n",
      "\n"
     ]
    },
    {
     "name": "stderr",
     "output_type": "stream",
     "text": [
      "                                                                                \r"
     ]
    },
    {
     "name": "stdout",
     "output_type": "stream",
     "text": [
      "-------------------------------------------\n",
      "Batch: 242\n",
      "-------------------------------------------\n",
      "+----------------------+-----+\n",
      "|word                  |count|\n",
      "+----------------------+-----+\n",
      "|#UAM                  |50   |\n",
      "|#Apple                |43   |\n",
      "|#ForoCambio11J        |37   |\n",
      "|#TuitUtil             |33   |\n",
      "|#TrabajarHacerCrecer  |32   |\n",
      "|#UniDeVerano          |31   |\n",
      "|#VotaPP               |27   |\n",
      "|#Ciencia              |23   |\n",
      "|#GobernarParaLaMayoría|19   |\n",
      "|#FelizMiercoles       |19   |\n",
      "+----------------------+-----+\n",
      "\n"
     ]
    },
    {
     "name": "stderr",
     "output_type": "stream",
     "text": [
      "                                                                                \r"
     ]
    },
    {
     "name": "stdout",
     "output_type": "stream",
     "text": [
      "-------------------------------------------\n",
      "Batch: 243\n",
      "-------------------------------------------\n",
      "+----------------------+-----+\n",
      "|word                  |count|\n",
      "+----------------------+-----+\n",
      "|#UAM                  |50   |\n",
      "|#Apple                |43   |\n",
      "|#ForoCambio11J        |38   |\n",
      "|#TuitUtil             |33   |\n",
      "|#TrabajarHacerCrecer  |33   |\n",
      "|#UniDeVerano          |31   |\n",
      "|#VotaPP               |28   |\n",
      "|#Ciencia              |23   |\n",
      "|#FelizMiercoles       |19   |\n",
      "|#GobernarParaLaMayoría|19   |\n",
      "+----------------------+-----+\n",
      "\n"
     ]
    },
    {
     "name": "stderr",
     "output_type": "stream",
     "text": [
      "                                                                                \r"
     ]
    },
    {
     "name": "stdout",
     "output_type": "stream",
     "text": [
      "-------------------------------------------\n",
      "Batch: 244\n",
      "-------------------------------------------\n",
      "+----------------------+-----+\n",
      "|word                  |count|\n",
      "+----------------------+-----+\n",
      "|#UAM                  |50   |\n",
      "|#Apple                |43   |\n",
      "|#ForoCambio11J        |38   |\n",
      "|#TrabajarHacerCrecer  |33   |\n",
      "|#TuitUtil             |33   |\n",
      "|#UniDeVerano          |32   |\n",
      "|#VotaPP               |28   |\n",
      "|#Ciencia              |23   |\n",
      "|#FelizMiercoles       |19   |\n",
      "|#GobernarParaLaMayoría|19   |\n",
      "+----------------------+-----+\n",
      "\n"
     ]
    },
    {
     "name": "stderr",
     "output_type": "stream",
     "text": [
      "                                                                                \r"
     ]
    },
    {
     "name": "stdout",
     "output_type": "stream",
     "text": [
      "-------------------------------------------\n",
      "Batch: 245\n",
      "-------------------------------------------\n",
      "+----------------------+-----+\n",
      "|word                  |count|\n",
      "+----------------------+-----+\n",
      "|#UAM                  |50   |\n",
      "|#Apple                |43   |\n",
      "|#ForoCambio11J        |38   |\n",
      "|#TuitUtil             |34   |\n",
      "|#TrabajarHacerCrecer  |33   |\n",
      "|#UniDeVerano          |32   |\n",
      "|#VotaPP               |28   |\n",
      "|#Ciencia              |23   |\n",
      "|#GobernarParaLaMayoría|20   |\n",
      "|#FelizMiercoles       |19   |\n",
      "+----------------------+-----+\n",
      "\n"
     ]
    },
    {
     "name": "stderr",
     "output_type": "stream",
     "text": [
      "                                                                                \r"
     ]
    },
    {
     "name": "stdout",
     "output_type": "stream",
     "text": [
      "-------------------------------------------\n",
      "Batch: 246\n",
      "-------------------------------------------\n",
      "+----------------------+-----+\n",
      "|word                  |count|\n",
      "+----------------------+-----+\n",
      "|#UAM                  |50   |\n",
      "|#Apple                |43   |\n",
      "|#ForoCambio11J        |39   |\n",
      "|#TuitUtil             |34   |\n",
      "|#TrabajarHacerCrecer  |33   |\n",
      "|#UniDeVerano          |32   |\n",
      "|#VotaPP               |28   |\n",
      "|#Ciencia              |23   |\n",
      "|#GobernarParaLaMayoría|20   |\n",
      "|#FelizMiercoles       |19   |\n",
      "+----------------------+-----+\n",
      "\n"
     ]
    },
    {
     "name": "stderr",
     "output_type": "stream",
     "text": [
      "                                                                                \r"
     ]
    },
    {
     "name": "stdout",
     "output_type": "stream",
     "text": [
      "-------------------------------------------\n",
      "Batch: 247\n",
      "-------------------------------------------\n",
      "+----------------------+-----+\n",
      "|word                  |count|\n",
      "+----------------------+-----+\n",
      "|#UAM                  |50   |\n",
      "|#Apple                |43   |\n",
      "|#ForoCambio11J        |39   |\n",
      "|#TuitUtil             |34   |\n",
      "|#TrabajarHacerCrecer  |33   |\n",
      "|#UniDeVerano          |32   |\n",
      "|#VotaPP               |28   |\n",
      "|#Ciencia              |23   |\n",
      "|#GobernarParaLaMayoría|20   |\n",
      "|#FelizMiercoles       |19   |\n",
      "+----------------------+-----+\n",
      "\n"
     ]
    },
    {
     "name": "stderr",
     "output_type": "stream",
     "text": [
      "                                                                                \r"
     ]
    },
    {
     "name": "stdout",
     "output_type": "stream",
     "text": [
      "-------------------------------------------\n",
      "Batch: 248\n",
      "-------------------------------------------\n",
      "+----------------------+-----+\n",
      "|word                  |count|\n",
      "+----------------------+-----+\n",
      "|#UAM                  |51   |\n",
      "|#Apple                |43   |\n",
      "|#ForoCambio11J        |40   |\n",
      "|#TuitUtil             |34   |\n",
      "|#TrabajarHacerCrecer  |33   |\n",
      "|#UniDeVerano          |32   |\n",
      "|#VotaPP               |28   |\n",
      "|#Ciencia              |23   |\n",
      "|#GobernarParaLaMayoría|20   |\n",
      "|#FelizMiercoles       |19   |\n",
      "+----------------------+-----+\n",
      "\n"
     ]
    },
    {
     "name": "stderr",
     "output_type": "stream",
     "text": [
      "                                                                                \r"
     ]
    },
    {
     "name": "stdout",
     "output_type": "stream",
     "text": [
      "-------------------------------------------\n",
      "Batch: 249\n",
      "-------------------------------------------\n",
      "+----------------------+-----+\n",
      "|word                  |count|\n",
      "+----------------------+-----+\n",
      "|#UAM                  |51   |\n",
      "|#Apple                |43   |\n",
      "|#ForoCambio11J        |41   |\n",
      "|#TuitUtil             |34   |\n",
      "|#TrabajarHacerCrecer  |33   |\n",
      "|#UniDeVerano          |32   |\n",
      "|#VotaPP               |28   |\n",
      "|#Ciencia              |23   |\n",
      "|#GobernarParaLaMayoría|20   |\n",
      "|#FelizMiercoles       |19   |\n",
      "+----------------------+-----+\n",
      "\n"
     ]
    },
    {
     "name": "stderr",
     "output_type": "stream",
     "text": [
      "                                                                                \r"
     ]
    },
    {
     "name": "stdout",
     "output_type": "stream",
     "text": [
      "-------------------------------------------\n",
      "Batch: 250\n",
      "-------------------------------------------\n",
      "+----------------------+-----+\n",
      "|word                  |count|\n",
      "+----------------------+-----+\n",
      "|#UAM                  |51   |\n",
      "|#Apple                |43   |\n",
      "|#ForoCambio11J        |42   |\n",
      "|#TuitUtil             |34   |\n",
      "|#TrabajarHacerCrecer  |34   |\n",
      "|#UniDeVerano          |32   |\n",
      "|#VotaPP               |28   |\n",
      "|#Ciencia              |23   |\n",
      "|#GobernarParaLaMayoría|20   |\n",
      "|#FelizMiercoles       |19   |\n",
      "+----------------------+-----+\n",
      "\n"
     ]
    },
    {
     "name": "stderr",
     "output_type": "stream",
     "text": [
      "                                                                                \r"
     ]
    },
    {
     "name": "stdout",
     "output_type": "stream",
     "text": [
      "-------------------------------------------\n",
      "Batch: 251\n",
      "-------------------------------------------\n",
      "+----------------------+-----+\n",
      "|word                  |count|\n",
      "+----------------------+-----+\n",
      "|#UAM                  |51   |\n",
      "|#ForoCambio11J        |43   |\n",
      "|#Apple                |43   |\n",
      "|#TuitUtil             |34   |\n",
      "|#TrabajarHacerCrecer  |34   |\n",
      "|#UniDeVerano          |32   |\n",
      "|#VotaPP               |28   |\n",
      "|#Ciencia              |23   |\n",
      "|#GobernarParaLaMayoría|20   |\n",
      "|#FelizMiercoles       |19   |\n",
      "+----------------------+-----+\n",
      "\n"
     ]
    },
    {
     "name": "stderr",
     "output_type": "stream",
     "text": [
      "                                                                                \r"
     ]
    },
    {
     "name": "stdout",
     "output_type": "stream",
     "text": [
      "-------------------------------------------\n",
      "Batch: 252\n",
      "-------------------------------------------\n",
      "+----------------------+-----+\n",
      "|word                  |count|\n",
      "+----------------------+-----+\n",
      "|#UAM                  |51   |\n",
      "|#ForoCambio11J        |43   |\n",
      "|#Apple                |43   |\n",
      "|#TuitUtil             |34   |\n",
      "|#TrabajarHacerCrecer  |34   |\n",
      "|#UniDeVerano          |32   |\n",
      "|#VotaPP               |28   |\n",
      "|#Ciencia              |23   |\n",
      "|#GobernarParaLaMayoría|20   |\n",
      "|#RdPPodemos           |20   |\n",
      "+----------------------+-----+\n",
      "\n"
     ]
    },
    {
     "name": "stderr",
     "output_type": "stream",
     "text": [
      "                                                                                \r"
     ]
    },
    {
     "name": "stdout",
     "output_type": "stream",
     "text": [
      "-------------------------------------------\n",
      "Batch: 253\n",
      "-------------------------------------------\n",
      "+----------------------+-----+\n",
      "|word                  |count|\n",
      "+----------------------+-----+\n",
      "|#UAM                  |51   |\n",
      "|#ForoCambio11J        |43   |\n",
      "|#Apple                |43   |\n",
      "|#TuitUtil             |34   |\n",
      "|#TrabajarHacerCrecer  |34   |\n",
      "|#UniDeVerano          |32   |\n",
      "|#VotaPP               |28   |\n",
      "|#Ciencia              |23   |\n",
      "|#GobernarParaLaMayoría|20   |\n",
      "|#RdPPodemos           |20   |\n",
      "+----------------------+-----+\n",
      "\n"
     ]
    },
    {
     "name": "stderr",
     "output_type": "stream",
     "text": [
      "                                                                                \r"
     ]
    },
    {
     "name": "stdout",
     "output_type": "stream",
     "text": [
      "-------------------------------------------\n",
      "Batch: 254\n",
      "-------------------------------------------\n",
      "+----------------------+-----+\n",
      "|word                  |count|\n",
      "+----------------------+-----+\n",
      "|#UAM                  |51   |\n",
      "|#ForoCambio11J        |43   |\n",
      "|#Apple                |43   |\n",
      "|#TuitUtil             |34   |\n",
      "|#TrabajarHacerCrecer  |34   |\n",
      "|#UniDeVerano          |32   |\n",
      "|#VotaPP               |28   |\n",
      "|#Ciencia              |24   |\n",
      "|#GobernarParaLaMayoría|20   |\n",
      "|#RdPPodemos           |20   |\n",
      "+----------------------+-----+\n",
      "\n"
     ]
    },
    {
     "name": "stderr",
     "output_type": "stream",
     "text": [
      "                                                                                \r"
     ]
    },
    {
     "name": "stdout",
     "output_type": "stream",
     "text": [
      "-------------------------------------------\n",
      "Batch: 255\n",
      "-------------------------------------------\n",
      "+----------------------+-----+\n",
      "|word                  |count|\n",
      "+----------------------+-----+\n",
      "|#UAM                  |53   |\n",
      "|#ForoCambio11J        |44   |\n",
      "|#Apple                |44   |\n",
      "|#TuitUtil             |34   |\n",
      "|#TrabajarHacerCrecer  |34   |\n",
      "|#UniDeVerano          |32   |\n",
      "|#VotaPP               |28   |\n",
      "|#Ciencia              |24   |\n",
      "|#GobernarParaLaMayoría|20   |\n",
      "|#RdPPodemos           |20   |\n",
      "+----------------------+-----+\n",
      "\n"
     ]
    },
    {
     "name": "stderr",
     "output_type": "stream",
     "text": [
      "                                                                                \r"
     ]
    },
    {
     "name": "stdout",
     "output_type": "stream",
     "text": [
      "-------------------------------------------\n",
      "Batch: 256\n",
      "-------------------------------------------\n",
      "+----------------------+-----+\n",
      "|word                  |count|\n",
      "+----------------------+-----+\n",
      "|#UAM                  |54   |\n",
      "|#Apple                |45   |\n",
      "|#ForoCambio11J        |44   |\n",
      "|#TuitUtil             |34   |\n",
      "|#TrabajarHacerCrecer  |34   |\n",
      "|#UniDeVerano          |32   |\n",
      "|#VotaPP               |28   |\n",
      "|#Ciencia              |24   |\n",
      "|#RdPPodemos           |20   |\n",
      "|#GobernarParaLaMayoría|20   |\n",
      "+----------------------+-----+\n",
      "\n"
     ]
    },
    {
     "name": "stderr",
     "output_type": "stream",
     "text": [
      "                                                                                \r"
     ]
    },
    {
     "name": "stdout",
     "output_type": "stream",
     "text": [
      "-------------------------------------------\n",
      "Batch: 257\n",
      "-------------------------------------------\n",
      "+----------------------+-----+\n",
      "|word                  |count|\n",
      "+----------------------+-----+\n",
      "|#UAM                  |55   |\n",
      "|#Apple                |45   |\n",
      "|#ForoCambio11J        |44   |\n",
      "|#TuitUtil             |35   |\n",
      "|#TrabajarHacerCrecer  |35   |\n",
      "|#UniDeVerano          |32   |\n",
      "|#VotaPP               |29   |\n",
      "|#Ciencia              |24   |\n",
      "|#RdPPodemos           |20   |\n",
      "|#GobernarParaLaMayoría|20   |\n",
      "+----------------------+-----+\n",
      "\n"
     ]
    },
    {
     "name": "stderr",
     "output_type": "stream",
     "text": [
      "                                                                                \r"
     ]
    },
    {
     "name": "stdout",
     "output_type": "stream",
     "text": [
      "-------------------------------------------\n",
      "Batch: 258\n",
      "-------------------------------------------\n",
      "+----------------------+-----+\n",
      "|word                  |count|\n",
      "+----------------------+-----+\n",
      "|#UAM                  |55   |\n",
      "|#ForoCambio11J        |45   |\n",
      "|#Apple                |45   |\n",
      "|#TuitUtil             |35   |\n",
      "|#TrabajarHacerCrecer  |35   |\n",
      "|#UniDeVerano          |32   |\n",
      "|#VotaPP               |29   |\n",
      "|#Ciencia              |24   |\n",
      "|#GobernarParaLaMayoría|20   |\n",
      "|#RdPPodemos           |20   |\n",
      "+----------------------+-----+\n",
      "\n"
     ]
    },
    {
     "name": "stderr",
     "output_type": "stream",
     "text": [
      "                                                                                \r"
     ]
    },
    {
     "name": "stdout",
     "output_type": "stream",
     "text": [
      "-------------------------------------------\n",
      "Batch: 259\n",
      "-------------------------------------------\n",
      "+----------------------+-----+\n",
      "|word                  |count|\n",
      "+----------------------+-----+\n",
      "|#UAM                  |55   |\n",
      "|#ForoCambio11J        |46   |\n",
      "|#Apple                |45   |\n",
      "|#TuitUtil             |36   |\n",
      "|#TrabajarHacerCrecer  |35   |\n",
      "|#UniDeVerano          |32   |\n",
      "|#VotaPP               |29   |\n",
      "|#Ciencia              |24   |\n",
      "|#GobernarParaLaMayoría|20   |\n",
      "|#RdPPodemos           |20   |\n",
      "+----------------------+-----+\n",
      "\n"
     ]
    },
    {
     "name": "stderr",
     "output_type": "stream",
     "text": [
      "                                                                                \r"
     ]
    },
    {
     "name": "stdout",
     "output_type": "stream",
     "text": [
      "-------------------------------------------\n",
      "Batch: 260\n",
      "-------------------------------------------\n",
      "+----------------------+-----+\n",
      "|word                  |count|\n",
      "+----------------------+-----+\n",
      "|#UAM                  |55   |\n",
      "|#ForoCambio11J        |46   |\n",
      "|#Apple                |45   |\n",
      "|#TuitUtil             |36   |\n",
      "|#TrabajarHacerCrecer  |35   |\n",
      "|#UniDeVerano          |32   |\n",
      "|#VotaPP               |29   |\n",
      "|#Ciencia              |24   |\n",
      "|#RdPPodemos           |21   |\n",
      "|#GobernarParaLaMayoría|20   |\n",
      "+----------------------+-----+\n",
      "\n"
     ]
    },
    {
     "name": "stderr",
     "output_type": "stream",
     "text": [
      "                                                                                \r"
     ]
    },
    {
     "name": "stdout",
     "output_type": "stream",
     "text": [
      "-------------------------------------------\n",
      "Batch: 261\n",
      "-------------------------------------------\n",
      "+----------------------+-----+\n",
      "|word                  |count|\n",
      "+----------------------+-----+\n",
      "|#UAM                  |55   |\n",
      "|#ForoCambio11J        |47   |\n",
      "|#Apple                |45   |\n",
      "|#TuitUtil             |36   |\n",
      "|#TrabajarHacerCrecer  |36   |\n",
      "|#UniDeVerano          |32   |\n",
      "|#VotaPP               |31   |\n",
      "|#Ciencia              |24   |\n",
      "|#RdPPodemos           |21   |\n",
      "|#GobernarParaLaMayoría|21   |\n",
      "+----------------------+-----+\n",
      "\n"
     ]
    },
    {
     "name": "stderr",
     "output_type": "stream",
     "text": [
      "                                                                                \r"
     ]
    },
    {
     "name": "stdout",
     "output_type": "stream",
     "text": [
      "-------------------------------------------\n",
      "Batch: 262\n",
      "-------------------------------------------\n",
      "+----------------------+-----+\n",
      "|word                  |count|\n",
      "+----------------------+-----+\n",
      "|#UAM                  |55   |\n",
      "|#ForoCambio11J        |47   |\n",
      "|#Apple                |45   |\n",
      "|#TuitUtil             |37   |\n",
      "|#TrabajarHacerCrecer  |36   |\n",
      "|#UniDeVerano          |32   |\n",
      "|#VotaPP               |31   |\n",
      "|#Ciencia              |25   |\n",
      "|#RdPPodemos           |21   |\n",
      "|#GobernarParaLaMayoría|21   |\n",
      "+----------------------+-----+\n",
      "\n"
     ]
    },
    {
     "name": "stderr",
     "output_type": "stream",
     "text": [
      "                                                                                \r"
     ]
    },
    {
     "name": "stdout",
     "output_type": "stream",
     "text": [
      "-------------------------------------------\n",
      "Batch: 263\n",
      "-------------------------------------------\n",
      "+----------------------+-----+\n",
      "|word                  |count|\n",
      "+----------------------+-----+\n",
      "|#UAM                  |55   |\n",
      "|#ForoCambio11J        |47   |\n",
      "|#Apple                |45   |\n",
      "|#TuitUtil             |37   |\n",
      "|#TrabajarHacerCrecer  |36   |\n",
      "|#UniDeVerano          |33   |\n",
      "|#VotaPP               |31   |\n",
      "|#Ciencia              |25   |\n",
      "|#RdPPodemos           |21   |\n",
      "|#GobernarParaLaMayoría|21   |\n",
      "+----------------------+-----+\n",
      "\n"
     ]
    },
    {
     "name": "stderr",
     "output_type": "stream",
     "text": [
      "                                                                                \r"
     ]
    },
    {
     "name": "stdout",
     "output_type": "stream",
     "text": [
      "-------------------------------------------\n",
      "Batch: 264\n",
      "-------------------------------------------\n",
      "+----------------------+-----+\n",
      "|word                  |count|\n",
      "+----------------------+-----+\n",
      "|#UAM                  |56   |\n",
      "|#ForoCambio11J        |47   |\n",
      "|#Apple                |45   |\n",
      "|#TuitUtil             |37   |\n",
      "|#TrabajarHacerCrecer  |36   |\n",
      "|#UniDeVerano          |34   |\n",
      "|#VotaPP               |31   |\n",
      "|#Ciencia              |25   |\n",
      "|#RdPPodemos           |21   |\n",
      "|#GobernarParaLaMayoría|21   |\n",
      "+----------------------+-----+\n",
      "\n"
     ]
    },
    {
     "name": "stderr",
     "output_type": "stream",
     "text": [
      "                                                                                \r"
     ]
    },
    {
     "name": "stdout",
     "output_type": "stream",
     "text": [
      "-------------------------------------------\n",
      "Batch: 265\n",
      "-------------------------------------------\n",
      "+----------------------+-----+\n",
      "|word                  |count|\n",
      "+----------------------+-----+\n",
      "|#UAM                  |56   |\n",
      "|#ForoCambio11J        |47   |\n",
      "|#Apple                |46   |\n",
      "|#TuitUtil             |38   |\n",
      "|#TrabajarHacerCrecer  |36   |\n",
      "|#UniDeVerano          |35   |\n",
      "|#VotaPP               |32   |\n",
      "|#Ciencia              |26   |\n",
      "|#RdPPodemos           |21   |\n",
      "|#GobernarParaLaMayoría|21   |\n",
      "+----------------------+-----+\n",
      "\n"
     ]
    },
    {
     "name": "stderr",
     "output_type": "stream",
     "text": [
      "                                                                                \r"
     ]
    },
    {
     "name": "stdout",
     "output_type": "stream",
     "text": [
      "-------------------------------------------\n",
      "Batch: 266\n",
      "-------------------------------------------\n",
      "+----------------------+-----+\n",
      "|word                  |count|\n",
      "+----------------------+-----+\n",
      "|#UAM                  |56   |\n",
      "|#ForoCambio11J        |47   |\n",
      "|#Apple                |46   |\n",
      "|#TuitUtil             |38   |\n",
      "|#TrabajarHacerCrecer  |36   |\n",
      "|#UniDeVerano          |35   |\n",
      "|#VotaPP               |32   |\n",
      "|#Ciencia              |27   |\n",
      "|#RdPPodemos           |21   |\n",
      "|#GobernarParaLaMayoría|21   |\n",
      "+----------------------+-----+\n",
      "\n"
     ]
    },
    {
     "name": "stderr",
     "output_type": "stream",
     "text": [
      "                                                                                \r"
     ]
    },
    {
     "name": "stdout",
     "output_type": "stream",
     "text": [
      "-------------------------------------------\n",
      "Batch: 267\n",
      "-------------------------------------------\n",
      "+----------------------+-----+\n",
      "|word                  |count|\n",
      "+----------------------+-----+\n",
      "|#UAM                  |56   |\n",
      "|#ForoCambio11J        |48   |\n",
      "|#Apple                |46   |\n",
      "|#TuitUtil             |38   |\n",
      "|#TrabajarHacerCrecer  |36   |\n",
      "|#UniDeVerano          |35   |\n",
      "|#VotaPP               |32   |\n",
      "|#Ciencia              |27   |\n",
      "|#RdPPodemos           |21   |\n",
      "|#GobernarParaLaMayoría|21   |\n",
      "+----------------------+-----+\n",
      "\n"
     ]
    },
    {
     "name": "stderr",
     "output_type": "stream",
     "text": [
      "                                                                                \r"
     ]
    },
    {
     "name": "stdout",
     "output_type": "stream",
     "text": [
      "-------------------------------------------\n",
      "Batch: 268\n",
      "-------------------------------------------\n",
      "+----------------------+-----+\n",
      "|word                  |count|\n",
      "+----------------------+-----+\n",
      "|#UAM                  |56   |\n",
      "|#ForoCambio11J        |48   |\n",
      "|#Apple                |46   |\n",
      "|#TuitUtil             |38   |\n",
      "|#TrabajarHacerCrecer  |36   |\n",
      "|#UniDeVerano          |35   |\n",
      "|#VotaPP               |32   |\n",
      "|#Ciencia              |27   |\n",
      "|#GobernarParaLaMayoría|21   |\n",
      "|#RdPPodemos           |21   |\n",
      "+----------------------+-----+\n",
      "\n"
     ]
    },
    {
     "name": "stderr",
     "output_type": "stream",
     "text": [
      "                                                                                \r"
     ]
    },
    {
     "name": "stdout",
     "output_type": "stream",
     "text": [
      "-------------------------------------------\n",
      "Batch: 269\n",
      "-------------------------------------------\n",
      "+----------------------+-----+\n",
      "|word                  |count|\n",
      "+----------------------+-----+\n",
      "|#UAM                  |56   |\n",
      "|#ForoCambio11J        |48   |\n",
      "|#Apple                |46   |\n",
      "|#TuitUtil             |38   |\n",
      "|#TrabajarHacerCrecer  |36   |\n",
      "|#UniDeVerano          |35   |\n",
      "|#VotaPP               |32   |\n",
      "|#Ciencia              |28   |\n",
      "|#RdPPodemos           |21   |\n",
      "|#GobernarParaLaMayoría|21   |\n",
      "+----------------------+-----+\n",
      "\n"
     ]
    },
    {
     "name": "stderr",
     "output_type": "stream",
     "text": [
      "                                                                                \r"
     ]
    },
    {
     "name": "stdout",
     "output_type": "stream",
     "text": [
      "-------------------------------------------\n",
      "Batch: 270\n",
      "-------------------------------------------\n",
      "+----------------------+-----+\n",
      "|word                  |count|\n",
      "+----------------------+-----+\n",
      "|#UAM                  |56   |\n",
      "|#ForoCambio11J        |48   |\n",
      "|#Apple                |46   |\n",
      "|#TuitUtil             |38   |\n",
      "|#TrabajarHacerCrecer  |36   |\n",
      "|#UniDeVerano          |35   |\n",
      "|#VotaPP               |32   |\n",
      "|#Ciencia              |28   |\n",
      "|#RdPPodemos           |21   |\n",
      "|#GobernarParaLaMayoría|21   |\n",
      "+----------------------+-----+\n",
      "\n"
     ]
    },
    {
     "name": "stderr",
     "output_type": "stream",
     "text": [
      "                                                                                \r"
     ]
    },
    {
     "name": "stdout",
     "output_type": "stream",
     "text": [
      "-------------------------------------------\n",
      "Batch: 271\n",
      "-------------------------------------------\n",
      "+----------------------+-----+\n",
      "|word                  |count|\n",
      "+----------------------+-----+\n",
      "|#UAM                  |57   |\n",
      "|#ForoCambio11J        |48   |\n",
      "|#Apple                |46   |\n",
      "|#TuitUtil             |38   |\n",
      "|#TrabajarHacerCrecer  |36   |\n",
      "|#UniDeVerano          |35   |\n",
      "|#VotaPP               |32   |\n",
      "|#Ciencia              |28   |\n",
      "|#RdPPodemos           |21   |\n",
      "|#GobernarParaLaMayoría|21   |\n",
      "+----------------------+-----+\n",
      "\n"
     ]
    },
    {
     "name": "stderr",
     "output_type": "stream",
     "text": [
      "                                                                                \r"
     ]
    },
    {
     "name": "stdout",
     "output_type": "stream",
     "text": [
      "-------------------------------------------\n",
      "Batch: 272\n",
      "-------------------------------------------\n",
      "+----------------------+-----+\n",
      "|word                  |count|\n",
      "+----------------------+-----+\n",
      "|#UAM                  |57   |\n",
      "|#ForoCambio11J        |48   |\n",
      "|#Apple                |46   |\n",
      "|#TuitUtil             |38   |\n",
      "|#TrabajarHacerCrecer  |36   |\n",
      "|#UniDeVerano          |35   |\n",
      "|#VotaPP               |33   |\n",
      "|#Ciencia              |28   |\n",
      "|#RdPPodemos           |21   |\n",
      "|#GobernarParaLaMayoría|21   |\n",
      "+----------------------+-----+\n",
      "\n"
     ]
    },
    {
     "name": "stderr",
     "output_type": "stream",
     "text": [
      "                                                                                \r"
     ]
    },
    {
     "name": "stdout",
     "output_type": "stream",
     "text": [
      "-------------------------------------------\n",
      "Batch: 273\n",
      "-------------------------------------------\n",
      "+----------------------+-----+\n",
      "|word                  |count|\n",
      "+----------------------+-----+\n",
      "|#UAM                  |57   |\n",
      "|#ForoCambio11J        |48   |\n",
      "|#Apple                |46   |\n",
      "|#TuitUtil             |39   |\n",
      "|#UniDeVerano          |36   |\n",
      "|#TrabajarHacerCrecer  |36   |\n",
      "|#VotaPP               |34   |\n",
      "|#Ciencia              |28   |\n",
      "|#RdPPodemos           |21   |\n",
      "|#GobernarParaLaMayoría|21   |\n",
      "+----------------------+-----+\n",
      "\n"
     ]
    },
    {
     "name": "stderr",
     "output_type": "stream",
     "text": [
      "                                                                                \r"
     ]
    },
    {
     "name": "stdout",
     "output_type": "stream",
     "text": [
      "-------------------------------------------\n",
      "Batch: 274\n",
      "-------------------------------------------\n",
      "+----------------------+-----+\n",
      "|word                  |count|\n",
      "+----------------------+-----+\n",
      "|#UAM                  |58   |\n",
      "|#ForoCambio11J        |48   |\n",
      "|#Apple                |46   |\n",
      "|#TuitUtil             |39   |\n",
      "|#UniDeVerano          |36   |\n",
      "|#TrabajarHacerCrecer  |36   |\n",
      "|#VotaPP               |34   |\n",
      "|#Ciencia              |28   |\n",
      "|#RdPPodemos           |21   |\n",
      "|#GobernarParaLaMayoría|21   |\n",
      "+----------------------+-----+\n",
      "\n"
     ]
    },
    {
     "name": "stderr",
     "output_type": "stream",
     "text": [
      "[Stage 826:==================================================>  (191 + 8) / 200]\r"
     ]
    },
    {
     "name": "stdout",
     "output_type": "stream",
     "text": [
      "-------------------------------------------\n",
      "Batch: 275\n",
      "-------------------------------------------\n",
      "+----------------------+-----+\n",
      "|word                  |count|\n",
      "+----------------------+-----+\n",
      "|#UAM                  |58   |\n",
      "|#ForoCambio11J        |48   |\n",
      "|#Apple                |46   |\n",
      "|#TuitUtil             |39   |\n",
      "|#UniDeVerano          |36   |\n",
      "|#TrabajarHacerCrecer  |36   |\n",
      "|#VotaPP               |34   |\n",
      "|#Ciencia              |28   |\n",
      "|#RdPPodemos           |21   |\n",
      "|#GobernarParaLaMayoría|21   |\n",
      "+----------------------+-----+\n",
      "\n"
     ]
    },
    {
     "name": "stderr",
     "output_type": "stream",
     "text": [
      "                                                                                \r"
     ]
    },
    {
     "name": "stdout",
     "output_type": "stream",
     "text": [
      "-------------------------------------------\n",
      "Batch: 276\n",
      "-------------------------------------------\n",
      "+----------------------+-----+\n",
      "|word                  |count|\n",
      "+----------------------+-----+\n",
      "|#UAM                  |58   |\n",
      "|#ForoCambio11J        |49   |\n",
      "|#Apple                |46   |\n",
      "|#TuitUtil             |39   |\n",
      "|#UniDeVerano          |36   |\n",
      "|#TrabajarHacerCrecer  |36   |\n",
      "|#VotaPP               |34   |\n",
      "|#Ciencia              |28   |\n",
      "|#RdPPodemos           |21   |\n",
      "|#GobernarParaLaMayoría|21   |\n",
      "+----------------------+-----+\n",
      "\n"
     ]
    },
    {
     "name": "stderr",
     "output_type": "stream",
     "text": [
      "                                                                                \r"
     ]
    },
    {
     "name": "stdout",
     "output_type": "stream",
     "text": [
      "-------------------------------------------\n",
      "Batch: 277\n",
      "-------------------------------------------\n",
      "+----------------------+-----+\n",
      "|word                  |count|\n",
      "+----------------------+-----+\n",
      "|#UAM                  |58   |\n",
      "|#ForoCambio11J        |50   |\n",
      "|#Apple                |46   |\n",
      "|#TuitUtil             |39   |\n",
      "|#UniDeVerano          |37   |\n",
      "|#TrabajarHacerCrecer  |36   |\n",
      "|#VotaPP               |34   |\n",
      "|#Ciencia              |28   |\n",
      "|#RdPPodemos           |21   |\n",
      "|#GobernarParaLaMayoría|21   |\n",
      "+----------------------+-----+\n",
      "\n"
     ]
    },
    {
     "name": "stderr",
     "output_type": "stream",
     "text": [
      "                                                                                \r"
     ]
    },
    {
     "name": "stdout",
     "output_type": "stream",
     "text": [
      "-------------------------------------------\n",
      "Batch: 278\n",
      "-------------------------------------------\n",
      "+----------------------+-----+\n",
      "|word                  |count|\n",
      "+----------------------+-----+\n",
      "|#UAM                  |58   |\n",
      "|#ForoCambio11J        |51   |\n",
      "|#Apple                |46   |\n",
      "|#TuitUtil             |39   |\n",
      "|#UniDeVerano          |37   |\n",
      "|#TrabajarHacerCrecer  |36   |\n",
      "|#VotaPP               |34   |\n",
      "|#Ciencia              |28   |\n",
      "|#RdPPodemos           |21   |\n",
      "|#GobernarParaLaMayoría|21   |\n",
      "+----------------------+-----+\n",
      "\n"
     ]
    },
    {
     "name": "stderr",
     "output_type": "stream",
     "text": [
      "                                                                                \r"
     ]
    },
    {
     "name": "stdout",
     "output_type": "stream",
     "text": [
      "-------------------------------------------\n",
      "Batch: 279\n",
      "-------------------------------------------\n",
      "+----------------------+-----+\n",
      "|word                  |count|\n",
      "+----------------------+-----+\n",
      "|#UAM                  |58   |\n",
      "|#ForoCambio11J        |52   |\n",
      "|#Apple                |46   |\n",
      "|#TuitUtil             |39   |\n",
      "|#UniDeVerano          |37   |\n",
      "|#TrabajarHacerCrecer  |36   |\n",
      "|#VotaPP               |34   |\n",
      "|#Ciencia              |28   |\n",
      "|#RdPPodemos           |21   |\n",
      "|#GobernarParaLaMayoría|21   |\n",
      "+----------------------+-----+\n",
      "\n"
     ]
    },
    {
     "name": "stderr",
     "output_type": "stream",
     "text": [
      "                                                                                \r"
     ]
    },
    {
     "name": "stdout",
     "output_type": "stream",
     "text": [
      "-------------------------------------------\n",
      "Batch: 280\n",
      "-------------------------------------------\n",
      "+----------------------+-----+\n",
      "|word                  |count|\n",
      "+----------------------+-----+\n",
      "|#UAM                  |58   |\n",
      "|#ForoCambio11J        |52   |\n",
      "|#Apple                |46   |\n",
      "|#TuitUtil             |39   |\n",
      "|#UniDeVerano          |37   |\n",
      "|#TrabajarHacerCrecer  |36   |\n",
      "|#VotaPP               |34   |\n",
      "|#Ciencia              |28   |\n",
      "|#RdPPodemos           |21   |\n",
      "|#GobernarParaLaMayoría|21   |\n",
      "+----------------------+-----+\n",
      "\n"
     ]
    },
    {
     "name": "stderr",
     "output_type": "stream",
     "text": [
      "                                                                                \r"
     ]
    },
    {
     "name": "stdout",
     "output_type": "stream",
     "text": [
      "-------------------------------------------\n",
      "Batch: 281\n",
      "-------------------------------------------\n",
      "+--------------------+-----+\n",
      "|word                |count|\n",
      "+--------------------+-----+\n",
      "|#UAM                |58   |\n",
      "|#ForoCambio11J      |52   |\n",
      "|#Apple              |46   |\n",
      "|#TuitUtil           |39   |\n",
      "|#UniDeVerano        |37   |\n",
      "|#TrabajarHacerCrecer|36   |\n",
      "|#VotaPP             |34   |\n",
      "|#Ciencia            |28   |\n",
      "|#RdPPodemos         |21   |\n",
      "|#FelizMiercoles     |21   |\n",
      "+--------------------+-----+\n",
      "\n"
     ]
    },
    {
     "name": "stderr",
     "output_type": "stream",
     "text": [
      "                                                                                \r"
     ]
    },
    {
     "name": "stdout",
     "output_type": "stream",
     "text": [
      "-------------------------------------------\n",
      "Batch: 282\n",
      "-------------------------------------------\n",
      "+--------------------+-----+\n",
      "|word                |count|\n",
      "+--------------------+-----+\n",
      "|#UAM                |58   |\n",
      "|#ForoCambio11J      |52   |\n",
      "|#Apple              |46   |\n",
      "|#TuitUtil           |39   |\n",
      "|#UniDeVerano        |37   |\n",
      "|#TrabajarHacerCrecer|37   |\n",
      "|#VotaPP             |35   |\n",
      "|#Ciencia            |28   |\n",
      "|#RdPPodemos         |21   |\n",
      "|#FelizMiercoles     |21   |\n",
      "+--------------------+-----+\n",
      "\n"
     ]
    },
    {
     "name": "stderr",
     "output_type": "stream",
     "text": [
      "                                                                                \r"
     ]
    },
    {
     "name": "stdout",
     "output_type": "stream",
     "text": [
      "-------------------------------------------\n",
      "Batch: 283\n",
      "-------------------------------------------\n",
      "+--------------------+-----+\n",
      "|word                |count|\n",
      "+--------------------+-----+\n",
      "|#UAM                |58   |\n",
      "|#ForoCambio11J      |52   |\n",
      "|#Apple              |46   |\n",
      "|#TuitUtil           |39   |\n",
      "|#UniDeVerano        |37   |\n",
      "|#TrabajarHacerCrecer|37   |\n",
      "|#VotaPP             |35   |\n",
      "|#Ciencia            |28   |\n",
      "|#RdPPodemos         |21   |\n",
      "|#FelizMiercoles     |21   |\n",
      "+--------------------+-----+\n",
      "\n"
     ]
    },
    {
     "name": "stderr",
     "output_type": "stream",
     "text": [
      "                                                                                \r"
     ]
    },
    {
     "name": "stdout",
     "output_type": "stream",
     "text": [
      "-------------------------------------------\n",
      "Batch: 284\n",
      "-------------------------------------------\n",
      "+--------------------+-----+\n",
      "|word                |count|\n",
      "+--------------------+-----+\n",
      "|#UAM                |58   |\n",
      "|#ForoCambio11J      |53   |\n",
      "|#Apple              |46   |\n",
      "|#TuitUtil           |39   |\n",
      "|#UniDeVerano        |37   |\n",
      "|#TrabajarHacerCrecer|37   |\n",
      "|#VotaPP             |35   |\n",
      "|#Ciencia            |28   |\n",
      "|#RdPPodemos         |21   |\n",
      "|#FelizMiercoles     |21   |\n",
      "+--------------------+-----+\n",
      "\n"
     ]
    },
    {
     "name": "stderr",
     "output_type": "stream",
     "text": [
      "                                                                                \r"
     ]
    },
    {
     "name": "stdout",
     "output_type": "stream",
     "text": [
      "-------------------------------------------\n",
      "Batch: 285\n",
      "-------------------------------------------\n",
      "+--------------------+-----+\n",
      "|word                |count|\n",
      "+--------------------+-----+\n",
      "|#UAM                |58   |\n",
      "|#ForoCambio11J      |53   |\n",
      "|#Apple              |47   |\n",
      "|#TuitUtil           |39   |\n",
      "|#TrabajarHacerCrecer|38   |\n",
      "|#UniDeVerano        |37   |\n",
      "|#VotaPP             |35   |\n",
      "|#Ciencia            |28   |\n",
      "|#RdPPodemos         |21   |\n",
      "|#FelizMiercoles     |21   |\n",
      "+--------------------+-----+\n",
      "\n"
     ]
    },
    {
     "name": "stderr",
     "output_type": "stream",
     "text": [
      "                                                                                \r"
     ]
    },
    {
     "name": "stdout",
     "output_type": "stream",
     "text": [
      "-------------------------------------------\n",
      "Batch: 286\n",
      "-------------------------------------------\n",
      "+--------------------+-----+\n",
      "|word                |count|\n",
      "+--------------------+-----+\n",
      "|#UAM                |59   |\n",
      "|#ForoCambio11J      |53   |\n",
      "|#Apple              |47   |\n",
      "|#TuitUtil           |39   |\n",
      "|#TrabajarHacerCrecer|38   |\n",
      "|#UniDeVerano        |37   |\n",
      "|#VotaPP             |35   |\n",
      "|#Ciencia            |28   |\n",
      "|#RdPPodemos         |21   |\n",
      "|#FelizMiercoles     |21   |\n",
      "+--------------------+-----+\n",
      "\n"
     ]
    },
    {
     "name": "stderr",
     "output_type": "stream",
     "text": [
      "                                                                                \r"
     ]
    },
    {
     "name": "stdout",
     "output_type": "stream",
     "text": [
      "-------------------------------------------\n",
      "Batch: 287\n",
      "-------------------------------------------\n",
      "+--------------------+-----+\n",
      "|word                |count|\n",
      "+--------------------+-----+\n",
      "|#UAM                |59   |\n",
      "|#ForoCambio11J      |54   |\n",
      "|#Apple              |47   |\n",
      "|#TuitUtil           |39   |\n",
      "|#TrabajarHacerCrecer|38   |\n",
      "|#UniDeVerano        |37   |\n",
      "|#VotaPP             |35   |\n",
      "|#Ciencia            |28   |\n",
      "|#RdPPodemos         |21   |\n",
      "|#FelizMiercoles     |21   |\n",
      "+--------------------+-----+\n",
      "\n"
     ]
    },
    {
     "name": "stderr",
     "output_type": "stream",
     "text": [
      "                                                                                \r"
     ]
    },
    {
     "name": "stdout",
     "output_type": "stream",
     "text": [
      "-------------------------------------------\n",
      "Batch: 288\n",
      "-------------------------------------------\n",
      "+--------------------+-----+\n",
      "|word                |count|\n",
      "+--------------------+-----+\n",
      "|#UAM                |59   |\n",
      "|#ForoCambio11J      |55   |\n",
      "|#Apple              |47   |\n",
      "|#TuitUtil           |40   |\n",
      "|#TrabajarHacerCrecer|38   |\n",
      "|#UniDeVerano        |37   |\n",
      "|#VotaPP             |35   |\n",
      "|#Ciencia            |28   |\n",
      "|#RdPPodemos         |21   |\n",
      "|#FelizMiercoles     |21   |\n",
      "+--------------------+-----+\n",
      "\n"
     ]
    },
    {
     "name": "stderr",
     "output_type": "stream",
     "text": [
      "                                                                                \r"
     ]
    },
    {
     "name": "stdout",
     "output_type": "stream",
     "text": [
      "-------------------------------------------\n",
      "Batch: 289\n",
      "-------------------------------------------\n",
      "+--------------------+-----+\n",
      "|word                |count|\n",
      "+--------------------+-----+\n",
      "|#UAM                |60   |\n",
      "|#ForoCambio11J      |55   |\n",
      "|#Apple              |47   |\n",
      "|#TuitUtil           |40   |\n",
      "|#TrabajarHacerCrecer|38   |\n",
      "|#UniDeVerano        |37   |\n",
      "|#VotaPP             |36   |\n",
      "|#Ciencia            |28   |\n",
      "|#RdPPodemos         |21   |\n",
      "|#FelizMiercoles     |21   |\n",
      "+--------------------+-----+\n",
      "\n"
     ]
    },
    {
     "name": "stderr",
     "output_type": "stream",
     "text": [
      "                                                                                \r"
     ]
    },
    {
     "name": "stdout",
     "output_type": "stream",
     "text": [
      "-------------------------------------------\n",
      "Batch: 290\n",
      "-------------------------------------------\n",
      "+--------------------+-----+\n",
      "|word                |count|\n",
      "+--------------------+-----+\n",
      "|#UAM                |60   |\n",
      "|#ForoCambio11J      |55   |\n",
      "|#Apple              |47   |\n",
      "|#TuitUtil           |40   |\n",
      "|#TrabajarHacerCrecer|38   |\n",
      "|#UniDeVerano        |37   |\n",
      "|#VotaPP             |36   |\n",
      "|#Ciencia            |28   |\n",
      "|#RdPPodemos         |21   |\n",
      "|#FelizMiercoles     |21   |\n",
      "+--------------------+-----+\n",
      "\n"
     ]
    },
    {
     "name": "stderr",
     "output_type": "stream",
     "text": [
      "                                                                                \r"
     ]
    },
    {
     "name": "stdout",
     "output_type": "stream",
     "text": [
      "-------------------------------------------\n",
      "Batch: 291\n",
      "-------------------------------------------\n",
      "+--------------------+-----+\n",
      "|word                |count|\n",
      "+--------------------+-----+\n",
      "|#UAM                |61   |\n",
      "|#ForoCambio11J      |55   |\n",
      "|#Apple              |47   |\n",
      "|#TuitUtil           |40   |\n",
      "|#TrabajarHacerCrecer|38   |\n",
      "|#UniDeVerano        |37   |\n",
      "|#VotaPP             |36   |\n",
      "|#Ciencia            |28   |\n",
      "|#RdPPodemos         |21   |\n",
      "|#FelizMiercoles     |21   |\n",
      "+--------------------+-----+\n",
      "\n"
     ]
    },
    {
     "name": "stderr",
     "output_type": "stream",
     "text": [
      "                                                                                \r"
     ]
    },
    {
     "name": "stdout",
     "output_type": "stream",
     "text": [
      "-------------------------------------------\n",
      "Batch: 292\n",
      "-------------------------------------------\n",
      "+--------------------+-----+\n",
      "|word                |count|\n",
      "+--------------------+-----+\n",
      "|#UAM                |62   |\n",
      "|#ForoCambio11J      |55   |\n",
      "|#Apple              |48   |\n",
      "|#TuitUtil           |41   |\n",
      "|#UniDeVerano        |38   |\n",
      "|#TrabajarHacerCrecer|38   |\n",
      "|#VotaPP             |36   |\n",
      "|#Ciencia            |28   |\n",
      "|#RdPPodemos         |21   |\n",
      "|#FelizMiercoles     |21   |\n",
      "+--------------------+-----+\n",
      "\n"
     ]
    },
    {
     "name": "stderr",
     "output_type": "stream",
     "text": [
      "                                                                                \r"
     ]
    },
    {
     "name": "stdout",
     "output_type": "stream",
     "text": [
      "-------------------------------------------\n",
      "Batch: 293\n",
      "-------------------------------------------\n",
      "+--------------------+-----+\n",
      "|word                |count|\n",
      "+--------------------+-----+\n",
      "|#UAM                |62   |\n",
      "|#ForoCambio11J      |55   |\n",
      "|#Apple              |48   |\n",
      "|#TuitUtil           |41   |\n",
      "|#TrabajarHacerCrecer|39   |\n",
      "|#UniDeVerano        |38   |\n",
      "|#VotaPP             |36   |\n",
      "|#Ciencia            |28   |\n",
      "|#RdPPodemos         |21   |\n",
      "|#FelizMiercoles     |21   |\n",
      "+--------------------+-----+\n",
      "\n"
     ]
    },
    {
     "name": "stderr",
     "output_type": "stream",
     "text": [
      "                                                                                \r"
     ]
    },
    {
     "name": "stdout",
     "output_type": "stream",
     "text": [
      "-------------------------------------------\n",
      "Batch: 294\n",
      "-------------------------------------------\n",
      "+--------------------+-----+\n",
      "|word                |count|\n",
      "+--------------------+-----+\n",
      "|#UAM                |62   |\n",
      "|#ForoCambio11J      |55   |\n",
      "|#Apple              |48   |\n",
      "|#TuitUtil           |41   |\n",
      "|#TrabajarHacerCrecer|40   |\n",
      "|#UniDeVerano        |38   |\n",
      "|#VotaPP             |36   |\n",
      "|#Ciencia            |30   |\n",
      "|#RdPPodemos         |21   |\n",
      "|#FelizMiercoles     |21   |\n",
      "+--------------------+-----+\n",
      "\n"
     ]
    },
    {
     "name": "stderr",
     "output_type": "stream",
     "text": [
      "                                                                                \r"
     ]
    },
    {
     "name": "stdout",
     "output_type": "stream",
     "text": [
      "-------------------------------------------\n",
      "Batch: 295\n",
      "-------------------------------------------\n",
      "+--------------------+-----+\n",
      "|word                |count|\n",
      "+--------------------+-----+\n",
      "|#UAM                |62   |\n",
      "|#ForoCambio11J      |55   |\n",
      "|#Apple              |48   |\n",
      "|#TuitUtil           |41   |\n",
      "|#TrabajarHacerCrecer|40   |\n",
      "|#UniDeVerano        |39   |\n",
      "|#VotaPP             |36   |\n",
      "|#Ciencia            |30   |\n",
      "|#RdPPodemos         |21   |\n",
      "|#FelizMiercoles     |21   |\n",
      "+--------------------+-----+\n",
      "\n"
     ]
    },
    {
     "name": "stderr",
     "output_type": "stream",
     "text": [
      "                                                                                \r"
     ]
    },
    {
     "name": "stdout",
     "output_type": "stream",
     "text": [
      "-------------------------------------------\n",
      "Batch: 296\n",
      "-------------------------------------------\n",
      "+--------------------+-----+\n",
      "|word                |count|\n",
      "+--------------------+-----+\n",
      "|#UAM                |63   |\n",
      "|#ForoCambio11J      |55   |\n",
      "|#Apple              |48   |\n",
      "|#TuitUtil           |41   |\n",
      "|#TrabajarHacerCrecer|40   |\n",
      "|#UniDeVerano        |39   |\n",
      "|#VotaPP             |36   |\n",
      "|#Ciencia            |30   |\n",
      "|#RdPPodemos         |22   |\n",
      "|#FelizMiercoles     |21   |\n",
      "+--------------------+-----+\n",
      "\n"
     ]
    },
    {
     "name": "stderr",
     "output_type": "stream",
     "text": [
      "                                                                                \r"
     ]
    },
    {
     "name": "stdout",
     "output_type": "stream",
     "text": [
      "-------------------------------------------\n",
      "Batch: 297\n",
      "-------------------------------------------\n",
      "+--------------------+-----+\n",
      "|word                |count|\n",
      "+--------------------+-----+\n",
      "|#UAM                |63   |\n",
      "|#ForoCambio11J      |55   |\n",
      "|#Apple              |48   |\n",
      "|#TuitUtil           |41   |\n",
      "|#TrabajarHacerCrecer|40   |\n",
      "|#UniDeVerano        |39   |\n",
      "|#VotaPP             |36   |\n",
      "|#Ciencia            |30   |\n",
      "|#RdPPodemos         |22   |\n",
      "|#FelizMiercoles     |21   |\n",
      "+--------------------+-----+\n",
      "\n"
     ]
    },
    {
     "name": "stderr",
     "output_type": "stream",
     "text": [
      "                                                                                \r"
     ]
    },
    {
     "name": "stdout",
     "output_type": "stream",
     "text": [
      "-------------------------------------------\n",
      "Batch: 298\n",
      "-------------------------------------------\n",
      "+--------------------+-----+\n",
      "|word                |count|\n",
      "+--------------------+-----+\n",
      "|#UAM                |63   |\n",
      "|#ForoCambio11J      |56   |\n",
      "|#Apple              |48   |\n",
      "|#TuitUtil           |41   |\n",
      "|#TrabajarHacerCrecer|40   |\n",
      "|#UniDeVerano        |39   |\n",
      "|#VotaPP             |37   |\n",
      "|#Ciencia            |30   |\n",
      "|#RdPPodemos         |22   |\n",
      "|#FelizMiercoles     |21   |\n",
      "+--------------------+-----+\n",
      "\n"
     ]
    },
    {
     "name": "stderr",
     "output_type": "stream",
     "text": [
      "                                                                                \r"
     ]
    },
    {
     "name": "stdout",
     "output_type": "stream",
     "text": [
      "-------------------------------------------\n",
      "Batch: 299\n",
      "-------------------------------------------\n",
      "+----------------------+-----+\n",
      "|word                  |count|\n",
      "+----------------------+-----+\n",
      "|#UAM                  |63   |\n",
      "|#ForoCambio11J        |56   |\n",
      "|#Apple                |48   |\n",
      "|#TuitUtil             |41   |\n",
      "|#TrabajarHacerCrecer  |40   |\n",
      "|#UniDeVerano          |39   |\n",
      "|#VotaPP               |37   |\n",
      "|#Ciencia              |30   |\n",
      "|#RdPPodemos           |22   |\n",
      "|#GobernarParaLaMayoría|21   |\n",
      "+----------------------+-----+\n",
      "\n"
     ]
    },
    {
     "name": "stderr",
     "output_type": "stream",
     "text": [
      "                                                                                \r"
     ]
    },
    {
     "name": "stdout",
     "output_type": "stream",
     "text": [
      "-------------------------------------------\n",
      "Batch: 300\n",
      "-------------------------------------------\n",
      "+----------------------+-----+\n",
      "|word                  |count|\n",
      "+----------------------+-----+\n",
      "|#UAM                  |63   |\n",
      "|#ForoCambio11J        |56   |\n",
      "|#Apple                |48   |\n",
      "|#TuitUtil             |41   |\n",
      "|#TrabajarHacerCrecer  |40   |\n",
      "|#UniDeVerano          |39   |\n",
      "|#VotaPP               |37   |\n",
      "|#Ciencia              |30   |\n",
      "|#RdPPodemos           |22   |\n",
      "|#GobernarParaLaMayoría|21   |\n",
      "+----------------------+-----+\n",
      "\n"
     ]
    },
    {
     "name": "stderr",
     "output_type": "stream",
     "text": [
      "                                                                                \r"
     ]
    },
    {
     "name": "stdout",
     "output_type": "stream",
     "text": [
      "-------------------------------------------\n",
      "Batch: 301\n",
      "-------------------------------------------\n",
      "+----------------------+-----+\n",
      "|word                  |count|\n",
      "+----------------------+-----+\n",
      "|#UAM                  |63   |\n",
      "|#ForoCambio11J        |56   |\n",
      "|#Apple                |48   |\n",
      "|#TuitUtil             |41   |\n",
      "|#TrabajarHacerCrecer  |40   |\n",
      "|#UniDeVerano          |39   |\n",
      "|#VotaPP               |37   |\n",
      "|#Ciencia              |30   |\n",
      "|#RdPPodemos           |22   |\n",
      "|#GobernarParaLaMayoría|21   |\n",
      "+----------------------+-----+\n",
      "\n"
     ]
    },
    {
     "name": "stderr",
     "output_type": "stream",
     "text": [
      "                                                                                \r"
     ]
    },
    {
     "name": "stdout",
     "output_type": "stream",
     "text": [
      "-------------------------------------------\n",
      "Batch: 302\n",
      "-------------------------------------------\n",
      "+----------------------+-----+\n",
      "|word                  |count|\n",
      "+----------------------+-----+\n",
      "|#UAM                  |63   |\n",
      "|#ForoCambio11J        |56   |\n",
      "|#Apple                |48   |\n",
      "|#TuitUtil             |41   |\n",
      "|#UniDeVerano          |40   |\n",
      "|#TrabajarHacerCrecer  |40   |\n",
      "|#VotaPP               |37   |\n",
      "|#Ciencia              |30   |\n",
      "|#RdPPodemos           |22   |\n",
      "|#GobernarParaLaMayoría|22   |\n",
      "+----------------------+-----+\n",
      "\n"
     ]
    },
    {
     "name": "stderr",
     "output_type": "stream",
     "text": [
      "                                                                                \r"
     ]
    },
    {
     "name": "stdout",
     "output_type": "stream",
     "text": [
      "-------------------------------------------\n",
      "Batch: 303\n",
      "-------------------------------------------\n",
      "+----------------------+-----+\n",
      "|word                  |count|\n",
      "+----------------------+-----+\n",
      "|#UAM                  |63   |\n",
      "|#ForoCambio11J        |56   |\n",
      "|#Apple                |48   |\n",
      "|#TuitUtil             |42   |\n",
      "|#UniDeVerano          |41   |\n",
      "|#TrabajarHacerCrecer  |40   |\n",
      "|#VotaPP               |37   |\n",
      "|#Ciencia              |30   |\n",
      "|#RdPPodemos           |22   |\n",
      "|#GobernarParaLaMayoría|22   |\n",
      "+----------------------+-----+\n",
      "\n"
     ]
    },
    {
     "name": "stderr",
     "output_type": "stream",
     "text": [
      "                                                                                \r"
     ]
    },
    {
     "name": "stdout",
     "output_type": "stream",
     "text": [
      "-------------------------------------------\n",
      "Batch: 304\n",
      "-------------------------------------------\n",
      "+----------------------+-----+\n",
      "|word                  |count|\n",
      "+----------------------+-----+\n",
      "|#UAM                  |63   |\n",
      "|#ForoCambio11J        |56   |\n",
      "|#Apple                |49   |\n",
      "|#TuitUtil             |42   |\n",
      "|#UniDeVerano          |41   |\n",
      "|#TrabajarHacerCrecer  |41   |\n",
      "|#VotaPP               |37   |\n",
      "|#Ciencia              |31   |\n",
      "|#RdPPodemos           |23   |\n",
      "|#GobernarParaLaMayoría|22   |\n",
      "+----------------------+-----+\n",
      "\n"
     ]
    },
    {
     "name": "stderr",
     "output_type": "stream",
     "text": [
      "                                                                                \r"
     ]
    },
    {
     "name": "stdout",
     "output_type": "stream",
     "text": [
      "-------------------------------------------\n",
      "Batch: 305\n",
      "-------------------------------------------\n",
      "+----------------------+-----+\n",
      "|word                  |count|\n",
      "+----------------------+-----+\n",
      "|#UAM                  |63   |\n",
      "|#ForoCambio11J        |57   |\n",
      "|#Apple                |49   |\n",
      "|#TuitUtil             |42   |\n",
      "|#UniDeVerano          |41   |\n",
      "|#TrabajarHacerCrecer  |41   |\n",
      "|#VotaPP               |37   |\n",
      "|#Ciencia              |31   |\n",
      "|#RdPPodemos           |23   |\n",
      "|#GobernarParaLaMayoría|22   |\n",
      "+----------------------+-----+\n",
      "\n"
     ]
    },
    {
     "name": "stderr",
     "output_type": "stream",
     "text": [
      "                                                                                \r"
     ]
    },
    {
     "name": "stdout",
     "output_type": "stream",
     "text": [
      "-------------------------------------------\n",
      "Batch: 306\n",
      "-------------------------------------------\n",
      "+----------------------+-----+\n",
      "|word                  |count|\n",
      "+----------------------+-----+\n",
      "|#UAM                  |63   |\n",
      "|#ForoCambio11J        |57   |\n",
      "|#Apple                |49   |\n",
      "|#UniDeVerano          |42   |\n",
      "|#TuitUtil             |42   |\n",
      "|#TrabajarHacerCrecer  |41   |\n",
      "|#VotaPP               |37   |\n",
      "|#Ciencia              |31   |\n",
      "|#RdPPodemos           |23   |\n",
      "|#GobernarParaLaMayoría|22   |\n",
      "+----------------------+-----+\n",
      "\n"
     ]
    },
    {
     "name": "stderr",
     "output_type": "stream",
     "text": [
      "                                                                                \r"
     ]
    },
    {
     "name": "stdout",
     "output_type": "stream",
     "text": [
      "-------------------------------------------\n",
      "Batch: 307\n",
      "-------------------------------------------\n",
      "+----------------------+-----+\n",
      "|word                  |count|\n",
      "+----------------------+-----+\n",
      "|#UAM                  |63   |\n",
      "|#ForoCambio11J        |57   |\n",
      "|#Apple                |50   |\n",
      "|#UniDeVerano          |42   |\n",
      "|#TuitUtil             |42   |\n",
      "|#TrabajarHacerCrecer  |41   |\n",
      "|#VotaPP               |37   |\n",
      "|#Ciencia              |31   |\n",
      "|#RdPPodemos           |23   |\n",
      "|#GobernarParaLaMayoría|22   |\n",
      "+----------------------+-----+\n",
      "\n"
     ]
    },
    {
     "name": "stderr",
     "output_type": "stream",
     "text": [
      "                                                                                \r"
     ]
    },
    {
     "name": "stdout",
     "output_type": "stream",
     "text": [
      "-------------------------------------------\n",
      "Batch: 308\n",
      "-------------------------------------------\n",
      "+----------------------+-----+\n",
      "|word                  |count|\n",
      "+----------------------+-----+\n",
      "|#UAM                  |63   |\n",
      "|#ForoCambio11J        |57   |\n",
      "|#Apple                |50   |\n",
      "|#UniDeVerano          |42   |\n",
      "|#TuitUtil             |42   |\n",
      "|#TrabajarHacerCrecer  |41   |\n",
      "|#VotaPP               |37   |\n",
      "|#Ciencia              |31   |\n",
      "|#RdPPodemos           |23   |\n",
      "|#GobernarParaLaMayoría|22   |\n",
      "+----------------------+-----+\n",
      "\n"
     ]
    },
    {
     "name": "stderr",
     "output_type": "stream",
     "text": [
      "                                                                                \r"
     ]
    },
    {
     "name": "stdout",
     "output_type": "stream",
     "text": [
      "-------------------------------------------\n",
      "Batch: 309\n",
      "-------------------------------------------\n",
      "+----------------------+-----+\n",
      "|word                  |count|\n",
      "+----------------------+-----+\n",
      "|#UAM                  |63   |\n",
      "|#ForoCambio11J        |57   |\n",
      "|#Apple                |50   |\n",
      "|#TuitUtil             |44   |\n",
      "|#UniDeVerano          |42   |\n",
      "|#TrabajarHacerCrecer  |41   |\n",
      "|#VotaPP               |37   |\n",
      "|#Ciencia              |31   |\n",
      "|#RdPPodemos           |23   |\n",
      "|#GobernarParaLaMayoría|22   |\n",
      "+----------------------+-----+\n",
      "\n"
     ]
    },
    {
     "name": "stderr",
     "output_type": "stream",
     "text": [
      "                                                                                \r"
     ]
    },
    {
     "name": "stdout",
     "output_type": "stream",
     "text": [
      "-------------------------------------------\n",
      "Batch: 310\n",
      "-------------------------------------------\n",
      "+----------------------+-----+\n",
      "|word                  |count|\n",
      "+----------------------+-----+\n",
      "|#UAM                  |63   |\n",
      "|#ForoCambio11J        |57   |\n",
      "|#Apple                |50   |\n",
      "|#TuitUtil             |44   |\n",
      "|#UniDeVerano          |42   |\n",
      "|#TrabajarHacerCrecer  |41   |\n",
      "|#VotaPP               |37   |\n",
      "|#Ciencia              |31   |\n",
      "|#RdPPodemos           |23   |\n",
      "|#GobernarParaLaMayoría|22   |\n",
      "+----------------------+-----+\n",
      "\n"
     ]
    },
    {
     "name": "stderr",
     "output_type": "stream",
     "text": [
      "                                                                                \r"
     ]
    },
    {
     "name": "stdout",
     "output_type": "stream",
     "text": [
      "-------------------------------------------\n",
      "Batch: 311\n",
      "-------------------------------------------\n",
      "+----------------------+-----+\n",
      "|word                  |count|\n",
      "+----------------------+-----+\n",
      "|#UAM                  |63   |\n",
      "|#ForoCambio11J        |57   |\n",
      "|#Apple                |50   |\n",
      "|#TuitUtil             |44   |\n",
      "|#UniDeVerano          |42   |\n",
      "|#TrabajarHacerCrecer  |41   |\n",
      "|#VotaPP               |37   |\n",
      "|#Ciencia              |31   |\n",
      "|#RdPPodemos           |23   |\n",
      "|#GobernarParaLaMayoría|22   |\n",
      "+----------------------+-----+\n",
      "\n"
     ]
    },
    {
     "name": "stderr",
     "output_type": "stream",
     "text": [
      "                                                                                \r"
     ]
    },
    {
     "name": "stdout",
     "output_type": "stream",
     "text": [
      "-------------------------------------------\n",
      "Batch: 312\n",
      "-------------------------------------------\n",
      "+----------------------+-----+\n",
      "|word                  |count|\n",
      "+----------------------+-----+\n",
      "|#UAM                  |63   |\n",
      "|#ForoCambio11J        |59   |\n",
      "|#Apple                |50   |\n",
      "|#TuitUtil             |44   |\n",
      "|#UniDeVerano          |42   |\n",
      "|#TrabajarHacerCrecer  |41   |\n",
      "|#VotaPP               |37   |\n",
      "|#Ciencia              |31   |\n",
      "|#RdPPodemos           |24   |\n",
      "|#GobernarParaLaMayoría|22   |\n",
      "+----------------------+-----+\n",
      "\n"
     ]
    },
    {
     "name": "stderr",
     "output_type": "stream",
     "text": [
      "                                                                                \r"
     ]
    },
    {
     "name": "stdout",
     "output_type": "stream",
     "text": [
      "-------------------------------------------\n",
      "Batch: 313\n",
      "-------------------------------------------\n",
      "+----------------------+-----+\n",
      "|word                  |count|\n",
      "+----------------------+-----+\n",
      "|#UAM                  |63   |\n",
      "|#ForoCambio11J        |59   |\n",
      "|#Apple                |50   |\n",
      "|#TuitUtil             |44   |\n",
      "|#UniDeVerano          |43   |\n",
      "|#TrabajarHacerCrecer  |41   |\n",
      "|#VotaPP               |37   |\n",
      "|#Ciencia              |31   |\n",
      "|#RdPPodemos           |24   |\n",
      "|#GobernarParaLaMayoría|22   |\n",
      "+----------------------+-----+\n",
      "\n"
     ]
    },
    {
     "name": "stderr",
     "output_type": "stream",
     "text": [
      "                                                                                \r"
     ]
    },
    {
     "name": "stdout",
     "output_type": "stream",
     "text": [
      "-------------------------------------------\n",
      "Batch: 314\n",
      "-------------------------------------------\n",
      "+----------------------+-----+\n",
      "|word                  |count|\n",
      "+----------------------+-----+\n",
      "|#UAM                  |63   |\n",
      "|#ForoCambio11J        |59   |\n",
      "|#Apple                |50   |\n",
      "|#TuitUtil             |44   |\n",
      "|#UniDeVerano          |43   |\n",
      "|#TrabajarHacerCrecer  |41   |\n",
      "|#VotaPP               |37   |\n",
      "|#Ciencia              |31   |\n",
      "|#RdPPodemos           |24   |\n",
      "|#GobernarParaLaMayoría|23   |\n",
      "+----------------------+-----+\n",
      "\n"
     ]
    },
    {
     "name": "stderr",
     "output_type": "stream",
     "text": [
      "                                                                                \r"
     ]
    },
    {
     "name": "stdout",
     "output_type": "stream",
     "text": [
      "-------------------------------------------\n",
      "Batch: 315\n",
      "-------------------------------------------\n",
      "+----------------------+-----+\n",
      "|word                  |count|\n",
      "+----------------------+-----+\n",
      "|#UAM                  |63   |\n",
      "|#ForoCambio11J        |59   |\n",
      "|#Apple                |50   |\n",
      "|#TuitUtil             |44   |\n",
      "|#UniDeVerano          |43   |\n",
      "|#TrabajarHacerCrecer  |42   |\n",
      "|#VotaPP               |37   |\n",
      "|#Ciencia              |31   |\n",
      "|#RdPPodemos           |24   |\n",
      "|#GobernarParaLaMayoría|23   |\n",
      "+----------------------+-----+\n",
      "\n"
     ]
    },
    {
     "name": "stderr",
     "output_type": "stream",
     "text": [
      "                                                                                \r"
     ]
    },
    {
     "name": "stdout",
     "output_type": "stream",
     "text": [
      "-------------------------------------------\n",
      "Batch: 316\n",
      "-------------------------------------------\n",
      "+----------------------+-----+\n",
      "|word                  |count|\n",
      "+----------------------+-----+\n",
      "|#UAM                  |64   |\n",
      "|#ForoCambio11J        |60   |\n",
      "|#Apple                |51   |\n",
      "|#TuitUtil             |44   |\n",
      "|#UniDeVerano          |43   |\n",
      "|#TrabajarHacerCrecer  |43   |\n",
      "|#VotaPP               |37   |\n",
      "|#Ciencia              |31   |\n",
      "|#RdPPodemos           |25   |\n",
      "|#GobernarParaLaMayoría|23   |\n",
      "+----------------------+-----+\n",
      "\n"
     ]
    },
    {
     "name": "stderr",
     "output_type": "stream",
     "text": [
      "                                                                                \r"
     ]
    },
    {
     "name": "stdout",
     "output_type": "stream",
     "text": [
      "-------------------------------------------\n",
      "Batch: 317\n",
      "-------------------------------------------\n",
      "+----------------------+-----+\n",
      "|word                  |count|\n",
      "+----------------------+-----+\n",
      "|#UAM                  |64   |\n",
      "|#ForoCambio11J        |60   |\n",
      "|#Apple                |51   |\n",
      "|#TuitUtil             |44   |\n",
      "|#UniDeVerano          |43   |\n",
      "|#TrabajarHacerCrecer  |43   |\n",
      "|#VotaPP               |37   |\n",
      "|#Ciencia              |31   |\n",
      "|#RdPPodemos           |25   |\n",
      "|#GobernarParaLaMayoría|24   |\n",
      "+----------------------+-----+\n",
      "\n"
     ]
    },
    {
     "name": "stderr",
     "output_type": "stream",
     "text": [
      "                                                                                \r"
     ]
    },
    {
     "name": "stdout",
     "output_type": "stream",
     "text": [
      "-------------------------------------------\n",
      "Batch: 318\n",
      "-------------------------------------------\n",
      "+----------------------+-----+\n",
      "|word                  |count|\n",
      "+----------------------+-----+\n",
      "|#UAM                  |64   |\n",
      "|#ForoCambio11J        |60   |\n",
      "|#Apple                |51   |\n",
      "|#UniDeVerano          |44   |\n",
      "|#TuitUtil             |44   |\n",
      "|#TrabajarHacerCrecer  |43   |\n",
      "|#VotaPP               |37   |\n",
      "|#Ciencia              |31   |\n",
      "|#RdPPodemos           |25   |\n",
      "|#GobernarParaLaMayoría|24   |\n",
      "+----------------------+-----+\n",
      "\n"
     ]
    },
    {
     "name": "stderr",
     "output_type": "stream",
     "text": [
      "                                                                                \r"
     ]
    },
    {
     "name": "stdout",
     "output_type": "stream",
     "text": [
      "-------------------------------------------\n",
      "Batch: 319\n",
      "-------------------------------------------\n",
      "+----------------------+-----+\n",
      "|word                  |count|\n",
      "+----------------------+-----+\n",
      "|#UAM                  |64   |\n",
      "|#ForoCambio11J        |60   |\n",
      "|#Apple                |51   |\n",
      "|#UniDeVerano          |44   |\n",
      "|#TuitUtil             |44   |\n",
      "|#TrabajarHacerCrecer  |43   |\n",
      "|#VotaPP               |37   |\n",
      "|#Ciencia              |31   |\n",
      "|#RdPPodemos           |25   |\n",
      "|#GobernarParaLaMayoría|24   |\n",
      "+----------------------+-----+\n",
      "\n"
     ]
    },
    {
     "name": "stderr",
     "output_type": "stream",
     "text": [
      "[Stage 961:=============================================>       (173 + 8) / 200]\r"
     ]
    },
    {
     "name": "stdout",
     "output_type": "stream",
     "text": [
      "-------------------------------------------\n",
      "Batch: 320\n",
      "-------------------------------------------\n",
      "+----------------------+-----+\n",
      "|word                  |count|\n",
      "+----------------------+-----+\n",
      "|#UAM                  |64   |\n",
      "|#ForoCambio11J        |60   |\n",
      "|#Apple                |51   |\n",
      "|#UniDeVerano          |44   |\n",
      "|#TuitUtil             |44   |\n",
      "|#TrabajarHacerCrecer  |44   |\n",
      "|#VotaPP               |38   |\n",
      "|#Ciencia              |31   |\n",
      "|#RdPPodemos           |25   |\n",
      "|#GobernarParaLaMayoría|24   |\n",
      "+----------------------+-----+\n",
      "\n"
     ]
    },
    {
     "name": "stderr",
     "output_type": "stream",
     "text": [
      "                                                                                \r"
     ]
    },
    {
     "name": "stdout",
     "output_type": "stream",
     "text": [
      "-------------------------------------------\n",
      "Batch: 321\n",
      "-------------------------------------------\n",
      "+----------------------+-----+\n",
      "|word                  |count|\n",
      "+----------------------+-----+\n",
      "|#UAM                  |64   |\n",
      "|#ForoCambio11J        |60   |\n",
      "|#Apple                |51   |\n",
      "|#TuitUtil             |45   |\n",
      "|#UniDeVerano          |44   |\n",
      "|#TrabajarHacerCrecer  |44   |\n",
      "|#VotaPP               |38   |\n",
      "|#Ciencia              |31   |\n",
      "|#RdPPodemos           |25   |\n",
      "|#GobernarParaLaMayoría|24   |\n",
      "+----------------------+-----+\n",
      "\n"
     ]
    },
    {
     "name": "stderr",
     "output_type": "stream",
     "text": [
      "                                                                                \r"
     ]
    },
    {
     "name": "stdout",
     "output_type": "stream",
     "text": [
      "-------------------------------------------\n",
      "Batch: 322\n",
      "-------------------------------------------\n",
      "+----------------------+-----+\n",
      "|word                  |count|\n",
      "+----------------------+-----+\n",
      "|#UAM                  |64   |\n",
      "|#ForoCambio11J        |60   |\n",
      "|#Apple                |51   |\n",
      "|#UniDeVerano          |45   |\n",
      "|#TuitUtil             |45   |\n",
      "|#TrabajarHacerCrecer  |44   |\n",
      "|#VotaPP               |38   |\n",
      "|#Ciencia              |31   |\n",
      "|#RdPPodemos           |25   |\n",
      "|#GobernarParaLaMayoría|24   |\n",
      "+----------------------+-----+\n",
      "\n"
     ]
    },
    {
     "name": "stderr",
     "output_type": "stream",
     "text": [
      "                                                                                \r"
     ]
    },
    {
     "name": "stdout",
     "output_type": "stream",
     "text": [
      "-------------------------------------------\n",
      "Batch: 323\n",
      "-------------------------------------------\n",
      "+----------------------+-----+\n",
      "|word                  |count|\n",
      "+----------------------+-----+\n",
      "|#UAM                  |65   |\n",
      "|#ForoCambio11J        |60   |\n",
      "|#Apple                |51   |\n",
      "|#UniDeVerano          |45   |\n",
      "|#TuitUtil             |45   |\n",
      "|#TrabajarHacerCrecer  |44   |\n",
      "|#VotaPP               |38   |\n",
      "|#Ciencia              |31   |\n",
      "|#RdPPodemos           |25   |\n",
      "|#GobernarParaLaMayoría|24   |\n",
      "+----------------------+-----+\n",
      "\n"
     ]
    },
    {
     "name": "stderr",
     "output_type": "stream",
     "text": [
      "                                                                                \r"
     ]
    },
    {
     "name": "stdout",
     "output_type": "stream",
     "text": [
      "-------------------------------------------\n",
      "Batch: 324\n",
      "-------------------------------------------\n",
      "+----------------------+-----+\n",
      "|word                  |count|\n",
      "+----------------------+-----+\n",
      "|#UAM                  |65   |\n",
      "|#ForoCambio11J        |60   |\n",
      "|#Apple                |51   |\n",
      "|#UniDeVerano          |45   |\n",
      "|#TuitUtil             |45   |\n",
      "|#TrabajarHacerCrecer  |44   |\n",
      "|#VotaPP               |38   |\n",
      "|#Ciencia              |31   |\n",
      "|#RdPPodemos           |26   |\n",
      "|#GobernarParaLaMayoría|24   |\n",
      "+----------------------+-----+\n",
      "\n"
     ]
    },
    {
     "name": "stderr",
     "output_type": "stream",
     "text": [
      "                                                                                \r"
     ]
    },
    {
     "name": "stdout",
     "output_type": "stream",
     "text": [
      "-------------------------------------------\n",
      "Batch: 325\n",
      "-------------------------------------------\n",
      "+----------------------+-----+\n",
      "|word                  |count|\n",
      "+----------------------+-----+\n",
      "|#UAM                  |65   |\n",
      "|#ForoCambio11J        |60   |\n",
      "|#Apple                |51   |\n",
      "|#UniDeVerano          |45   |\n",
      "|#TuitUtil             |45   |\n",
      "|#TrabajarHacerCrecer  |44   |\n",
      "|#VotaPP               |38   |\n",
      "|#Ciencia              |31   |\n",
      "|#RdPPodemos           |26   |\n",
      "|#GobernarParaLaMayoría|24   |\n",
      "+----------------------+-----+\n",
      "\n"
     ]
    },
    {
     "name": "stderr",
     "output_type": "stream",
     "text": [
      "                                                                                \r"
     ]
    },
    {
     "name": "stdout",
     "output_type": "stream",
     "text": [
      "-------------------------------------------\n",
      "Batch: 326\n",
      "-------------------------------------------\n",
      "+----------------------+-----+\n",
      "|word                  |count|\n",
      "+----------------------+-----+\n",
      "|#UAM                  |65   |\n",
      "|#ForoCambio11J        |61   |\n",
      "|#Apple                |51   |\n",
      "|#UniDeVerano          |45   |\n",
      "|#TuitUtil             |45   |\n",
      "|#TrabajarHacerCrecer  |44   |\n",
      "|#VotaPP               |38   |\n",
      "|#Ciencia              |31   |\n",
      "|#RdPPodemos           |26   |\n",
      "|#GobernarParaLaMayoría|24   |\n",
      "+----------------------+-----+\n",
      "\n"
     ]
    },
    {
     "name": "stderr",
     "output_type": "stream",
     "text": [
      "                                                                                \r"
     ]
    },
    {
     "name": "stdout",
     "output_type": "stream",
     "text": [
      "-------------------------------------------\n",
      "Batch: 327\n",
      "-------------------------------------------\n",
      "+----------------------+-----+\n",
      "|word                  |count|\n",
      "+----------------------+-----+\n",
      "|#UAM                  |66   |\n",
      "|#ForoCambio11J        |61   |\n",
      "|#Apple                |51   |\n",
      "|#UniDeVerano          |45   |\n",
      "|#TuitUtil             |45   |\n",
      "|#TrabajarHacerCrecer  |44   |\n",
      "|#VotaPP               |38   |\n",
      "|#Ciencia              |31   |\n",
      "|#RdPPodemos           |26   |\n",
      "|#GobernarParaLaMayoría|24   |\n",
      "+----------------------+-----+\n",
      "\n"
     ]
    },
    {
     "name": "stderr",
     "output_type": "stream",
     "text": [
      "                                                                                \r"
     ]
    },
    {
     "name": "stdout",
     "output_type": "stream",
     "text": [
      "-------------------------------------------\n",
      "Batch: 328\n",
      "-------------------------------------------\n",
      "+----------------------+-----+\n",
      "|word                  |count|\n",
      "+----------------------+-----+\n",
      "|#UAM                  |66   |\n",
      "|#ForoCambio11J        |61   |\n",
      "|#Apple                |51   |\n",
      "|#UniDeVerano          |45   |\n",
      "|#TuitUtil             |45   |\n",
      "|#TrabajarHacerCrecer  |44   |\n",
      "|#VotaPP               |38   |\n",
      "|#Ciencia              |31   |\n",
      "|#RdPPodemos           |26   |\n",
      "|#GobernarParaLaMayoría|24   |\n",
      "+----------------------+-----+\n",
      "\n"
     ]
    },
    {
     "name": "stderr",
     "output_type": "stream",
     "text": [
      "                                                                                \r"
     ]
    },
    {
     "name": "stdout",
     "output_type": "stream",
     "text": [
      "-------------------------------------------\n",
      "Batch: 329\n",
      "-------------------------------------------\n",
      "+----------------------+-----+\n",
      "|word                  |count|\n",
      "+----------------------+-----+\n",
      "|#UAM                  |66   |\n",
      "|#ForoCambio11J        |61   |\n",
      "|#Apple                |51   |\n",
      "|#UniDeVerano          |45   |\n",
      "|#TuitUtil             |45   |\n",
      "|#TrabajarHacerCrecer  |44   |\n",
      "|#VotaPP               |38   |\n",
      "|#Ciencia              |31   |\n",
      "|#RdPPodemos           |26   |\n",
      "|#GobernarParaLaMayoría|24   |\n",
      "+----------------------+-----+\n",
      "\n"
     ]
    },
    {
     "name": "stderr",
     "output_type": "stream",
     "text": [
      "                                                                                \r"
     ]
    },
    {
     "name": "stdout",
     "output_type": "stream",
     "text": [
      "-------------------------------------------\n",
      "Batch: 330\n",
      "-------------------------------------------\n",
      "+----------------------+-----+\n",
      "|word                  |count|\n",
      "+----------------------+-----+\n",
      "|#UAM                  |66   |\n",
      "|#ForoCambio11J        |61   |\n",
      "|#Apple                |51   |\n",
      "|#UniDeVerano          |45   |\n",
      "|#TuitUtil             |45   |\n",
      "|#TrabajarHacerCrecer  |44   |\n",
      "|#VotaPP               |38   |\n",
      "|#Ciencia              |31   |\n",
      "|#RdPPodemos           |26   |\n",
      "|#GobernarParaLaMayoría|24   |\n",
      "+----------------------+-----+\n",
      "\n"
     ]
    },
    {
     "name": "stderr",
     "output_type": "stream",
     "text": [
      "                                                                                \r"
     ]
    },
    {
     "name": "stdout",
     "output_type": "stream",
     "text": [
      "-------------------------------------------\n",
      "Batch: 331\n",
      "-------------------------------------------\n",
      "+----------------------+-----+\n",
      "|word                  |count|\n",
      "+----------------------+-----+\n",
      "|#UAM                  |66   |\n",
      "|#ForoCambio11J        |61   |\n",
      "|#Apple                |51   |\n",
      "|#UniDeVerano          |45   |\n",
      "|#TuitUtil             |45   |\n",
      "|#TrabajarHacerCrecer  |44   |\n",
      "|#VotaPP               |38   |\n",
      "|#Ciencia              |31   |\n",
      "|#RdPPodemos           |26   |\n",
      "|#GobernarParaLaMayoría|24   |\n",
      "+----------------------+-----+\n",
      "\n"
     ]
    },
    {
     "name": "stderr",
     "output_type": "stream",
     "text": [
      "                                                                                \r"
     ]
    },
    {
     "name": "stdout",
     "output_type": "stream",
     "text": [
      "-------------------------------------------\n",
      "Batch: 332\n",
      "-------------------------------------------\n",
      "+----------------------+-----+\n",
      "|word                  |count|\n",
      "+----------------------+-----+\n",
      "|#UAM                  |66   |\n",
      "|#ForoCambio11J        |61   |\n",
      "|#Apple                |51   |\n",
      "|#UniDeVerano          |45   |\n",
      "|#TuitUtil             |45   |\n",
      "|#TrabajarHacerCrecer  |44   |\n",
      "|#VotaPP               |38   |\n",
      "|#Ciencia              |31   |\n",
      "|#RdPPodemos           |26   |\n",
      "|#GobernarParaLaMayoría|24   |\n",
      "+----------------------+-----+\n",
      "\n"
     ]
    },
    {
     "name": "stderr",
     "output_type": "stream",
     "text": [
      "                                                                                \r"
     ]
    },
    {
     "name": "stdout",
     "output_type": "stream",
     "text": [
      "-------------------------------------------\n",
      "Batch: 333\n",
      "-------------------------------------------\n",
      "+--------------------+-----+\n",
      "|word                |count|\n",
      "+--------------------+-----+\n",
      "|#UAM                |67   |\n",
      "|#ForoCambio11J      |61   |\n",
      "|#Apple              |51   |\n",
      "|#UniDeVerano        |45   |\n",
      "|#TuitUtil           |45   |\n",
      "|#TrabajarHacerCrecer|44   |\n",
      "|#VotaPP             |38   |\n",
      "|#Ciencia            |31   |\n",
      "|#RdPPodemos         |26   |\n",
      "|#xelFuturodeEspaña  |24   |\n",
      "+--------------------+-----+\n",
      "\n"
     ]
    },
    {
     "name": "stderr",
     "output_type": "stream",
     "text": [
      "                                                                                \r"
     ]
    },
    {
     "name": "stdout",
     "output_type": "stream",
     "text": [
      "-------------------------------------------\n",
      "Batch: 334\n",
      "-------------------------------------------\n",
      "+--------------------+-----+\n",
      "|word                |count|\n",
      "+--------------------+-----+\n",
      "|#UAM                |67   |\n",
      "|#ForoCambio11J      |61   |\n",
      "|#Apple              |51   |\n",
      "|#UniDeVerano        |45   |\n",
      "|#TuitUtil           |45   |\n",
      "|#TrabajarHacerCrecer|44   |\n",
      "|#VotaPP             |38   |\n",
      "|#Ciencia            |31   |\n",
      "|#RdPPodemos         |26   |\n",
      "|#xelFuturodeEspaña  |24   |\n",
      "+--------------------+-----+\n",
      "\n"
     ]
    },
    {
     "name": "stderr",
     "output_type": "stream",
     "text": [
      "                                                                                \r"
     ]
    },
    {
     "name": "stdout",
     "output_type": "stream",
     "text": [
      "-------------------------------------------\n",
      "Batch: 335\n",
      "-------------------------------------------\n",
      "+--------------------+-----+\n",
      "|word                |count|\n",
      "+--------------------+-----+\n",
      "|#UAM                |67   |\n",
      "|#ForoCambio11J      |61   |\n",
      "|#Apple              |51   |\n",
      "|#UniDeVerano        |45   |\n",
      "|#TuitUtil           |45   |\n",
      "|#TrabajarHacerCrecer|44   |\n",
      "|#VotaPP             |38   |\n",
      "|#Ciencia            |31   |\n",
      "|#RdPPodemos         |26   |\n",
      "|#xelFuturodeEspaña  |24   |\n",
      "+--------------------+-----+\n",
      "\n"
     ]
    },
    {
     "name": "stderr",
     "output_type": "stream",
     "text": [
      "                                                                                \r"
     ]
    },
    {
     "name": "stdout",
     "output_type": "stream",
     "text": [
      "-------------------------------------------\n",
      "Batch: 336\n",
      "-------------------------------------------\n",
      "+--------------------+-----+\n",
      "|word                |count|\n",
      "+--------------------+-----+\n",
      "|#UAM                |67   |\n",
      "|#ForoCambio11J      |62   |\n",
      "|#Apple              |51   |\n",
      "|#TuitUtil           |46   |\n",
      "|#UniDeVerano        |45   |\n",
      "|#TrabajarHacerCrecer|44   |\n",
      "|#VotaPP             |38   |\n",
      "|#Ciencia            |31   |\n",
      "|#RdPPodemos         |26   |\n",
      "|#xelFuturodeEspaña  |24   |\n",
      "+--------------------+-----+\n",
      "\n"
     ]
    },
    {
     "name": "stderr",
     "output_type": "stream",
     "text": [
      "                                                                                \r"
     ]
    },
    {
     "name": "stdout",
     "output_type": "stream",
     "text": [
      "-------------------------------------------\n",
      "Batch: 337\n",
      "-------------------------------------------\n",
      "+--------------------+-----+\n",
      "|word                |count|\n",
      "+--------------------+-----+\n",
      "|#UAM                |67   |\n",
      "|#ForoCambio11J      |62   |\n",
      "|#Apple              |52   |\n",
      "|#TuitUtil           |46   |\n",
      "|#UniDeVerano        |45   |\n",
      "|#TrabajarHacerCrecer|44   |\n",
      "|#VotaPP             |38   |\n",
      "|#Ciencia            |31   |\n",
      "|#RdPPodemos         |26   |\n",
      "|#xelFuturodeEspaña  |24   |\n",
      "+--------------------+-----+\n",
      "\n"
     ]
    },
    {
     "name": "stderr",
     "output_type": "stream",
     "text": [
      "                                                                                \r"
     ]
    },
    {
     "name": "stdout",
     "output_type": "stream",
     "text": [
      "-------------------------------------------\n",
      "Batch: 338\n",
      "-------------------------------------------\n",
      "+----------------------+-----+\n",
      "|word                  |count|\n",
      "+----------------------+-----+\n",
      "|#UAM                  |67   |\n",
      "|#ForoCambio11J        |62   |\n",
      "|#Apple                |52   |\n",
      "|#TuitUtil             |46   |\n",
      "|#UniDeVerano          |45   |\n",
      "|#TrabajarHacerCrecer  |45   |\n",
      "|#VotaPP               |38   |\n",
      "|#Ciencia              |31   |\n",
      "|#RdPPodemos           |26   |\n",
      "|#GobernarParaLaMayoría|24   |\n",
      "+----------------------+-----+\n",
      "\n"
     ]
    },
    {
     "name": "stderr",
     "output_type": "stream",
     "text": [
      "                                                                                \r"
     ]
    },
    {
     "name": "stdout",
     "output_type": "stream",
     "text": [
      "-------------------------------------------\n",
      "Batch: 339\n",
      "-------------------------------------------\n",
      "+--------------------+-----+\n",
      "|word                |count|\n",
      "+--------------------+-----+\n",
      "|#UAM                |67   |\n",
      "|#ForoCambio11J      |62   |\n",
      "|#Apple              |52   |\n",
      "|#TuitUtil           |46   |\n",
      "|#UniDeVerano        |45   |\n",
      "|#TrabajarHacerCrecer|45   |\n",
      "|#VotaPP             |38   |\n",
      "|#Ciencia            |31   |\n",
      "|#RdPPodemos         |26   |\n",
      "|#xelFuturodeEspaña  |24   |\n",
      "+--------------------+-----+\n",
      "\n"
     ]
    },
    {
     "name": "stderr",
     "output_type": "stream",
     "text": [
      "                                                                                \r"
     ]
    },
    {
     "name": "stdout",
     "output_type": "stream",
     "text": [
      "-------------------------------------------\n",
      "Batch: 340\n",
      "-------------------------------------------\n",
      "+--------------------+-----+\n",
      "|word                |count|\n",
      "+--------------------+-----+\n",
      "|#UAM                |67   |\n",
      "|#ForoCambio11J      |62   |\n",
      "|#Apple              |52   |\n",
      "|#TuitUtil           |46   |\n",
      "|#TrabajarHacerCrecer|46   |\n",
      "|#UniDeVerano        |45   |\n",
      "|#VotaPP             |38   |\n",
      "|#Ciencia            |31   |\n",
      "|#RdPPodemos         |26   |\n",
      "|#xelFuturodeEspaña  |24   |\n",
      "+--------------------+-----+\n",
      "\n"
     ]
    },
    {
     "name": "stderr",
     "output_type": "stream",
     "text": [
      "                                                                                \r"
     ]
    },
    {
     "name": "stdout",
     "output_type": "stream",
     "text": [
      "-------------------------------------------\n",
      "Batch: 341\n",
      "-------------------------------------------\n",
      "+--------------------+-----+\n",
      "|word                |count|\n",
      "+--------------------+-----+\n",
      "|#UAM                |67   |\n",
      "|#ForoCambio11J      |63   |\n",
      "|#Apple              |53   |\n",
      "|#TuitUtil           |46   |\n",
      "|#TrabajarHacerCrecer|46   |\n",
      "|#UniDeVerano        |45   |\n",
      "|#VotaPP             |38   |\n",
      "|#Ciencia            |31   |\n",
      "|#RdPPodemos         |26   |\n",
      "|#xelFuturodeEspaña  |24   |\n",
      "+--------------------+-----+\n",
      "\n"
     ]
    },
    {
     "name": "stderr",
     "output_type": "stream",
     "text": [
      "                                                                                \r"
     ]
    },
    {
     "name": "stdout",
     "output_type": "stream",
     "text": [
      "-------------------------------------------\n",
      "Batch: 342\n",
      "-------------------------------------------\n",
      "+--------------------+-----+\n",
      "|word                |count|\n",
      "+--------------------+-----+\n",
      "|#UAM                |67   |\n",
      "|#ForoCambio11J      |63   |\n",
      "|#Apple              |53   |\n",
      "|#TuitUtil           |46   |\n",
      "|#TrabajarHacerCrecer|46   |\n",
      "|#UniDeVerano        |45   |\n",
      "|#VotaPP             |38   |\n",
      "|#Ciencia            |31   |\n",
      "|#RdPPodemos         |26   |\n",
      "|#xelFuturodeEspaña  |24   |\n",
      "+--------------------+-----+\n",
      "\n"
     ]
    },
    {
     "name": "stderr",
     "output_type": "stream",
     "text": [
      "                                                                                \r"
     ]
    },
    {
     "name": "stdout",
     "output_type": "stream",
     "text": [
      "-------------------------------------------\n",
      "Batch: 343\n",
      "-------------------------------------------\n",
      "+--------------------+-----+\n",
      "|word                |count|\n",
      "+--------------------+-----+\n",
      "|#UAM                |67   |\n",
      "|#ForoCambio11J      |63   |\n",
      "|#Apple              |53   |\n",
      "|#TuitUtil           |47   |\n",
      "|#TrabajarHacerCrecer|46   |\n",
      "|#UniDeVerano        |45   |\n",
      "|#VotaPP             |38   |\n",
      "|#Ciencia            |31   |\n",
      "|#RdPPodemos         |26   |\n",
      "|#xelFuturodeEspaña  |24   |\n",
      "+--------------------+-----+\n",
      "\n"
     ]
    },
    {
     "name": "stderr",
     "output_type": "stream",
     "text": [
      "                                                                                \r"
     ]
    },
    {
     "name": "stdout",
     "output_type": "stream",
     "text": [
      "-------------------------------------------\n",
      "Batch: 344\n",
      "-------------------------------------------\n",
      "+--------------------+-----+\n",
      "|word                |count|\n",
      "+--------------------+-----+\n",
      "|#UAM                |67   |\n",
      "|#ForoCambio11J      |63   |\n",
      "|#Apple              |54   |\n",
      "|#TuitUtil           |47   |\n",
      "|#TrabajarHacerCrecer|46   |\n",
      "|#UniDeVerano        |45   |\n",
      "|#VotaPP             |38   |\n",
      "|#Ciencia            |31   |\n",
      "|#RdPPodemos         |26   |\n",
      "|#xelFuturodeEspaña  |25   |\n",
      "+--------------------+-----+\n",
      "\n"
     ]
    },
    {
     "name": "stderr",
     "output_type": "stream",
     "text": [
      "                                                                                \r"
     ]
    },
    {
     "name": "stdout",
     "output_type": "stream",
     "text": [
      "-------------------------------------------\n",
      "Batch: 345\n",
      "-------------------------------------------\n",
      "+--------------------+-----+\n",
      "|word                |count|\n",
      "+--------------------+-----+\n",
      "|#UAM                |67   |\n",
      "|#ForoCambio11J      |63   |\n",
      "|#Apple              |54   |\n",
      "|#TuitUtil           |47   |\n",
      "|#TrabajarHacerCrecer|46   |\n",
      "|#UniDeVerano        |45   |\n",
      "|#VotaPP             |38   |\n",
      "|#Ciencia            |31   |\n",
      "|#RdPPodemos         |26   |\n",
      "|#xelFuturodeEspaña  |26   |\n",
      "+--------------------+-----+\n",
      "\n"
     ]
    },
    {
     "name": "stderr",
     "output_type": "stream",
     "text": [
      "                                                                                \r"
     ]
    },
    {
     "name": "stdout",
     "output_type": "stream",
     "text": [
      "-------------------------------------------\n",
      "Batch: 346\n",
      "-------------------------------------------\n",
      "+--------------------+-----+\n",
      "|word                |count|\n",
      "+--------------------+-----+\n",
      "|#UAM                |67   |\n",
      "|#ForoCambio11J      |63   |\n",
      "|#Apple              |54   |\n",
      "|#UniDeVerano        |47   |\n",
      "|#TuitUtil           |47   |\n",
      "|#TrabajarHacerCrecer|46   |\n",
      "|#VotaPP             |38   |\n",
      "|#Ciencia            |31   |\n",
      "|#RdPPodemos         |26   |\n",
      "|#xelFuturodeEspaña  |26   |\n",
      "+--------------------+-----+\n",
      "\n"
     ]
    },
    {
     "name": "stderr",
     "output_type": "stream",
     "text": [
      "                                                                                \r"
     ]
    },
    {
     "name": "stdout",
     "output_type": "stream",
     "text": [
      "-------------------------------------------\n",
      "Batch: 347\n",
      "-------------------------------------------\n",
      "+--------------------+-----+\n",
      "|word                |count|\n",
      "+--------------------+-----+\n",
      "|#UAM                |67   |\n",
      "|#ForoCambio11J      |63   |\n",
      "|#Apple              |54   |\n",
      "|#UniDeVerano        |48   |\n",
      "|#TuitUtil           |47   |\n",
      "|#TrabajarHacerCrecer|46   |\n",
      "|#VotaPP             |38   |\n",
      "|#Ciencia            |31   |\n",
      "|#RdPPodemos         |26   |\n",
      "|#xelFuturodeEspaña  |26   |\n",
      "+--------------------+-----+\n",
      "\n"
     ]
    },
    {
     "name": "stderr",
     "output_type": "stream",
     "text": [
      "                                                                                \r"
     ]
    },
    {
     "name": "stdout",
     "output_type": "stream",
     "text": [
      "-------------------------------------------\n",
      "Batch: 348\n",
      "-------------------------------------------\n",
      "+--------------------+-----+\n",
      "|word                |count|\n",
      "+--------------------+-----+\n",
      "|#UAM                |67   |\n",
      "|#ForoCambio11J      |63   |\n",
      "|#Apple              |55   |\n",
      "|#UniDeVerano        |48   |\n",
      "|#TuitUtil           |47   |\n",
      "|#TrabajarHacerCrecer|46   |\n",
      "|#VotaPP             |38   |\n",
      "|#Ciencia            |31   |\n",
      "|#RdPPodemos         |26   |\n",
      "|#xelFuturodeEspaña  |26   |\n",
      "+--------------------+-----+\n",
      "\n"
     ]
    },
    {
     "name": "stderr",
     "output_type": "stream",
     "text": [
      "                                                                                \r"
     ]
    },
    {
     "name": "stdout",
     "output_type": "stream",
     "text": [
      "-------------------------------------------\n",
      "Batch: 349\n",
      "-------------------------------------------\n",
      "+--------------------+-----+\n",
      "|word                |count|\n",
      "+--------------------+-----+\n",
      "|#UAM                |67   |\n",
      "|#ForoCambio11J      |63   |\n",
      "|#Apple              |55   |\n",
      "|#UniDeVerano        |48   |\n",
      "|#TuitUtil           |47   |\n",
      "|#TrabajarHacerCrecer|47   |\n",
      "|#VotaPP             |38   |\n",
      "|#Ciencia            |31   |\n",
      "|#RdPPodemos         |26   |\n",
      "|#xelFuturodeEspaña  |26   |\n",
      "+--------------------+-----+\n",
      "\n"
     ]
    },
    {
     "name": "stderr",
     "output_type": "stream",
     "text": [
      "                                                                                \r"
     ]
    },
    {
     "name": "stdout",
     "output_type": "stream",
     "text": [
      "-------------------------------------------\n",
      "Batch: 350\n",
      "-------------------------------------------\n",
      "+--------------------+-----+\n",
      "|word                |count|\n",
      "+--------------------+-----+\n",
      "|#UAM                |67   |\n",
      "|#ForoCambio11J      |63   |\n",
      "|#Apple              |55   |\n",
      "|#UniDeVerano        |49   |\n",
      "|#TuitUtil           |48   |\n",
      "|#TrabajarHacerCrecer|47   |\n",
      "|#VotaPP             |38   |\n",
      "|#Ciencia            |31   |\n",
      "|#RdPPodemos         |26   |\n",
      "|#xelFuturodeEspaña  |26   |\n",
      "+--------------------+-----+\n",
      "\n"
     ]
    },
    {
     "name": "stderr",
     "output_type": "stream",
     "text": [
      "                                                                                \r"
     ]
    },
    {
     "name": "stdout",
     "output_type": "stream",
     "text": [
      "-------------------------------------------\n",
      "Batch: 351\n",
      "-------------------------------------------\n",
      "+--------------------+-----+\n",
      "|word                |count|\n",
      "+--------------------+-----+\n",
      "|#UAM                |67   |\n",
      "|#ForoCambio11J      |63   |\n",
      "|#Apple              |56   |\n",
      "|#UniDeVerano        |49   |\n",
      "|#TuitUtil           |48   |\n",
      "|#TrabajarHacerCrecer|47   |\n",
      "|#VotaPP             |38   |\n",
      "|#Ciencia            |31   |\n",
      "|#RdPPodemos         |26   |\n",
      "|#xelFuturodeEspaña  |26   |\n",
      "+--------------------+-----+\n",
      "\n"
     ]
    },
    {
     "name": "stderr",
     "output_type": "stream",
     "text": [
      "                                                                                \r"
     ]
    },
    {
     "name": "stdout",
     "output_type": "stream",
     "text": [
      "-------------------------------------------\n",
      "Batch: 352\n",
      "-------------------------------------------\n",
      "+--------------------+-----+\n",
      "|word                |count|\n",
      "+--------------------+-----+\n",
      "|#UAM                |67   |\n",
      "|#ForoCambio11J      |63   |\n",
      "|#Apple              |56   |\n",
      "|#UniDeVerano        |49   |\n",
      "|#TuitUtil           |48   |\n",
      "|#TrabajarHacerCrecer|47   |\n",
      "|#VotaPP             |38   |\n",
      "|#Ciencia            |31   |\n",
      "|#RdPPodemos         |26   |\n",
      "|#xelFuturodeEspaña  |26   |\n",
      "+--------------------+-----+\n",
      "\n"
     ]
    },
    {
     "name": "stderr",
     "output_type": "stream",
     "text": [
      "                                                                                \r"
     ]
    },
    {
     "name": "stdout",
     "output_type": "stream",
     "text": [
      "-------------------------------------------\n",
      "Batch: 353\n",
      "-------------------------------------------\n",
      "+--------------------+-----+\n",
      "|word                |count|\n",
      "+--------------------+-----+\n",
      "|#UAM                |68   |\n",
      "|#ForoCambio11J      |63   |\n",
      "|#Apple              |56   |\n",
      "|#UniDeVerano        |49   |\n",
      "|#TuitUtil           |48   |\n",
      "|#TrabajarHacerCrecer|47   |\n",
      "|#VotaPP             |38   |\n",
      "|#Ciencia            |31   |\n",
      "|#RdPPodemos         |26   |\n",
      "|#xelFuturodeEspaña  |26   |\n",
      "+--------------------+-----+\n",
      "\n"
     ]
    },
    {
     "name": "stderr",
     "output_type": "stream",
     "text": [
      "                                                                                \r"
     ]
    },
    {
     "name": "stdout",
     "output_type": "stream",
     "text": [
      "-------------------------------------------\n",
      "Batch: 354\n",
      "-------------------------------------------\n",
      "+----------------------+-----+\n",
      "|word                  |count|\n",
      "+----------------------+-----+\n",
      "|#UAM                  |68   |\n",
      "|#ForoCambio11J        |63   |\n",
      "|#Apple                |56   |\n",
      "|#UniDeVerano          |49   |\n",
      "|#TuitUtil             |48   |\n",
      "|#TrabajarHacerCrecer  |48   |\n",
      "|#VotaPP               |38   |\n",
      "|#Ciencia              |31   |\n",
      "|#RdPPodemos           |26   |\n",
      "|#GobernarParaLaMayoría|26   |\n",
      "+----------------------+-----+\n",
      "\n"
     ]
    },
    {
     "name": "stderr",
     "output_type": "stream",
     "text": [
      "                                                                                \r"
     ]
    },
    {
     "name": "stdout",
     "output_type": "stream",
     "text": [
      "-------------------------------------------\n",
      "Batch: 355\n",
      "-------------------------------------------\n",
      "+--------------------+-----+\n",
      "|word                |count|\n",
      "+--------------------+-----+\n",
      "|#UAM                |68   |\n",
      "|#ForoCambio11J      |63   |\n",
      "|#Apple              |56   |\n",
      "|#UniDeVerano        |49   |\n",
      "|#TuitUtil           |48   |\n",
      "|#TrabajarHacerCrecer|48   |\n",
      "|#VotaPP             |38   |\n",
      "|#Ciencia            |31   |\n",
      "|#RdPPodemos         |26   |\n",
      "|#xelFuturodeEspaña  |26   |\n",
      "+--------------------+-----+\n",
      "\n"
     ]
    },
    {
     "name": "stderr",
     "output_type": "stream",
     "text": [
      "                                                                                \r"
     ]
    },
    {
     "name": "stdout",
     "output_type": "stream",
     "text": [
      "-------------------------------------------\n",
      "Batch: 356\n",
      "-------------------------------------------\n",
      "+--------------------+-----+\n",
      "|word                |count|\n",
      "+--------------------+-----+\n",
      "|#UAM                |68   |\n",
      "|#ForoCambio11J      |64   |\n",
      "|#Apple              |56   |\n",
      "|#UniDeVerano        |49   |\n",
      "|#TuitUtil           |48   |\n",
      "|#TrabajarHacerCrecer|48   |\n",
      "|#VotaPP             |38   |\n",
      "|#Ciencia            |31   |\n",
      "|#xelFuturodeEspaña  |27   |\n",
      "|#RdPPodemos         |26   |\n",
      "+--------------------+-----+\n",
      "\n"
     ]
    },
    {
     "name": "stderr",
     "output_type": "stream",
     "text": [
      "[Stage 1072:===============================================>    (184 + 8) / 200]\r"
     ]
    },
    {
     "name": "stdout",
     "output_type": "stream",
     "text": [
      "-------------------------------------------\n",
      "Batch: 357\n",
      "-------------------------------------------\n",
      "+--------------------+-----+\n",
      "|word                |count|\n",
      "+--------------------+-----+\n",
      "|#UAM                |68   |\n",
      "|#ForoCambio11J      |64   |\n",
      "|#Apple              |56   |\n",
      "|#UniDeVerano        |52   |\n",
      "|#TuitUtil           |48   |\n",
      "|#TrabajarHacerCrecer|48   |\n",
      "|#VotaPP             |38   |\n",
      "|#Ciencia            |31   |\n",
      "|#xelFuturodeEspaña  |27   |\n",
      "|#RdPPodemos         |26   |\n",
      "+--------------------+-----+\n",
      "\n"
     ]
    },
    {
     "name": "stderr",
     "output_type": "stream",
     "text": [
      "                                                                                \r"
     ]
    },
    {
     "name": "stdout",
     "output_type": "stream",
     "text": [
      "-------------------------------------------\n",
      "Batch: 358\n",
      "-------------------------------------------\n",
      "+--------------------+-----+\n",
      "|word                |count|\n",
      "+--------------------+-----+\n",
      "|#UAM                |68   |\n",
      "|#ForoCambio11J      |65   |\n",
      "|#Apple              |56   |\n",
      "|#UniDeVerano        |52   |\n",
      "|#TuitUtil           |48   |\n",
      "|#TrabajarHacerCrecer|48   |\n",
      "|#VotaPP             |38   |\n",
      "|#Ciencia            |32   |\n",
      "|#xelFuturodeEspaña  |27   |\n",
      "|#RdPPodemos         |26   |\n",
      "+--------------------+-----+\n",
      "\n"
     ]
    },
    {
     "name": "stderr",
     "output_type": "stream",
     "text": [
      "                                                                                \r"
     ]
    },
    {
     "name": "stdout",
     "output_type": "stream",
     "text": [
      "-------------------------------------------\n",
      "Batch: 359\n",
      "-------------------------------------------\n",
      "+----------------------+-----+\n",
      "|word                  |count|\n",
      "+----------------------+-----+\n",
      "|#UAM                  |68   |\n",
      "|#ForoCambio11J        |65   |\n",
      "|#Apple                |56   |\n",
      "|#UniDeVerano          |52   |\n",
      "|#TuitUtil             |48   |\n",
      "|#TrabajarHacerCrecer  |48   |\n",
      "|#VotaPP               |38   |\n",
      "|#Ciencia              |33   |\n",
      "|#xelFuturodeEspaña    |27   |\n",
      "|#GobernarParaLaMayoría|27   |\n",
      "+----------------------+-----+\n",
      "\n"
     ]
    },
    {
     "name": "stderr",
     "output_type": "stream",
     "text": [
      "                                                                                \r"
     ]
    },
    {
     "name": "stdout",
     "output_type": "stream",
     "text": [
      "-------------------------------------------\n",
      "Batch: 360\n",
      "-------------------------------------------\n",
      "+----------------------+-----+\n",
      "|word                  |count|\n",
      "+----------------------+-----+\n",
      "|#UAM                  |69   |\n",
      "|#ForoCambio11J        |65   |\n",
      "|#Apple                |56   |\n",
      "|#UniDeVerano          |52   |\n",
      "|#TuitUtil             |48   |\n",
      "|#TrabajarHacerCrecer  |48   |\n",
      "|#VotaPP               |38   |\n",
      "|#Ciencia              |33   |\n",
      "|#xelFuturodeEspaña    |27   |\n",
      "|#GobernarParaLaMayoría|27   |\n",
      "+----------------------+-----+\n",
      "\n"
     ]
    },
    {
     "name": "stderr",
     "output_type": "stream",
     "text": [
      "                                                                                \r"
     ]
    },
    {
     "name": "stdout",
     "output_type": "stream",
     "text": [
      "-------------------------------------------\n",
      "Batch: 361\n",
      "-------------------------------------------\n",
      "+----------------------+-----+\n",
      "|word                  |count|\n",
      "+----------------------+-----+\n",
      "|#UAM                  |69   |\n",
      "|#ForoCambio11J        |65   |\n",
      "|#Apple                |56   |\n",
      "|#UniDeVerano          |53   |\n",
      "|#TuitUtil             |48   |\n",
      "|#TrabajarHacerCrecer  |48   |\n",
      "|#VotaPP               |38   |\n",
      "|#Ciencia              |33   |\n",
      "|#xelFuturodeEspaña    |27   |\n",
      "|#GobernarParaLaMayoría|27   |\n",
      "+----------------------+-----+\n",
      "\n"
     ]
    },
    {
     "name": "stderr",
     "output_type": "stream",
     "text": [
      "                                                                                \r"
     ]
    },
    {
     "name": "stdout",
     "output_type": "stream",
     "text": [
      "-------------------------------------------\n",
      "Batch: 362\n",
      "-------------------------------------------\n",
      "+----------------------+-----+\n",
      "|word                  |count|\n",
      "+----------------------+-----+\n",
      "|#UAM                  |70   |\n",
      "|#ForoCambio11J        |66   |\n",
      "|#Apple                |56   |\n",
      "|#UniDeVerano          |53   |\n",
      "|#TuitUtil             |48   |\n",
      "|#TrabajarHacerCrecer  |48   |\n",
      "|#VotaPP               |38   |\n",
      "|#Ciencia              |33   |\n",
      "|#GobernarParaLaMayoría|27   |\n",
      "|#xelFuturodeEspaña    |27   |\n",
      "+----------------------+-----+\n",
      "\n"
     ]
    },
    {
     "name": "stderr",
     "output_type": "stream",
     "text": [
      "                                                                                \r"
     ]
    },
    {
     "name": "stdout",
     "output_type": "stream",
     "text": [
      "-------------------------------------------\n",
      "Batch: 363\n",
      "-------------------------------------------\n",
      "+----------------------+-----+\n",
      "|word                  |count|\n",
      "+----------------------+-----+\n",
      "|#UAM                  |70   |\n",
      "|#ForoCambio11J        |66   |\n",
      "|#Apple                |56   |\n",
      "|#UniDeVerano          |53   |\n",
      "|#TuitUtil             |48   |\n",
      "|#TrabajarHacerCrecer  |48   |\n",
      "|#VotaPP               |38   |\n",
      "|#Ciencia              |34   |\n",
      "|#GobernarParaLaMayoría|27   |\n",
      "|#xelFuturodeEspaña    |27   |\n",
      "+----------------------+-----+\n",
      "\n"
     ]
    },
    {
     "name": "stderr",
     "output_type": "stream",
     "text": [
      "                                                                                \r"
     ]
    },
    {
     "name": "stdout",
     "output_type": "stream",
     "text": [
      "-------------------------------------------\n",
      "Batch: 364\n",
      "-------------------------------------------\n",
      "+----------------------+-----+\n",
      "|word                  |count|\n",
      "+----------------------+-----+\n",
      "|#UAM                  |70   |\n",
      "|#ForoCambio11J        |66   |\n",
      "|#Apple                |56   |\n",
      "|#UniDeVerano          |53   |\n",
      "|#TuitUtil             |48   |\n",
      "|#TrabajarHacerCrecer  |48   |\n",
      "|#VotaPP               |38   |\n",
      "|#Ciencia              |34   |\n",
      "|#GobernarParaLaMayoría|27   |\n",
      "|#xelFuturodeEspaña    |27   |\n",
      "+----------------------+-----+\n",
      "\n"
     ]
    },
    {
     "name": "stderr",
     "output_type": "stream",
     "text": [
      "                                                                                \r"
     ]
    },
    {
     "name": "stdout",
     "output_type": "stream",
     "text": [
      "-------------------------------------------\n",
      "Batch: 365\n",
      "-------------------------------------------\n",
      "+--------------------+-----+\n",
      "|word                |count|\n",
      "+--------------------+-----+\n",
      "|#UAM                |70   |\n",
      "|#ForoCambio11J      |66   |\n",
      "|#Apple              |56   |\n",
      "|#UniDeVerano        |54   |\n",
      "|#TuitUtil           |48   |\n",
      "|#TrabajarHacerCrecer|48   |\n",
      "|#VotaPP             |38   |\n",
      "|#Ciencia            |34   |\n",
      "|#RdPPodemos         |27   |\n",
      "|#xelFuturodeEspaña  |27   |\n",
      "+--------------------+-----+\n",
      "\n"
     ]
    },
    {
     "name": "stderr",
     "output_type": "stream",
     "text": [
      "                                                                                \r"
     ]
    },
    {
     "name": "stdout",
     "output_type": "stream",
     "text": [
      "-------------------------------------------\n",
      "Batch: 366\n",
      "-------------------------------------------\n",
      "+--------------------+-----+\n",
      "|word                |count|\n",
      "+--------------------+-----+\n",
      "|#UAM                |70   |\n",
      "|#ForoCambio11J      |66   |\n",
      "|#Apple              |56   |\n",
      "|#UniDeVerano        |54   |\n",
      "|#TuitUtil           |49   |\n",
      "|#TrabajarHacerCrecer|48   |\n",
      "|#VotaPP             |38   |\n",
      "|#Ciencia            |34   |\n",
      "|#RdPPodemos         |27   |\n",
      "|#xelFuturodeEspaña  |27   |\n",
      "+--------------------+-----+\n",
      "\n"
     ]
    },
    {
     "name": "stderr",
     "output_type": "stream",
     "text": [
      "                                                                                \r"
     ]
    },
    {
     "name": "stdout",
     "output_type": "stream",
     "text": [
      "-------------------------------------------\n",
      "Batch: 367\n",
      "-------------------------------------------\n",
      "+--------------------+-----+\n",
      "|word                |count|\n",
      "+--------------------+-----+\n",
      "|#UAM                |70   |\n",
      "|#ForoCambio11J      |66   |\n",
      "|#Apple              |56   |\n",
      "|#UniDeVerano        |55   |\n",
      "|#TuitUtil           |50   |\n",
      "|#TrabajarHacerCrecer|48   |\n",
      "|#VotaPP             |38   |\n",
      "|#Ciencia            |34   |\n",
      "|#RdPPodemos         |27   |\n",
      "|#xelFuturodeEspaña  |27   |\n",
      "+--------------------+-----+\n",
      "\n"
     ]
    },
    {
     "name": "stderr",
     "output_type": "stream",
     "text": [
      "                                                                                \r"
     ]
    },
    {
     "name": "stdout",
     "output_type": "stream",
     "text": [
      "-------------------------------------------\n",
      "Batch: 368\n",
      "-------------------------------------------\n",
      "+--------------------+-----+\n",
      "|word                |count|\n",
      "+--------------------+-----+\n",
      "|#UAM                |70   |\n",
      "|#ForoCambio11J      |66   |\n",
      "|#Apple              |56   |\n",
      "|#UniDeVerano        |55   |\n",
      "|#TuitUtil           |50   |\n",
      "|#TrabajarHacerCrecer|48   |\n",
      "|#VotaPP             |38   |\n",
      "|#Ciencia            |34   |\n",
      "|#RdPPodemos         |27   |\n",
      "|#xelFuturodeEspaña  |27   |\n",
      "+--------------------+-----+\n",
      "\n"
     ]
    },
    {
     "name": "stderr",
     "output_type": "stream",
     "text": [
      "                                                                                \r"
     ]
    },
    {
     "name": "stdout",
     "output_type": "stream",
     "text": [
      "-------------------------------------------\n",
      "Batch: 369\n",
      "-------------------------------------------\n",
      "+--------------------+-----+\n",
      "|word                |count|\n",
      "+--------------------+-----+\n",
      "|#UAM                |70   |\n",
      "|#ForoCambio11J      |66   |\n",
      "|#Apple              |56   |\n",
      "|#UniDeVerano        |55   |\n",
      "|#TuitUtil           |50   |\n",
      "|#TrabajarHacerCrecer|49   |\n",
      "|#VotaPP             |38   |\n",
      "|#Ciencia            |34   |\n",
      "|#RdPPodemos         |27   |\n",
      "|#xelFuturodeEspaña  |27   |\n",
      "+--------------------+-----+\n",
      "\n"
     ]
    },
    {
     "name": "stderr",
     "output_type": "stream",
     "text": [
      "                                                                                \r"
     ]
    },
    {
     "name": "stdout",
     "output_type": "stream",
     "text": [
      "-------------------------------------------\n",
      "Batch: 370\n",
      "-------------------------------------------\n",
      "+--------------------+-----+\n",
      "|word                |count|\n",
      "+--------------------+-----+\n",
      "|#UAM                |70   |\n",
      "|#ForoCambio11J      |66   |\n",
      "|#Apple              |56   |\n",
      "|#UniDeVerano        |55   |\n",
      "|#TuitUtil           |50   |\n",
      "|#TrabajarHacerCrecer|49   |\n",
      "|#VotaPP             |38   |\n",
      "|#Ciencia            |34   |\n",
      "|#RdPPodemos         |28   |\n",
      "|#xelFuturodeEspaña  |27   |\n",
      "+--------------------+-----+\n",
      "\n"
     ]
    },
    {
     "name": "stderr",
     "output_type": "stream",
     "text": [
      "[Stage 1114:==================================================> (195 + 5) / 200]\r"
     ]
    },
    {
     "name": "stdout",
     "output_type": "stream",
     "text": [
      "-------------------------------------------\n",
      "Batch: 371\n",
      "-------------------------------------------\n",
      "+--------------------+-----+\n",
      "|word                |count|\n",
      "+--------------------+-----+\n",
      "|#UAM                |70   |\n",
      "|#ForoCambio11J      |66   |\n",
      "|#Apple              |56   |\n",
      "|#UniDeVerano        |55   |\n",
      "|#TuitUtil           |50   |\n",
      "|#TrabajarHacerCrecer|49   |\n",
      "|#VotaPP             |38   |\n",
      "|#Ciencia            |34   |\n",
      "|#RdPPodemos         |28   |\n",
      "|#xelFuturodeEspaña  |27   |\n",
      "+--------------------+-----+\n",
      "\n"
     ]
    },
    {
     "name": "stderr",
     "output_type": "stream",
     "text": [
      "                                                                                \r"
     ]
    },
    {
     "name": "stdout",
     "output_type": "stream",
     "text": [
      "-------------------------------------------\n",
      "Batch: 372\n",
      "-------------------------------------------\n",
      "+--------------------+-----+\n",
      "|word                |count|\n",
      "+--------------------+-----+\n",
      "|#UAM                |70   |\n",
      "|#ForoCambio11J      |66   |\n",
      "|#Apple              |56   |\n",
      "|#UniDeVerano        |55   |\n",
      "|#TuitUtil           |50   |\n",
      "|#TrabajarHacerCrecer|49   |\n",
      "|#VotaPP             |38   |\n",
      "|#Ciencia            |34   |\n",
      "|#RdPPodemos         |28   |\n",
      "|#xelFuturodeEspaña  |27   |\n",
      "+--------------------+-----+\n",
      "\n"
     ]
    },
    {
     "name": "stderr",
     "output_type": "stream",
     "text": [
      "                                                                                \r"
     ]
    },
    {
     "name": "stdout",
     "output_type": "stream",
     "text": [
      "-------------------------------------------\n",
      "Batch: 373\n",
      "-------------------------------------------\n",
      "+--------------------+-----+\n",
      "|word                |count|\n",
      "+--------------------+-----+\n",
      "|#UAM                |70   |\n",
      "|#ForoCambio11J      |66   |\n",
      "|#Apple              |56   |\n",
      "|#UniDeVerano        |55   |\n",
      "|#TuitUtil           |50   |\n",
      "|#TrabajarHacerCrecer|49   |\n",
      "|#VotaPP             |38   |\n",
      "|#Ciencia            |34   |\n",
      "|#RdPPodemos         |28   |\n",
      "|#xelFuturodeEspaña  |27   |\n",
      "+--------------------+-----+\n",
      "\n"
     ]
    },
    {
     "name": "stderr",
     "output_type": "stream",
     "text": [
      "                                                                                \r"
     ]
    },
    {
     "name": "stdout",
     "output_type": "stream",
     "text": [
      "-------------------------------------------\n",
      "Batch: 374\n",
      "-------------------------------------------\n",
      "+--------------------+-----+\n",
      "|word                |count|\n",
      "+--------------------+-----+\n",
      "|#UAM                |70   |\n",
      "|#ForoCambio11J      |66   |\n",
      "|#Apple              |56   |\n",
      "|#UniDeVerano        |55   |\n",
      "|#TuitUtil           |50   |\n",
      "|#TrabajarHacerCrecer|49   |\n",
      "|#VotaPP             |38   |\n",
      "|#Ciencia            |34   |\n",
      "|#RdPPodemos         |28   |\n",
      "|#xelFuturodeEspaña  |27   |\n",
      "+--------------------+-----+\n",
      "\n"
     ]
    },
    {
     "name": "stderr",
     "output_type": "stream",
     "text": [
      "                                                                                \r"
     ]
    },
    {
     "name": "stdout",
     "output_type": "stream",
     "text": [
      "-------------------------------------------\n",
      "Batch: 375\n",
      "-------------------------------------------\n",
      "+--------------------+-----+\n",
      "|word                |count|\n",
      "+--------------------+-----+\n",
      "|#UAM                |70   |\n",
      "|#ForoCambio11J      |68   |\n",
      "|#Apple              |56   |\n",
      "|#UniDeVerano        |55   |\n",
      "|#TuitUtil           |51   |\n",
      "|#TrabajarHacerCrecer|49   |\n",
      "|#VotaPP             |38   |\n",
      "|#Ciencia            |34   |\n",
      "|#RdPPodemos         |28   |\n",
      "|#xelFuturodeEspaña  |27   |\n",
      "+--------------------+-----+\n",
      "\n"
     ]
    },
    {
     "name": "stderr",
     "output_type": "stream",
     "text": [
      "                                                                                \r"
     ]
    },
    {
     "name": "stdout",
     "output_type": "stream",
     "text": [
      "-------------------------------------------\n",
      "Batch: 376\n",
      "-------------------------------------------\n",
      "+--------------------+-----+\n",
      "|word                |count|\n",
      "+--------------------+-----+\n",
      "|#UAM                |70   |\n",
      "|#ForoCambio11J      |68   |\n",
      "|#Apple              |56   |\n",
      "|#UniDeVerano        |55   |\n",
      "|#TuitUtil           |51   |\n",
      "|#TrabajarHacerCrecer|49   |\n",
      "|#VotaPP             |38   |\n",
      "|#Ciencia            |34   |\n",
      "|#RdPPodemos         |28   |\n",
      "|#xelFuturodeEspaña  |27   |\n",
      "+--------------------+-----+\n",
      "\n"
     ]
    },
    {
     "name": "stderr",
     "output_type": "stream",
     "text": [
      "                                                                                \r"
     ]
    },
    {
     "name": "stdout",
     "output_type": "stream",
     "text": [
      "-------------------------------------------\n",
      "Batch: 377\n",
      "-------------------------------------------\n",
      "+--------------------+-----+\n",
      "|word                |count|\n",
      "+--------------------+-----+\n",
      "|#UAM                |70   |\n",
      "|#ForoCambio11J      |68   |\n",
      "|#Apple              |56   |\n",
      "|#UniDeVerano        |55   |\n",
      "|#TuitUtil           |51   |\n",
      "|#TrabajarHacerCrecer|50   |\n",
      "|#VotaPP             |38   |\n",
      "|#Ciencia            |34   |\n",
      "|#RdPPodemos         |28   |\n",
      "|#xelFuturodeEspaña  |27   |\n",
      "+--------------------+-----+\n",
      "\n"
     ]
    },
    {
     "name": "stderr",
     "output_type": "stream",
     "text": [
      "                                                                                \r"
     ]
    },
    {
     "name": "stdout",
     "output_type": "stream",
     "text": [
      "-------------------------------------------\n",
      "Batch: 378\n",
      "-------------------------------------------\n",
      "+--------------------+-----+\n",
      "|word                |count|\n",
      "+--------------------+-----+\n",
      "|#UAM                |70   |\n",
      "|#ForoCambio11J      |68   |\n",
      "|#Apple              |56   |\n",
      "|#UniDeVerano        |55   |\n",
      "|#TuitUtil           |51   |\n",
      "|#TrabajarHacerCrecer|50   |\n",
      "|#VotaPP             |38   |\n",
      "|#Ciencia            |34   |\n",
      "|#RdPPodemos         |28   |\n",
      "|#xelFuturodeEspaña  |27   |\n",
      "+--------------------+-----+\n",
      "\n"
     ]
    },
    {
     "name": "stderr",
     "output_type": "stream",
     "text": [
      "                                                                                \r"
     ]
    },
    {
     "name": "stdout",
     "output_type": "stream",
     "text": [
      "-------------------------------------------\n",
      "Batch: 379\n",
      "-------------------------------------------\n",
      "+--------------------+-----+\n",
      "|word                |count|\n",
      "+--------------------+-----+\n",
      "|#UAM                |70   |\n",
      "|#ForoCambio11J      |68   |\n",
      "|#Apple              |56   |\n",
      "|#UniDeVerano        |55   |\n",
      "|#TuitUtil           |51   |\n",
      "|#TrabajarHacerCrecer|50   |\n",
      "|#VotaPP             |38   |\n",
      "|#Ciencia            |34   |\n",
      "|#RdPPodemos         |28   |\n",
      "|#xelFuturodeEspaña  |27   |\n",
      "+--------------------+-----+\n",
      "\n"
     ]
    },
    {
     "name": "stderr",
     "output_type": "stream",
     "text": [
      "                                                                                \r"
     ]
    },
    {
     "name": "stdout",
     "output_type": "stream",
     "text": [
      "-------------------------------------------\n",
      "Batch: 380\n",
      "-------------------------------------------\n",
      "+----------------------+-----+\n",
      "|word                  |count|\n",
      "+----------------------+-----+\n",
      "|#UAM                  |71   |\n",
      "|#ForoCambio11J        |68   |\n",
      "|#Apple                |56   |\n",
      "|#UniDeVerano          |55   |\n",
      "|#TuitUtil             |51   |\n",
      "|#TrabajarHacerCrecer  |51   |\n",
      "|#VotaPP               |38   |\n",
      "|#Ciencia              |35   |\n",
      "|#RdPPodemos           |28   |\n",
      "|#GobernarParaLaMayoría|27   |\n",
      "+----------------------+-----+\n",
      "\n"
     ]
    },
    {
     "name": "stderr",
     "output_type": "stream",
     "text": [
      "                                                                                \r"
     ]
    },
    {
     "name": "stdout",
     "output_type": "stream",
     "text": [
      "-------------------------------------------\n",
      "Batch: 381\n",
      "-------------------------------------------\n",
      "+----------------------+-----+\n",
      "|word                  |count|\n",
      "+----------------------+-----+\n",
      "|#UAM                  |71   |\n",
      "|#ForoCambio11J        |68   |\n",
      "|#Apple                |56   |\n",
      "|#UniDeVerano          |55   |\n",
      "|#TuitUtil             |51   |\n",
      "|#TrabajarHacerCrecer  |51   |\n",
      "|#VotaPP               |38   |\n",
      "|#Ciencia              |35   |\n",
      "|#RdPPodemos           |28   |\n",
      "|#GobernarParaLaMayoría|27   |\n",
      "+----------------------+-----+\n",
      "\n"
     ]
    },
    {
     "name": "stderr",
     "output_type": "stream",
     "text": [
      "                                                                                \r"
     ]
    },
    {
     "name": "stdout",
     "output_type": "stream",
     "text": [
      "-------------------------------------------\n",
      "Batch: 382\n",
      "-------------------------------------------\n",
      "+----------------------+-----+\n",
      "|word                  |count|\n",
      "+----------------------+-----+\n",
      "|#UAM                  |71   |\n",
      "|#ForoCambio11J        |68   |\n",
      "|#Apple                |56   |\n",
      "|#UniDeVerano          |55   |\n",
      "|#TuitUtil             |51   |\n",
      "|#TrabajarHacerCrecer  |51   |\n",
      "|#VotaPP               |38   |\n",
      "|#Ciencia              |35   |\n",
      "|#RdPPodemos           |28   |\n",
      "|#GobernarParaLaMayoría|27   |\n",
      "+----------------------+-----+\n",
      "\n"
     ]
    },
    {
     "name": "stderr",
     "output_type": "stream",
     "text": [
      "                                                                                \r"
     ]
    },
    {
     "name": "stdout",
     "output_type": "stream",
     "text": [
      "-------------------------------------------\n",
      "Batch: 383\n",
      "-------------------------------------------\n",
      "+----------------------+-----+\n",
      "|word                  |count|\n",
      "+----------------------+-----+\n",
      "|#UAM                  |71   |\n",
      "|#ForoCambio11J        |68   |\n",
      "|#Apple                |56   |\n",
      "|#UniDeVerano          |55   |\n",
      "|#TuitUtil             |51   |\n",
      "|#TrabajarHacerCrecer  |51   |\n",
      "|#VotaPP               |38   |\n",
      "|#Ciencia              |35   |\n",
      "|#RdPPodemos           |28   |\n",
      "|#GobernarParaLaMayoría|27   |\n",
      "+----------------------+-----+\n",
      "\n"
     ]
    },
    {
     "name": "stderr",
     "output_type": "stream",
     "text": [
      "                                                                                \r"
     ]
    },
    {
     "name": "stdout",
     "output_type": "stream",
     "text": [
      "-------------------------------------------\n",
      "Batch: 384\n",
      "-------------------------------------------\n",
      "+----------------------+-----+\n",
      "|word                  |count|\n",
      "+----------------------+-----+\n",
      "|#UAM                  |71   |\n",
      "|#ForoCambio11J        |68   |\n",
      "|#Apple                |56   |\n",
      "|#UniDeVerano          |55   |\n",
      "|#TuitUtil             |51   |\n",
      "|#TrabajarHacerCrecer  |51   |\n",
      "|#VotaPP               |38   |\n",
      "|#Ciencia              |35   |\n",
      "|#RdPPodemos           |28   |\n",
      "|#GobernarParaLaMayoría|27   |\n",
      "+----------------------+-----+\n",
      "\n"
     ]
    },
    {
     "name": "stderr",
     "output_type": "stream",
     "text": [
      "                                                                                \r"
     ]
    },
    {
     "name": "stdout",
     "output_type": "stream",
     "text": [
      "-------------------------------------------\n",
      "Batch: 385\n",
      "-------------------------------------------\n",
      "+----------------------+-----+\n",
      "|word                  |count|\n",
      "+----------------------+-----+\n",
      "|#UAM                  |71   |\n",
      "|#ForoCambio11J        |68   |\n",
      "|#Apple                |56   |\n",
      "|#UniDeVerano          |55   |\n",
      "|#TuitUtil             |52   |\n",
      "|#TrabajarHacerCrecer  |51   |\n",
      "|#VotaPP               |39   |\n",
      "|#Ciencia              |35   |\n",
      "|#RdPPodemos           |28   |\n",
      "|#GobernarParaLaMayoría|27   |\n",
      "+----------------------+-----+\n",
      "\n"
     ]
    },
    {
     "name": "stderr",
     "output_type": "stream",
     "text": [
      "[Stage 1159:============================================>       (171 + 8) / 200]\r"
     ]
    },
    {
     "name": "stdout",
     "output_type": "stream",
     "text": [
      "-------------------------------------------\n",
      "Batch: 386\n",
      "-------------------------------------------\n",
      "+----------------------+-----+\n",
      "|word                  |count|\n",
      "+----------------------+-----+\n",
      "|#UAM                  |71   |\n",
      "|#ForoCambio11J        |68   |\n",
      "|#Apple                |56   |\n",
      "|#UniDeVerano          |55   |\n",
      "|#TuitUtil             |52   |\n",
      "|#TrabajarHacerCrecer  |51   |\n",
      "|#VotaPP               |39   |\n",
      "|#Ciencia              |35   |\n",
      "|#RdPPodemos           |28   |\n",
      "|#GobernarParaLaMayoría|27   |\n",
      "+----------------------+-----+\n",
      "\n"
     ]
    },
    {
     "name": "stderr",
     "output_type": "stream",
     "text": [
      "                                                                                \r"
     ]
    },
    {
     "name": "stdout",
     "output_type": "stream",
     "text": [
      "-------------------------------------------\n",
      "Batch: 387\n",
      "-------------------------------------------\n",
      "+----------------------+-----+\n",
      "|word                  |count|\n",
      "+----------------------+-----+\n",
      "|#UAM                  |71   |\n",
      "|#ForoCambio11J        |68   |\n",
      "|#Apple                |56   |\n",
      "|#UniDeVerano          |55   |\n",
      "|#TuitUtil             |53   |\n",
      "|#TrabajarHacerCrecer  |51   |\n",
      "|#VotaPP               |39   |\n",
      "|#Ciencia              |35   |\n",
      "|#RdPPodemos           |28   |\n",
      "|#GobernarParaLaMayoría|27   |\n",
      "+----------------------+-----+\n",
      "\n"
     ]
    },
    {
     "name": "stderr",
     "output_type": "stream",
     "text": [
      "                                                                                \r"
     ]
    },
    {
     "name": "stdout",
     "output_type": "stream",
     "text": [
      "-------------------------------------------\n",
      "Batch: 388\n",
      "-------------------------------------------\n",
      "+----------------------+-----+\n",
      "|word                  |count|\n",
      "+----------------------+-----+\n",
      "|#UAM                  |71   |\n",
      "|#ForoCambio11J        |69   |\n",
      "|#Apple                |56   |\n",
      "|#UniDeVerano          |55   |\n",
      "|#TuitUtil             |53   |\n",
      "|#TrabajarHacerCrecer  |52   |\n",
      "|#VotaPP               |39   |\n",
      "|#Ciencia              |35   |\n",
      "|#RdPPodemos           |28   |\n",
      "|#GobernarParaLaMayoría|27   |\n",
      "+----------------------+-----+\n",
      "\n"
     ]
    },
    {
     "name": "stderr",
     "output_type": "stream",
     "text": [
      "                                                                                \r"
     ]
    },
    {
     "name": "stdout",
     "output_type": "stream",
     "text": [
      "-------------------------------------------\n",
      "Batch: 389\n",
      "-------------------------------------------\n",
      "+----------------------+-----+\n",
      "|word                  |count|\n",
      "+----------------------+-----+\n",
      "|#UAM                  |71   |\n",
      "|#ForoCambio11J        |70   |\n",
      "|#Apple                |56   |\n",
      "|#UniDeVerano          |55   |\n",
      "|#TuitUtil             |53   |\n",
      "|#TrabajarHacerCrecer  |52   |\n",
      "|#VotaPP               |39   |\n",
      "|#Ciencia              |35   |\n",
      "|#RdPPodemos           |28   |\n",
      "|#GobernarParaLaMayoría|27   |\n",
      "+----------------------+-----+\n",
      "\n"
     ]
    },
    {
     "name": "stderr",
     "output_type": "stream",
     "text": [
      "                                                                                \r"
     ]
    },
    {
     "name": "stdout",
     "output_type": "stream",
     "text": [
      "-------------------------------------------\n",
      "Batch: 390\n",
      "-------------------------------------------\n",
      "+----------------------+-----+\n",
      "|word                  |count|\n",
      "+----------------------+-----+\n",
      "|#UAM                  |71   |\n",
      "|#ForoCambio11J        |70   |\n",
      "|#Apple                |56   |\n",
      "|#UniDeVerano          |55   |\n",
      "|#TuitUtil             |53   |\n",
      "|#TrabajarHacerCrecer  |52   |\n",
      "|#VotaPP               |39   |\n",
      "|#Ciencia              |35   |\n",
      "|#RdPPodemos           |28   |\n",
      "|#GobernarParaLaMayoría|28   |\n",
      "+----------------------+-----+\n",
      "\n"
     ]
    },
    {
     "name": "stderr",
     "output_type": "stream",
     "text": [
      "                                                                                \r"
     ]
    },
    {
     "name": "stdout",
     "output_type": "stream",
     "text": [
      "-------------------------------------------\n",
      "Batch: 391\n",
      "-------------------------------------------\n",
      "+----------------------+-----+\n",
      "|word                  |count|\n",
      "+----------------------+-----+\n",
      "|#UAM                  |71   |\n",
      "|#ForoCambio11J        |70   |\n",
      "|#Apple                |56   |\n",
      "|#UniDeVerano          |55   |\n",
      "|#TuitUtil             |53   |\n",
      "|#TrabajarHacerCrecer  |53   |\n",
      "|#VotaPP               |39   |\n",
      "|#Ciencia              |35   |\n",
      "|#RdPPodemos           |28   |\n",
      "|#GobernarParaLaMayoría|28   |\n",
      "+----------------------+-----+\n",
      "\n"
     ]
    },
    {
     "name": "stderr",
     "output_type": "stream",
     "text": [
      "                                                                                \r"
     ]
    },
    {
     "name": "stdout",
     "output_type": "stream",
     "text": [
      "-------------------------------------------\n",
      "Batch: 392\n",
      "-------------------------------------------\n",
      "+----------------------+-----+\n",
      "|word                  |count|\n",
      "+----------------------+-----+\n",
      "|#UAM                  |71   |\n",
      "|#ForoCambio11J        |70   |\n",
      "|#Apple                |56   |\n",
      "|#UniDeVerano          |55   |\n",
      "|#TuitUtil             |53   |\n",
      "|#TrabajarHacerCrecer  |53   |\n",
      "|#VotaPP               |39   |\n",
      "|#Ciencia              |35   |\n",
      "|#RdPPodemos           |28   |\n",
      "|#GobernarParaLaMayoría|28   |\n",
      "+----------------------+-----+\n",
      "\n"
     ]
    },
    {
     "name": "stderr",
     "output_type": "stream",
     "text": [
      "                                                                                \r"
     ]
    },
    {
     "name": "stdout",
     "output_type": "stream",
     "text": [
      "-------------------------------------------\n",
      "Batch: 393\n",
      "-------------------------------------------\n",
      "+----------------------+-----+\n",
      "|word                  |count|\n",
      "+----------------------+-----+\n",
      "|#ForoCambio11J        |71   |\n",
      "|#UAM                  |71   |\n",
      "|#Apple                |58   |\n",
      "|#UniDeVerano          |55   |\n",
      "|#TuitUtil             |54   |\n",
      "|#TrabajarHacerCrecer  |53   |\n",
      "|#VotaPP               |39   |\n",
      "|#Ciencia              |36   |\n",
      "|#RdPPodemos           |28   |\n",
      "|#GobernarParaLaMayoría|28   |\n",
      "+----------------------+-----+\n",
      "\n"
     ]
    },
    {
     "name": "stderr",
     "output_type": "stream",
     "text": [
      "                                                                                \r"
     ]
    },
    {
     "name": "stdout",
     "output_type": "stream",
     "text": [
      "-------------------------------------------\n",
      "Batch: 394\n",
      "-------------------------------------------\n",
      "+----------------------+-----+\n",
      "|word                  |count|\n",
      "+----------------------+-----+\n",
      "|#UAM                  |72   |\n",
      "|#ForoCambio11J        |71   |\n",
      "|#Apple                |58   |\n",
      "|#UniDeVerano          |55   |\n",
      "|#TuitUtil             |55   |\n",
      "|#TrabajarHacerCrecer  |53   |\n",
      "|#VotaPP               |39   |\n",
      "|#Ciencia              |36   |\n",
      "|#RdPPodemos           |28   |\n",
      "|#GobernarParaLaMayoría|28   |\n",
      "+----------------------+-----+\n",
      "\n"
     ]
    },
    {
     "name": "stderr",
     "output_type": "stream",
     "text": [
      "                                                                                \r"
     ]
    },
    {
     "name": "stdout",
     "output_type": "stream",
     "text": [
      "-------------------------------------------\n",
      "Batch: 395\n",
      "-------------------------------------------\n",
      "+----------------------+-----+\n",
      "|word                  |count|\n",
      "+----------------------+-----+\n",
      "|#UAM                  |72   |\n",
      "|#ForoCambio11J        |71   |\n",
      "|#Apple                |58   |\n",
      "|#UniDeVerano          |55   |\n",
      "|#TuitUtil             |55   |\n",
      "|#TrabajarHacerCrecer  |53   |\n",
      "|#VotaPP               |39   |\n",
      "|#Ciencia              |36   |\n",
      "|#GobernarParaLaMayoría|28   |\n",
      "|#RdPPodemos           |28   |\n",
      "+----------------------+-----+\n",
      "\n"
     ]
    },
    {
     "name": "stderr",
     "output_type": "stream",
     "text": [
      "                                                                                \r"
     ]
    },
    {
     "name": "stdout",
     "output_type": "stream",
     "text": [
      "-------------------------------------------\n",
      "Batch: 396\n",
      "-------------------------------------------\n",
      "+----------------------+-----+\n",
      "|word                  |count|\n",
      "+----------------------+-----+\n",
      "|#UAM                  |73   |\n",
      "|#ForoCambio11J        |71   |\n",
      "|#Apple                |58   |\n",
      "|#UniDeVerano          |55   |\n",
      "|#TuitUtil             |55   |\n",
      "|#TrabajarHacerCrecer  |54   |\n",
      "|#VotaPP               |39   |\n",
      "|#Ciencia              |36   |\n",
      "|#GobernarParaLaMayoría|28   |\n",
      "|#RdPPodemos           |28   |\n",
      "+----------------------+-----+\n",
      "\n"
     ]
    },
    {
     "name": "stderr",
     "output_type": "stream",
     "text": [
      "                                                                                \r"
     ]
    },
    {
     "name": "stdout",
     "output_type": "stream",
     "text": [
      "-------------------------------------------\n",
      "Batch: 397\n",
      "-------------------------------------------\n",
      "+----------------------+-----+\n",
      "|word                  |count|\n",
      "+----------------------+-----+\n",
      "|#UAM                  |73   |\n",
      "|#ForoCambio11J        |71   |\n",
      "|#Apple                |58   |\n",
      "|#TuitUtil             |57   |\n",
      "|#UniDeVerano          |55   |\n",
      "|#TrabajarHacerCrecer  |54   |\n",
      "|#VotaPP               |39   |\n",
      "|#Ciencia              |36   |\n",
      "|#GobernarParaLaMayoría|28   |\n",
      "|#RdPPodemos           |28   |\n",
      "+----------------------+-----+\n",
      "\n"
     ]
    },
    {
     "name": "stderr",
     "output_type": "stream",
     "text": [
      "                                                                                \r"
     ]
    },
    {
     "name": "stdout",
     "output_type": "stream",
     "text": [
      "-------------------------------------------\n",
      "Batch: 398\n",
      "-------------------------------------------\n",
      "+----------------------+-----+\n",
      "|word                  |count|\n",
      "+----------------------+-----+\n",
      "|#UAM                  |73   |\n",
      "|#ForoCambio11J        |71   |\n",
      "|#Apple                |58   |\n",
      "|#TuitUtil             |57   |\n",
      "|#UniDeVerano          |55   |\n",
      "|#TrabajarHacerCrecer  |54   |\n",
      "|#VotaPP               |39   |\n",
      "|#Ciencia              |36   |\n",
      "|#GobernarParaLaMayoría|28   |\n",
      "|#RdPPodemos           |28   |\n",
      "+----------------------+-----+\n",
      "\n"
     ]
    },
    {
     "name": "stderr",
     "output_type": "stream",
     "text": [
      "                                                                                \r"
     ]
    },
    {
     "name": "stdout",
     "output_type": "stream",
     "text": [
      "-------------------------------------------\n",
      "Batch: 399\n",
      "-------------------------------------------\n",
      "+--------------------+-----+\n",
      "|word                |count|\n",
      "+--------------------+-----+\n",
      "|#UAM                |73   |\n",
      "|#ForoCambio11J      |71   |\n",
      "|#Apple              |58   |\n",
      "|#TuitUtil           |57   |\n",
      "|#UniDeVerano        |55   |\n",
      "|#TrabajarHacerCrecer|54   |\n",
      "|#VotaPP             |40   |\n",
      "|#Ciencia            |36   |\n",
      "|#RdPPodemos         |30   |\n",
      "|#destacada          |28   |\n",
      "+--------------------+-----+\n",
      "\n"
     ]
    },
    {
     "name": "stderr",
     "output_type": "stream",
     "text": [
      "                                                                                \r"
     ]
    },
    {
     "name": "stdout",
     "output_type": "stream",
     "text": [
      "-------------------------------------------\n",
      "Batch: 400\n",
      "-------------------------------------------\n",
      "+--------------------+-----+\n",
      "|word                |count|\n",
      "+--------------------+-----+\n",
      "|#UAM                |73   |\n",
      "|#ForoCambio11J      |71   |\n",
      "|#Apple              |58   |\n",
      "|#TuitUtil           |57   |\n",
      "|#UniDeVerano        |55   |\n",
      "|#TrabajarHacerCrecer|54   |\n",
      "|#VotaPP             |40   |\n",
      "|#Ciencia            |36   |\n",
      "|#RdPPodemos         |30   |\n",
      "|#destacada          |28   |\n",
      "+--------------------+-----+\n",
      "\n"
     ]
    },
    {
     "name": "stderr",
     "output_type": "stream",
     "text": [
      "                                                                                \r"
     ]
    },
    {
     "name": "stdout",
     "output_type": "stream",
     "text": [
      "-------------------------------------------\n",
      "Batch: 401\n",
      "-------------------------------------------\n",
      "+--------------------+-----+\n",
      "|word                |count|\n",
      "+--------------------+-----+\n",
      "|#UAM                |73   |\n",
      "|#ForoCambio11J      |71   |\n",
      "|#Apple              |58   |\n",
      "|#TuitUtil           |57   |\n",
      "|#UniDeVerano        |55   |\n",
      "|#TrabajarHacerCrecer|54   |\n",
      "|#VotaPP             |40   |\n",
      "|#Ciencia            |36   |\n",
      "|#RdPPodemos         |30   |\n",
      "|#destacada          |28   |\n",
      "+--------------------+-----+\n",
      "\n"
     ]
    },
    {
     "name": "stderr",
     "output_type": "stream",
     "text": [
      "                                                                                \r"
     ]
    },
    {
     "name": "stdout",
     "output_type": "stream",
     "text": [
      "-------------------------------------------\n",
      "Batch: 402\n",
      "-------------------------------------------\n",
      "+--------------------+-----+\n",
      "|word                |count|\n",
      "+--------------------+-----+\n",
      "|#UAM                |73   |\n",
      "|#ForoCambio11J      |71   |\n",
      "|#Apple              |58   |\n",
      "|#TuitUtil           |58   |\n",
      "|#UniDeVerano        |55   |\n",
      "|#TrabajarHacerCrecer|54   |\n",
      "|#VotaPP             |40   |\n",
      "|#Ciencia            |36   |\n",
      "|#RdPPodemos         |30   |\n",
      "|#destacada          |28   |\n",
      "+--------------------+-----+\n",
      "\n"
     ]
    },
    {
     "name": "stderr",
     "output_type": "stream",
     "text": [
      "                                                                                \r"
     ]
    },
    {
     "name": "stdout",
     "output_type": "stream",
     "text": [
      "-------------------------------------------\n",
      "Batch: 403\n",
      "-------------------------------------------\n",
      "+--------------------+-----+\n",
      "|word                |count|\n",
      "+--------------------+-----+\n",
      "|#UAM                |73   |\n",
      "|#ForoCambio11J      |71   |\n",
      "|#Apple              |58   |\n",
      "|#TuitUtil           |58   |\n",
      "|#UniDeVerano        |56   |\n",
      "|#TrabajarHacerCrecer|55   |\n",
      "|#VotaPP             |40   |\n",
      "|#Ciencia            |36   |\n",
      "|#RdPPodemos         |30   |\n",
      "|#destacada          |28   |\n",
      "+--------------------+-----+\n",
      "\n"
     ]
    },
    {
     "name": "stderr",
     "output_type": "stream",
     "text": [
      "                                                                                \r"
     ]
    },
    {
     "name": "stdout",
     "output_type": "stream",
     "text": [
      "-------------------------------------------\n",
      "Batch: 404\n",
      "-------------------------------------------\n",
      "+----------------------+-----+\n",
      "|word                  |count|\n",
      "+----------------------+-----+\n",
      "|#UAM                  |73   |\n",
      "|#ForoCambio11J        |71   |\n",
      "|#Apple                |58   |\n",
      "|#TuitUtil             |58   |\n",
      "|#UniDeVerano          |57   |\n",
      "|#TrabajarHacerCrecer  |55   |\n",
      "|#VotaPP               |40   |\n",
      "|#Ciencia              |36   |\n",
      "|#RdPPodemos           |30   |\n",
      "|#GobernarParaLaMayoría|29   |\n",
      "+----------------------+-----+\n",
      "\n"
     ]
    },
    {
     "name": "stderr",
     "output_type": "stream",
     "text": [
      "                                                                                \r"
     ]
    },
    {
     "name": "stdout",
     "output_type": "stream",
     "text": [
      "-------------------------------------------\n",
      "Batch: 405\n",
      "-------------------------------------------\n",
      "+----------------------+-----+\n",
      "|word                  |count|\n",
      "+----------------------+-----+\n",
      "|#UAM                  |73   |\n",
      "|#ForoCambio11J        |71   |\n",
      "|#Apple                |60   |\n",
      "|#UniDeVerano          |58   |\n",
      "|#TuitUtil             |58   |\n",
      "|#TrabajarHacerCrecer  |55   |\n",
      "|#VotaPP               |40   |\n",
      "|#Ciencia              |36   |\n",
      "|#RdPPodemos           |31   |\n",
      "|#GobernarParaLaMayoría|29   |\n",
      "+----------------------+-----+\n",
      "\n"
     ]
    },
    {
     "name": "stderr",
     "output_type": "stream",
     "text": [
      "                                                                                \r"
     ]
    },
    {
     "name": "stdout",
     "output_type": "stream",
     "text": [
      "-------------------------------------------\n",
      "Batch: 406\n",
      "-------------------------------------------\n",
      "+----------------------+-----+\n",
      "|word                  |count|\n",
      "+----------------------+-----+\n",
      "|#UAM                  |73   |\n",
      "|#ForoCambio11J        |71   |\n",
      "|#Apple                |61   |\n",
      "|#UniDeVerano          |59   |\n",
      "|#TuitUtil             |58   |\n",
      "|#TrabajarHacerCrecer  |55   |\n",
      "|#VotaPP               |40   |\n",
      "|#Ciencia              |36   |\n",
      "|#RdPPodemos           |31   |\n",
      "|#GobernarParaLaMayoría|29   |\n",
      "+----------------------+-----+\n",
      "\n"
     ]
    },
    {
     "name": "stderr",
     "output_type": "stream",
     "text": [
      "                                                                                \r"
     ]
    },
    {
     "name": "stdout",
     "output_type": "stream",
     "text": [
      "-------------------------------------------\n",
      "Batch: 407\n",
      "-------------------------------------------\n",
      "+----------------------+-----+\n",
      "|word                  |count|\n",
      "+----------------------+-----+\n",
      "|#UAM                  |74   |\n",
      "|#ForoCambio11J        |71   |\n",
      "|#Apple                |61   |\n",
      "|#UniDeVerano          |59   |\n",
      "|#TuitUtil             |58   |\n",
      "|#TrabajarHacerCrecer  |55   |\n",
      "|#VotaPP               |40   |\n",
      "|#Ciencia              |36   |\n",
      "|#RdPPodemos           |31   |\n",
      "|#GobernarParaLaMayoría|30   |\n",
      "+----------------------+-----+\n",
      "\n"
     ]
    },
    {
     "name": "stderr",
     "output_type": "stream",
     "text": [
      "                                                                                \r"
     ]
    },
    {
     "name": "stdout",
     "output_type": "stream",
     "text": [
      "-------------------------------------------\n",
      "Batch: 408\n",
      "-------------------------------------------\n",
      "+----------------------+-----+\n",
      "|word                  |count|\n",
      "+----------------------+-----+\n",
      "|#UAM                  |74   |\n",
      "|#ForoCambio11J        |72   |\n",
      "|#Apple                |61   |\n",
      "|#UniDeVerano          |59   |\n",
      "|#TuitUtil             |58   |\n",
      "|#TrabajarHacerCrecer  |55   |\n",
      "|#VotaPP               |40   |\n",
      "|#Ciencia              |36   |\n",
      "|#RdPPodemos           |31   |\n",
      "|#GobernarParaLaMayoría|30   |\n",
      "+----------------------+-----+\n",
      "\n"
     ]
    },
    {
     "name": "stderr",
     "output_type": "stream",
     "text": [
      "                                                                                \r"
     ]
    },
    {
     "name": "stdout",
     "output_type": "stream",
     "text": [
      "-------------------------------------------\n",
      "Batch: 409\n",
      "-------------------------------------------\n",
      "+----------------------+-----+\n",
      "|word                  |count|\n",
      "+----------------------+-----+\n",
      "|#UAM                  |74   |\n",
      "|#ForoCambio11J        |72   |\n",
      "|#Apple                |61   |\n",
      "|#UniDeVerano          |59   |\n",
      "|#TuitUtil             |58   |\n",
      "|#TrabajarHacerCrecer  |55   |\n",
      "|#VotaPP               |40   |\n",
      "|#Ciencia              |36   |\n",
      "|#RdPPodemos           |31   |\n",
      "|#GobernarParaLaMayoría|30   |\n",
      "+----------------------+-----+\n",
      "\n"
     ]
    },
    {
     "name": "stderr",
     "output_type": "stream",
     "text": [
      "                                                                                \r"
     ]
    },
    {
     "name": "stdout",
     "output_type": "stream",
     "text": [
      "-------------------------------------------\n",
      "Batch: 410\n",
      "-------------------------------------------\n",
      "+----------------------+-----+\n",
      "|word                  |count|\n",
      "+----------------------+-----+\n",
      "|#UAM                  |75   |\n",
      "|#ForoCambio11J        |72   |\n",
      "|#Apple                |61   |\n",
      "|#UniDeVerano          |59   |\n",
      "|#TuitUtil             |58   |\n",
      "|#TrabajarHacerCrecer  |55   |\n",
      "|#VotaPP               |40   |\n",
      "|#Ciencia              |36   |\n",
      "|#RdPPodemos           |31   |\n",
      "|#GobernarParaLaMayoría|30   |\n",
      "+----------------------+-----+\n",
      "\n"
     ]
    },
    {
     "name": "stderr",
     "output_type": "stream",
     "text": [
      "                                                                                \r"
     ]
    },
    {
     "name": "stdout",
     "output_type": "stream",
     "text": [
      "-------------------------------------------\n",
      "Batch: 411\n",
      "-------------------------------------------\n",
      "+--------------------+-----+\n",
      "|word                |count|\n",
      "+--------------------+-----+\n",
      "|#UAM                |75   |\n",
      "|#ForoCambio11J      |72   |\n",
      "|#Apple              |61   |\n",
      "|#UniDeVerano        |59   |\n",
      "|#TuitUtil           |58   |\n",
      "|#TrabajarHacerCrecer|55   |\n",
      "|#VotaPP             |40   |\n",
      "|#Ciencia            |36   |\n",
      "|#RdPPodemos         |31   |\n",
      "|#destacada          |30   |\n",
      "+--------------------+-----+\n",
      "\n"
     ]
    },
    {
     "name": "stderr",
     "output_type": "stream",
     "text": [
      "                                                                                \r"
     ]
    },
    {
     "name": "stdout",
     "output_type": "stream",
     "text": [
      "-------------------------------------------\n",
      "Batch: 412\n",
      "-------------------------------------------\n",
      "+--------------------+-----+\n",
      "|word                |count|\n",
      "+--------------------+-----+\n",
      "|#UAM                |75   |\n",
      "|#ForoCambio11J      |72   |\n",
      "|#Apple              |62   |\n",
      "|#UniDeVerano        |59   |\n",
      "|#TuitUtil           |58   |\n",
      "|#TrabajarHacerCrecer|55   |\n",
      "|#VotaPP             |40   |\n",
      "|#Ciencia            |36   |\n",
      "|#RdPPodemos         |31   |\n",
      "|#destacada          |30   |\n",
      "+--------------------+-----+\n",
      "\n"
     ]
    },
    {
     "name": "stderr",
     "output_type": "stream",
     "text": [
      "                                                                                \r"
     ]
    },
    {
     "name": "stdout",
     "output_type": "stream",
     "text": [
      "-------------------------------------------\n",
      "Batch: 413\n",
      "-------------------------------------------\n",
      "+--------------------+-----+\n",
      "|word                |count|\n",
      "+--------------------+-----+\n",
      "|#UAM                |76   |\n",
      "|#ForoCambio11J      |72   |\n",
      "|#Apple              |62   |\n",
      "|#UniDeVerano        |59   |\n",
      "|#TuitUtil           |58   |\n",
      "|#TrabajarHacerCrecer|55   |\n",
      "|#VotaPP             |40   |\n",
      "|#Ciencia            |36   |\n",
      "|#RdPPodemos         |31   |\n",
      "|#destacada          |30   |\n",
      "+--------------------+-----+\n",
      "\n"
     ]
    },
    {
     "name": "stderr",
     "output_type": "stream",
     "text": [
      "                                                                                \r"
     ]
    },
    {
     "name": "stdout",
     "output_type": "stream",
     "text": [
      "-------------------------------------------\n",
      "Batch: 414\n",
      "-------------------------------------------\n",
      "+--------------------+-----+\n",
      "|word                |count|\n",
      "+--------------------+-----+\n",
      "|#UAM                |76   |\n",
      "|#ForoCambio11J      |72   |\n",
      "|#Apple              |62   |\n",
      "|#UniDeVerano        |59   |\n",
      "|#TuitUtil           |58   |\n",
      "|#TrabajarHacerCrecer|56   |\n",
      "|#VotaPP             |40   |\n",
      "|#Ciencia            |36   |\n",
      "|#RdPPodemos         |31   |\n",
      "|#destacada          |30   |\n",
      "+--------------------+-----+\n",
      "\n"
     ]
    },
    {
     "name": "stderr",
     "output_type": "stream",
     "text": [
      "                                                                                \r"
     ]
    },
    {
     "name": "stdout",
     "output_type": "stream",
     "text": [
      "-------------------------------------------\n",
      "Batch: 415\n",
      "-------------------------------------------\n",
      "+----------------------+-----+\n",
      "|word                  |count|\n",
      "+----------------------+-----+\n",
      "|#UAM                  |76   |\n",
      "|#ForoCambio11J        |72   |\n",
      "|#Apple                |62   |\n",
      "|#UniDeVerano          |59   |\n",
      "|#TuitUtil             |58   |\n",
      "|#TrabajarHacerCrecer  |56   |\n",
      "|#VotaPP               |40   |\n",
      "|#Ciencia              |36   |\n",
      "|#GobernarParaLaMayoría|31   |\n",
      "|#RdPPodemos           |31   |\n",
      "+----------------------+-----+\n",
      "\n"
     ]
    },
    {
     "name": "stderr",
     "output_type": "stream",
     "text": [
      "                                                                                \r"
     ]
    },
    {
     "name": "stdout",
     "output_type": "stream",
     "text": [
      "-------------------------------------------\n",
      "Batch: 416\n",
      "-------------------------------------------\n",
      "+----------------------+-----+\n",
      "|word                  |count|\n",
      "+----------------------+-----+\n",
      "|#UAM                  |76   |\n",
      "|#ForoCambio11J        |72   |\n",
      "|#Apple                |62   |\n",
      "|#UniDeVerano          |59   |\n",
      "|#TuitUtil             |58   |\n",
      "|#TrabajarHacerCrecer  |57   |\n",
      "|#VotaPP               |42   |\n",
      "|#Ciencia              |36   |\n",
      "|#GobernarParaLaMayoría|31   |\n",
      "|#RdPPodemos           |31   |\n",
      "+----------------------+-----+\n",
      "\n"
     ]
    },
    {
     "name": "stderr",
     "output_type": "stream",
     "text": [
      "                                                                                \r"
     ]
    },
    {
     "name": "stdout",
     "output_type": "stream",
     "text": [
      "-------------------------------------------\n",
      "Batch: 417\n",
      "-------------------------------------------\n",
      "+----------------------+-----+\n",
      "|word                  |count|\n",
      "+----------------------+-----+\n",
      "|#UAM                  |77   |\n",
      "|#ForoCambio11J        |72   |\n",
      "|#Apple                |62   |\n",
      "|#UniDeVerano          |59   |\n",
      "|#TuitUtil             |58   |\n",
      "|#TrabajarHacerCrecer  |57   |\n",
      "|#VotaPP               |42   |\n",
      "|#Ciencia              |36   |\n",
      "|#GobernarParaLaMayoría|31   |\n",
      "|#RdPPodemos           |31   |\n",
      "+----------------------+-----+\n",
      "\n"
     ]
    },
    {
     "name": "stderr",
     "output_type": "stream",
     "text": [
      "                                                                                \r"
     ]
    },
    {
     "name": "stdout",
     "output_type": "stream",
     "text": [
      "-------------------------------------------\n",
      "Batch: 418\n",
      "-------------------------------------------\n",
      "+----------------------+-----+\n",
      "|word                  |count|\n",
      "+----------------------+-----+\n",
      "|#UAM                  |77   |\n",
      "|#ForoCambio11J        |72   |\n",
      "|#Apple                |62   |\n",
      "|#UniDeVerano          |59   |\n",
      "|#TuitUtil             |58   |\n",
      "|#TrabajarHacerCrecer  |57   |\n",
      "|#VotaPP               |42   |\n",
      "|#Ciencia              |36   |\n",
      "|#GobernarParaLaMayoría|31   |\n",
      "|#RdPPodemos           |31   |\n",
      "+----------------------+-----+\n",
      "\n"
     ]
    },
    {
     "name": "stderr",
     "output_type": "stream",
     "text": [
      "                                                                                \r"
     ]
    },
    {
     "name": "stdout",
     "output_type": "stream",
     "text": [
      "-------------------------------------------\n",
      "Batch: 419\n",
      "-------------------------------------------\n",
      "+----------------------+-----+\n",
      "|word                  |count|\n",
      "+----------------------+-----+\n",
      "|#UAM                  |77   |\n",
      "|#ForoCambio11J        |72   |\n",
      "|#Apple                |62   |\n",
      "|#UniDeVerano          |61   |\n",
      "|#TuitUtil             |59   |\n",
      "|#TrabajarHacerCrecer  |57   |\n",
      "|#VotaPP               |42   |\n",
      "|#Ciencia              |36   |\n",
      "|#RdPPodemos           |31   |\n",
      "|#GobernarParaLaMayoría|31   |\n",
      "+----------------------+-----+\n",
      "\n"
     ]
    },
    {
     "name": "stderr",
     "output_type": "stream",
     "text": [
      "                                                                                \r"
     ]
    },
    {
     "name": "stdout",
     "output_type": "stream",
     "text": [
      "-------------------------------------------\n",
      "Batch: 420\n",
      "-------------------------------------------\n",
      "+----------------------+-----+\n",
      "|word                  |count|\n",
      "+----------------------+-----+\n",
      "|#UAM                  |77   |\n",
      "|#ForoCambio11J        |72   |\n",
      "|#UniDeVerano          |63   |\n",
      "|#Apple                |62   |\n",
      "|#TuitUtil             |59   |\n",
      "|#TrabajarHacerCrecer  |57   |\n",
      "|#VotaPP               |43   |\n",
      "|#Ciencia              |36   |\n",
      "|#RdPPodemos           |31   |\n",
      "|#GobernarParaLaMayoría|31   |\n",
      "+----------------------+-----+\n",
      "\n"
     ]
    },
    {
     "name": "stderr",
     "output_type": "stream",
     "text": [
      "                                                                                \r"
     ]
    },
    {
     "name": "stdout",
     "output_type": "stream",
     "text": [
      "-------------------------------------------\n",
      "Batch: 421\n",
      "-------------------------------------------\n",
      "+----------------------+-----+\n",
      "|word                  |count|\n",
      "+----------------------+-----+\n",
      "|#UAM                  |77   |\n",
      "|#ForoCambio11J        |72   |\n",
      "|#UniDeVerano          |63   |\n",
      "|#Apple                |63   |\n",
      "|#TuitUtil             |59   |\n",
      "|#TrabajarHacerCrecer  |57   |\n",
      "|#VotaPP               |43   |\n",
      "|#Ciencia              |36   |\n",
      "|#RdPPodemos           |31   |\n",
      "|#GobernarParaLaMayoría|31   |\n",
      "+----------------------+-----+\n",
      "\n"
     ]
    },
    {
     "name": "stderr",
     "output_type": "stream",
     "text": [
      "                                                                                \r"
     ]
    },
    {
     "name": "stdout",
     "output_type": "stream",
     "text": [
      "-------------------------------------------\n",
      "Batch: 422\n",
      "-------------------------------------------\n",
      "+----------------------+-----+\n",
      "|word                  |count|\n",
      "+----------------------+-----+\n",
      "|#UAM                  |78   |\n",
      "|#ForoCambio11J        |72   |\n",
      "|#UniDeVerano          |63   |\n",
      "|#Apple                |63   |\n",
      "|#TuitUtil             |59   |\n",
      "|#TrabajarHacerCrecer  |57   |\n",
      "|#VotaPP               |43   |\n",
      "|#Ciencia              |36   |\n",
      "|#RdPPodemos           |31   |\n",
      "|#GobernarParaLaMayoría|31   |\n",
      "+----------------------+-----+\n",
      "\n"
     ]
    },
    {
     "name": "stderr",
     "output_type": "stream",
     "text": [
      "                                                                                \r"
     ]
    },
    {
     "name": "stdout",
     "output_type": "stream",
     "text": [
      "-------------------------------------------\n",
      "Batch: 423\n",
      "-------------------------------------------\n",
      "+----------------------+-----+\n",
      "|word                  |count|\n",
      "+----------------------+-----+\n",
      "|#UAM                  |78   |\n",
      "|#ForoCambio11J        |72   |\n",
      "|#UniDeVerano          |63   |\n",
      "|#Apple                |63   |\n",
      "|#TuitUtil             |59   |\n",
      "|#TrabajarHacerCrecer  |57   |\n",
      "|#VotaPP               |43   |\n",
      "|#Ciencia              |36   |\n",
      "|#RdPPodemos           |31   |\n",
      "|#GobernarParaLaMayoría|31   |\n",
      "+----------------------+-----+\n",
      "\n"
     ]
    },
    {
     "name": "stderr",
     "output_type": "stream",
     "text": [
      "                                                                                \r"
     ]
    },
    {
     "name": "stdout",
     "output_type": "stream",
     "text": [
      "-------------------------------------------\n",
      "Batch: 424\n",
      "-------------------------------------------\n",
      "+----------------------+-----+\n",
      "|word                  |count|\n",
      "+----------------------+-----+\n",
      "|#UAM                  |78   |\n",
      "|#ForoCambio11J        |72   |\n",
      "|#UniDeVerano          |63   |\n",
      "|#Apple                |63   |\n",
      "|#TuitUtil             |59   |\n",
      "|#TrabajarHacerCrecer  |58   |\n",
      "|#VotaPP               |43   |\n",
      "|#Ciencia              |36   |\n",
      "|#RdPPodemos           |31   |\n",
      "|#GobernarParaLaMayoría|31   |\n",
      "+----------------------+-----+\n",
      "\n"
     ]
    },
    {
     "name": "stderr",
     "output_type": "stream",
     "text": [
      "                                                                                \r"
     ]
    },
    {
     "name": "stdout",
     "output_type": "stream",
     "text": [
      "-------------------------------------------\n",
      "Batch: 425\n",
      "-------------------------------------------\n",
      "+----------------------+-----+\n",
      "|word                  |count|\n",
      "+----------------------+-----+\n",
      "|#UAM                  |78   |\n",
      "|#ForoCambio11J        |72   |\n",
      "|#Apple                |64   |\n",
      "|#UniDeVerano          |63   |\n",
      "|#TuitUtil             |59   |\n",
      "|#TrabajarHacerCrecer  |58   |\n",
      "|#VotaPP               |44   |\n",
      "|#Ciencia              |36   |\n",
      "|#RdPPodemos           |31   |\n",
      "|#GobernarParaLaMayoría|31   |\n",
      "+----------------------+-----+\n",
      "\n"
     ]
    },
    {
     "name": "stderr",
     "output_type": "stream",
     "text": [
      "                                                                                \r"
     ]
    },
    {
     "name": "stdout",
     "output_type": "stream",
     "text": [
      "-------------------------------------------\n",
      "Batch: 426\n",
      "-------------------------------------------\n",
      "+----------------------+-----+\n",
      "|word                  |count|\n",
      "+----------------------+-----+\n",
      "|#UAM                  |79   |\n",
      "|#ForoCambio11J        |72   |\n",
      "|#Apple                |64   |\n",
      "|#UniDeVerano          |63   |\n",
      "|#TuitUtil             |60   |\n",
      "|#TrabajarHacerCrecer  |58   |\n",
      "|#VotaPP               |44   |\n",
      "|#Ciencia              |36   |\n",
      "|#RdPPodemos           |31   |\n",
      "|#GobernarParaLaMayoría|31   |\n",
      "+----------------------+-----+\n",
      "\n"
     ]
    },
    {
     "name": "stderr",
     "output_type": "stream",
     "text": [
      "                                                                                \r"
     ]
    },
    {
     "name": "stdout",
     "output_type": "stream",
     "text": [
      "-------------------------------------------\n",
      "Batch: 427\n",
      "-------------------------------------------\n",
      "+----------------------+-----+\n",
      "|word                  |count|\n",
      "+----------------------+-----+\n",
      "|#UAM                  |80   |\n",
      "|#ForoCambio11J        |72   |\n",
      "|#Apple                |64   |\n",
      "|#UniDeVerano          |63   |\n",
      "|#TuitUtil             |60   |\n",
      "|#TrabajarHacerCrecer  |58   |\n",
      "|#VotaPP               |44   |\n",
      "|#Ciencia              |36   |\n",
      "|#RdPPodemos           |31   |\n",
      "|#GobernarParaLaMayoría|31   |\n",
      "+----------------------+-----+\n",
      "\n"
     ]
    },
    {
     "name": "stderr",
     "output_type": "stream",
     "text": [
      "                                                                                \r"
     ]
    },
    {
     "name": "stdout",
     "output_type": "stream",
     "text": [
      "-------------------------------------------\n",
      "Batch: 428\n",
      "-------------------------------------------\n",
      "+----------------------+-----+\n",
      "|word                  |count|\n",
      "+----------------------+-----+\n",
      "|#UAM                  |80   |\n",
      "|#ForoCambio11J        |73   |\n",
      "|#Apple                |64   |\n",
      "|#UniDeVerano          |63   |\n",
      "|#TuitUtil             |60   |\n",
      "|#TrabajarHacerCrecer  |58   |\n",
      "|#VotaPP               |44   |\n",
      "|#Ciencia              |36   |\n",
      "|#RdPPodemos           |31   |\n",
      "|#GobernarParaLaMayoría|31   |\n",
      "+----------------------+-----+\n",
      "\n"
     ]
    },
    {
     "name": "stderr",
     "output_type": "stream",
     "text": [
      "                                                                                \r"
     ]
    },
    {
     "name": "stdout",
     "output_type": "stream",
     "text": [
      "-------------------------------------------\n",
      "Batch: 429\n",
      "-------------------------------------------\n",
      "+----------------------+-----+\n",
      "|word                  |count|\n",
      "+----------------------+-----+\n",
      "|#UAM                  |80   |\n",
      "|#ForoCambio11J        |73   |\n",
      "|#Apple                |64   |\n",
      "|#UniDeVerano          |63   |\n",
      "|#TuitUtil             |60   |\n",
      "|#TrabajarHacerCrecer  |58   |\n",
      "|#VotaPP               |44   |\n",
      "|#Ciencia              |37   |\n",
      "|#RdPPodemos           |31   |\n",
      "|#GobernarParaLaMayoría|31   |\n",
      "+----------------------+-----+\n",
      "\n"
     ]
    },
    {
     "name": "stderr",
     "output_type": "stream",
     "text": [
      "                                                                                \r"
     ]
    },
    {
     "name": "stdout",
     "output_type": "stream",
     "text": [
      "-------------------------------------------\n",
      "Batch: 430\n",
      "-------------------------------------------\n",
      "+----------------------+-----+\n",
      "|word                  |count|\n",
      "+----------------------+-----+\n",
      "|#UAM                  |80   |\n",
      "|#ForoCambio11J        |73   |\n",
      "|#Apple                |64   |\n",
      "|#UniDeVerano          |63   |\n",
      "|#TuitUtil             |60   |\n",
      "|#TrabajarHacerCrecer  |58   |\n",
      "|#VotaPP               |44   |\n",
      "|#Ciencia              |37   |\n",
      "|#RdPPodemos           |31   |\n",
      "|#GobernarParaLaMayoría|31   |\n",
      "+----------------------+-----+\n",
      "\n"
     ]
    },
    {
     "name": "stderr",
     "output_type": "stream",
     "text": [
      "                                                                                \r"
     ]
    },
    {
     "name": "stdout",
     "output_type": "stream",
     "text": [
      "-------------------------------------------\n",
      "Batch: 431\n",
      "-------------------------------------------\n",
      "+----------------------+-----+\n",
      "|word                  |count|\n",
      "+----------------------+-----+\n",
      "|#UAM                  |80   |\n",
      "|#ForoCambio11J        |73   |\n",
      "|#Apple                |64   |\n",
      "|#UniDeVerano          |63   |\n",
      "|#TuitUtil             |60   |\n",
      "|#TrabajarHacerCrecer  |58   |\n",
      "|#VotaPP               |44   |\n",
      "|#Ciencia              |37   |\n",
      "|#RdPPodemos           |31   |\n",
      "|#GobernarParaLaMayoría|31   |\n",
      "+----------------------+-----+\n",
      "\n"
     ]
    },
    {
     "name": "stderr",
     "output_type": "stream",
     "text": [
      "                                                                                \r"
     ]
    },
    {
     "name": "stdout",
     "output_type": "stream",
     "text": [
      "-------------------------------------------\n",
      "Batch: 432\n",
      "-------------------------------------------\n",
      "+----------------------+-----+\n",
      "|word                  |count|\n",
      "+----------------------+-----+\n",
      "|#UAM                  |80   |\n",
      "|#ForoCambio11J        |73   |\n",
      "|#Apple                |64   |\n",
      "|#UniDeVerano          |64   |\n",
      "|#TuitUtil             |60   |\n",
      "|#TrabajarHacerCrecer  |58   |\n",
      "|#VotaPP               |44   |\n",
      "|#Ciencia              |37   |\n",
      "|#RdPPodemos           |31   |\n",
      "|#GobernarParaLaMayoría|31   |\n",
      "+----------------------+-----+\n",
      "\n"
     ]
    },
    {
     "name": "stderr",
     "output_type": "stream",
     "text": [
      "                                                                                \r"
     ]
    },
    {
     "name": "stdout",
     "output_type": "stream",
     "text": [
      "-------------------------------------------\n",
      "Batch: 433\n",
      "-------------------------------------------\n",
      "+----------------------+-----+\n",
      "|word                  |count|\n",
      "+----------------------+-----+\n",
      "|#UAM                  |80   |\n",
      "|#ForoCambio11J        |73   |\n",
      "|#Apple                |64   |\n",
      "|#UniDeVerano          |64   |\n",
      "|#TuitUtil             |60   |\n",
      "|#TrabajarHacerCrecer  |58   |\n",
      "|#VotaPP               |44   |\n",
      "|#Ciencia              |37   |\n",
      "|#RdPPodemos           |31   |\n",
      "|#GobernarParaLaMayoría|31   |\n",
      "+----------------------+-----+\n",
      "\n"
     ]
    },
    {
     "name": "stderr",
     "output_type": "stream",
     "text": [
      "                                                                                \r"
     ]
    },
    {
     "name": "stdout",
     "output_type": "stream",
     "text": [
      "-------------------------------------------\n",
      "Batch: 434\n",
      "-------------------------------------------\n",
      "+----------------------+-----+\n",
      "|word                  |count|\n",
      "+----------------------+-----+\n",
      "|#UAM                  |80   |\n",
      "|#ForoCambio11J        |73   |\n",
      "|#Apple                |64   |\n",
      "|#UniDeVerano          |64   |\n",
      "|#TuitUtil             |60   |\n",
      "|#TrabajarHacerCrecer  |58   |\n",
      "|#VotaPP               |44   |\n",
      "|#Ciencia              |37   |\n",
      "|#RdPPodemos           |31   |\n",
      "|#GobernarParaLaMayoría|31   |\n",
      "+----------------------+-----+\n",
      "\n"
     ]
    },
    {
     "name": "stderr",
     "output_type": "stream",
     "text": [
      "                                                                                \r"
     ]
    },
    {
     "name": "stdout",
     "output_type": "stream",
     "text": [
      "-------------------------------------------\n",
      "Batch: 435\n",
      "-------------------------------------------\n",
      "+----------------------+-----+\n",
      "|word                  |count|\n",
      "+----------------------+-----+\n",
      "|#UAM                  |81   |\n",
      "|#ForoCambio11J        |73   |\n",
      "|#Apple                |64   |\n",
      "|#UniDeVerano          |64   |\n",
      "|#TuitUtil             |60   |\n",
      "|#TrabajarHacerCrecer  |58   |\n",
      "|#VotaPP               |44   |\n",
      "|#Ciencia              |37   |\n",
      "|#RdPPodemos           |31   |\n",
      "|#GobernarParaLaMayoría|31   |\n",
      "+----------------------+-----+\n",
      "\n"
     ]
    },
    {
     "name": "stderr",
     "output_type": "stream",
     "text": [
      "                                                                                \r"
     ]
    },
    {
     "name": "stdout",
     "output_type": "stream",
     "text": [
      "-------------------------------------------\n",
      "Batch: 436\n",
      "-------------------------------------------\n",
      "+----------------------+-----+\n",
      "|word                  |count|\n",
      "+----------------------+-----+\n",
      "|#UAM                  |81   |\n",
      "|#ForoCambio11J        |73   |\n",
      "|#Apple                |64   |\n",
      "|#UniDeVerano          |64   |\n",
      "|#TuitUtil             |60   |\n",
      "|#TrabajarHacerCrecer  |58   |\n",
      "|#VotaPP               |44   |\n",
      "|#Ciencia              |37   |\n",
      "|#RdPPodemos           |31   |\n",
      "|#GobernarParaLaMayoría|31   |\n",
      "+----------------------+-----+\n",
      "\n"
     ]
    },
    {
     "name": "stderr",
     "output_type": "stream",
     "text": [
      "                                                                                \r"
     ]
    },
    {
     "name": "stdout",
     "output_type": "stream",
     "text": [
      "-------------------------------------------\n",
      "Batch: 437\n",
      "-------------------------------------------\n",
      "+----------------------+-----+\n",
      "|word                  |count|\n",
      "+----------------------+-----+\n",
      "|#UAM                  |81   |\n",
      "|#ForoCambio11J        |73   |\n",
      "|#Apple                |64   |\n",
      "|#UniDeVerano          |64   |\n",
      "|#TuitUtil             |61   |\n",
      "|#TrabajarHacerCrecer  |58   |\n",
      "|#VotaPP               |44   |\n",
      "|#Ciencia              |38   |\n",
      "|#RdPPodemos           |31   |\n",
      "|#GobernarParaLaMayoría|31   |\n",
      "+----------------------+-----+\n",
      "\n"
     ]
    },
    {
     "name": "stderr",
     "output_type": "stream",
     "text": [
      "                                                                                \r"
     ]
    },
    {
     "name": "stdout",
     "output_type": "stream",
     "text": [
      "-------------------------------------------\n",
      "Batch: 438\n",
      "-------------------------------------------\n",
      "+----------------------+-----+\n",
      "|word                  |count|\n",
      "+----------------------+-----+\n",
      "|#UAM                  |81   |\n",
      "|#ForoCambio11J        |73   |\n",
      "|#Apple                |64   |\n",
      "|#UniDeVerano          |64   |\n",
      "|#TuitUtil             |62   |\n",
      "|#TrabajarHacerCrecer  |58   |\n",
      "|#VotaPP               |44   |\n",
      "|#Ciencia              |38   |\n",
      "|#RdPPodemos           |31   |\n",
      "|#GobernarParaLaMayoría|31   |\n",
      "+----------------------+-----+\n",
      "\n"
     ]
    },
    {
     "name": "stderr",
     "output_type": "stream",
     "text": [
      "                                                                                \r"
     ]
    },
    {
     "name": "stdout",
     "output_type": "stream",
     "text": [
      "-------------------------------------------\n",
      "Batch: 439\n",
      "-------------------------------------------\n",
      "+--------------------+-----+\n",
      "|word                |count|\n",
      "+--------------------+-----+\n",
      "|#UAM                |82   |\n",
      "|#ForoCambio11J      |73   |\n",
      "|#Apple              |64   |\n",
      "|#UniDeVerano        |64   |\n",
      "|#TuitUtil           |62   |\n",
      "|#TrabajarHacerCrecer|58   |\n",
      "|#VotaPP             |44   |\n",
      "|#Ciencia            |38   |\n",
      "|#destacada          |32   |\n",
      "|#RdPPodemos         |31   |\n",
      "+--------------------+-----+\n",
      "\n"
     ]
    },
    {
     "name": "stderr",
     "output_type": "stream",
     "text": [
      "                                                                                \r"
     ]
    },
    {
     "name": "stdout",
     "output_type": "stream",
     "text": [
      "-------------------------------------------\n",
      "Batch: 440\n",
      "-------------------------------------------\n",
      "+--------------------+-----+\n",
      "|word                |count|\n",
      "+--------------------+-----+\n",
      "|#UAM                |82   |\n",
      "|#ForoCambio11J      |73   |\n",
      "|#Apple              |64   |\n",
      "|#UniDeVerano        |64   |\n",
      "|#TuitUtil           |62   |\n",
      "|#TrabajarHacerCrecer|58   |\n",
      "|#VotaPP             |44   |\n",
      "|#Ciencia            |38   |\n",
      "|#destacada          |32   |\n",
      "|#RdPPodemos         |31   |\n",
      "+--------------------+-----+\n",
      "\n"
     ]
    },
    {
     "name": "stderr",
     "output_type": "stream",
     "text": [
      "                                                                                \r"
     ]
    },
    {
     "name": "stdout",
     "output_type": "stream",
     "text": [
      "-------------------------------------------\n",
      "Batch: 441\n",
      "-------------------------------------------\n",
      "+--------------------+-----+\n",
      "|word                |count|\n",
      "+--------------------+-----+\n",
      "|#UAM                |82   |\n",
      "|#ForoCambio11J      |73   |\n",
      "|#Apple              |64   |\n",
      "|#UniDeVerano        |64   |\n",
      "|#TuitUtil           |62   |\n",
      "|#TrabajarHacerCrecer|58   |\n",
      "|#VotaPP             |44   |\n",
      "|#Ciencia            |38   |\n",
      "|#destacada          |33   |\n",
      "|#RdPPodemos         |31   |\n",
      "+--------------------+-----+\n",
      "\n"
     ]
    },
    {
     "name": "stderr",
     "output_type": "stream",
     "text": [
      "                                                                                \r"
     ]
    },
    {
     "name": "stdout",
     "output_type": "stream",
     "text": [
      "-------------------------------------------\n",
      "Batch: 442\n",
      "-------------------------------------------\n",
      "+--------------------+-----+\n",
      "|word                |count|\n",
      "+--------------------+-----+\n",
      "|#UAM                |82   |\n",
      "|#ForoCambio11J      |75   |\n",
      "|#Apple              |64   |\n",
      "|#UniDeVerano        |64   |\n",
      "|#TuitUtil           |62   |\n",
      "|#TrabajarHacerCrecer|58   |\n",
      "|#VotaPP             |44   |\n",
      "|#Ciencia            |38   |\n",
      "|#destacada          |33   |\n",
      "|#RdPPodemos         |31   |\n",
      "+--------------------+-----+\n",
      "\n"
     ]
    },
    {
     "name": "stderr",
     "output_type": "stream",
     "text": [
      "                                                                                \r"
     ]
    },
    {
     "name": "stdout",
     "output_type": "stream",
     "text": [
      "-------------------------------------------\n",
      "Batch: 443\n",
      "-------------------------------------------\n",
      "+--------------------+-----+\n",
      "|word                |count|\n",
      "+--------------------+-----+\n",
      "|#UAM                |82   |\n",
      "|#ForoCambio11J      |75   |\n",
      "|#Apple              |65   |\n",
      "|#UniDeVerano        |64   |\n",
      "|#TuitUtil           |62   |\n",
      "|#TrabajarHacerCrecer|58   |\n",
      "|#VotaPP             |44   |\n",
      "|#Ciencia            |38   |\n",
      "|#destacada          |34   |\n",
      "|#RdPPodemos         |31   |\n",
      "+--------------------+-----+\n",
      "\n"
     ]
    },
    {
     "name": "stderr",
     "output_type": "stream",
     "text": [
      "                                                                                \r"
     ]
    },
    {
     "name": "stdout",
     "output_type": "stream",
     "text": [
      "-------------------------------------------\n",
      "Batch: 444\n",
      "-------------------------------------------\n",
      "+----------------------+-----+\n",
      "|word                  |count|\n",
      "+----------------------+-----+\n",
      "|#UAM                  |84   |\n",
      "|#ForoCambio11J        |75   |\n",
      "|#Apple                |65   |\n",
      "|#UniDeVerano          |64   |\n",
      "|#TuitUtil             |62   |\n",
      "|#TrabajarHacerCrecer  |58   |\n",
      "|#VotaPP               |44   |\n",
      "|#Ciencia              |38   |\n",
      "|#destacada            |34   |\n",
      "|#GobernarParaLaMayoría|31   |\n",
      "+----------------------+-----+\n",
      "\n"
     ]
    },
    {
     "name": "stderr",
     "output_type": "stream",
     "text": [
      "                                                                                \r"
     ]
    },
    {
     "name": "stdout",
     "output_type": "stream",
     "text": [
      "-------------------------------------------\n",
      "Batch: 445\n",
      "-------------------------------------------\n",
      "+----------------------+-----+\n",
      "|word                  |count|\n",
      "+----------------------+-----+\n",
      "|#UAM                  |84   |\n",
      "|#ForoCambio11J        |75   |\n",
      "|#Apple                |65   |\n",
      "|#UniDeVerano          |64   |\n",
      "|#TuitUtil             |62   |\n",
      "|#TrabajarHacerCrecer  |58   |\n",
      "|#VotaPP               |44   |\n",
      "|#Ciencia              |38   |\n",
      "|#destacada            |34   |\n",
      "|#GobernarParaLaMayoría|31   |\n",
      "+----------------------+-----+\n",
      "\n"
     ]
    },
    {
     "name": "stderr",
     "output_type": "stream",
     "text": [
      "                                                                                \r"
     ]
    },
    {
     "name": "stdout",
     "output_type": "stream",
     "text": [
      "-------------------------------------------\n",
      "Batch: 446\n",
      "-------------------------------------------\n",
      "+----------------------+-----+\n",
      "|word                  |count|\n",
      "+----------------------+-----+\n",
      "|#UAM                  |84   |\n",
      "|#ForoCambio11J        |75   |\n",
      "|#Apple                |65   |\n",
      "|#UniDeVerano          |64   |\n",
      "|#TuitUtil             |63   |\n",
      "|#TrabajarHacerCrecer  |58   |\n",
      "|#VotaPP               |44   |\n",
      "|#Ciencia              |38   |\n",
      "|#destacada            |34   |\n",
      "|#GobernarParaLaMayoría|31   |\n",
      "+----------------------+-----+\n",
      "\n"
     ]
    },
    {
     "name": "stderr",
     "output_type": "stream",
     "text": [
      "                                                                                \r"
     ]
    },
    {
     "name": "stdout",
     "output_type": "stream",
     "text": [
      "-------------------------------------------\n",
      "Batch: 447\n",
      "-------------------------------------------\n",
      "+----------------------+-----+\n",
      "|word                  |count|\n",
      "+----------------------+-----+\n",
      "|#UAM                  |85   |\n",
      "|#ForoCambio11J        |76   |\n",
      "|#Apple                |65   |\n",
      "|#UniDeVerano          |64   |\n",
      "|#TuitUtil             |63   |\n",
      "|#TrabajarHacerCrecer  |58   |\n",
      "|#VotaPP               |44   |\n",
      "|#Ciencia              |38   |\n",
      "|#destacada            |34   |\n",
      "|#GobernarParaLaMayoría|31   |\n",
      "+----------------------+-----+\n",
      "\n"
     ]
    },
    {
     "name": "stderr",
     "output_type": "stream",
     "text": [
      "                                                                                \r"
     ]
    },
    {
     "name": "stdout",
     "output_type": "stream",
     "text": [
      "-------------------------------------------\n",
      "Batch: 448\n",
      "-------------------------------------------\n",
      "+----------------------+-----+\n",
      "|word                  |count|\n",
      "+----------------------+-----+\n",
      "|#UAM                  |86   |\n",
      "|#ForoCambio11J        |76   |\n",
      "|#Apple                |65   |\n",
      "|#UniDeVerano          |64   |\n",
      "|#TuitUtil             |63   |\n",
      "|#TrabajarHacerCrecer  |58   |\n",
      "|#VotaPP               |44   |\n",
      "|#Ciencia              |38   |\n",
      "|#destacada            |34   |\n",
      "|#GobernarParaLaMayoría|31   |\n",
      "+----------------------+-----+\n",
      "\n"
     ]
    },
    {
     "name": "stderr",
     "output_type": "stream",
     "text": [
      "                                                                                \r"
     ]
    },
    {
     "name": "stdout",
     "output_type": "stream",
     "text": [
      "-------------------------------------------\n",
      "Batch: 449\n",
      "-------------------------------------------\n",
      "+----------------------+-----+\n",
      "|word                  |count|\n",
      "+----------------------+-----+\n",
      "|#UAM                  |86   |\n",
      "|#ForoCambio11J        |76   |\n",
      "|#Apple                |65   |\n",
      "|#UniDeVerano          |64   |\n",
      "|#TuitUtil             |63   |\n",
      "|#TrabajarHacerCrecer  |58   |\n",
      "|#VotaPP               |44   |\n",
      "|#Ciencia              |38   |\n",
      "|#destacada            |34   |\n",
      "|#GobernarParaLaMayoría|31   |\n",
      "+----------------------+-----+\n",
      "\n"
     ]
    },
    {
     "name": "stderr",
     "output_type": "stream",
     "text": [
      "                                                                                \r"
     ]
    },
    {
     "name": "stdout",
     "output_type": "stream",
     "text": [
      "-------------------------------------------\n",
      "Batch: 450\n",
      "-------------------------------------------\n",
      "+----------------------+-----+\n",
      "|word                  |count|\n",
      "+----------------------+-----+\n",
      "|#UAM                  |86   |\n",
      "|#ForoCambio11J        |76   |\n",
      "|#Apple                |66   |\n",
      "|#UniDeVerano          |64   |\n",
      "|#TuitUtil             |63   |\n",
      "|#TrabajarHacerCrecer  |58   |\n",
      "|#VotaPP               |45   |\n",
      "|#Ciencia              |39   |\n",
      "|#destacada            |34   |\n",
      "|#GobernarParaLaMayoría|31   |\n",
      "+----------------------+-----+\n",
      "\n"
     ]
    },
    {
     "name": "stderr",
     "output_type": "stream",
     "text": [
      "                                                                                \r"
     ]
    },
    {
     "name": "stdout",
     "output_type": "stream",
     "text": [
      "-------------------------------------------\n",
      "Batch: 451\n",
      "-------------------------------------------\n",
      "+----------------------+-----+\n",
      "|word                  |count|\n",
      "+----------------------+-----+\n",
      "|#UAM                  |86   |\n",
      "|#ForoCambio11J        |76   |\n",
      "|#Apple                |67   |\n",
      "|#UniDeVerano          |64   |\n",
      "|#TuitUtil             |63   |\n",
      "|#TrabajarHacerCrecer  |58   |\n",
      "|#VotaPP               |45   |\n",
      "|#Ciencia              |39   |\n",
      "|#destacada            |34   |\n",
      "|#GobernarParaLaMayoría|31   |\n",
      "+----------------------+-----+\n",
      "\n"
     ]
    },
    {
     "name": "stderr",
     "output_type": "stream",
     "text": [
      "                                                                                \r"
     ]
    },
    {
     "name": "stdout",
     "output_type": "stream",
     "text": [
      "-------------------------------------------\n",
      "Batch: 452\n",
      "-------------------------------------------\n",
      "+----------------------+-----+\n",
      "|word                  |count|\n",
      "+----------------------+-----+\n",
      "|#UAM                  |86   |\n",
      "|#ForoCambio11J        |77   |\n",
      "|#Apple                |67   |\n",
      "|#UniDeVerano          |64   |\n",
      "|#TuitUtil             |64   |\n",
      "|#TrabajarHacerCrecer  |58   |\n",
      "|#VotaPP               |45   |\n",
      "|#Ciencia              |39   |\n",
      "|#destacada            |34   |\n",
      "|#GobernarParaLaMayoría|32   |\n",
      "+----------------------+-----+\n",
      "\n"
     ]
    },
    {
     "name": "stderr",
     "output_type": "stream",
     "text": [
      "                                                                                \r"
     ]
    },
    {
     "name": "stdout",
     "output_type": "stream",
     "text": [
      "-------------------------------------------\n",
      "Batch: 453\n",
      "-------------------------------------------\n",
      "+----------------------+-----+\n",
      "|word                  |count|\n",
      "+----------------------+-----+\n",
      "|#UAM                  |86   |\n",
      "|#ForoCambio11J        |79   |\n",
      "|#Apple                |67   |\n",
      "|#UniDeVerano          |64   |\n",
      "|#TuitUtil             |64   |\n",
      "|#TrabajarHacerCrecer  |58   |\n",
      "|#VotaPP               |45   |\n",
      "|#Ciencia              |39   |\n",
      "|#destacada            |34   |\n",
      "|#GobernarParaLaMayoría|32   |\n",
      "+----------------------+-----+\n",
      "\n"
     ]
    },
    {
     "name": "stderr",
     "output_type": "stream",
     "text": [
      "                                                                                \r"
     ]
    },
    {
     "name": "stdout",
     "output_type": "stream",
     "text": [
      "-------------------------------------------\n",
      "Batch: 454\n",
      "-------------------------------------------\n",
      "+----------------------+-----+\n",
      "|word                  |count|\n",
      "+----------------------+-----+\n",
      "|#UAM                  |86   |\n",
      "|#ForoCambio11J        |79   |\n",
      "|#Apple                |68   |\n",
      "|#UniDeVerano          |64   |\n",
      "|#TuitUtil             |64   |\n",
      "|#TrabajarHacerCrecer  |58   |\n",
      "|#VotaPP               |45   |\n",
      "|#Ciencia              |39   |\n",
      "|#destacada            |34   |\n",
      "|#GobernarParaLaMayoría|32   |\n",
      "+----------------------+-----+\n",
      "\n"
     ]
    },
    {
     "name": "stderr",
     "output_type": "stream",
     "text": [
      "                                                                                \r"
     ]
    },
    {
     "name": "stdout",
     "output_type": "stream",
     "text": [
      "-------------------------------------------\n",
      "Batch: 455\n",
      "-------------------------------------------\n",
      "+----------------------+-----+\n",
      "|word                  |count|\n",
      "+----------------------+-----+\n",
      "|#UAM                  |86   |\n",
      "|#ForoCambio11J        |79   |\n",
      "|#Apple                |68   |\n",
      "|#UniDeVerano          |64   |\n",
      "|#TuitUtil             |64   |\n",
      "|#TrabajarHacerCrecer  |58   |\n",
      "|#VotaPP               |45   |\n",
      "|#Ciencia              |39   |\n",
      "|#destacada            |34   |\n",
      "|#GobernarParaLaMayoría|32   |\n",
      "+----------------------+-----+\n",
      "\n"
     ]
    },
    {
     "name": "stderr",
     "output_type": "stream",
     "text": [
      "                                                                                \r"
     ]
    },
    {
     "name": "stdout",
     "output_type": "stream",
     "text": [
      "-------------------------------------------\n",
      "Batch: 456\n",
      "-------------------------------------------\n",
      "+----------------------+-----+\n",
      "|word                  |count|\n",
      "+----------------------+-----+\n",
      "|#UAM                  |86   |\n",
      "|#ForoCambio11J        |79   |\n",
      "|#Apple                |68   |\n",
      "|#UniDeVerano          |64   |\n",
      "|#TuitUtil             |64   |\n",
      "|#TrabajarHacerCrecer  |58   |\n",
      "|#VotaPP               |45   |\n",
      "|#Ciencia              |39   |\n",
      "|#destacada            |34   |\n",
      "|#GobernarParaLaMayoría|32   |\n",
      "+----------------------+-----+\n",
      "\n"
     ]
    },
    {
     "name": "stderr",
     "output_type": "stream",
     "text": [
      "                                                                                \r"
     ]
    },
    {
     "name": "stdout",
     "output_type": "stream",
     "text": [
      "-------------------------------------------\n",
      "Batch: 457\n",
      "-------------------------------------------\n",
      "+--------------------+-----+\n",
      "|word                |count|\n",
      "+--------------------+-----+\n",
      "|#UAM                |86   |\n",
      "|#ForoCambio11J      |79   |\n",
      "|#Apple              |68   |\n",
      "|#UniDeVerano        |64   |\n",
      "|#TuitUtil           |64   |\n",
      "|#TrabajarHacerCrecer|58   |\n",
      "|#VotaPP             |45   |\n",
      "|#Ciencia            |39   |\n",
      "|#destacada          |34   |\n",
      "|#RutaDelCambio      |33   |\n",
      "+--------------------+-----+\n",
      "\n"
     ]
    },
    {
     "name": "stderr",
     "output_type": "stream",
     "text": [
      "                                                                                \r"
     ]
    },
    {
     "name": "stdout",
     "output_type": "stream",
     "text": [
      "-------------------------------------------\n",
      "Batch: 458\n",
      "-------------------------------------------\n",
      "+--------------------+-----+\n",
      "|word                |count|\n",
      "+--------------------+-----+\n",
      "|#UAM                |86   |\n",
      "|#ForoCambio11J      |79   |\n",
      "|#Apple              |69   |\n",
      "|#UniDeVerano        |64   |\n",
      "|#TuitUtil           |64   |\n",
      "|#TrabajarHacerCrecer|58   |\n",
      "|#VotaPP             |45   |\n",
      "|#Ciencia            |39   |\n",
      "|#destacada          |34   |\n",
      "|#RutaDelCambio      |33   |\n",
      "+--------------------+-----+\n",
      "\n"
     ]
    },
    {
     "name": "stderr",
     "output_type": "stream",
     "text": [
      "                                                                                \r"
     ]
    },
    {
     "name": "stdout",
     "output_type": "stream",
     "text": [
      "-------------------------------------------\n",
      "Batch: 459\n",
      "-------------------------------------------\n",
      "+--------------------+-----+\n",
      "|word                |count|\n",
      "+--------------------+-----+\n",
      "|#UAM                |86   |\n",
      "|#ForoCambio11J      |79   |\n",
      "|#Apple              |69   |\n",
      "|#UniDeVerano        |64   |\n",
      "|#TuitUtil           |64   |\n",
      "|#TrabajarHacerCrecer|58   |\n",
      "|#VotaPP             |45   |\n",
      "|#Ciencia            |39   |\n",
      "|#destacada          |34   |\n",
      "|#RutaDelCambio      |33   |\n",
      "+--------------------+-----+\n",
      "\n"
     ]
    },
    {
     "name": "stderr",
     "output_type": "stream",
     "text": [
      "                                                                                \r"
     ]
    },
    {
     "name": "stdout",
     "output_type": "stream",
     "text": [
      "-------------------------------------------\n",
      "Batch: 460\n",
      "-------------------------------------------\n",
      "+--------------------+-----+\n",
      "|word                |count|\n",
      "+--------------------+-----+\n",
      "|#UAM                |86   |\n",
      "|#ForoCambio11J      |79   |\n",
      "|#Apple              |70   |\n",
      "|#UniDeVerano        |65   |\n",
      "|#TuitUtil           |64   |\n",
      "|#TrabajarHacerCrecer|58   |\n",
      "|#VotaPP             |45   |\n",
      "|#Ciencia            |39   |\n",
      "|#destacada          |34   |\n",
      "|#RutaDelCambio      |33   |\n",
      "+--------------------+-----+\n",
      "\n"
     ]
    },
    {
     "name": "stderr",
     "output_type": "stream",
     "text": [
      "                                                                                \r"
     ]
    },
    {
     "name": "stdout",
     "output_type": "stream",
     "text": [
      "-------------------------------------------\n",
      "Batch: 461\n",
      "-------------------------------------------\n",
      "+--------------------+-----+\n",
      "|word                |count|\n",
      "+--------------------+-----+\n",
      "|#UAM                |87   |\n",
      "|#ForoCambio11J      |79   |\n",
      "|#Apple              |71   |\n",
      "|#UniDeVerano        |65   |\n",
      "|#TuitUtil           |64   |\n",
      "|#TrabajarHacerCrecer|58   |\n",
      "|#VotaPP             |45   |\n",
      "|#Ciencia            |39   |\n",
      "|#destacada          |34   |\n",
      "|#RutaDelCambio      |33   |\n",
      "+--------------------+-----+\n",
      "\n"
     ]
    },
    {
     "name": "stderr",
     "output_type": "stream",
     "text": [
      "                                                                                \r"
     ]
    },
    {
     "name": "stdout",
     "output_type": "stream",
     "text": [
      "-------------------------------------------\n",
      "Batch: 462\n",
      "-------------------------------------------\n",
      "+--------------------+-----+\n",
      "|word                |count|\n",
      "+--------------------+-----+\n",
      "|#UAM                |87   |\n",
      "|#ForoCambio11J      |80   |\n",
      "|#Apple              |72   |\n",
      "|#UniDeVerano        |65   |\n",
      "|#TuitUtil           |64   |\n",
      "|#TrabajarHacerCrecer|58   |\n",
      "|#VotaPP             |45   |\n",
      "|#Ciencia            |39   |\n",
      "|#destacada          |34   |\n",
      "|#RutaDelCambio      |33   |\n",
      "+--------------------+-----+\n",
      "\n"
     ]
    },
    {
     "name": "stderr",
     "output_type": "stream",
     "text": [
      "                                                                                \r"
     ]
    },
    {
     "name": "stdout",
     "output_type": "stream",
     "text": [
      "-------------------------------------------\n",
      "Batch: 463\n",
      "-------------------------------------------\n",
      "+--------------------+-----+\n",
      "|word                |count|\n",
      "+--------------------+-----+\n",
      "|#UAM                |88   |\n",
      "|#ForoCambio11J      |80   |\n",
      "|#Apple              |72   |\n",
      "|#UniDeVerano        |66   |\n",
      "|#TuitUtil           |64   |\n",
      "|#TrabajarHacerCrecer|59   |\n",
      "|#VotaPP             |45   |\n",
      "|#Ciencia            |39   |\n",
      "|#destacada          |34   |\n",
      "|#RutaDelCambio      |33   |\n",
      "+--------------------+-----+\n",
      "\n"
     ]
    },
    {
     "name": "stderr",
     "output_type": "stream",
     "text": [
      "                                                                                \r"
     ]
    },
    {
     "name": "stdout",
     "output_type": "stream",
     "text": [
      "-------------------------------------------\n",
      "Batch: 464\n",
      "-------------------------------------------\n",
      "+--------------------+-----+\n",
      "|word                |count|\n",
      "+--------------------+-----+\n",
      "|#UAM                |88   |\n",
      "|#ForoCambio11J      |80   |\n",
      "|#Apple              |72   |\n",
      "|#UniDeVerano        |66   |\n",
      "|#TuitUtil           |64   |\n",
      "|#TrabajarHacerCrecer|59   |\n",
      "|#VotaPP             |45   |\n",
      "|#Ciencia            |39   |\n",
      "|#destacada          |34   |\n",
      "|#RutaDelCambio      |33   |\n",
      "+--------------------+-----+\n",
      "\n"
     ]
    },
    {
     "name": "stderr",
     "output_type": "stream",
     "text": [
      "                                                                                \r"
     ]
    },
    {
     "name": "stdout",
     "output_type": "stream",
     "text": [
      "-------------------------------------------\n",
      "Batch: 465\n",
      "-------------------------------------------\n",
      "+--------------------+-----+\n",
      "|word                |count|\n",
      "+--------------------+-----+\n",
      "|#UAM                |88   |\n",
      "|#ForoCambio11J      |80   |\n",
      "|#Apple              |72   |\n",
      "|#UniDeVerano        |66   |\n",
      "|#TuitUtil           |64   |\n",
      "|#TrabajarHacerCrecer|59   |\n",
      "|#VotaPP             |45   |\n",
      "|#Ciencia            |39   |\n",
      "|#destacada          |34   |\n",
      "|#RutaDelCambio      |33   |\n",
      "+--------------------+-----+\n",
      "\n"
     ]
    },
    {
     "name": "stderr",
     "output_type": "stream",
     "text": [
      "                                                                                \r"
     ]
    },
    {
     "name": "stdout",
     "output_type": "stream",
     "text": [
      "-------------------------------------------\n",
      "Batch: 466\n",
      "-------------------------------------------\n",
      "+--------------------+-----+\n",
      "|word                |count|\n",
      "+--------------------+-----+\n",
      "|#UAM                |88   |\n",
      "|#ForoCambio11J      |80   |\n",
      "|#Apple              |72   |\n",
      "|#UniDeVerano        |66   |\n",
      "|#TuitUtil           |64   |\n",
      "|#TrabajarHacerCrecer|59   |\n",
      "|#VotaPP             |45   |\n",
      "|#Ciencia            |39   |\n",
      "|#destacada          |34   |\n",
      "|#RutaDelCambio      |33   |\n",
      "+--------------------+-----+\n",
      "\n"
     ]
    },
    {
     "name": "stderr",
     "output_type": "stream",
     "text": [
      "                                                                                \r"
     ]
    },
    {
     "name": "stdout",
     "output_type": "stream",
     "text": [
      "-------------------------------------------\n",
      "Batch: 467\n",
      "-------------------------------------------\n",
      "+--------------------+-----+\n",
      "|word                |count|\n",
      "+--------------------+-----+\n",
      "|#UAM                |88   |\n",
      "|#ForoCambio11J      |80   |\n",
      "|#Apple              |72   |\n",
      "|#UniDeVerano        |66   |\n",
      "|#TuitUtil           |64   |\n",
      "|#TrabajarHacerCrecer|60   |\n",
      "|#VotaPP             |45   |\n",
      "|#Ciencia            |39   |\n",
      "|#destacada          |34   |\n",
      "|#RutaDelCambio      |33   |\n",
      "+--------------------+-----+\n",
      "\n"
     ]
    },
    {
     "name": "stderr",
     "output_type": "stream",
     "text": [
      "                                                                                \r"
     ]
    },
    {
     "name": "stdout",
     "output_type": "stream",
     "text": [
      "-------------------------------------------\n",
      "Batch: 468\n",
      "-------------------------------------------\n",
      "+--------------------+-----+\n",
      "|word                |count|\n",
      "+--------------------+-----+\n",
      "|#UAM                |88   |\n",
      "|#ForoCambio11J      |80   |\n",
      "|#Apple              |72   |\n",
      "|#UniDeVerano        |67   |\n",
      "|#TuitUtil           |64   |\n",
      "|#TrabajarHacerCrecer|60   |\n",
      "|#VotaPP             |45   |\n",
      "|#Ciencia            |39   |\n",
      "|#destacada          |34   |\n",
      "|#RutaDelCambio      |33   |\n",
      "+--------------------+-----+\n",
      "\n"
     ]
    },
    {
     "name": "stderr",
     "output_type": "stream",
     "text": [
      "                                                                                \r"
     ]
    },
    {
     "name": "stdout",
     "output_type": "stream",
     "text": [
      "-------------------------------------------\n",
      "Batch: 469\n",
      "-------------------------------------------\n",
      "+--------------------+-----+\n",
      "|word                |count|\n",
      "+--------------------+-----+\n",
      "|#UAM                |88   |\n",
      "|#ForoCambio11J      |81   |\n",
      "|#Apple              |73   |\n",
      "|#UniDeVerano        |67   |\n",
      "|#TuitUtil           |64   |\n",
      "|#TrabajarHacerCrecer|60   |\n",
      "|#VotaPP             |45   |\n",
      "|#Ciencia            |39   |\n",
      "|#destacada          |35   |\n",
      "|#RutaDelCambio      |33   |\n",
      "+--------------------+-----+\n",
      "\n"
     ]
    },
    {
     "name": "stderr",
     "output_type": "stream",
     "text": [
      "                                                                                \r"
     ]
    },
    {
     "name": "stdout",
     "output_type": "stream",
     "text": [
      "-------------------------------------------\n",
      "Batch: 470\n",
      "-------------------------------------------\n",
      "+--------------------+-----+\n",
      "|word                |count|\n",
      "+--------------------+-----+\n",
      "|#UAM                |89   |\n",
      "|#ForoCambio11J      |81   |\n",
      "|#Apple              |73   |\n",
      "|#UniDeVerano        |67   |\n",
      "|#TuitUtil           |64   |\n",
      "|#TrabajarHacerCrecer|60   |\n",
      "|#VotaPP             |45   |\n",
      "|#Ciencia            |39   |\n",
      "|#destacada          |35   |\n",
      "|#RutaDelCambio      |33   |\n",
      "+--------------------+-----+\n",
      "\n"
     ]
    },
    {
     "name": "stderr",
     "output_type": "stream",
     "text": [
      "                                                                                \r"
     ]
    },
    {
     "name": "stdout",
     "output_type": "stream",
     "text": [
      "-------------------------------------------\n",
      "Batch: 471\n",
      "-------------------------------------------\n",
      "+--------------------+-----+\n",
      "|word                |count|\n",
      "+--------------------+-----+\n",
      "|#UAM                |89   |\n",
      "|#ForoCambio11J      |81   |\n",
      "|#Apple              |73   |\n",
      "|#UniDeVerano        |67   |\n",
      "|#TuitUtil           |65   |\n",
      "|#TrabajarHacerCrecer|60   |\n",
      "|#VotaPP             |45   |\n",
      "|#Ciencia            |39   |\n",
      "|#destacada          |35   |\n",
      "|#RutaDelCambio      |33   |\n",
      "+--------------------+-----+\n",
      "\n"
     ]
    },
    {
     "name": "stderr",
     "output_type": "stream",
     "text": [
      "                                                                                \r"
     ]
    },
    {
     "name": "stdout",
     "output_type": "stream",
     "text": [
      "-------------------------------------------\n",
      "Batch: 472\n",
      "-------------------------------------------\n",
      "+--------------------+-----+\n",
      "|word                |count|\n",
      "+--------------------+-----+\n",
      "|#UAM                |89   |\n",
      "|#ForoCambio11J      |81   |\n",
      "|#Apple              |73   |\n",
      "|#UniDeVerano        |67   |\n",
      "|#TuitUtil           |66   |\n",
      "|#TrabajarHacerCrecer|60   |\n",
      "|#VotaPP             |45   |\n",
      "|#Ciencia            |39   |\n",
      "|#destacada          |35   |\n",
      "|#RutaDelCambio      |33   |\n",
      "+--------------------+-----+\n",
      "\n"
     ]
    },
    {
     "name": "stderr",
     "output_type": "stream",
     "text": [
      "                                                                                \r"
     ]
    },
    {
     "name": "stdout",
     "output_type": "stream",
     "text": [
      "-------------------------------------------\n",
      "Batch: 473\n",
      "-------------------------------------------\n",
      "+--------------------+-----+\n",
      "|word                |count|\n",
      "+--------------------+-----+\n",
      "|#UAM                |89   |\n",
      "|#ForoCambio11J      |81   |\n",
      "|#Apple              |73   |\n",
      "|#UniDeVerano        |67   |\n",
      "|#TuitUtil           |66   |\n",
      "|#TrabajarHacerCrecer|60   |\n",
      "|#VotaPP             |45   |\n",
      "|#Ciencia            |39   |\n",
      "|#destacada          |35   |\n",
      "|#RutaDelCambio      |33   |\n",
      "+--------------------+-----+\n",
      "\n"
     ]
    },
    {
     "name": "stderr",
     "output_type": "stream",
     "text": [
      "                                                                                \r"
     ]
    },
    {
     "name": "stdout",
     "output_type": "stream",
     "text": [
      "-------------------------------------------\n",
      "Batch: 474\n",
      "-------------------------------------------\n",
      "+--------------------+-----+\n",
      "|word                |count|\n",
      "+--------------------+-----+\n",
      "|#UAM                |89   |\n",
      "|#ForoCambio11J      |81   |\n",
      "|#Apple              |73   |\n",
      "|#UniDeVerano        |68   |\n",
      "|#TuitUtil           |67   |\n",
      "|#TrabajarHacerCrecer|60   |\n",
      "|#VotaPP             |45   |\n",
      "|#Ciencia            |39   |\n",
      "|#destacada          |35   |\n",
      "|#RutaDelCambio      |33   |\n",
      "+--------------------+-----+\n",
      "\n"
     ]
    },
    {
     "name": "stderr",
     "output_type": "stream",
     "text": [
      "                                                                                \r"
     ]
    },
    {
     "name": "stdout",
     "output_type": "stream",
     "text": [
      "-------------------------------------------\n",
      "Batch: 475\n",
      "-------------------------------------------\n",
      "+--------------------+-----+\n",
      "|word                |count|\n",
      "+--------------------+-----+\n",
      "|#UAM                |89   |\n",
      "|#ForoCambio11J      |83   |\n",
      "|#Apple              |73   |\n",
      "|#UniDeVerano        |68   |\n",
      "|#TuitUtil           |67   |\n",
      "|#TrabajarHacerCrecer|60   |\n",
      "|#VotaPP             |46   |\n",
      "|#Ciencia            |40   |\n",
      "|#destacada          |36   |\n",
      "|#RutaDelCambio      |33   |\n",
      "+--------------------+-----+\n",
      "\n"
     ]
    },
    {
     "name": "stderr",
     "output_type": "stream",
     "text": [
      "                                                                                \r"
     ]
    },
    {
     "name": "stdout",
     "output_type": "stream",
     "text": [
      "-------------------------------------------\n",
      "Batch: 476\n",
      "-------------------------------------------\n",
      "+--------------------+-----+\n",
      "|word                |count|\n",
      "+--------------------+-----+\n",
      "|#UAM                |89   |\n",
      "|#ForoCambio11J      |83   |\n",
      "|#Apple              |74   |\n",
      "|#UniDeVerano        |68   |\n",
      "|#TuitUtil           |67   |\n",
      "|#TrabajarHacerCrecer|60   |\n",
      "|#VotaPP             |46   |\n",
      "|#Ciencia            |41   |\n",
      "|#destacada          |36   |\n",
      "|#RutaDelCambio      |33   |\n",
      "+--------------------+-----+\n",
      "\n"
     ]
    },
    {
     "name": "stderr",
     "output_type": "stream",
     "text": [
      "                                                                                \r"
     ]
    },
    {
     "name": "stdout",
     "output_type": "stream",
     "text": [
      "-------------------------------------------\n",
      "Batch: 477\n",
      "-------------------------------------------\n",
      "+--------------------+-----+\n",
      "|word                |count|\n",
      "+--------------------+-----+\n",
      "|#UAM                |89   |\n",
      "|#ForoCambio11J      |84   |\n",
      "|#Apple              |74   |\n",
      "|#UniDeVerano        |68   |\n",
      "|#TuitUtil           |67   |\n",
      "|#TrabajarHacerCrecer|60   |\n",
      "|#VotaPP             |46   |\n",
      "|#Ciencia            |41   |\n",
      "|#destacada          |36   |\n",
      "|#RutaDelCambio      |33   |\n",
      "+--------------------+-----+\n",
      "\n"
     ]
    },
    {
     "name": "stderr",
     "output_type": "stream",
     "text": [
      "                                                                                \r"
     ]
    },
    {
     "name": "stdout",
     "output_type": "stream",
     "text": [
      "-------------------------------------------\n",
      "Batch: 478\n",
      "-------------------------------------------\n",
      "+--------------------+-----+\n",
      "|word                |count|\n",
      "+--------------------+-----+\n",
      "|#UAM                |89   |\n",
      "|#ForoCambio11J      |84   |\n",
      "|#Apple              |74   |\n",
      "|#UniDeVerano        |68   |\n",
      "|#TuitUtil           |67   |\n",
      "|#TrabajarHacerCrecer|60   |\n",
      "|#VotaPP             |46   |\n",
      "|#Ciencia            |41   |\n",
      "|#destacada          |36   |\n",
      "|#RutaDelCambio      |33   |\n",
      "+--------------------+-----+\n",
      "\n"
     ]
    },
    {
     "name": "stderr",
     "output_type": "stream",
     "text": [
      "                                                                                \r"
     ]
    },
    {
     "name": "stdout",
     "output_type": "stream",
     "text": [
      "-------------------------------------------\n",
      "Batch: 479\n",
      "-------------------------------------------\n",
      "+--------------------+-----+\n",
      "|word                |count|\n",
      "+--------------------+-----+\n",
      "|#UAM                |89   |\n",
      "|#ForoCambio11J      |85   |\n",
      "|#Apple              |74   |\n",
      "|#UniDeVerano        |68   |\n",
      "|#TuitUtil           |67   |\n",
      "|#TrabajarHacerCrecer|60   |\n",
      "|#VotaPP             |46   |\n",
      "|#Ciencia            |41   |\n",
      "|#destacada          |36   |\n",
      "|#RutaDelCambio      |33   |\n",
      "+--------------------+-----+\n",
      "\n"
     ]
    },
    {
     "name": "stderr",
     "output_type": "stream",
     "text": [
      "                                                                                \r"
     ]
    },
    {
     "name": "stdout",
     "output_type": "stream",
     "text": [
      "-------------------------------------------\n",
      "Batch: 480\n",
      "-------------------------------------------\n",
      "+--------------------+-----+\n",
      "|word                |count|\n",
      "+--------------------+-----+\n",
      "|#UAM                |89   |\n",
      "|#ForoCambio11J      |85   |\n",
      "|#Apple              |74   |\n",
      "|#UniDeVerano        |69   |\n",
      "|#TuitUtil           |67   |\n",
      "|#TrabajarHacerCrecer|60   |\n",
      "|#VotaPP             |46   |\n",
      "|#Ciencia            |41   |\n",
      "|#destacada          |36   |\n",
      "|#RutaDelCambio      |33   |\n",
      "+--------------------+-----+\n",
      "\n"
     ]
    },
    {
     "name": "stderr",
     "output_type": "stream",
     "text": [
      "                                                                                \r"
     ]
    },
    {
     "name": "stdout",
     "output_type": "stream",
     "text": [
      "-------------------------------------------\n",
      "Batch: 481\n",
      "-------------------------------------------\n",
      "+--------------------+-----+\n",
      "|word                |count|\n",
      "+--------------------+-----+\n",
      "|#UAM                |89   |\n",
      "|#ForoCambio11J      |85   |\n",
      "|#Apple              |75   |\n",
      "|#UniDeVerano        |69   |\n",
      "|#TuitUtil           |67   |\n",
      "|#TrabajarHacerCrecer|60   |\n",
      "|#VotaPP             |46   |\n",
      "|#Ciencia            |41   |\n",
      "|#destacada          |37   |\n",
      "|#RutaDelCambio      |33   |\n",
      "+--------------------+-----+\n",
      "\n"
     ]
    },
    {
     "name": "stderr",
     "output_type": "stream",
     "text": [
      "                                                                                \r"
     ]
    },
    {
     "name": "stdout",
     "output_type": "stream",
     "text": [
      "-------------------------------------------\n",
      "Batch: 482\n",
      "-------------------------------------------\n",
      "+--------------------+-----+\n",
      "|word                |count|\n",
      "+--------------------+-----+\n",
      "|#UAM                |89   |\n",
      "|#ForoCambio11J      |85   |\n",
      "|#Apple              |75   |\n",
      "|#UniDeVerano        |69   |\n",
      "|#TuitUtil           |67   |\n",
      "|#TrabajarHacerCrecer|60   |\n",
      "|#VotaPP             |46   |\n",
      "|#Ciencia            |41   |\n",
      "|#destacada          |37   |\n",
      "|#RutaDelCambio      |33   |\n",
      "+--------------------+-----+\n",
      "\n"
     ]
    },
    {
     "name": "stderr",
     "output_type": "stream",
     "text": [
      "                                                                                \r"
     ]
    },
    {
     "name": "stdout",
     "output_type": "stream",
     "text": [
      "-------------------------------------------\n",
      "Batch: 483\n",
      "-------------------------------------------\n",
      "+--------------------+-----+\n",
      "|word                |count|\n",
      "+--------------------+-----+\n",
      "|#UAM                |89   |\n",
      "|#ForoCambio11J      |85   |\n",
      "|#Apple              |75   |\n",
      "|#UniDeVerano        |69   |\n",
      "|#TuitUtil           |67   |\n",
      "|#TrabajarHacerCrecer|60   |\n",
      "|#VotaPP             |46   |\n",
      "|#Ciencia            |41   |\n",
      "|#destacada          |37   |\n",
      "|#RutaDelCambio      |33   |\n",
      "+--------------------+-----+\n",
      "\n"
     ]
    },
    {
     "name": "stderr",
     "output_type": "stream",
     "text": [
      "                                                                                \r"
     ]
    },
    {
     "name": "stdout",
     "output_type": "stream",
     "text": [
      "-------------------------------------------\n",
      "Batch: 484\n",
      "-------------------------------------------\n",
      "+--------------------+-----+\n",
      "|word                |count|\n",
      "+--------------------+-----+\n",
      "|#UAM                |90   |\n",
      "|#ForoCambio11J      |85   |\n",
      "|#Apple              |75   |\n",
      "|#UniDeVerano        |69   |\n",
      "|#TuitUtil           |67   |\n",
      "|#TrabajarHacerCrecer|60   |\n",
      "|#VotaPP             |46   |\n",
      "|#Ciencia            |41   |\n",
      "|#destacada          |38   |\n",
      "|#RutaDelCambio      |33   |\n",
      "+--------------------+-----+\n",
      "\n"
     ]
    },
    {
     "name": "stderr",
     "output_type": "stream",
     "text": [
      "                                                                                \r"
     ]
    },
    {
     "name": "stdout",
     "output_type": "stream",
     "text": [
      "-------------------------------------------\n",
      "Batch: 485\n",
      "-------------------------------------------\n",
      "+----------------------+-----+\n",
      "|word                  |count|\n",
      "+----------------------+-----+\n",
      "|#UAM                  |90   |\n",
      "|#ForoCambio11J        |85   |\n",
      "|#Apple                |75   |\n",
      "|#UniDeVerano          |69   |\n",
      "|#TuitUtil             |67   |\n",
      "|#TrabajarHacerCrecer  |60   |\n",
      "|#VotaPP               |46   |\n",
      "|#Ciencia              |41   |\n",
      "|#destacada            |38   |\n",
      "|#GobernarParaLaMayoría|34   |\n",
      "+----------------------+-----+\n",
      "\n"
     ]
    },
    {
     "name": "stderr",
     "output_type": "stream",
     "text": [
      "                                                                                \r"
     ]
    },
    {
     "name": "stdout",
     "output_type": "stream",
     "text": [
      "-------------------------------------------\n",
      "Batch: 486\n",
      "-------------------------------------------\n",
      "+----------------------+-----+\n",
      "|word                  |count|\n",
      "+----------------------+-----+\n",
      "|#UAM                  |90   |\n",
      "|#ForoCambio11J        |85   |\n",
      "|#Apple                |76   |\n",
      "|#UniDeVerano          |69   |\n",
      "|#TuitUtil             |67   |\n",
      "|#TrabajarHacerCrecer  |60   |\n",
      "|#VotaPP               |46   |\n",
      "|#Ciencia              |41   |\n",
      "|#destacada            |38   |\n",
      "|#GobernarParaLaMayoría|34   |\n",
      "+----------------------+-----+\n",
      "\n"
     ]
    },
    {
     "name": "stderr",
     "output_type": "stream",
     "text": [
      "                                                                                \r"
     ]
    },
    {
     "name": "stdout",
     "output_type": "stream",
     "text": [
      "-------------------------------------------\n",
      "Batch: 487\n",
      "-------------------------------------------\n",
      "+----------------------+-----+\n",
      "|word                  |count|\n",
      "+----------------------+-----+\n",
      "|#UAM                  |90   |\n",
      "|#ForoCambio11J        |85   |\n",
      "|#Apple                |76   |\n",
      "|#UniDeVerano          |70   |\n",
      "|#TuitUtil             |67   |\n",
      "|#TrabajarHacerCrecer  |60   |\n",
      "|#VotaPP               |46   |\n",
      "|#Ciencia              |41   |\n",
      "|#destacada            |38   |\n",
      "|#GobernarParaLaMayoría|34   |\n",
      "+----------------------+-----+\n",
      "\n"
     ]
    },
    {
     "name": "stderr",
     "output_type": "stream",
     "text": [
      "                                                                                \r"
     ]
    },
    {
     "name": "stdout",
     "output_type": "stream",
     "text": [
      "-------------------------------------------\n",
      "Batch: 488\n",
      "-------------------------------------------\n",
      "+----------------------+-----+\n",
      "|word                  |count|\n",
      "+----------------------+-----+\n",
      "|#UAM                  |90   |\n",
      "|#ForoCambio11J        |86   |\n",
      "|#Apple                |76   |\n",
      "|#UniDeVerano          |70   |\n",
      "|#TuitUtil             |67   |\n",
      "|#TrabajarHacerCrecer  |61   |\n",
      "|#VotaPP               |46   |\n",
      "|#Ciencia              |41   |\n",
      "|#destacada            |38   |\n",
      "|#GobernarParaLaMayoría|34   |\n",
      "+----------------------+-----+\n",
      "\n"
     ]
    },
    {
     "name": "stderr",
     "output_type": "stream",
     "text": [
      "                                                                                \r"
     ]
    },
    {
     "name": "stdout",
     "output_type": "stream",
     "text": [
      "-------------------------------------------\n",
      "Batch: 489\n",
      "-------------------------------------------\n",
      "+----------------------+-----+\n",
      "|word                  |count|\n",
      "+----------------------+-----+\n",
      "|#UAM                  |91   |\n",
      "|#ForoCambio11J        |86   |\n",
      "|#Apple                |76   |\n",
      "|#UniDeVerano          |70   |\n",
      "|#TuitUtil             |67   |\n",
      "|#TrabajarHacerCrecer  |61   |\n",
      "|#VotaPP               |46   |\n",
      "|#Ciencia              |41   |\n",
      "|#destacada            |38   |\n",
      "|#GobernarParaLaMayoría|34   |\n",
      "+----------------------+-----+\n",
      "\n"
     ]
    },
    {
     "name": "stderr",
     "output_type": "stream",
     "text": [
      "                                                                                \r"
     ]
    },
    {
     "name": "stdout",
     "output_type": "stream",
     "text": [
      "-------------------------------------------\n",
      "Batch: 490\n",
      "-------------------------------------------\n",
      "+----------------------+-----+\n",
      "|word                  |count|\n",
      "+----------------------+-----+\n",
      "|#UAM                  |91   |\n",
      "|#ForoCambio11J        |86   |\n",
      "|#Apple                |76   |\n",
      "|#UniDeVerano          |70   |\n",
      "|#TuitUtil             |67   |\n",
      "|#TrabajarHacerCrecer  |61   |\n",
      "|#VotaPP               |46   |\n",
      "|#Ciencia              |41   |\n",
      "|#destacada            |38   |\n",
      "|#GobernarParaLaMayoría|34   |\n",
      "+----------------------+-----+\n",
      "\n"
     ]
    },
    {
     "name": "stderr",
     "output_type": "stream",
     "text": [
      "                                                                                \r"
     ]
    },
    {
     "name": "stdout",
     "output_type": "stream",
     "text": [
      "-------------------------------------------\n",
      "Batch: 491\n",
      "-------------------------------------------\n",
      "+----------------------+-----+\n",
      "|word                  |count|\n",
      "+----------------------+-----+\n",
      "|#UAM                  |92   |\n",
      "|#ForoCambio11J        |86   |\n",
      "|#Apple                |76   |\n",
      "|#UniDeVerano          |70   |\n",
      "|#TuitUtil             |67   |\n",
      "|#TrabajarHacerCrecer  |61   |\n",
      "|#VotaPP               |46   |\n",
      "|#Ciencia              |41   |\n",
      "|#destacada            |38   |\n",
      "|#GobernarParaLaMayoría|34   |\n",
      "+----------------------+-----+\n",
      "\n"
     ]
    },
    {
     "name": "stderr",
     "output_type": "stream",
     "text": [
      "                                                                                \r"
     ]
    },
    {
     "name": "stdout",
     "output_type": "stream",
     "text": [
      "-------------------------------------------\n",
      "Batch: 492\n",
      "-------------------------------------------\n",
      "+----------------------+-----+\n",
      "|word                  |count|\n",
      "+----------------------+-----+\n",
      "|#UAM                  |92   |\n",
      "|#ForoCambio11J        |87   |\n",
      "|#Apple                |76   |\n",
      "|#UniDeVerano          |70   |\n",
      "|#TuitUtil             |67   |\n",
      "|#TrabajarHacerCrecer  |62   |\n",
      "|#VotaPP               |47   |\n",
      "|#Ciencia              |41   |\n",
      "|#destacada            |38   |\n",
      "|#GobernarParaLaMayoría|34   |\n",
      "+----------------------+-----+\n",
      "\n"
     ]
    },
    {
     "name": "stderr",
     "output_type": "stream",
     "text": [
      "                                                                                \r"
     ]
    },
    {
     "name": "stdout",
     "output_type": "stream",
     "text": [
      "-------------------------------------------\n",
      "Batch: 493\n",
      "-------------------------------------------\n",
      "+----------------------+-----+\n",
      "|word                  |count|\n",
      "+----------------------+-----+\n",
      "|#UAM                  |92   |\n",
      "|#ForoCambio11J        |88   |\n",
      "|#Apple                |76   |\n",
      "|#UniDeVerano          |70   |\n",
      "|#TuitUtil             |67   |\n",
      "|#TrabajarHacerCrecer  |62   |\n",
      "|#VotaPP               |47   |\n",
      "|#Ciencia              |41   |\n",
      "|#destacada            |38   |\n",
      "|#GobernarParaLaMayoría|34   |\n",
      "+----------------------+-----+\n",
      "\n"
     ]
    },
    {
     "name": "stderr",
     "output_type": "stream",
     "text": [
      "                                                                                \r"
     ]
    },
    {
     "name": "stdout",
     "output_type": "stream",
     "text": [
      "-------------------------------------------\n",
      "Batch: 494\n",
      "-------------------------------------------\n",
      "+----------------------+-----+\n",
      "|word                  |count|\n",
      "+----------------------+-----+\n",
      "|#UAM                  |92   |\n",
      "|#ForoCambio11J        |88   |\n",
      "|#Apple                |76   |\n",
      "|#UniDeVerano          |70   |\n",
      "|#TuitUtil             |67   |\n",
      "|#TrabajarHacerCrecer  |62   |\n",
      "|#VotaPP               |47   |\n",
      "|#Ciencia              |42   |\n",
      "|#destacada            |38   |\n",
      "|#GobernarParaLaMayoría|34   |\n",
      "+----------------------+-----+\n",
      "\n"
     ]
    },
    {
     "name": "stderr",
     "output_type": "stream",
     "text": [
      "                                                                                \r"
     ]
    },
    {
     "name": "stdout",
     "output_type": "stream",
     "text": [
      "-------------------------------------------\n",
      "Batch: 495\n",
      "-------------------------------------------\n",
      "+----------------------+-----+\n",
      "|word                  |count|\n",
      "+----------------------+-----+\n",
      "|#UAM                  |92   |\n",
      "|#ForoCambio11J        |88   |\n",
      "|#Apple                |76   |\n",
      "|#UniDeVerano          |70   |\n",
      "|#TuitUtil             |67   |\n",
      "|#TrabajarHacerCrecer  |63   |\n",
      "|#VotaPP               |47   |\n",
      "|#Ciencia              |42   |\n",
      "|#destacada            |38   |\n",
      "|#GobernarParaLaMayoría|34   |\n",
      "+----------------------+-----+\n",
      "\n"
     ]
    },
    {
     "name": "stderr",
     "output_type": "stream",
     "text": [
      "                                                                                \r"
     ]
    },
    {
     "name": "stdout",
     "output_type": "stream",
     "text": [
      "-------------------------------------------\n",
      "Batch: 496\n",
      "-------------------------------------------\n",
      "+----------------------+-----+\n",
      "|word                  |count|\n",
      "+----------------------+-----+\n",
      "|#UAM                  |93   |\n",
      "|#ForoCambio11J        |88   |\n",
      "|#Apple                |76   |\n",
      "|#UniDeVerano          |70   |\n",
      "|#TuitUtil             |67   |\n",
      "|#TrabajarHacerCrecer  |63   |\n",
      "|#VotaPP               |47   |\n",
      "|#Ciencia              |42   |\n",
      "|#destacada            |38   |\n",
      "|#GobernarParaLaMayoría|34   |\n",
      "+----------------------+-----+\n",
      "\n"
     ]
    },
    {
     "name": "stderr",
     "output_type": "stream",
     "text": [
      "                                                                                \r"
     ]
    },
    {
     "name": "stdout",
     "output_type": "stream",
     "text": [
      "-------------------------------------------\n",
      "Batch: 497\n",
      "-------------------------------------------\n",
      "+----------------------+-----+\n",
      "|word                  |count|\n",
      "+----------------------+-----+\n",
      "|#UAM                  |93   |\n",
      "|#ForoCambio11J        |88   |\n",
      "|#Apple                |76   |\n",
      "|#UniDeVerano          |70   |\n",
      "|#TuitUtil             |67   |\n",
      "|#TrabajarHacerCrecer  |63   |\n",
      "|#VotaPP               |47   |\n",
      "|#Ciencia              |42   |\n",
      "|#destacada            |38   |\n",
      "|#GobernarParaLaMayoría|35   |\n",
      "+----------------------+-----+\n",
      "\n"
     ]
    },
    {
     "name": "stderr",
     "output_type": "stream",
     "text": [
      "                                                                                \r"
     ]
    },
    {
     "name": "stdout",
     "output_type": "stream",
     "text": [
      "-------------------------------------------\n",
      "Batch: 498\n",
      "-------------------------------------------\n",
      "+----------------------+-----+\n",
      "|word                  |count|\n",
      "+----------------------+-----+\n",
      "|#UAM                  |93   |\n",
      "|#ForoCambio11J        |88   |\n",
      "|#Apple                |77   |\n",
      "|#UniDeVerano          |70   |\n",
      "|#TuitUtil             |67   |\n",
      "|#TrabajarHacerCrecer  |63   |\n",
      "|#VotaPP               |47   |\n",
      "|#Ciencia              |42   |\n",
      "|#destacada            |39   |\n",
      "|#GobernarParaLaMayoría|35   |\n",
      "+----------------------+-----+\n",
      "\n"
     ]
    },
    {
     "name": "stderr",
     "output_type": "stream",
     "text": [
      "                                                                                \r"
     ]
    },
    {
     "name": "stdout",
     "output_type": "stream",
     "text": [
      "-------------------------------------------\n",
      "Batch: 499\n",
      "-------------------------------------------\n",
      "+----------------------+-----+\n",
      "|word                  |count|\n",
      "+----------------------+-----+\n",
      "|#UAM                  |95   |\n",
      "|#ForoCambio11J        |88   |\n",
      "|#Apple                |77   |\n",
      "|#UniDeVerano          |71   |\n",
      "|#TuitUtil             |67   |\n",
      "|#TrabajarHacerCrecer  |64   |\n",
      "|#VotaPP               |47   |\n",
      "|#Ciencia              |42   |\n",
      "|#destacada            |39   |\n",
      "|#GobernarParaLaMayoría|35   |\n",
      "+----------------------+-----+\n",
      "\n"
     ]
    },
    {
     "name": "stderr",
     "output_type": "stream",
     "text": [
      "                                                                                \r"
     ]
    },
    {
     "name": "stdout",
     "output_type": "stream",
     "text": [
      "-------------------------------------------\n",
      "Batch: 500\n",
      "-------------------------------------------\n",
      "+----------------------+-----+\n",
      "|word                  |count|\n",
      "+----------------------+-----+\n",
      "|#UAM                  |96   |\n",
      "|#ForoCambio11J        |88   |\n",
      "|#Apple                |77   |\n",
      "|#UniDeVerano          |71   |\n",
      "|#TuitUtil             |67   |\n",
      "|#TrabajarHacerCrecer  |64   |\n",
      "|#VotaPP               |47   |\n",
      "|#Ciencia              |42   |\n",
      "|#destacada            |39   |\n",
      "|#GobernarParaLaMayoría|35   |\n",
      "+----------------------+-----+\n",
      "\n"
     ]
    },
    {
     "name": "stderr",
     "output_type": "stream",
     "text": [
      "                                                                                \r"
     ]
    },
    {
     "name": "stdout",
     "output_type": "stream",
     "text": [
      "-------------------------------------------\n",
      "Batch: 501\n",
      "-------------------------------------------\n",
      "+----------------------+-----+\n",
      "|word                  |count|\n",
      "+----------------------+-----+\n",
      "|#UAM                  |96   |\n",
      "|#ForoCambio11J        |88   |\n",
      "|#Apple                |78   |\n",
      "|#UniDeVerano          |72   |\n",
      "|#TuitUtil             |67   |\n",
      "|#TrabajarHacerCrecer  |64   |\n",
      "|#VotaPP               |47   |\n",
      "|#Ciencia              |42   |\n",
      "|#destacada            |39   |\n",
      "|#GobernarParaLaMayoría|35   |\n",
      "+----------------------+-----+\n",
      "\n"
     ]
    },
    {
     "name": "stderr",
     "output_type": "stream",
     "text": [
      "                                                                                \r"
     ]
    },
    {
     "name": "stdout",
     "output_type": "stream",
     "text": [
      "-------------------------------------------\n",
      "Batch: 502\n",
      "-------------------------------------------\n",
      "+----------------------+-----+\n",
      "|word                  |count|\n",
      "+----------------------+-----+\n",
      "|#UAM                  |96   |\n",
      "|#ForoCambio11J        |89   |\n",
      "|#Apple                |78   |\n",
      "|#UniDeVerano          |73   |\n",
      "|#TuitUtil             |67   |\n",
      "|#TrabajarHacerCrecer  |65   |\n",
      "|#VotaPP               |47   |\n",
      "|#Ciencia              |42   |\n",
      "|#destacada            |39   |\n",
      "|#GobernarParaLaMayoría|35   |\n",
      "+----------------------+-----+\n",
      "\n"
     ]
    },
    {
     "name": "stderr",
     "output_type": "stream",
     "text": [
      "                                                                                \r"
     ]
    },
    {
     "name": "stdout",
     "output_type": "stream",
     "text": [
      "-------------------------------------------\n",
      "Batch: 503\n",
      "-------------------------------------------\n",
      "+----------------------+-----+\n",
      "|word                  |count|\n",
      "+----------------------+-----+\n",
      "|#UAM                  |96   |\n",
      "|#ForoCambio11J        |89   |\n",
      "|#Apple                |78   |\n",
      "|#UniDeVerano          |73   |\n",
      "|#TuitUtil             |67   |\n",
      "|#TrabajarHacerCrecer  |65   |\n",
      "|#VotaPP               |47   |\n",
      "|#Ciencia              |42   |\n",
      "|#destacada            |41   |\n",
      "|#GobernarParaLaMayoría|35   |\n",
      "+----------------------+-----+\n",
      "\n"
     ]
    },
    {
     "name": "stderr",
     "output_type": "stream",
     "text": [
      "                                                                                \r"
     ]
    },
    {
     "name": "stdout",
     "output_type": "stream",
     "text": [
      "-------------------------------------------\n",
      "Batch: 504\n",
      "-------------------------------------------\n",
      "+----------------------+-----+\n",
      "|word                  |count|\n",
      "+----------------------+-----+\n",
      "|#UAM                  |96   |\n",
      "|#ForoCambio11J        |89   |\n",
      "|#Apple                |78   |\n",
      "|#UniDeVerano          |73   |\n",
      "|#TuitUtil             |67   |\n",
      "|#TrabajarHacerCrecer  |65   |\n",
      "|#VotaPP               |47   |\n",
      "|#Ciencia              |42   |\n",
      "|#destacada            |41   |\n",
      "|#GobernarParaLaMayoría|35   |\n",
      "+----------------------+-----+\n",
      "\n"
     ]
    },
    {
     "name": "stderr",
     "output_type": "stream",
     "text": [
      "                                                                                \r"
     ]
    },
    {
     "name": "stdout",
     "output_type": "stream",
     "text": [
      "-------------------------------------------\n",
      "Batch: 505\n",
      "-------------------------------------------\n",
      "+----------------------+-----+\n",
      "|word                  |count|\n",
      "+----------------------+-----+\n",
      "|#UAM                  |97   |\n",
      "|#ForoCambio11J        |89   |\n",
      "|#Apple                |78   |\n",
      "|#UniDeVerano          |73   |\n",
      "|#TuitUtil             |67   |\n",
      "|#TrabajarHacerCrecer  |65   |\n",
      "|#VotaPP               |47   |\n",
      "|#Ciencia              |42   |\n",
      "|#destacada            |41   |\n",
      "|#GobernarParaLaMayoría|35   |\n",
      "+----------------------+-----+\n",
      "\n"
     ]
    },
    {
     "name": "stderr",
     "output_type": "stream",
     "text": [
      "                                                                                \r"
     ]
    },
    {
     "name": "stdout",
     "output_type": "stream",
     "text": [
      "-------------------------------------------\n",
      "Batch: 506\n",
      "-------------------------------------------\n",
      "+----------------------+-----+\n",
      "|word                  |count|\n",
      "+----------------------+-----+\n",
      "|#UAM                  |97   |\n",
      "|#ForoCambio11J        |89   |\n",
      "|#Apple                |78   |\n",
      "|#UniDeVerano          |73   |\n",
      "|#TuitUtil             |67   |\n",
      "|#TrabajarHacerCrecer  |65   |\n",
      "|#VotaPP               |47   |\n",
      "|#Ciencia              |42   |\n",
      "|#destacada            |41   |\n",
      "|#GobernarParaLaMayoría|35   |\n",
      "+----------------------+-----+\n",
      "\n"
     ]
    },
    {
     "name": "stderr",
     "output_type": "stream",
     "text": [
      "                                                                                \r"
     ]
    },
    {
     "name": "stdout",
     "output_type": "stream",
     "text": [
      "-------------------------------------------\n",
      "Batch: 507\n",
      "-------------------------------------------\n",
      "+----------------------+-----+\n",
      "|word                  |count|\n",
      "+----------------------+-----+\n",
      "|#UAM                  |97   |\n",
      "|#ForoCambio11J        |89   |\n",
      "|#Apple                |79   |\n",
      "|#UniDeVerano          |74   |\n",
      "|#TuitUtil             |67   |\n",
      "|#TrabajarHacerCrecer  |67   |\n",
      "|#VotaPP               |47   |\n",
      "|#Ciencia              |42   |\n",
      "|#destacada            |41   |\n",
      "|#GobernarParaLaMayoría|35   |\n",
      "+----------------------+-----+\n",
      "\n"
     ]
    },
    {
     "name": "stderr",
     "output_type": "stream",
     "text": [
      "                                                                                \r"
     ]
    },
    {
     "name": "stdout",
     "output_type": "stream",
     "text": [
      "-------------------------------------------\n",
      "Batch: 508\n",
      "-------------------------------------------\n",
      "+----------------------+-----+\n",
      "|word                  |count|\n",
      "+----------------------+-----+\n",
      "|#UAM                  |97   |\n",
      "|#ForoCambio11J        |89   |\n",
      "|#Apple                |80   |\n",
      "|#UniDeVerano          |74   |\n",
      "|#TuitUtil             |67   |\n",
      "|#TrabajarHacerCrecer  |67   |\n",
      "|#VotaPP               |48   |\n",
      "|#Ciencia              |43   |\n",
      "|#destacada            |41   |\n",
      "|#GobernarParaLaMayoría|35   |\n",
      "+----------------------+-----+\n",
      "\n"
     ]
    },
    {
     "name": "stderr",
     "output_type": "stream",
     "text": [
      "                                                                                \r"
     ]
    },
    {
     "name": "stdout",
     "output_type": "stream",
     "text": [
      "-------------------------------------------\n",
      "Batch: 509\n",
      "-------------------------------------------\n",
      "+----------------------+-----+\n",
      "|word                  |count|\n",
      "+----------------------+-----+\n",
      "|#UAM                  |97   |\n",
      "|#ForoCambio11J        |89   |\n",
      "|#Apple                |80   |\n",
      "|#UniDeVerano          |74   |\n",
      "|#TuitUtil             |67   |\n",
      "|#TrabajarHacerCrecer  |67   |\n",
      "|#VotaPP               |48   |\n",
      "|#Ciencia              |43   |\n",
      "|#destacada            |41   |\n",
      "|#GobernarParaLaMayoría|35   |\n",
      "+----------------------+-----+\n",
      "\n"
     ]
    },
    {
     "name": "stderr",
     "output_type": "stream",
     "text": [
      "                                                                                \r"
     ]
    },
    {
     "name": "stdout",
     "output_type": "stream",
     "text": [
      "-------------------------------------------\n",
      "Batch: 510\n",
      "-------------------------------------------\n",
      "+----------------------+-----+\n",
      "|word                  |count|\n",
      "+----------------------+-----+\n",
      "|#UAM                  |97   |\n",
      "|#ForoCambio11J        |90   |\n",
      "|#Apple                |81   |\n",
      "|#UniDeVerano          |74   |\n",
      "|#TuitUtil             |67   |\n",
      "|#TrabajarHacerCrecer  |67   |\n",
      "|#VotaPP               |48   |\n",
      "|#Ciencia              |43   |\n",
      "|#destacada            |41   |\n",
      "|#GobernarParaLaMayoría|35   |\n",
      "+----------------------+-----+\n",
      "\n"
     ]
    },
    {
     "name": "stderr",
     "output_type": "stream",
     "text": [
      "                                                                                \r"
     ]
    },
    {
     "name": "stdout",
     "output_type": "stream",
     "text": [
      "-------------------------------------------\n",
      "Batch: 511\n",
      "-------------------------------------------\n",
      "+----------------------+-----+\n",
      "|word                  |count|\n",
      "+----------------------+-----+\n",
      "|#UAM                  |97   |\n",
      "|#ForoCambio11J        |90   |\n",
      "|#Apple                |81   |\n",
      "|#UniDeVerano          |75   |\n",
      "|#TuitUtil             |67   |\n",
      "|#TrabajarHacerCrecer  |67   |\n",
      "|#VotaPP               |48   |\n",
      "|#Ciencia              |43   |\n",
      "|#destacada            |42   |\n",
      "|#GobernarParaLaMayoría|35   |\n",
      "+----------------------+-----+\n",
      "\n"
     ]
    },
    {
     "name": "stderr",
     "output_type": "stream",
     "text": [
      "                                                                                \r"
     ]
    },
    {
     "name": "stdout",
     "output_type": "stream",
     "text": [
      "-------------------------------------------\n",
      "Batch: 512\n",
      "-------------------------------------------\n",
      "+----------------------+-----+\n",
      "|word                  |count|\n",
      "+----------------------+-----+\n",
      "|#UAM                  |98   |\n",
      "|#ForoCambio11J        |91   |\n",
      "|#Apple                |81   |\n",
      "|#UniDeVerano          |75   |\n",
      "|#TuitUtil             |67   |\n",
      "|#TrabajarHacerCrecer  |67   |\n",
      "|#VotaPP               |48   |\n",
      "|#Ciencia              |44   |\n",
      "|#destacada            |42   |\n",
      "|#GobernarParaLaMayoría|35   |\n",
      "+----------------------+-----+\n",
      "\n"
     ]
    },
    {
     "name": "stderr",
     "output_type": "stream",
     "text": [
      "                                                                                \r"
     ]
    },
    {
     "name": "stdout",
     "output_type": "stream",
     "text": [
      "-------------------------------------------\n",
      "Batch: 513\n",
      "-------------------------------------------\n",
      "+----------------------+-----+\n",
      "|word                  |count|\n",
      "+----------------------+-----+\n",
      "|#UAM                  |98   |\n",
      "|#ForoCambio11J        |91   |\n",
      "|#Apple                |81   |\n",
      "|#UniDeVerano          |75   |\n",
      "|#TuitUtil             |67   |\n",
      "|#TrabajarHacerCrecer  |67   |\n",
      "|#VotaPP               |48   |\n",
      "|#Ciencia              |44   |\n",
      "|#destacada            |42   |\n",
      "|#GobernarParaLaMayoría|35   |\n",
      "+----------------------+-----+\n",
      "\n"
     ]
    },
    {
     "name": "stderr",
     "output_type": "stream",
     "text": [
      "                                                                                \r"
     ]
    },
    {
     "name": "stdout",
     "output_type": "stream",
     "text": [
      "-------------------------------------------\n",
      "Batch: 514\n",
      "-------------------------------------------\n",
      "+----------------------+-----+\n",
      "|word                  |count|\n",
      "+----------------------+-----+\n",
      "|#UAM                  |98   |\n",
      "|#ForoCambio11J        |92   |\n",
      "|#Apple                |81   |\n",
      "|#UniDeVerano          |75   |\n",
      "|#TuitUtil             |67   |\n",
      "|#TrabajarHacerCrecer  |67   |\n",
      "|#VotaPP               |48   |\n",
      "|#Ciencia              |44   |\n",
      "|#destacada            |42   |\n",
      "|#GobernarParaLaMayoría|35   |\n",
      "+----------------------+-----+\n",
      "\n"
     ]
    },
    {
     "name": "stderr",
     "output_type": "stream",
     "text": [
      "                                                                                \r"
     ]
    },
    {
     "name": "stdout",
     "output_type": "stream",
     "text": [
      "-------------------------------------------\n",
      "Batch: 515\n",
      "-------------------------------------------\n",
      "+----------------------+-----+\n",
      "|word                  |count|\n",
      "+----------------------+-----+\n",
      "|#UAM                  |98   |\n",
      "|#ForoCambio11J        |92   |\n",
      "|#Apple                |81   |\n",
      "|#UniDeVerano          |75   |\n",
      "|#TuitUtil             |67   |\n",
      "|#TrabajarHacerCrecer  |67   |\n",
      "|#VotaPP               |49   |\n",
      "|#Ciencia              |44   |\n",
      "|#destacada            |42   |\n",
      "|#GobernarParaLaMayoría|35   |\n",
      "+----------------------+-----+\n",
      "\n"
     ]
    },
    {
     "name": "stderr",
     "output_type": "stream",
     "text": [
      "[Stage 1549:============================================>       (170 + 8) / 200]\r"
     ]
    },
    {
     "name": "stdout",
     "output_type": "stream",
     "text": [
      "-------------------------------------------\n",
      "Batch: 516\n",
      "-------------------------------------------\n",
      "+----------------------+-----+\n",
      "|word                  |count|\n",
      "+----------------------+-----+\n",
      "|#UAM                  |98   |\n",
      "|#ForoCambio11J        |93   |\n",
      "|#Apple                |81   |\n",
      "|#UniDeVerano          |75   |\n",
      "|#TuitUtil             |67   |\n",
      "|#TrabajarHacerCrecer  |67   |\n",
      "|#VotaPP               |49   |\n",
      "|#Ciencia              |44   |\n",
      "|#destacada            |42   |\n",
      "|#GobernarParaLaMayoría|35   |\n",
      "+----------------------+-----+\n",
      "\n"
     ]
    },
    {
     "name": "stderr",
     "output_type": "stream",
     "text": [
      "                                                                                \r"
     ]
    },
    {
     "name": "stdout",
     "output_type": "stream",
     "text": [
      "-------------------------------------------\n",
      "Batch: 517\n",
      "-------------------------------------------\n",
      "+----------------------+-----+\n",
      "|word                  |count|\n",
      "+----------------------+-----+\n",
      "|#UAM                  |98   |\n",
      "|#ForoCambio11J        |94   |\n",
      "|#Apple                |81   |\n",
      "|#UniDeVerano          |76   |\n",
      "|#TuitUtil             |67   |\n",
      "|#TrabajarHacerCrecer  |67   |\n",
      "|#VotaPP               |49   |\n",
      "|#Ciencia              |45   |\n",
      "|#destacada            |42   |\n",
      "|#GobernarParaLaMayoría|35   |\n",
      "+----------------------+-----+\n",
      "\n"
     ]
    },
    {
     "name": "stderr",
     "output_type": "stream",
     "text": [
      "                                                                                \r"
     ]
    },
    {
     "name": "stdout",
     "output_type": "stream",
     "text": [
      "-------------------------------------------\n",
      "Batch: 518\n",
      "-------------------------------------------\n",
      "+----------------------+-----+\n",
      "|word                  |count|\n",
      "+----------------------+-----+\n",
      "|#UAM                  |98   |\n",
      "|#ForoCambio11J        |94   |\n",
      "|#Apple                |81   |\n",
      "|#UniDeVerano          |76   |\n",
      "|#TuitUtil             |67   |\n",
      "|#TrabajarHacerCrecer  |67   |\n",
      "|#VotaPP               |49   |\n",
      "|#Ciencia              |45   |\n",
      "|#destacada            |42   |\n",
      "|#GobernarParaLaMayoría|35   |\n",
      "+----------------------+-----+\n",
      "\n"
     ]
    },
    {
     "name": "stderr",
     "output_type": "stream",
     "text": [
      "                                                                                \r"
     ]
    },
    {
     "name": "stdout",
     "output_type": "stream",
     "text": [
      "-------------------------------------------\n",
      "Batch: 519\n",
      "-------------------------------------------\n",
      "+----------------------+-----+\n",
      "|word                  |count|\n",
      "+----------------------+-----+\n",
      "|#UAM                  |98   |\n",
      "|#ForoCambio11J        |94   |\n",
      "|#Apple                |81   |\n",
      "|#UniDeVerano          |76   |\n",
      "|#TuitUtil             |67   |\n",
      "|#TrabajarHacerCrecer  |67   |\n",
      "|#VotaPP               |49   |\n",
      "|#Ciencia              |45   |\n",
      "|#destacada            |42   |\n",
      "|#GobernarParaLaMayoría|35   |\n",
      "+----------------------+-----+\n",
      "\n"
     ]
    },
    {
     "name": "stderr",
     "output_type": "stream",
     "text": [
      "                                                                                \r"
     ]
    },
    {
     "name": "stdout",
     "output_type": "stream",
     "text": [
      "-------------------------------------------\n",
      "Batch: 520\n",
      "-------------------------------------------\n",
      "+----------------------+-----+\n",
      "|word                  |count|\n",
      "+----------------------+-----+\n",
      "|#UAM                  |99   |\n",
      "|#ForoCambio11J        |94   |\n",
      "|#Apple                |81   |\n",
      "|#UniDeVerano          |76   |\n",
      "|#TuitUtil             |67   |\n",
      "|#TrabajarHacerCrecer  |67   |\n",
      "|#VotaPP               |49   |\n",
      "|#Ciencia              |45   |\n",
      "|#destacada            |42   |\n",
      "|#GobernarParaLaMayoría|35   |\n",
      "+----------------------+-----+\n",
      "\n"
     ]
    },
    {
     "name": "stderr",
     "output_type": "stream",
     "text": [
      "                                                                                \r"
     ]
    },
    {
     "name": "stdout",
     "output_type": "stream",
     "text": [
      "-------------------------------------------\n",
      "Batch: 521\n",
      "-------------------------------------------\n",
      "+----------------------+-----+\n",
      "|word                  |count|\n",
      "+----------------------+-----+\n",
      "|#UAM                  |99   |\n",
      "|#ForoCambio11J        |94   |\n",
      "|#Apple                |81   |\n",
      "|#UniDeVerano          |76   |\n",
      "|#TrabajarHacerCrecer  |68   |\n",
      "|#TuitUtil             |67   |\n",
      "|#VotaPP               |49   |\n",
      "|#Ciencia              |45   |\n",
      "|#destacada            |42   |\n",
      "|#GobernarParaLaMayoría|35   |\n",
      "+----------------------+-----+\n",
      "\n"
     ]
    },
    {
     "name": "stderr",
     "output_type": "stream",
     "text": [
      "                                                                                \r"
     ]
    },
    {
     "name": "stdout",
     "output_type": "stream",
     "text": [
      "-------------------------------------------\n",
      "Batch: 522\n",
      "-------------------------------------------\n",
      "+----------------------+-----+\n",
      "|word                  |count|\n",
      "+----------------------+-----+\n",
      "|#UAM                  |100  |\n",
      "|#ForoCambio11J        |94   |\n",
      "|#Apple                |81   |\n",
      "|#UniDeVerano          |76   |\n",
      "|#TrabajarHacerCrecer  |68   |\n",
      "|#TuitUtil             |67   |\n",
      "|#VotaPP               |49   |\n",
      "|#Ciencia              |45   |\n",
      "|#destacada            |42   |\n",
      "|#GobernarParaLaMayoría|35   |\n",
      "+----------------------+-----+\n",
      "\n"
     ]
    },
    {
     "name": "stderr",
     "output_type": "stream",
     "text": [
      "                                                                                \r"
     ]
    },
    {
     "name": "stdout",
     "output_type": "stream",
     "text": [
      "-------------------------------------------\n",
      "Batch: 523\n",
      "-------------------------------------------\n",
      "+----------------------+-----+\n",
      "|word                  |count|\n",
      "+----------------------+-----+\n",
      "|#UAM                  |100  |\n",
      "|#ForoCambio11J        |94   |\n",
      "|#Apple                |81   |\n",
      "|#UniDeVerano          |77   |\n",
      "|#TrabajarHacerCrecer  |68   |\n",
      "|#TuitUtil             |67   |\n",
      "|#VotaPP               |49   |\n",
      "|#Ciencia              |46   |\n",
      "|#destacada            |42   |\n",
      "|#GobernarParaLaMayoría|35   |\n",
      "+----------------------+-----+\n",
      "\n"
     ]
    },
    {
     "name": "stderr",
     "output_type": "stream",
     "text": [
      "                                                                                \r"
     ]
    },
    {
     "name": "stdout",
     "output_type": "stream",
     "text": [
      "-------------------------------------------\n",
      "Batch: 524\n",
      "-------------------------------------------\n",
      "+----------------------+-----+\n",
      "|word                  |count|\n",
      "+----------------------+-----+\n",
      "|#UAM                  |100  |\n",
      "|#ForoCambio11J        |94   |\n",
      "|#Apple                |81   |\n",
      "|#UniDeVerano          |77   |\n",
      "|#TrabajarHacerCrecer  |68   |\n",
      "|#TuitUtil             |67   |\n",
      "|#VotaPP               |49   |\n",
      "|#Ciencia              |46   |\n",
      "|#destacada            |42   |\n",
      "|#GobernarParaLaMayoría|36   |\n",
      "+----------------------+-----+\n",
      "\n"
     ]
    },
    {
     "name": "stderr",
     "output_type": "stream",
     "text": [
      "[Stage 1576:============================================>       (173 + 8) / 200]\r"
     ]
    },
    {
     "name": "stdout",
     "output_type": "stream",
     "text": [
      "-------------------------------------------\n",
      "Batch: 525\n",
      "-------------------------------------------\n",
      "+----------------------+-----+\n",
      "|word                  |count|\n",
      "+----------------------+-----+\n",
      "|#UAM                  |100  |\n",
      "|#ForoCambio11J        |94   |\n",
      "|#Apple                |81   |\n",
      "|#UniDeVerano          |77   |\n",
      "|#TrabajarHacerCrecer  |68   |\n",
      "|#TuitUtil             |67   |\n",
      "|#VotaPP               |49   |\n",
      "|#Ciencia              |46   |\n",
      "|#destacada            |42   |\n",
      "|#GobernarParaLaMayoría|36   |\n",
      "+----------------------+-----+\n",
      "\n"
     ]
    },
    {
     "name": "stderr",
     "output_type": "stream",
     "text": [
      "                                                                                \r"
     ]
    },
    {
     "name": "stdout",
     "output_type": "stream",
     "text": [
      "-------------------------------------------\n",
      "Batch: 526\n",
      "-------------------------------------------\n",
      "+----------------------+-----+\n",
      "|word                  |count|\n",
      "+----------------------+-----+\n",
      "|#UAM                  |100  |\n",
      "|#ForoCambio11J        |94   |\n",
      "|#Apple                |81   |\n",
      "|#UniDeVerano          |77   |\n",
      "|#TrabajarHacerCrecer  |69   |\n",
      "|#TuitUtil             |67   |\n",
      "|#VotaPP               |50   |\n",
      "|#Ciencia              |46   |\n",
      "|#destacada            |42   |\n",
      "|#GobernarParaLaMayoría|36   |\n",
      "+----------------------+-----+\n",
      "\n"
     ]
    },
    {
     "name": "stderr",
     "output_type": "stream",
     "text": [
      "                                                                                \r"
     ]
    },
    {
     "name": "stdout",
     "output_type": "stream",
     "text": [
      "-------------------------------------------\n",
      "Batch: 527\n",
      "-------------------------------------------\n",
      "+----------------------+-----+\n",
      "|word                  |count|\n",
      "+----------------------+-----+\n",
      "|#UAM                  |100  |\n",
      "|#ForoCambio11J        |94   |\n",
      "|#Apple                |81   |\n",
      "|#UniDeVerano          |77   |\n",
      "|#TrabajarHacerCrecer  |69   |\n",
      "|#TuitUtil             |67   |\n",
      "|#VotaPP               |50   |\n",
      "|#Ciencia              |46   |\n",
      "|#destacada            |42   |\n",
      "|#GobernarParaLaMayoría|36   |\n",
      "+----------------------+-----+\n",
      "\n"
     ]
    },
    {
     "name": "stderr",
     "output_type": "stream",
     "text": [
      "                                                                                \r"
     ]
    },
    {
     "name": "stdout",
     "output_type": "stream",
     "text": [
      "-------------------------------------------\n",
      "Batch: 528\n",
      "-------------------------------------------\n",
      "+----------------------+-----+\n",
      "|word                  |count|\n",
      "+----------------------+-----+\n",
      "|#UAM                  |100  |\n",
      "|#ForoCambio11J        |94   |\n",
      "|#Apple                |81   |\n",
      "|#UniDeVerano          |77   |\n",
      "|#TrabajarHacerCrecer  |69   |\n",
      "|#TuitUtil             |67   |\n",
      "|#VotaPP               |50   |\n",
      "|#Ciencia              |46   |\n",
      "|#destacada            |42   |\n",
      "|#GobernarParaLaMayoría|37   |\n",
      "+----------------------+-----+\n",
      "\n"
     ]
    },
    {
     "name": "stderr",
     "output_type": "stream",
     "text": [
      "                                                                                \r"
     ]
    },
    {
     "name": "stdout",
     "output_type": "stream",
     "text": [
      "-------------------------------------------\n",
      "Batch: 529\n",
      "-------------------------------------------\n",
      "+----------------------+-----+\n",
      "|word                  |count|\n",
      "+----------------------+-----+\n",
      "|#UAM                  |100  |\n",
      "|#ForoCambio11J        |95   |\n",
      "|#Apple                |83   |\n",
      "|#UniDeVerano          |77   |\n",
      "|#TrabajarHacerCrecer  |69   |\n",
      "|#TuitUtil             |67   |\n",
      "|#VotaPP               |50   |\n",
      "|#Ciencia              |46   |\n",
      "|#destacada            |42   |\n",
      "|#GobernarParaLaMayoría|37   |\n",
      "+----------------------+-----+\n",
      "\n"
     ]
    },
    {
     "name": "stderr",
     "output_type": "stream",
     "text": [
      "                                                                                \r"
     ]
    },
    {
     "name": "stdout",
     "output_type": "stream",
     "text": [
      "-------------------------------------------\n",
      "Batch: 530\n",
      "-------------------------------------------\n",
      "+----------------------+-----+\n",
      "|word                  |count|\n",
      "+----------------------+-----+\n",
      "|#UAM                  |100  |\n",
      "|#ForoCambio11J        |95   |\n",
      "|#Apple                |83   |\n",
      "|#UniDeVerano          |77   |\n",
      "|#TrabajarHacerCrecer  |69   |\n",
      "|#TuitUtil             |67   |\n",
      "|#VotaPP               |50   |\n",
      "|#Ciencia              |46   |\n",
      "|#destacada            |42   |\n",
      "|#GobernarParaLaMayoría|37   |\n",
      "+----------------------+-----+\n",
      "\n"
     ]
    },
    {
     "name": "stderr",
     "output_type": "stream",
     "text": [
      "                                                                                \r"
     ]
    },
    {
     "name": "stdout",
     "output_type": "stream",
     "text": [
      "-------------------------------------------\n",
      "Batch: 531\n",
      "-------------------------------------------\n",
      "+----------------------+-----+\n",
      "|word                  |count|\n",
      "+----------------------+-----+\n",
      "|#UAM                  |100  |\n",
      "|#ForoCambio11J        |95   |\n",
      "|#Apple                |83   |\n",
      "|#UniDeVerano          |77   |\n",
      "|#TrabajarHacerCrecer  |69   |\n",
      "|#TuitUtil             |67   |\n",
      "|#VotaPP               |50   |\n",
      "|#Ciencia              |46   |\n",
      "|#destacada            |42   |\n",
      "|#GobernarParaLaMayoría|37   |\n",
      "+----------------------+-----+\n",
      "\n"
     ]
    },
    {
     "name": "stderr",
     "output_type": "stream",
     "text": [
      "                                                                                \r"
     ]
    },
    {
     "name": "stdout",
     "output_type": "stream",
     "text": [
      "-------------------------------------------\n",
      "Batch: 532\n",
      "-------------------------------------------\n",
      "+--------------------+-----+\n",
      "|word                |count|\n",
      "+--------------------+-----+\n",
      "|#UAM                |101  |\n",
      "|#ForoCambio11J      |95   |\n",
      "|#Apple              |83   |\n",
      "|#UniDeVerano        |77   |\n",
      "|#TrabajarHacerCrecer|69   |\n",
      "|#TuitUtil           |68   |\n",
      "|#VotaPP             |50   |\n",
      "|#Ciencia            |46   |\n",
      "|#destacada          |42   |\n",
      "|#RdPPodemos         |37   |\n",
      "+--------------------+-----+\n",
      "\n"
     ]
    },
    {
     "name": "stderr",
     "output_type": "stream",
     "text": [
      "                                                                                \r"
     ]
    },
    {
     "name": "stdout",
     "output_type": "stream",
     "text": [
      "-------------------------------------------\n",
      "Batch: 533\n",
      "-------------------------------------------\n",
      "+--------------------+-----+\n",
      "|word                |count|\n",
      "+--------------------+-----+\n",
      "|#UAM                |101  |\n",
      "|#ForoCambio11J      |95   |\n",
      "|#Apple              |83   |\n",
      "|#UniDeVerano        |77   |\n",
      "|#TrabajarHacerCrecer|69   |\n",
      "|#TuitUtil           |68   |\n",
      "|#VotaPP             |50   |\n",
      "|#Ciencia            |46   |\n",
      "|#destacada          |42   |\n",
      "|#RdPPodemos         |37   |\n",
      "+--------------------+-----+\n",
      "\n"
     ]
    },
    {
     "name": "stderr",
     "output_type": "stream",
     "text": [
      "                                                                                \r"
     ]
    },
    {
     "name": "stdout",
     "output_type": "stream",
     "text": [
      "-------------------------------------------\n",
      "Batch: 534\n",
      "-------------------------------------------\n",
      "+--------------------+-----+\n",
      "|word                |count|\n",
      "+--------------------+-----+\n",
      "|#UAM                |101  |\n",
      "|#ForoCambio11J      |95   |\n",
      "|#Apple              |83   |\n",
      "|#UniDeVerano        |77   |\n",
      "|#TrabajarHacerCrecer|69   |\n",
      "|#TuitUtil           |68   |\n",
      "|#VotaPP             |50   |\n",
      "|#Ciencia            |46   |\n",
      "|#destacada          |42   |\n",
      "|#RdPPodemos         |37   |\n",
      "+--------------------+-----+\n",
      "\n"
     ]
    },
    {
     "name": "stderr",
     "output_type": "stream",
     "text": [
      "                                                                                \r"
     ]
    },
    {
     "name": "stdout",
     "output_type": "stream",
     "text": [
      "-------------------------------------------\n",
      "Batch: 535\n",
      "-------------------------------------------\n",
      "+--------------------+-----+\n",
      "|word                |count|\n",
      "+--------------------+-----+\n",
      "|#UAM                |102  |\n",
      "|#ForoCambio11J      |95   |\n",
      "|#Apple              |83   |\n",
      "|#UniDeVerano        |78   |\n",
      "|#TrabajarHacerCrecer|69   |\n",
      "|#TuitUtil           |68   |\n",
      "|#VotaPP             |50   |\n",
      "|#Ciencia            |46   |\n",
      "|#destacada          |42   |\n",
      "|#RdPPodemos         |37   |\n",
      "+--------------------+-----+\n",
      "\n"
     ]
    },
    {
     "name": "stderr",
     "output_type": "stream",
     "text": [
      "                                                                                \r"
     ]
    },
    {
     "name": "stdout",
     "output_type": "stream",
     "text": [
      "-------------------------------------------\n",
      "Batch: 536\n",
      "-------------------------------------------\n",
      "+--------------------+-----+\n",
      "|word                |count|\n",
      "+--------------------+-----+\n",
      "|#UAM                |102  |\n",
      "|#ForoCambio11J      |95   |\n",
      "|#Apple              |83   |\n",
      "|#UniDeVerano        |78   |\n",
      "|#TrabajarHacerCrecer|69   |\n",
      "|#TuitUtil           |68   |\n",
      "|#VotaPP             |50   |\n",
      "|#Ciencia            |46   |\n",
      "|#destacada          |42   |\n",
      "|#RdPPodemos         |37   |\n",
      "+--------------------+-----+\n",
      "\n"
     ]
    },
    {
     "name": "stderr",
     "output_type": "stream",
     "text": [
      "                                                                                \r"
     ]
    },
    {
     "name": "stdout",
     "output_type": "stream",
     "text": [
      "-------------------------------------------\n",
      "Batch: 537\n",
      "-------------------------------------------\n",
      "+--------------------+-----+\n",
      "|word                |count|\n",
      "+--------------------+-----+\n",
      "|#UAM                |102  |\n",
      "|#ForoCambio11J      |95   |\n",
      "|#Apple              |83   |\n",
      "|#UniDeVerano        |78   |\n",
      "|#TrabajarHacerCrecer|69   |\n",
      "|#TuitUtil           |68   |\n",
      "|#VotaPP             |50   |\n",
      "|#Ciencia            |46   |\n",
      "|#destacada          |42   |\n",
      "|#RdPPodemos         |37   |\n",
      "+--------------------+-----+\n",
      "\n"
     ]
    },
    {
     "name": "stderr",
     "output_type": "stream",
     "text": [
      "                                                                                \r"
     ]
    },
    {
     "name": "stdout",
     "output_type": "stream",
     "text": [
      "-------------------------------------------\n",
      "Batch: 538\n",
      "-------------------------------------------\n",
      "+--------------------+-----+\n",
      "|word                |count|\n",
      "+--------------------+-----+\n",
      "|#UAM                |102  |\n",
      "|#ForoCambio11J      |95   |\n",
      "|#Apple              |83   |\n",
      "|#UniDeVerano        |79   |\n",
      "|#TrabajarHacerCrecer|69   |\n",
      "|#TuitUtil           |68   |\n",
      "|#VotaPP             |50   |\n",
      "|#Ciencia            |46   |\n",
      "|#destacada          |43   |\n",
      "|#RdPPodemos         |37   |\n",
      "+--------------------+-----+\n",
      "\n"
     ]
    },
    {
     "name": "stderr",
     "output_type": "stream",
     "text": [
      "                                                                                \r"
     ]
    },
    {
     "name": "stdout",
     "output_type": "stream",
     "text": [
      "-------------------------------------------\n",
      "Batch: 539\n",
      "-------------------------------------------\n",
      "+--------------------+-----+\n",
      "|word                |count|\n",
      "+--------------------+-----+\n",
      "|#UAM                |102  |\n",
      "|#ForoCambio11J      |95   |\n",
      "|#Apple              |83   |\n",
      "|#UniDeVerano        |79   |\n",
      "|#TrabajarHacerCrecer|69   |\n",
      "|#TuitUtil           |68   |\n",
      "|#VotaPP             |50   |\n",
      "|#Ciencia            |46   |\n",
      "|#destacada          |44   |\n",
      "|#RdPPodemos         |37   |\n",
      "+--------------------+-----+\n",
      "\n"
     ]
    },
    {
     "name": "stderr",
     "output_type": "stream",
     "text": [
      "                                                                                \r"
     ]
    },
    {
     "name": "stdout",
     "output_type": "stream",
     "text": [
      "-------------------------------------------\n",
      "Batch: 540\n",
      "-------------------------------------------\n",
      "+--------------------+-----+\n",
      "|word                |count|\n",
      "+--------------------+-----+\n",
      "|#UAM                |102  |\n",
      "|#ForoCambio11J      |95   |\n",
      "|#Apple              |83   |\n",
      "|#UniDeVerano        |79   |\n",
      "|#TrabajarHacerCrecer|69   |\n",
      "|#TuitUtil           |68   |\n",
      "|#VotaPP             |50   |\n",
      "|#Ciencia            |47   |\n",
      "|#destacada          |44   |\n",
      "|#RutaDelCambio      |37   |\n",
      "+--------------------+-----+\n",
      "\n"
     ]
    },
    {
     "name": "stderr",
     "output_type": "stream",
     "text": [
      "                                                                                \r"
     ]
    },
    {
     "name": "stdout",
     "output_type": "stream",
     "text": [
      "-------------------------------------------\n",
      "Batch: 541\n",
      "-------------------------------------------\n",
      "+----------------------+-----+\n",
      "|word                  |count|\n",
      "+----------------------+-----+\n",
      "|#UAM                  |102  |\n",
      "|#ForoCambio11J        |95   |\n",
      "|#Apple                |83   |\n",
      "|#UniDeVerano          |79   |\n",
      "|#TrabajarHacerCrecer  |70   |\n",
      "|#TuitUtil             |68   |\n",
      "|#VotaPP               |50   |\n",
      "|#Ciencia              |48   |\n",
      "|#destacada            |44   |\n",
      "|#GobernarParaLaMayoría|37   |\n",
      "+----------------------+-----+\n",
      "\n"
     ]
    },
    {
     "name": "stderr",
     "output_type": "stream",
     "text": [
      "                                                                                \r"
     ]
    },
    {
     "name": "stdout",
     "output_type": "stream",
     "text": [
      "-------------------------------------------\n",
      "Batch: 542\n",
      "-------------------------------------------\n",
      "+----------------------+-----+\n",
      "|word                  |count|\n",
      "+----------------------+-----+\n",
      "|#UAM                  |102  |\n",
      "|#ForoCambio11J        |95   |\n",
      "|#Apple                |83   |\n",
      "|#UniDeVerano          |79   |\n",
      "|#TrabajarHacerCrecer  |70   |\n",
      "|#TuitUtil             |68   |\n",
      "|#VotaPP               |50   |\n",
      "|#Ciencia              |48   |\n",
      "|#destacada            |44   |\n",
      "|#GobernarParaLaMayoría|38   |\n",
      "+----------------------+-----+\n",
      "\n"
     ]
    },
    {
     "name": "stderr",
     "output_type": "stream",
     "text": [
      "                                                                                \r"
     ]
    },
    {
     "name": "stdout",
     "output_type": "stream",
     "text": [
      "-------------------------------------------\n",
      "Batch: 543\n",
      "-------------------------------------------\n",
      "+----------------------+-----+\n",
      "|word                  |count|\n",
      "+----------------------+-----+\n",
      "|#UAM                  |102  |\n",
      "|#ForoCambio11J        |95   |\n",
      "|#Apple                |83   |\n",
      "|#UniDeVerano          |79   |\n",
      "|#TrabajarHacerCrecer  |70   |\n",
      "|#TuitUtil             |68   |\n",
      "|#VotaPP               |50   |\n",
      "|#Ciencia              |48   |\n",
      "|#destacada            |44   |\n",
      "|#GobernarParaLaMayoría|38   |\n",
      "+----------------------+-----+\n",
      "\n"
     ]
    },
    {
     "name": "stderr",
     "output_type": "stream",
     "text": [
      "                                                                                \r"
     ]
    },
    {
     "name": "stdout",
     "output_type": "stream",
     "text": [
      "-------------------------------------------\n",
      "Batch: 544\n",
      "-------------------------------------------\n",
      "+----------------------+-----+\n",
      "|word                  |count|\n",
      "+----------------------+-----+\n",
      "|#UAM                  |102  |\n",
      "|#ForoCambio11J        |96   |\n",
      "|#Apple                |83   |\n",
      "|#UniDeVerano          |79   |\n",
      "|#TrabajarHacerCrecer  |71   |\n",
      "|#TuitUtil             |68   |\n",
      "|#VotaPP               |51   |\n",
      "|#Ciencia              |48   |\n",
      "|#destacada            |44   |\n",
      "|#GobernarParaLaMayoría|38   |\n",
      "+----------------------+-----+\n",
      "\n"
     ]
    },
    {
     "name": "stderr",
     "output_type": "stream",
     "text": [
      "                                                                                \r"
     ]
    },
    {
     "name": "stdout",
     "output_type": "stream",
     "text": [
      "-------------------------------------------\n",
      "Batch: 545\n",
      "-------------------------------------------\n",
      "+----------------------+-----+\n",
      "|word                  |count|\n",
      "+----------------------+-----+\n",
      "|#UAM                  |103  |\n",
      "|#ForoCambio11J        |96   |\n",
      "|#Apple                |83   |\n",
      "|#UniDeVerano          |79   |\n",
      "|#TrabajarHacerCrecer  |72   |\n",
      "|#TuitUtil             |68   |\n",
      "|#VotaPP               |51   |\n",
      "|#Ciencia              |48   |\n",
      "|#destacada            |44   |\n",
      "|#GobernarParaLaMayoría|38   |\n",
      "+----------------------+-----+\n",
      "\n"
     ]
    },
    {
     "name": "stderr",
     "output_type": "stream",
     "text": [
      "                                                                                \r"
     ]
    },
    {
     "name": "stdout",
     "output_type": "stream",
     "text": [
      "-------------------------------------------\n",
      "Batch: 546\n",
      "-------------------------------------------\n",
      "+----------------------+-----+\n",
      "|word                  |count|\n",
      "+----------------------+-----+\n",
      "|#UAM                  |103  |\n",
      "|#ForoCambio11J        |97   |\n",
      "|#Apple                |83   |\n",
      "|#UniDeVerano          |79   |\n",
      "|#TrabajarHacerCrecer  |72   |\n",
      "|#TuitUtil             |68   |\n",
      "|#VotaPP               |51   |\n",
      "|#Ciencia              |49   |\n",
      "|#destacada            |44   |\n",
      "|#GobernarParaLaMayoría|38   |\n",
      "+----------------------+-----+\n",
      "\n"
     ]
    },
    {
     "name": "stderr",
     "output_type": "stream",
     "text": [
      "                                                                                \r"
     ]
    },
    {
     "name": "stdout",
     "output_type": "stream",
     "text": [
      "-------------------------------------------\n",
      "Batch: 547\n",
      "-------------------------------------------\n",
      "+----------------------+-----+\n",
      "|word                  |count|\n",
      "+----------------------+-----+\n",
      "|#UAM                  |103  |\n",
      "|#ForoCambio11J        |98   |\n",
      "|#Apple                |83   |\n",
      "|#UniDeVerano          |79   |\n",
      "|#TrabajarHacerCrecer  |72   |\n",
      "|#TuitUtil             |68   |\n",
      "|#VotaPP               |51   |\n",
      "|#Ciencia              |49   |\n",
      "|#destacada            |44   |\n",
      "|#GobernarParaLaMayoría|38   |\n",
      "+----------------------+-----+\n",
      "\n"
     ]
    },
    {
     "name": "stderr",
     "output_type": "stream",
     "text": [
      "                                                                                \r"
     ]
    },
    {
     "name": "stdout",
     "output_type": "stream",
     "text": [
      "-------------------------------------------\n",
      "Batch: 548\n",
      "-------------------------------------------\n",
      "+----------------------+-----+\n",
      "|word                  |count|\n",
      "+----------------------+-----+\n",
      "|#UAM                  |103  |\n",
      "|#ForoCambio11J        |98   |\n",
      "|#Apple                |83   |\n",
      "|#UniDeVerano          |79   |\n",
      "|#TrabajarHacerCrecer  |72   |\n",
      "|#TuitUtil             |68   |\n",
      "|#VotaPP               |51   |\n",
      "|#Ciencia              |49   |\n",
      "|#destacada            |44   |\n",
      "|#GobernarParaLaMayoría|38   |\n",
      "+----------------------+-----+\n",
      "\n"
     ]
    },
    {
     "name": "stderr",
     "output_type": "stream",
     "text": [
      "                                                                                \r"
     ]
    },
    {
     "name": "stdout",
     "output_type": "stream",
     "text": [
      "-------------------------------------------\n",
      "Batch: 549\n",
      "-------------------------------------------\n",
      "+----------------------+-----+\n",
      "|word                  |count|\n",
      "+----------------------+-----+\n",
      "|#UAM                  |103  |\n",
      "|#ForoCambio11J        |98   |\n",
      "|#Apple                |83   |\n",
      "|#UniDeVerano          |79   |\n",
      "|#TrabajarHacerCrecer  |72   |\n",
      "|#TuitUtil             |68   |\n",
      "|#Ciencia              |51   |\n",
      "|#VotaPP               |51   |\n",
      "|#destacada            |44   |\n",
      "|#GobernarParaLaMayoría|38   |\n",
      "+----------------------+-----+\n",
      "\n"
     ]
    },
    {
     "name": "stderr",
     "output_type": "stream",
     "text": [
      "                                                                                \r"
     ]
    },
    {
     "name": "stdout",
     "output_type": "stream",
     "text": [
      "-------------------------------------------\n",
      "Batch: 550\n",
      "-------------------------------------------\n",
      "+----------------------+-----+\n",
      "|word                  |count|\n",
      "+----------------------+-----+\n",
      "|#UAM                  |104  |\n",
      "|#ForoCambio11J        |99   |\n",
      "|#Apple                |83   |\n",
      "|#UniDeVerano          |79   |\n",
      "|#TrabajarHacerCrecer  |72   |\n",
      "|#TuitUtil             |68   |\n",
      "|#Ciencia              |51   |\n",
      "|#VotaPP               |51   |\n",
      "|#destacada            |45   |\n",
      "|#GobernarParaLaMayoría|38   |\n",
      "+----------------------+-----+\n",
      "\n"
     ]
    },
    {
     "name": "stderr",
     "output_type": "stream",
     "text": [
      "                                                                                \r"
     ]
    },
    {
     "name": "stdout",
     "output_type": "stream",
     "text": [
      "-------------------------------------------\n",
      "Batch: 551\n",
      "-------------------------------------------\n",
      "+----------------------+-----+\n",
      "|word                  |count|\n",
      "+----------------------+-----+\n",
      "|#UAM                  |104  |\n",
      "|#ForoCambio11J        |99   |\n",
      "|#Apple                |83   |\n",
      "|#UniDeVerano          |79   |\n",
      "|#TrabajarHacerCrecer  |72   |\n",
      "|#TuitUtil             |68   |\n",
      "|#Ciencia              |51   |\n",
      "|#VotaPP               |51   |\n",
      "|#destacada            |46   |\n",
      "|#GobernarParaLaMayoría|38   |\n",
      "+----------------------+-----+\n",
      "\n"
     ]
    },
    {
     "name": "stderr",
     "output_type": "stream",
     "text": [
      "                                                                                \r"
     ]
    },
    {
     "name": "stdout",
     "output_type": "stream",
     "text": [
      "-------------------------------------------\n",
      "Batch: 552\n",
      "-------------------------------------------\n",
      "+----------------------+-----+\n",
      "|word                  |count|\n",
      "+----------------------+-----+\n",
      "|#UAM                  |104  |\n",
      "|#ForoCambio11J        |99   |\n",
      "|#Apple                |83   |\n",
      "|#UniDeVerano          |79   |\n",
      "|#TrabajarHacerCrecer  |72   |\n",
      "|#TuitUtil             |68   |\n",
      "|#Ciencia              |51   |\n",
      "|#VotaPP               |51   |\n",
      "|#destacada            |46   |\n",
      "|#GobernarParaLaMayoría|38   |\n",
      "+----------------------+-----+\n",
      "\n"
     ]
    },
    {
     "name": "stderr",
     "output_type": "stream",
     "text": [
      "                                                                                \r"
     ]
    },
    {
     "name": "stdout",
     "output_type": "stream",
     "text": [
      "-------------------------------------------\n",
      "Batch: 553\n",
      "-------------------------------------------\n",
      "+----------------------+-----+\n",
      "|word                  |count|\n",
      "+----------------------+-----+\n",
      "|#UAM                  |104  |\n",
      "|#ForoCambio11J        |99   |\n",
      "|#Apple                |83   |\n",
      "|#UniDeVerano          |79   |\n",
      "|#TrabajarHacerCrecer  |72   |\n",
      "|#TuitUtil             |68   |\n",
      "|#VotaPP               |52   |\n",
      "|#Ciencia              |51   |\n",
      "|#destacada            |46   |\n",
      "|#GobernarParaLaMayoría|38   |\n",
      "+----------------------+-----+\n",
      "\n"
     ]
    },
    {
     "name": "stderr",
     "output_type": "stream",
     "text": [
      "                                                                                \r"
     ]
    },
    {
     "name": "stdout",
     "output_type": "stream",
     "text": [
      "-------------------------------------------\n",
      "Batch: 554\n",
      "-------------------------------------------\n",
      "+----------------------+-----+\n",
      "|word                  |count|\n",
      "+----------------------+-----+\n",
      "|#UAM                  |104  |\n",
      "|#ForoCambio11J        |99   |\n",
      "|#Apple                |83   |\n",
      "|#UniDeVerano          |79   |\n",
      "|#TrabajarHacerCrecer  |72   |\n",
      "|#TuitUtil             |68   |\n",
      "|#VotaPP               |52   |\n",
      "|#Ciencia              |51   |\n",
      "|#destacada            |46   |\n",
      "|#GobernarParaLaMayoría|38   |\n",
      "+----------------------+-----+\n",
      "\n"
     ]
    },
    {
     "name": "stderr",
     "output_type": "stream",
     "text": [
      "                                                                                \r"
     ]
    },
    {
     "name": "stdout",
     "output_type": "stream",
     "text": [
      "-------------------------------------------\n",
      "Batch: 555\n",
      "-------------------------------------------\n",
      "+----------------------+-----+\n",
      "|word                  |count|\n",
      "+----------------------+-----+\n",
      "|#UAM                  |104  |\n",
      "|#ForoCambio11J        |99   |\n",
      "|#Apple                |83   |\n",
      "|#UniDeVerano          |79   |\n",
      "|#TrabajarHacerCrecer  |72   |\n",
      "|#TuitUtil             |68   |\n",
      "|#VotaPP               |52   |\n",
      "|#Ciencia              |51   |\n",
      "|#destacada            |46   |\n",
      "|#GobernarParaLaMayoría|38   |\n",
      "+----------------------+-----+\n",
      "\n"
     ]
    },
    {
     "name": "stderr",
     "output_type": "stream",
     "text": [
      "                                                                                \r"
     ]
    },
    {
     "name": "stdout",
     "output_type": "stream",
     "text": [
      "-------------------------------------------\n",
      "Batch: 556\n",
      "-------------------------------------------\n",
      "+----------------------+-----+\n",
      "|word                  |count|\n",
      "+----------------------+-----+\n",
      "|#UAM                  |104  |\n",
      "|#ForoCambio11J        |99   |\n",
      "|#Apple                |83   |\n",
      "|#UniDeVerano          |79   |\n",
      "|#TrabajarHacerCrecer  |72   |\n",
      "|#TuitUtil             |68   |\n",
      "|#VotaPP               |52   |\n",
      "|#Ciencia              |51   |\n",
      "|#destacada            |46   |\n",
      "|#GobernarParaLaMayoría|38   |\n",
      "+----------------------+-----+\n",
      "\n"
     ]
    },
    {
     "name": "stderr",
     "output_type": "stream",
     "text": [
      "                                                                                \r"
     ]
    },
    {
     "name": "stdout",
     "output_type": "stream",
     "text": [
      "-------------------------------------------\n",
      "Batch: 557\n",
      "-------------------------------------------\n",
      "+----------------------+-----+\n",
      "|word                  |count|\n",
      "+----------------------+-----+\n",
      "|#UAM                  |104  |\n",
      "|#ForoCambio11J        |99   |\n",
      "|#Apple                |83   |\n",
      "|#UniDeVerano          |79   |\n",
      "|#TrabajarHacerCrecer  |72   |\n",
      "|#TuitUtil             |68   |\n",
      "|#VotaPP               |52   |\n",
      "|#Ciencia              |51   |\n",
      "|#destacada            |46   |\n",
      "|#GobernarParaLaMayoría|38   |\n",
      "+----------------------+-----+\n",
      "\n"
     ]
    },
    {
     "name": "stderr",
     "output_type": "stream",
     "text": [
      "                                                                                \r"
     ]
    },
    {
     "name": "stdout",
     "output_type": "stream",
     "text": [
      "-------------------------------------------\n",
      "Batch: 558\n",
      "-------------------------------------------\n",
      "+----------------------+-----+\n",
      "|word                  |count|\n",
      "+----------------------+-----+\n",
      "|#UAM                  |104  |\n",
      "|#ForoCambio11J        |99   |\n",
      "|#Apple                |83   |\n",
      "|#UniDeVerano          |79   |\n",
      "|#TrabajarHacerCrecer  |72   |\n",
      "|#TuitUtil             |68   |\n",
      "|#VotaPP               |52   |\n",
      "|#Ciencia              |51   |\n",
      "|#destacada            |46   |\n",
      "|#GobernarParaLaMayoría|38   |\n",
      "+----------------------+-----+\n",
      "\n"
     ]
    },
    {
     "name": "stderr",
     "output_type": "stream",
     "text": [
      "                                                                                \r"
     ]
    },
    {
     "name": "stdout",
     "output_type": "stream",
     "text": [
      "-------------------------------------------\n",
      "Batch: 559\n",
      "-------------------------------------------\n",
      "+----------------------+-----+\n",
      "|word                  |count|\n",
      "+----------------------+-----+\n",
      "|#UAM                  |104  |\n",
      "|#ForoCambio11J        |99   |\n",
      "|#Apple                |83   |\n",
      "|#UniDeVerano          |79   |\n",
      "|#TrabajarHacerCrecer  |72   |\n",
      "|#TuitUtil             |68   |\n",
      "|#VotaPP               |52   |\n",
      "|#Ciencia              |51   |\n",
      "|#destacada            |46   |\n",
      "|#GobernarParaLaMayoría|39   |\n",
      "+----------------------+-----+\n",
      "\n"
     ]
    },
    {
     "name": "stderr",
     "output_type": "stream",
     "text": [
      "                                                                                \r"
     ]
    },
    {
     "name": "stdout",
     "output_type": "stream",
     "text": [
      "-------------------------------------------\n",
      "Batch: 560\n",
      "-------------------------------------------\n",
      "+----------------------+-----+\n",
      "|word                  |count|\n",
      "+----------------------+-----+\n",
      "|#UAM                  |105  |\n",
      "|#ForoCambio11J        |100  |\n",
      "|#Apple                |83   |\n",
      "|#UniDeVerano          |80   |\n",
      "|#TrabajarHacerCrecer  |72   |\n",
      "|#TuitUtil             |68   |\n",
      "|#Ciencia              |52   |\n",
      "|#VotaPP               |52   |\n",
      "|#destacada            |46   |\n",
      "|#GobernarParaLaMayoría|39   |\n",
      "+----------------------+-----+\n",
      "\n"
     ]
    },
    {
     "name": "stderr",
     "output_type": "stream",
     "text": [
      "                                                                                \r"
     ]
    },
    {
     "name": "stdout",
     "output_type": "stream",
     "text": [
      "-------------------------------------------\n",
      "Batch: 561\n",
      "-------------------------------------------\n",
      "+----------------------+-----+\n",
      "|word                  |count|\n",
      "+----------------------+-----+\n",
      "|#UAM                  |106  |\n",
      "|#ForoCambio11J        |100  |\n",
      "|#Apple                |83   |\n",
      "|#UniDeVerano          |81   |\n",
      "|#TrabajarHacerCrecer  |72   |\n",
      "|#TuitUtil             |69   |\n",
      "|#Ciencia              |53   |\n",
      "|#VotaPP               |52   |\n",
      "|#destacada            |46   |\n",
      "|#GobernarParaLaMayoría|39   |\n",
      "+----------------------+-----+\n",
      "\n"
     ]
    },
    {
     "name": "stderr",
     "output_type": "stream",
     "text": [
      "                                                                                \r"
     ]
    },
    {
     "name": "stdout",
     "output_type": "stream",
     "text": [
      "-------------------------------------------\n",
      "Batch: 562\n",
      "-------------------------------------------\n",
      "+----------------------+-----+\n",
      "|word                  |count|\n",
      "+----------------------+-----+\n",
      "|#UAM                  |106  |\n",
      "|#ForoCambio11J        |100  |\n",
      "|#Apple                |83   |\n",
      "|#UniDeVerano          |81   |\n",
      "|#TrabajarHacerCrecer  |72   |\n",
      "|#TuitUtil             |71   |\n",
      "|#Ciencia              |53   |\n",
      "|#VotaPP               |52   |\n",
      "|#destacada            |46   |\n",
      "|#GobernarParaLaMayoría|39   |\n",
      "+----------------------+-----+\n",
      "\n"
     ]
    },
    {
     "name": "stderr",
     "output_type": "stream",
     "text": [
      "                                                                                \r"
     ]
    },
    {
     "name": "stdout",
     "output_type": "stream",
     "text": [
      "-------------------------------------------\n",
      "Batch: 563\n",
      "-------------------------------------------\n",
      "+----------------------+-----+\n",
      "|word                  |count|\n",
      "+----------------------+-----+\n",
      "|#UAM                  |106  |\n",
      "|#ForoCambio11J        |100  |\n",
      "|#Apple                |83   |\n",
      "|#UniDeVerano          |81   |\n",
      "|#TrabajarHacerCrecer  |72   |\n",
      "|#TuitUtil             |71   |\n",
      "|#Ciencia              |53   |\n",
      "|#VotaPP               |52   |\n",
      "|#destacada            |46   |\n",
      "|#GobernarParaLaMayoría|39   |\n",
      "+----------------------+-----+\n",
      "\n"
     ]
    },
    {
     "name": "stderr",
     "output_type": "stream",
     "text": [
      "                                                                                \r"
     ]
    },
    {
     "name": "stdout",
     "output_type": "stream",
     "text": [
      "-------------------------------------------\n",
      "Batch: 564\n",
      "-------------------------------------------\n",
      "+----------------------+-----+\n",
      "|word                  |count|\n",
      "+----------------------+-----+\n",
      "|#UAM                  |106  |\n",
      "|#ForoCambio11J        |100  |\n",
      "|#Apple                |83   |\n",
      "|#UniDeVerano          |81   |\n",
      "|#TrabajarHacerCrecer  |72   |\n",
      "|#TuitUtil             |71   |\n",
      "|#Ciencia              |53   |\n",
      "|#VotaPP               |52   |\n",
      "|#destacada            |46   |\n",
      "|#GobernarParaLaMayoría|39   |\n",
      "+----------------------+-----+\n",
      "\n"
     ]
    },
    {
     "name": "stderr",
     "output_type": "stream",
     "text": [
      "                                                                                \r"
     ]
    },
    {
     "name": "stdout",
     "output_type": "stream",
     "text": [
      "-------------------------------------------\n",
      "Batch: 565\n",
      "-------------------------------------------\n",
      "+----------------------+-----+\n",
      "|word                  |count|\n",
      "+----------------------+-----+\n",
      "|#UAM                  |106  |\n",
      "|#ForoCambio11J        |100  |\n",
      "|#Apple                |83   |\n",
      "|#UniDeVerano          |81   |\n",
      "|#TrabajarHacerCrecer  |73   |\n",
      "|#TuitUtil             |71   |\n",
      "|#Ciencia              |53   |\n",
      "|#VotaPP               |52   |\n",
      "|#destacada            |46   |\n",
      "|#GobernarParaLaMayoría|39   |\n",
      "+----------------------+-----+\n",
      "\n"
     ]
    },
    {
     "name": "stderr",
     "output_type": "stream",
     "text": [
      "                                                                                \r"
     ]
    },
    {
     "name": "stdout",
     "output_type": "stream",
     "text": [
      "-------------------------------------------\n",
      "Batch: 566\n",
      "-------------------------------------------\n",
      "+----------------------+-----+\n",
      "|word                  |count|\n",
      "+----------------------+-----+\n",
      "|#UAM                  |106  |\n",
      "|#ForoCambio11J        |100  |\n",
      "|#Apple                |83   |\n",
      "|#UniDeVerano          |81   |\n",
      "|#TrabajarHacerCrecer  |74   |\n",
      "|#TuitUtil             |72   |\n",
      "|#Ciencia              |53   |\n",
      "|#VotaPP               |52   |\n",
      "|#destacada            |46   |\n",
      "|#GobernarParaLaMayoría|39   |\n",
      "+----------------------+-----+\n",
      "\n"
     ]
    },
    {
     "name": "stderr",
     "output_type": "stream",
     "text": [
      "                                                                                \r"
     ]
    },
    {
     "name": "stdout",
     "output_type": "stream",
     "text": [
      "-------------------------------------------\n",
      "Batch: 567\n",
      "-------------------------------------------\n",
      "+----------------------+-----+\n",
      "|word                  |count|\n",
      "+----------------------+-----+\n",
      "|#UAM                  |106  |\n",
      "|#ForoCambio11J        |100  |\n",
      "|#Apple                |83   |\n",
      "|#UniDeVerano          |81   |\n",
      "|#TrabajarHacerCrecer  |74   |\n",
      "|#TuitUtil             |72   |\n",
      "|#Ciencia              |53   |\n",
      "|#VotaPP               |52   |\n",
      "|#destacada            |46   |\n",
      "|#GobernarParaLaMayoría|39   |\n",
      "+----------------------+-----+\n",
      "\n"
     ]
    },
    {
     "name": "stderr",
     "output_type": "stream",
     "text": [
      "                                                                                \r"
     ]
    },
    {
     "name": "stdout",
     "output_type": "stream",
     "text": [
      "-------------------------------------------\n",
      "Batch: 568\n",
      "-------------------------------------------\n",
      "+----------------------+-----+\n",
      "|word                  |count|\n",
      "+----------------------+-----+\n",
      "|#UAM                  |106  |\n",
      "|#ForoCambio11J        |100  |\n",
      "|#Apple                |83   |\n",
      "|#UniDeVerano          |81   |\n",
      "|#TrabajarHacerCrecer  |74   |\n",
      "|#TuitUtil             |72   |\n",
      "|#Ciencia              |53   |\n",
      "|#VotaPP               |52   |\n",
      "|#destacada            |46   |\n",
      "|#GobernarParaLaMayoría|39   |\n",
      "+----------------------+-----+\n",
      "\n"
     ]
    },
    {
     "name": "stderr",
     "output_type": "stream",
     "text": [
      "                                                                                \r"
     ]
    },
    {
     "name": "stdout",
     "output_type": "stream",
     "text": [
      "-------------------------------------------\n",
      "Batch: 569\n",
      "-------------------------------------------\n",
      "+----------------------+-----+\n",
      "|word                  |count|\n",
      "+----------------------+-----+\n",
      "|#UAM                  |106  |\n",
      "|#ForoCambio11J        |101  |\n",
      "|#Apple                |83   |\n",
      "|#UniDeVerano          |81   |\n",
      "|#TrabajarHacerCrecer  |74   |\n",
      "|#TuitUtil             |72   |\n",
      "|#Ciencia              |54   |\n",
      "|#VotaPP               |52   |\n",
      "|#destacada            |47   |\n",
      "|#GobernarParaLaMayoría|39   |\n",
      "+----------------------+-----+\n",
      "\n"
     ]
    },
    {
     "name": "stderr",
     "output_type": "stream",
     "text": [
      "                                                                                \r"
     ]
    },
    {
     "name": "stdout",
     "output_type": "stream",
     "text": [
      "-------------------------------------------\n",
      "Batch: 570\n",
      "-------------------------------------------\n",
      "+----------------------+-----+\n",
      "|word                  |count|\n",
      "+----------------------+-----+\n",
      "|#UAM                  |107  |\n",
      "|#ForoCambio11J        |101  |\n",
      "|#Apple                |83   |\n",
      "|#UniDeVerano          |81   |\n",
      "|#TrabajarHacerCrecer  |74   |\n",
      "|#TuitUtil             |72   |\n",
      "|#Ciencia              |54   |\n",
      "|#VotaPP               |52   |\n",
      "|#destacada            |47   |\n",
      "|#GobernarParaLaMayoría|39   |\n",
      "+----------------------+-----+\n",
      "\n"
     ]
    },
    {
     "name": "stderr",
     "output_type": "stream",
     "text": [
      "                                                                                \r"
     ]
    },
    {
     "name": "stdout",
     "output_type": "stream",
     "text": [
      "-------------------------------------------\n",
      "Batch: 571\n",
      "-------------------------------------------\n",
      "+----------------------+-----+\n",
      "|word                  |count|\n",
      "+----------------------+-----+\n",
      "|#UAM                  |107  |\n",
      "|#ForoCambio11J        |101  |\n",
      "|#Apple                |83   |\n",
      "|#UniDeVerano          |81   |\n",
      "|#TrabajarHacerCrecer  |74   |\n",
      "|#TuitUtil             |72   |\n",
      "|#Ciencia              |55   |\n",
      "|#VotaPP               |52   |\n",
      "|#destacada            |47   |\n",
      "|#GobernarParaLaMayoría|39   |\n",
      "+----------------------+-----+\n",
      "\n"
     ]
    },
    {
     "name": "stderr",
     "output_type": "stream",
     "text": [
      "                                                                                \r"
     ]
    },
    {
     "name": "stdout",
     "output_type": "stream",
     "text": [
      "-------------------------------------------\n",
      "Batch: 572\n",
      "-------------------------------------------\n",
      "+----------------------+-----+\n",
      "|word                  |count|\n",
      "+----------------------+-----+\n",
      "|#UAM                  |107  |\n",
      "|#ForoCambio11J        |101  |\n",
      "|#Apple                |83   |\n",
      "|#UniDeVerano          |81   |\n",
      "|#TrabajarHacerCrecer  |74   |\n",
      "|#TuitUtil             |72   |\n",
      "|#Ciencia              |55   |\n",
      "|#VotaPP               |52   |\n",
      "|#destacada            |47   |\n",
      "|#GobernarParaLaMayoría|39   |\n",
      "+----------------------+-----+\n",
      "\n"
     ]
    },
    {
     "name": "stderr",
     "output_type": "stream",
     "text": [
      "                                                                                \r"
     ]
    },
    {
     "name": "stdout",
     "output_type": "stream",
     "text": [
      "-------------------------------------------\n",
      "Batch: 573\n",
      "-------------------------------------------\n",
      "+----------------------+-----+\n",
      "|word                  |count|\n",
      "+----------------------+-----+\n",
      "|#UAM                  |107  |\n",
      "|#ForoCambio11J        |101  |\n",
      "|#Apple                |83   |\n",
      "|#UniDeVerano          |81   |\n",
      "|#TuitUtil             |74   |\n",
      "|#TrabajarHacerCrecer  |74   |\n",
      "|#Ciencia              |55   |\n",
      "|#VotaPP               |52   |\n",
      "|#destacada            |47   |\n",
      "|#GobernarParaLaMayoría|39   |\n",
      "+----------------------+-----+\n",
      "\n"
     ]
    },
    {
     "name": "stderr",
     "output_type": "stream",
     "text": [
      "                                                                                \r"
     ]
    },
    {
     "name": "stdout",
     "output_type": "stream",
     "text": [
      "-------------------------------------------\n",
      "Batch: 574\n",
      "-------------------------------------------\n",
      "+----------------------+-----+\n",
      "|word                  |count|\n",
      "+----------------------+-----+\n",
      "|#UAM                  |107  |\n",
      "|#ForoCambio11J        |101  |\n",
      "|#Apple                |83   |\n",
      "|#UniDeVerano          |81   |\n",
      "|#TuitUtil             |75   |\n",
      "|#TrabajarHacerCrecer  |74   |\n",
      "|#Ciencia              |55   |\n",
      "|#VotaPP               |52   |\n",
      "|#destacada            |47   |\n",
      "|#GobernarParaLaMayoría|39   |\n",
      "+----------------------+-----+\n",
      "\n"
     ]
    },
    {
     "name": "stderr",
     "output_type": "stream",
     "text": [
      "                                                                                \r"
     ]
    },
    {
     "name": "stdout",
     "output_type": "stream",
     "text": [
      "-------------------------------------------\n",
      "Batch: 575\n",
      "-------------------------------------------\n",
      "+----------------------+-----+\n",
      "|word                  |count|\n",
      "+----------------------+-----+\n",
      "|#UAM                  |107  |\n",
      "|#ForoCambio11J        |101  |\n",
      "|#Apple                |83   |\n",
      "|#UniDeVerano          |81   |\n",
      "|#TuitUtil             |75   |\n",
      "|#TrabajarHacerCrecer  |74   |\n",
      "|#Ciencia              |55   |\n",
      "|#VotaPP               |52   |\n",
      "|#destacada            |48   |\n",
      "|#GobernarParaLaMayoría|39   |\n",
      "+----------------------+-----+\n",
      "\n"
     ]
    },
    {
     "name": "stderr",
     "output_type": "stream",
     "text": [
      "                                                                                \r"
     ]
    },
    {
     "name": "stdout",
     "output_type": "stream",
     "text": [
      "-------------------------------------------\n",
      "Batch: 576\n",
      "-------------------------------------------\n",
      "+----------------------+-----+\n",
      "|word                  |count|\n",
      "+----------------------+-----+\n",
      "|#UAM                  |107  |\n",
      "|#ForoCambio11J        |101  |\n",
      "|#Apple                |83   |\n",
      "|#UniDeVerano          |82   |\n",
      "|#TuitUtil             |76   |\n",
      "|#TrabajarHacerCrecer  |74   |\n",
      "|#Ciencia              |55   |\n",
      "|#VotaPP               |52   |\n",
      "|#destacada            |48   |\n",
      "|#GobernarParaLaMayoría|39   |\n",
      "+----------------------+-----+\n",
      "\n"
     ]
    },
    {
     "name": "stderr",
     "output_type": "stream",
     "text": [
      "                                                                                \r"
     ]
    },
    {
     "name": "stdout",
     "output_type": "stream",
     "text": [
      "-------------------------------------------\n",
      "Batch: 577\n",
      "-------------------------------------------\n",
      "+----------------------+-----+\n",
      "|word                  |count|\n",
      "+----------------------+-----+\n",
      "|#UAM                  |108  |\n",
      "|#ForoCambio11J        |101  |\n",
      "|#Apple                |84   |\n",
      "|#UniDeVerano          |82   |\n",
      "|#TuitUtil             |76   |\n",
      "|#TrabajarHacerCrecer  |74   |\n",
      "|#Ciencia              |55   |\n",
      "|#VotaPP               |52   |\n",
      "|#destacada            |48   |\n",
      "|#GobernarParaLaMayoría|39   |\n",
      "+----------------------+-----+\n",
      "\n"
     ]
    },
    {
     "name": "stderr",
     "output_type": "stream",
     "text": [
      "                                                                                \r"
     ]
    },
    {
     "name": "stdout",
     "output_type": "stream",
     "text": [
      "-------------------------------------------\n",
      "Batch: 578\n",
      "-------------------------------------------\n",
      "+----------------------+-----+\n",
      "|word                  |count|\n",
      "+----------------------+-----+\n",
      "|#UAM                  |108  |\n",
      "|#ForoCambio11J        |102  |\n",
      "|#Apple                |84   |\n",
      "|#UniDeVerano          |82   |\n",
      "|#TuitUtil             |76   |\n",
      "|#TrabajarHacerCrecer  |74   |\n",
      "|#Ciencia              |55   |\n",
      "|#VotaPP               |52   |\n",
      "|#destacada            |48   |\n",
      "|#GobernarParaLaMayoría|39   |\n",
      "+----------------------+-----+\n",
      "\n"
     ]
    },
    {
     "name": "stderr",
     "output_type": "stream",
     "text": [
      "                                                                                \r"
     ]
    },
    {
     "name": "stdout",
     "output_type": "stream",
     "text": [
      "-------------------------------------------\n",
      "Batch: 579\n",
      "-------------------------------------------\n",
      "+----------------------+-----+\n",
      "|word                  |count|\n",
      "+----------------------+-----+\n",
      "|#UAM                  |108  |\n",
      "|#ForoCambio11J        |102  |\n",
      "|#Apple                |84   |\n",
      "|#UniDeVerano          |82   |\n",
      "|#TuitUtil             |76   |\n",
      "|#TrabajarHacerCrecer  |74   |\n",
      "|#Ciencia              |55   |\n",
      "|#VotaPP               |52   |\n",
      "|#destacada            |48   |\n",
      "|#GobernarParaLaMayoría|39   |\n",
      "+----------------------+-----+\n",
      "\n"
     ]
    },
    {
     "name": "stderr",
     "output_type": "stream",
     "text": [
      "                                                                                \r"
     ]
    },
    {
     "name": "stdout",
     "output_type": "stream",
     "text": [
      "-------------------------------------------\n",
      "Batch: 580\n",
      "-------------------------------------------\n",
      "+----------------------+-----+\n",
      "|word                  |count|\n",
      "+----------------------+-----+\n",
      "|#UAM                  |109  |\n",
      "|#ForoCambio11J        |102  |\n",
      "|#Apple                |84   |\n",
      "|#UniDeVerano          |82   |\n",
      "|#TuitUtil             |76   |\n",
      "|#TrabajarHacerCrecer  |74   |\n",
      "|#Ciencia              |55   |\n",
      "|#VotaPP               |53   |\n",
      "|#destacada            |48   |\n",
      "|#GobernarParaLaMayoría|40   |\n",
      "+----------------------+-----+\n",
      "\n"
     ]
    },
    {
     "name": "stderr",
     "output_type": "stream",
     "text": [
      "                                                                                \r"
     ]
    },
    {
     "name": "stdout",
     "output_type": "stream",
     "text": [
      "-------------------------------------------\n",
      "Batch: 581\n",
      "-------------------------------------------\n",
      "+----------------------+-----+\n",
      "|word                  |count|\n",
      "+----------------------+-----+\n",
      "|#UAM                  |109  |\n",
      "|#ForoCambio11J        |102  |\n",
      "|#Apple                |84   |\n",
      "|#UniDeVerano          |83   |\n",
      "|#TuitUtil             |77   |\n",
      "|#TrabajarHacerCrecer  |74   |\n",
      "|#Ciencia              |55   |\n",
      "|#VotaPP               |53   |\n",
      "|#destacada            |48   |\n",
      "|#GobernarParaLaMayoría|40   |\n",
      "+----------------------+-----+\n",
      "\n"
     ]
    },
    {
     "name": "stderr",
     "output_type": "stream",
     "text": [
      "                                                                                \r"
     ]
    },
    {
     "name": "stdout",
     "output_type": "stream",
     "text": [
      "-------------------------------------------\n",
      "Batch: 582\n",
      "-------------------------------------------\n",
      "+----------------------+-----+\n",
      "|word                  |count|\n",
      "+----------------------+-----+\n",
      "|#UAM                  |109  |\n",
      "|#ForoCambio11J        |103  |\n",
      "|#Apple                |85   |\n",
      "|#UniDeVerano          |83   |\n",
      "|#TuitUtil             |77   |\n",
      "|#TrabajarHacerCrecer  |74   |\n",
      "|#Ciencia              |55   |\n",
      "|#VotaPP               |53   |\n",
      "|#destacada            |48   |\n",
      "|#GobernarParaLaMayoría|40   |\n",
      "+----------------------+-----+\n",
      "\n"
     ]
    },
    {
     "name": "stderr",
     "output_type": "stream",
     "text": [
      "                                                                                \r"
     ]
    },
    {
     "name": "stdout",
     "output_type": "stream",
     "text": [
      "-------------------------------------------\n",
      "Batch: 583\n",
      "-------------------------------------------\n",
      "+----------------------+-----+\n",
      "|word                  |count|\n",
      "+----------------------+-----+\n",
      "|#UAM                  |109  |\n",
      "|#ForoCambio11J        |103  |\n",
      "|#Apple                |85   |\n",
      "|#UniDeVerano          |83   |\n",
      "|#TuitUtil             |77   |\n",
      "|#TrabajarHacerCrecer  |74   |\n",
      "|#Ciencia              |55   |\n",
      "|#VotaPP               |53   |\n",
      "|#destacada            |48   |\n",
      "|#GobernarParaLaMayoría|40   |\n",
      "+----------------------+-----+\n",
      "\n"
     ]
    },
    {
     "name": "stderr",
     "output_type": "stream",
     "text": [
      "                                                                                \r"
     ]
    },
    {
     "name": "stdout",
     "output_type": "stream",
     "text": [
      "-------------------------------------------\n",
      "Batch: 584\n",
      "-------------------------------------------\n",
      "+--------------------+-----+\n",
      "|word                |count|\n",
      "+--------------------+-----+\n",
      "|#UAM                |109  |\n",
      "|#ForoCambio11J      |103  |\n",
      "|#Apple              |85   |\n",
      "|#UniDeVerano        |83   |\n",
      "|#TuitUtil           |77   |\n",
      "|#TrabajarHacerCrecer|74   |\n",
      "|#Ciencia            |56   |\n",
      "|#VotaPP             |53   |\n",
      "|#destacada          |49   |\n",
      "|#FelizMiercoles     |40   |\n",
      "+--------------------+-----+\n",
      "\n"
     ]
    },
    {
     "name": "stderr",
     "output_type": "stream",
     "text": [
      "                                                                                \r"
     ]
    },
    {
     "name": "stdout",
     "output_type": "stream",
     "text": [
      "-------------------------------------------\n",
      "Batch: 585\n",
      "-------------------------------------------\n",
      "+--------------------+-----+\n",
      "|word                |count|\n",
      "+--------------------+-----+\n",
      "|#UAM                |110  |\n",
      "|#ForoCambio11J      |103  |\n",
      "|#Apple              |85   |\n",
      "|#UniDeVerano        |83   |\n",
      "|#TuitUtil           |77   |\n",
      "|#TrabajarHacerCrecer|74   |\n",
      "|#Ciencia            |57   |\n",
      "|#VotaPP             |53   |\n",
      "|#destacada          |49   |\n",
      "|#FelizMiercoles     |40   |\n",
      "+--------------------+-----+\n",
      "\n"
     ]
    },
    {
     "name": "stderr",
     "output_type": "stream",
     "text": [
      "                                                                                \r"
     ]
    },
    {
     "name": "stdout",
     "output_type": "stream",
     "text": [
      "-------------------------------------------\n",
      "Batch: 586\n",
      "-------------------------------------------\n",
      "+--------------------+-----+\n",
      "|word                |count|\n",
      "+--------------------+-----+\n",
      "|#UAM                |110  |\n",
      "|#ForoCambio11J      |103  |\n",
      "|#Apple              |85   |\n",
      "|#UniDeVerano        |83   |\n",
      "|#TuitUtil           |77   |\n",
      "|#TrabajarHacerCrecer|74   |\n",
      "|#Ciencia            |57   |\n",
      "|#VotaPP             |53   |\n",
      "|#destacada          |49   |\n",
      "|#FelizMiercoles     |40   |\n",
      "+--------------------+-----+\n",
      "\n"
     ]
    },
    {
     "name": "stderr",
     "output_type": "stream",
     "text": [
      "                                                                                \r"
     ]
    },
    {
     "name": "stdout",
     "output_type": "stream",
     "text": [
      "-------------------------------------------\n",
      "Batch: 587\n",
      "-------------------------------------------\n",
      "+--------------------+-----+\n",
      "|word                |count|\n",
      "+--------------------+-----+\n",
      "|#UAM                |110  |\n",
      "|#ForoCambio11J      |103  |\n",
      "|#Apple              |85   |\n",
      "|#UniDeVerano        |84   |\n",
      "|#TuitUtil           |77   |\n",
      "|#TrabajarHacerCrecer|75   |\n",
      "|#Ciencia            |57   |\n",
      "|#VotaPP             |54   |\n",
      "|#destacada          |49   |\n",
      "|#FelizMiercoles     |40   |\n",
      "+--------------------+-----+\n",
      "\n"
     ]
    },
    {
     "name": "stderr",
     "output_type": "stream",
     "text": [
      "                                                                                \r"
     ]
    },
    {
     "name": "stdout",
     "output_type": "stream",
     "text": [
      "-------------------------------------------\n",
      "Batch: 588\n",
      "-------------------------------------------\n",
      "+--------------------+-----+\n",
      "|word                |count|\n",
      "+--------------------+-----+\n",
      "|#UAM                |111  |\n",
      "|#ForoCambio11J      |103  |\n",
      "|#Apple              |85   |\n",
      "|#UniDeVerano        |84   |\n",
      "|#TuitUtil           |78   |\n",
      "|#TrabajarHacerCrecer|75   |\n",
      "|#Ciencia            |57   |\n",
      "|#VotaPP             |54   |\n",
      "|#destacada          |49   |\n",
      "|#FelizMiercoles     |40   |\n",
      "+--------------------+-----+\n",
      "\n"
     ]
    },
    {
     "name": "stderr",
     "output_type": "stream",
     "text": [
      "                                                                                \r"
     ]
    },
    {
     "name": "stdout",
     "output_type": "stream",
     "text": [
      "-------------------------------------------\n",
      "Batch: 589\n",
      "-------------------------------------------\n",
      "+--------------------+-----+\n",
      "|word                |count|\n",
      "+--------------------+-----+\n",
      "|#UAM                |111  |\n",
      "|#ForoCambio11J      |103  |\n",
      "|#Apple              |85   |\n",
      "|#UniDeVerano        |84   |\n",
      "|#TuitUtil           |78   |\n",
      "|#TrabajarHacerCrecer|75   |\n",
      "|#Ciencia            |57   |\n",
      "|#VotaPP             |54   |\n",
      "|#destacada          |49   |\n",
      "|#FelizMiercoles     |40   |\n",
      "+--------------------+-----+\n",
      "\n"
     ]
    },
    {
     "name": "stderr",
     "output_type": "stream",
     "text": [
      "                                                                                \r"
     ]
    },
    {
     "name": "stdout",
     "output_type": "stream",
     "text": [
      "-------------------------------------------\n",
      "Batch: 590\n",
      "-------------------------------------------\n",
      "+--------------------+-----+\n",
      "|word                |count|\n",
      "+--------------------+-----+\n",
      "|#UAM                |111  |\n",
      "|#ForoCambio11J      |103  |\n",
      "|#Apple              |85   |\n",
      "|#UniDeVerano        |84   |\n",
      "|#TuitUtil           |78   |\n",
      "|#TrabajarHacerCrecer|75   |\n",
      "|#Ciencia            |57   |\n",
      "|#VotaPP             |54   |\n",
      "|#destacada          |50   |\n",
      "|#FelizMiercoles     |40   |\n",
      "+--------------------+-----+\n",
      "\n"
     ]
    },
    {
     "name": "stderr",
     "output_type": "stream",
     "text": [
      "                                                                                \r"
     ]
    },
    {
     "name": "stdout",
     "output_type": "stream",
     "text": [
      "-------------------------------------------\n",
      "Batch: 591\n",
      "-------------------------------------------\n",
      "+--------------------+-----+\n",
      "|word                |count|\n",
      "+--------------------+-----+\n",
      "|#UAM                |111  |\n",
      "|#ForoCambio11J      |103  |\n",
      "|#Apple              |86   |\n",
      "|#UniDeVerano        |84   |\n",
      "|#TuitUtil           |78   |\n",
      "|#TrabajarHacerCrecer|75   |\n",
      "|#Ciencia            |57   |\n",
      "|#VotaPP             |54   |\n",
      "|#destacada          |51   |\n",
      "|#FelizMiercoles     |40   |\n",
      "+--------------------+-----+\n",
      "\n"
     ]
    },
    {
     "name": "stderr",
     "output_type": "stream",
     "text": [
      "                                                                                \r"
     ]
    },
    {
     "name": "stdout",
     "output_type": "stream",
     "text": [
      "-------------------------------------------\n",
      "Batch: 592\n",
      "-------------------------------------------\n",
      "+--------------------+-----+\n",
      "|word                |count|\n",
      "+--------------------+-----+\n",
      "|#UAM                |111  |\n",
      "|#ForoCambio11J      |103  |\n",
      "|#Apple              |86   |\n",
      "|#UniDeVerano        |84   |\n",
      "|#TuitUtil           |78   |\n",
      "|#TrabajarHacerCrecer|75   |\n",
      "|#Ciencia            |57   |\n",
      "|#VotaPP             |54   |\n",
      "|#destacada          |51   |\n",
      "|#FelizMiercoles     |40   |\n",
      "+--------------------+-----+\n",
      "\n"
     ]
    },
    {
     "name": "stderr",
     "output_type": "stream",
     "text": [
      "                                                                                \r"
     ]
    },
    {
     "name": "stdout",
     "output_type": "stream",
     "text": [
      "-------------------------------------------\n",
      "Batch: 593\n",
      "-------------------------------------------\n",
      "+--------------------+-----+\n",
      "|word                |count|\n",
      "+--------------------+-----+\n",
      "|#UAM                |111  |\n",
      "|#ForoCambio11J      |103  |\n",
      "|#Apple              |86   |\n",
      "|#UniDeVerano        |84   |\n",
      "|#TuitUtil           |78   |\n",
      "|#TrabajarHacerCrecer|75   |\n",
      "|#Ciencia            |57   |\n",
      "|#VotaPP             |54   |\n",
      "|#destacada          |51   |\n",
      "|#FelizMiercoles     |41   |\n",
      "+--------------------+-----+\n",
      "\n"
     ]
    },
    {
     "name": "stderr",
     "output_type": "stream",
     "text": [
      "                                                                                \r"
     ]
    },
    {
     "name": "stdout",
     "output_type": "stream",
     "text": [
      "-------------------------------------------\n",
      "Batch: 594\n",
      "-------------------------------------------\n",
      "+--------------------+-----+\n",
      "|word                |count|\n",
      "+--------------------+-----+\n",
      "|#UAM                |111  |\n",
      "|#ForoCambio11J      |103  |\n",
      "|#Apple              |86   |\n",
      "|#UniDeVerano        |84   |\n",
      "|#TuitUtil           |79   |\n",
      "|#TrabajarHacerCrecer|75   |\n",
      "|#Ciencia            |58   |\n",
      "|#VotaPP             |54   |\n",
      "|#destacada          |51   |\n",
      "|#FelizMiercoles     |41   |\n",
      "+--------------------+-----+\n",
      "\n"
     ]
    },
    {
     "name": "stderr",
     "output_type": "stream",
     "text": [
      "                                                                                \r"
     ]
    },
    {
     "name": "stdout",
     "output_type": "stream",
     "text": [
      "-------------------------------------------\n",
      "Batch: 595\n",
      "-------------------------------------------\n",
      "+--------------------+-----+\n",
      "|word                |count|\n",
      "+--------------------+-----+\n",
      "|#UAM                |111  |\n",
      "|#ForoCambio11J      |103  |\n",
      "|#Apple              |86   |\n",
      "|#UniDeVerano        |84   |\n",
      "|#TuitUtil           |79   |\n",
      "|#TrabajarHacerCrecer|75   |\n",
      "|#Ciencia            |58   |\n",
      "|#VotaPP             |54   |\n",
      "|#destacada          |51   |\n",
      "|#FelizMiercoles     |41   |\n",
      "+--------------------+-----+\n",
      "\n"
     ]
    },
    {
     "name": "stderr",
     "output_type": "stream",
     "text": [
      "                                                                                \r"
     ]
    },
    {
     "name": "stdout",
     "output_type": "stream",
     "text": [
      "-------------------------------------------\n",
      "Batch: 596\n",
      "-------------------------------------------\n",
      "+--------------------+-----+\n",
      "|word                |count|\n",
      "+--------------------+-----+\n",
      "|#UAM                |111  |\n",
      "|#ForoCambio11J      |103  |\n",
      "|#Apple              |86   |\n",
      "|#UniDeVerano        |84   |\n",
      "|#TuitUtil           |79   |\n",
      "|#TrabajarHacerCrecer|75   |\n",
      "|#Ciencia            |58   |\n",
      "|#VotaPP             |54   |\n",
      "|#destacada          |51   |\n",
      "|#FelizMiercoles     |41   |\n",
      "+--------------------+-----+\n",
      "\n"
     ]
    },
    {
     "name": "stderr",
     "output_type": "stream",
     "text": [
      "                                                                                \r"
     ]
    },
    {
     "name": "stdout",
     "output_type": "stream",
     "text": [
      "-------------------------------------------\n",
      "Batch: 597\n",
      "-------------------------------------------\n",
      "+--------------------+-----+\n",
      "|word                |count|\n",
      "+--------------------+-----+\n",
      "|#UAM                |111  |\n",
      "|#ForoCambio11J      |103  |\n",
      "|#Apple              |86   |\n",
      "|#UniDeVerano        |84   |\n",
      "|#TuitUtil           |79   |\n",
      "|#TrabajarHacerCrecer|75   |\n",
      "|#Ciencia            |58   |\n",
      "|#VotaPP             |54   |\n",
      "|#destacada          |51   |\n",
      "|#FelizMiercoles     |41   |\n",
      "+--------------------+-----+\n",
      "\n"
     ]
    },
    {
     "name": "stderr",
     "output_type": "stream",
     "text": [
      "                                                                                \r"
     ]
    },
    {
     "name": "stdout",
     "output_type": "stream",
     "text": [
      "-------------------------------------------\n",
      "Batch: 598\n",
      "-------------------------------------------\n",
      "+--------------------+-----+\n",
      "|word                |count|\n",
      "+--------------------+-----+\n",
      "|#UAM                |111  |\n",
      "|#ForoCambio11J      |103  |\n",
      "|#Apple              |86   |\n",
      "|#UniDeVerano        |85   |\n",
      "|#TuitUtil           |79   |\n",
      "|#TrabajarHacerCrecer|75   |\n",
      "|#Ciencia            |58   |\n",
      "|#VotaPP             |54   |\n",
      "|#destacada          |51   |\n",
      "|#FelizMiercoles     |41   |\n",
      "+--------------------+-----+\n",
      "\n"
     ]
    },
    {
     "name": "stderr",
     "output_type": "stream",
     "text": [
      "                                                                                \r"
     ]
    },
    {
     "name": "stdout",
     "output_type": "stream",
     "text": [
      "-------------------------------------------\n",
      "Batch: 599\n",
      "-------------------------------------------\n",
      "+--------------------+-----+\n",
      "|word                |count|\n",
      "+--------------------+-----+\n",
      "|#UAM                |111  |\n",
      "|#ForoCambio11J      |103  |\n",
      "|#Apple              |86   |\n",
      "|#UniDeVerano        |85   |\n",
      "|#TuitUtil           |79   |\n",
      "|#TrabajarHacerCrecer|75   |\n",
      "|#Ciencia            |58   |\n",
      "|#VotaPP             |54   |\n",
      "|#destacada          |51   |\n",
      "|#FelizMiercoles     |41   |\n",
      "+--------------------+-----+\n",
      "\n"
     ]
    },
    {
     "name": "stderr",
     "output_type": "stream",
     "text": [
      "                                                                                \r"
     ]
    },
    {
     "name": "stdout",
     "output_type": "stream",
     "text": [
      "-------------------------------------------\n",
      "Batch: 600\n",
      "-------------------------------------------\n",
      "+--------------------+-----+\n",
      "|word                |count|\n",
      "+--------------------+-----+\n",
      "|#UAM                |111  |\n",
      "|#ForoCambio11J      |104  |\n",
      "|#Apple              |87   |\n",
      "|#UniDeVerano        |85   |\n",
      "|#TuitUtil           |80   |\n",
      "|#TrabajarHacerCrecer|75   |\n",
      "|#Ciencia            |58   |\n",
      "|#VotaPP             |54   |\n",
      "|#destacada          |51   |\n",
      "|#FelizMiercoles     |41   |\n",
      "+--------------------+-----+\n",
      "\n"
     ]
    },
    {
     "name": "stderr",
     "output_type": "stream",
     "text": [
      "                                                                                \r"
     ]
    },
    {
     "name": "stdout",
     "output_type": "stream",
     "text": [
      "-------------------------------------------\n",
      "Batch: 601\n",
      "-------------------------------------------\n",
      "+--------------------+-----+\n",
      "|word                |count|\n",
      "+--------------------+-----+\n",
      "|#UAM                |111  |\n",
      "|#ForoCambio11J      |105  |\n",
      "|#Apple              |87   |\n",
      "|#UniDeVerano        |85   |\n",
      "|#TuitUtil           |80   |\n",
      "|#TrabajarHacerCrecer|75   |\n",
      "|#Ciencia            |59   |\n",
      "|#VotaPP             |54   |\n",
      "|#destacada          |52   |\n",
      "|#FelizMiercoles     |41   |\n",
      "+--------------------+-----+\n",
      "\n"
     ]
    },
    {
     "name": "stderr",
     "output_type": "stream",
     "text": [
      "                                                                                \r"
     ]
    },
    {
     "name": "stdout",
     "output_type": "stream",
     "text": [
      "-------------------------------------------\n",
      "Batch: 602\n",
      "-------------------------------------------\n",
      "+--------------------+-----+\n",
      "|word                |count|\n",
      "+--------------------+-----+\n",
      "|#UAM                |111  |\n",
      "|#ForoCambio11J      |105  |\n",
      "|#Apple              |87   |\n",
      "|#UniDeVerano        |85   |\n",
      "|#TuitUtil           |80   |\n",
      "|#TrabajarHacerCrecer|75   |\n",
      "|#Ciencia            |59   |\n",
      "|#VotaPP             |54   |\n",
      "|#destacada          |52   |\n",
      "|#FelizMiercoles     |41   |\n",
      "+--------------------+-----+\n",
      "\n"
     ]
    },
    {
     "name": "stderr",
     "output_type": "stream",
     "text": [
      "                                                                                \r"
     ]
    },
    {
     "name": "stdout",
     "output_type": "stream",
     "text": [
      "-------------------------------------------\n",
      "Batch: 603\n",
      "-------------------------------------------\n",
      "+--------------------+-----+\n",
      "|word                |count|\n",
      "+--------------------+-----+\n",
      "|#UAM                |111  |\n",
      "|#ForoCambio11J      |105  |\n",
      "|#Apple              |87   |\n",
      "|#UniDeVerano        |85   |\n",
      "|#TuitUtil           |80   |\n",
      "|#TrabajarHacerCrecer|75   |\n",
      "|#Ciencia            |59   |\n",
      "|#VotaPP             |54   |\n",
      "|#destacada          |52   |\n",
      "|#FelizMiercoles     |41   |\n",
      "+--------------------+-----+\n",
      "\n"
     ]
    },
    {
     "name": "stderr",
     "output_type": "stream",
     "text": [
      "                                                                                \r"
     ]
    },
    {
     "name": "stdout",
     "output_type": "stream",
     "text": [
      "-------------------------------------------\n",
      "Batch: 604\n",
      "-------------------------------------------\n",
      "+--------------------+-----+\n",
      "|word                |count|\n",
      "+--------------------+-----+\n",
      "|#UAM                |112  |\n",
      "|#ForoCambio11J      |105  |\n",
      "|#Apple              |87   |\n",
      "|#UniDeVerano        |85   |\n",
      "|#TuitUtil           |80   |\n",
      "|#TrabajarHacerCrecer|75   |\n",
      "|#Ciencia            |59   |\n",
      "|#VotaPP             |54   |\n",
      "|#destacada          |52   |\n",
      "|#FelizMiercoles     |41   |\n",
      "+--------------------+-----+\n",
      "\n"
     ]
    },
    {
     "name": "stderr",
     "output_type": "stream",
     "text": [
      "                                                                                \r"
     ]
    },
    {
     "name": "stdout",
     "output_type": "stream",
     "text": [
      "-------------------------------------------\n",
      "Batch: 605\n",
      "-------------------------------------------\n",
      "+--------------------+-----+\n",
      "|word                |count|\n",
      "+--------------------+-----+\n",
      "|#UAM                |112  |\n",
      "|#ForoCambio11J      |105  |\n",
      "|#Apple              |88   |\n",
      "|#UniDeVerano        |86   |\n",
      "|#TuitUtil           |80   |\n",
      "|#TrabajarHacerCrecer|76   |\n",
      "|#Ciencia            |59   |\n",
      "|#VotaPP             |54   |\n",
      "|#destacada          |52   |\n",
      "|#FelizMiercoles     |41   |\n",
      "+--------------------+-----+\n",
      "\n"
     ]
    },
    {
     "name": "stderr",
     "output_type": "stream",
     "text": [
      "                                                                                \r"
     ]
    },
    {
     "name": "stdout",
     "output_type": "stream",
     "text": [
      "-------------------------------------------\n",
      "Batch: 606\n",
      "-------------------------------------------\n",
      "+--------------------+-----+\n",
      "|word                |count|\n",
      "+--------------------+-----+\n",
      "|#UAM                |112  |\n",
      "|#ForoCambio11J      |106  |\n",
      "|#Apple              |88   |\n",
      "|#UniDeVerano        |86   |\n",
      "|#TuitUtil           |80   |\n",
      "|#TrabajarHacerCrecer|76   |\n",
      "|#Ciencia            |59   |\n",
      "|#VotaPP             |54   |\n",
      "|#destacada          |52   |\n",
      "|#FelizMiercoles     |41   |\n",
      "+--------------------+-----+\n",
      "\n"
     ]
    },
    {
     "name": "stderr",
     "output_type": "stream",
     "text": [
      "                                                                                \r"
     ]
    },
    {
     "name": "stdout",
     "output_type": "stream",
     "text": [
      "-------------------------------------------\n",
      "Batch: 607\n",
      "-------------------------------------------\n",
      "+--------------------+-----+\n",
      "|word                |count|\n",
      "+--------------------+-----+\n",
      "|#UAM                |112  |\n",
      "|#ForoCambio11J      |107  |\n",
      "|#Apple              |88   |\n",
      "|#UniDeVerano        |86   |\n",
      "|#TuitUtil           |80   |\n",
      "|#TrabajarHacerCrecer|76   |\n",
      "|#Ciencia            |59   |\n",
      "|#VotaPP             |54   |\n",
      "|#destacada          |52   |\n",
      "|#FelizMiercoles     |41   |\n",
      "+--------------------+-----+\n",
      "\n"
     ]
    },
    {
     "name": "stderr",
     "output_type": "stream",
     "text": [
      "                                                                                \r"
     ]
    },
    {
     "name": "stdout",
     "output_type": "stream",
     "text": [
      "-------------------------------------------\n",
      "Batch: 608\n",
      "-------------------------------------------\n",
      "+--------------------+-----+\n",
      "|word                |count|\n",
      "+--------------------+-----+\n",
      "|#UAM                |112  |\n",
      "|#ForoCambio11J      |107  |\n",
      "|#Apple              |88   |\n",
      "|#UniDeVerano        |86   |\n",
      "|#TuitUtil           |80   |\n",
      "|#TrabajarHacerCrecer|76   |\n",
      "|#Ciencia            |59   |\n",
      "|#VotaPP             |54   |\n",
      "|#destacada          |52   |\n",
      "|#FelizMiercoles     |41   |\n",
      "+--------------------+-----+\n",
      "\n"
     ]
    },
    {
     "name": "stderr",
     "output_type": "stream",
     "text": [
      "                                                                                \r"
     ]
    },
    {
     "name": "stdout",
     "output_type": "stream",
     "text": [
      "-------------------------------------------\n",
      "Batch: 609\n",
      "-------------------------------------------\n",
      "+--------------------+-----+\n",
      "|word                |count|\n",
      "+--------------------+-----+\n",
      "|#UAM                |112  |\n",
      "|#ForoCambio11J      |107  |\n",
      "|#Apple              |88   |\n",
      "|#UniDeVerano        |86   |\n",
      "|#TuitUtil           |80   |\n",
      "|#TrabajarHacerCrecer|76   |\n",
      "|#Ciencia            |59   |\n",
      "|#VotaPP             |54   |\n",
      "|#destacada          |52   |\n",
      "|#FelizMiercoles     |41   |\n",
      "+--------------------+-----+\n",
      "\n"
     ]
    },
    {
     "name": "stderr",
     "output_type": "stream",
     "text": [
      "                                                                                \r"
     ]
    },
    {
     "name": "stdout",
     "output_type": "stream",
     "text": [
      "-------------------------------------------\n",
      "Batch: 610\n",
      "-------------------------------------------\n",
      "+--------------------+-----+\n",
      "|word                |count|\n",
      "+--------------------+-----+\n",
      "|#UAM                |112  |\n",
      "|#ForoCambio11J      |107  |\n",
      "|#Apple              |88   |\n",
      "|#UniDeVerano        |87   |\n",
      "|#TuitUtil           |80   |\n",
      "|#TrabajarHacerCrecer|76   |\n",
      "|#Ciencia            |60   |\n",
      "|#VotaPP             |54   |\n",
      "|#destacada          |52   |\n",
      "|#FelizMiercoles     |41   |\n",
      "+--------------------+-----+\n",
      "\n"
     ]
    },
    {
     "name": "stderr",
     "output_type": "stream",
     "text": [
      "                                                                                \r"
     ]
    },
    {
     "name": "stdout",
     "output_type": "stream",
     "text": [
      "-------------------------------------------\n",
      "Batch: 611\n",
      "-------------------------------------------\n",
      "+--------------------+-----+\n",
      "|word                |count|\n",
      "+--------------------+-----+\n",
      "|#UAM                |113  |\n",
      "|#ForoCambio11J      |107  |\n",
      "|#Apple              |88   |\n",
      "|#UniDeVerano        |87   |\n",
      "|#TuitUtil           |80   |\n",
      "|#TrabajarHacerCrecer|76   |\n",
      "|#Ciencia            |61   |\n",
      "|#VotaPP             |54   |\n",
      "|#destacada          |52   |\n",
      "|#FelizMiercoles     |41   |\n",
      "+--------------------+-----+\n",
      "\n"
     ]
    },
    {
     "name": "stderr",
     "output_type": "stream",
     "text": [
      "                                                                                \r"
     ]
    },
    {
     "name": "stdout",
     "output_type": "stream",
     "text": [
      "-------------------------------------------\n",
      "Batch: 612\n",
      "-------------------------------------------\n",
      "+--------------------+-----+\n",
      "|word                |count|\n",
      "+--------------------+-----+\n",
      "|#UAM                |114  |\n",
      "|#ForoCambio11J      |108  |\n",
      "|#Apple              |88   |\n",
      "|#UniDeVerano        |87   |\n",
      "|#TuitUtil           |80   |\n",
      "|#TrabajarHacerCrecer|76   |\n",
      "|#Ciencia            |62   |\n",
      "|#VotaPP             |54   |\n",
      "|#destacada          |52   |\n",
      "|#FelizMiercoles     |41   |\n",
      "+--------------------+-----+\n",
      "\n"
     ]
    },
    {
     "name": "stderr",
     "output_type": "stream",
     "text": [
      "                                                                                \r"
     ]
    },
    {
     "name": "stdout",
     "output_type": "stream",
     "text": [
      "-------------------------------------------\n",
      "Batch: 613\n",
      "-------------------------------------------\n",
      "+--------------------+-----+\n",
      "|word                |count|\n",
      "+--------------------+-----+\n",
      "|#UAM                |115  |\n",
      "|#ForoCambio11J      |108  |\n",
      "|#Apple              |88   |\n",
      "|#UniDeVerano        |87   |\n",
      "|#TuitUtil           |80   |\n",
      "|#TrabajarHacerCrecer|76   |\n",
      "|#Ciencia            |62   |\n",
      "|#VotaPP             |54   |\n",
      "|#destacada          |52   |\n",
      "|#FelizMiercoles     |41   |\n",
      "+--------------------+-----+\n",
      "\n"
     ]
    },
    {
     "name": "stderr",
     "output_type": "stream",
     "text": [
      "                                                                                \r"
     ]
    },
    {
     "name": "stdout",
     "output_type": "stream",
     "text": [
      "-------------------------------------------\n",
      "Batch: 614\n",
      "-------------------------------------------\n",
      "+--------------------+-----+\n",
      "|word                |count|\n",
      "+--------------------+-----+\n",
      "|#UAM                |115  |\n",
      "|#ForoCambio11J      |108  |\n",
      "|#Apple              |88   |\n",
      "|#UniDeVerano        |87   |\n",
      "|#TuitUtil           |80   |\n",
      "|#TrabajarHacerCrecer|76   |\n",
      "|#Ciencia            |62   |\n",
      "|#VotaPP             |54   |\n",
      "|#destacada          |52   |\n",
      "|#FelizMiercoles     |41   |\n",
      "+--------------------+-----+\n",
      "\n"
     ]
    },
    {
     "name": "stderr",
     "output_type": "stream",
     "text": [
      "                                                                                \r"
     ]
    },
    {
     "name": "stdout",
     "output_type": "stream",
     "text": [
      "-------------------------------------------\n",
      "Batch: 615\n",
      "-------------------------------------------\n",
      "+--------------------+-----+\n",
      "|word                |count|\n",
      "+--------------------+-----+\n",
      "|#UAM                |115  |\n",
      "|#ForoCambio11J      |108  |\n",
      "|#Apple              |88   |\n",
      "|#UniDeVerano        |87   |\n",
      "|#TuitUtil           |80   |\n",
      "|#TrabajarHacerCrecer|76   |\n",
      "|#Ciencia            |62   |\n",
      "|#VotaPP             |54   |\n",
      "|#destacada          |52   |\n",
      "|#FelizMiercoles     |41   |\n",
      "+--------------------+-----+\n",
      "\n"
     ]
    },
    {
     "name": "stderr",
     "output_type": "stream",
     "text": [
      "                                                                                \r"
     ]
    },
    {
     "name": "stdout",
     "output_type": "stream",
     "text": [
      "-------------------------------------------\n",
      "Batch: 616\n",
      "-------------------------------------------\n",
      "+--------------------+-----+\n",
      "|word                |count|\n",
      "+--------------------+-----+\n",
      "|#UAM                |116  |\n",
      "|#ForoCambio11J      |108  |\n",
      "|#Apple              |88   |\n",
      "|#UniDeVerano        |87   |\n",
      "|#TuitUtil           |80   |\n",
      "|#TrabajarHacerCrecer|76   |\n",
      "|#Ciencia            |63   |\n",
      "|#VotaPP             |54   |\n",
      "|#destacada          |52   |\n",
      "|#FelizMiercoles     |41   |\n",
      "+--------------------+-----+\n",
      "\n"
     ]
    },
    {
     "name": "stderr",
     "output_type": "stream",
     "text": [
      "                                                                                \r"
     ]
    },
    {
     "name": "stdout",
     "output_type": "stream",
     "text": [
      "-------------------------------------------\n",
      "Batch: 617\n",
      "-------------------------------------------\n",
      "+--------------------+-----+\n",
      "|word                |count|\n",
      "+--------------------+-----+\n",
      "|#UAM                |116  |\n",
      "|#ForoCambio11J      |108  |\n",
      "|#Apple              |88   |\n",
      "|#UniDeVerano        |87   |\n",
      "|#TuitUtil           |80   |\n",
      "|#TrabajarHacerCrecer|76   |\n",
      "|#Ciencia            |63   |\n",
      "|#VotaPP             |54   |\n",
      "|#destacada          |52   |\n",
      "|#FelizMiercoles     |41   |\n",
      "+--------------------+-----+\n",
      "\n"
     ]
    },
    {
     "name": "stderr",
     "output_type": "stream",
     "text": [
      "                                                                                \r"
     ]
    },
    {
     "name": "stdout",
     "output_type": "stream",
     "text": [
      "-------------------------------------------\n",
      "Batch: 618\n",
      "-------------------------------------------\n",
      "+--------------------+-----+\n",
      "|word                |count|\n",
      "+--------------------+-----+\n",
      "|#UAM                |116  |\n",
      "|#ForoCambio11J      |108  |\n",
      "|#Apple              |88   |\n",
      "|#UniDeVerano        |87   |\n",
      "|#TuitUtil           |80   |\n",
      "|#TrabajarHacerCrecer|76   |\n",
      "|#Ciencia            |63   |\n",
      "|#VotaPP             |54   |\n",
      "|#destacada          |52   |\n",
      "|#FelizMiercoles     |41   |\n",
      "+--------------------+-----+\n",
      "\n"
     ]
    },
    {
     "name": "stderr",
     "output_type": "stream",
     "text": [
      "                                                                                \r"
     ]
    },
    {
     "name": "stdout",
     "output_type": "stream",
     "text": [
      "-------------------------------------------\n",
      "Batch: 619\n",
      "-------------------------------------------\n",
      "+--------------------+-----+\n",
      "|word                |count|\n",
      "+--------------------+-----+\n",
      "|#UAM                |116  |\n",
      "|#ForoCambio11J      |108  |\n",
      "|#Apple              |88   |\n",
      "|#UniDeVerano        |87   |\n",
      "|#TuitUtil           |80   |\n",
      "|#TrabajarHacerCrecer|76   |\n",
      "|#Ciencia            |63   |\n",
      "|#VotaPP             |54   |\n",
      "|#destacada          |52   |\n",
      "|#FelizMiercoles     |41   |\n",
      "+--------------------+-----+\n",
      "\n"
     ]
    },
    {
     "name": "stderr",
     "output_type": "stream",
     "text": [
      "                                                                                \r"
     ]
    },
    {
     "name": "stdout",
     "output_type": "stream",
     "text": [
      "-------------------------------------------\n",
      "Batch: 620\n",
      "-------------------------------------------\n",
      "+--------------------+-----+\n",
      "|word                |count|\n",
      "+--------------------+-----+\n",
      "|#UAM                |116  |\n",
      "|#ForoCambio11J      |108  |\n",
      "|#Apple              |89   |\n",
      "|#UniDeVerano        |87   |\n",
      "|#TuitUtil           |80   |\n",
      "|#TrabajarHacerCrecer|76   |\n",
      "|#Ciencia            |63   |\n",
      "|#VotaPP             |56   |\n",
      "|#destacada          |53   |\n",
      "|#FelizMiercoles     |41   |\n",
      "+--------------------+-----+\n",
      "\n"
     ]
    },
    {
     "name": "stderr",
     "output_type": "stream",
     "text": [
      "                                                                                \r"
     ]
    },
    {
     "name": "stdout",
     "output_type": "stream",
     "text": [
      "-------------------------------------------\n",
      "Batch: 621\n",
      "-------------------------------------------\n",
      "+--------------------+-----+\n",
      "|word                |count|\n",
      "+--------------------+-----+\n",
      "|#UAM                |116  |\n",
      "|#ForoCambio11J      |108  |\n",
      "|#Apple              |89   |\n",
      "|#UniDeVerano        |87   |\n",
      "|#TuitUtil           |80   |\n",
      "|#TrabajarHacerCrecer|76   |\n",
      "|#Ciencia            |63   |\n",
      "|#VotaPP             |56   |\n",
      "|#destacada          |53   |\n",
      "|#FelizMiercoles     |41   |\n",
      "+--------------------+-----+\n",
      "\n"
     ]
    },
    {
     "name": "stderr",
     "output_type": "stream",
     "text": [
      "                                                                                \r"
     ]
    },
    {
     "name": "stdout",
     "output_type": "stream",
     "text": [
      "-------------------------------------------\n",
      "Batch: 622\n",
      "-------------------------------------------\n",
      "+--------------------+-----+\n",
      "|word                |count|\n",
      "+--------------------+-----+\n",
      "|#UAM                |116  |\n",
      "|#ForoCambio11J      |108  |\n",
      "|#Apple              |90   |\n",
      "|#UniDeVerano        |87   |\n",
      "|#TuitUtil           |80   |\n",
      "|#TrabajarHacerCrecer|76   |\n",
      "|#Ciencia            |63   |\n",
      "|#VotaPP             |56   |\n",
      "|#destacada          |53   |\n",
      "|#FelizMiercoles     |41   |\n",
      "+--------------------+-----+\n",
      "\n"
     ]
    },
    {
     "name": "stderr",
     "output_type": "stream",
     "text": [
      "                                                                                \r"
     ]
    },
    {
     "name": "stdout",
     "output_type": "stream",
     "text": [
      "-------------------------------------------\n",
      "Batch: 623\n",
      "-------------------------------------------\n",
      "+--------------------+-----+\n",
      "|word                |count|\n",
      "+--------------------+-----+\n",
      "|#UAM                |117  |\n",
      "|#ForoCambio11J      |108  |\n",
      "|#Apple              |90   |\n",
      "|#UniDeVerano        |87   |\n",
      "|#TuitUtil           |80   |\n",
      "|#TrabajarHacerCrecer|76   |\n",
      "|#Ciencia            |63   |\n",
      "|#VotaPP             |56   |\n",
      "|#destacada          |53   |\n",
      "|#FelizMiercoles     |41   |\n",
      "+--------------------+-----+\n",
      "\n"
     ]
    },
    {
     "name": "stderr",
     "output_type": "stream",
     "text": [
      "                                                                                \r"
     ]
    },
    {
     "name": "stdout",
     "output_type": "stream",
     "text": [
      "-------------------------------------------\n",
      "Batch: 624\n",
      "-------------------------------------------\n",
      "+--------------------+-----+\n",
      "|word                |count|\n",
      "+--------------------+-----+\n",
      "|#UAM                |117  |\n",
      "|#ForoCambio11J      |108  |\n",
      "|#Apple              |90   |\n",
      "|#UniDeVerano        |87   |\n",
      "|#TuitUtil           |80   |\n",
      "|#TrabajarHacerCrecer|76   |\n",
      "|#Ciencia            |63   |\n",
      "|#VotaPP             |56   |\n",
      "|#destacada          |54   |\n",
      "|#FelizMiercoles     |43   |\n",
      "+--------------------+-----+\n",
      "\n"
     ]
    },
    {
     "name": "stderr",
     "output_type": "stream",
     "text": [
      "                                                                                \r"
     ]
    },
    {
     "name": "stdout",
     "output_type": "stream",
     "text": [
      "-------------------------------------------\n",
      "Batch: 625\n",
      "-------------------------------------------\n",
      "+--------------------+-----+\n",
      "|word                |count|\n",
      "+--------------------+-----+\n",
      "|#UAM                |117  |\n",
      "|#ForoCambio11J      |108  |\n",
      "|#Apple              |90   |\n",
      "|#UniDeVerano        |87   |\n",
      "|#TuitUtil           |80   |\n",
      "|#TrabajarHacerCrecer|76   |\n",
      "|#Ciencia            |63   |\n",
      "|#VotaPP             |56   |\n",
      "|#destacada          |54   |\n",
      "|#FelizMiercoles     |43   |\n",
      "+--------------------+-----+\n",
      "\n"
     ]
    },
    {
     "name": "stderr",
     "output_type": "stream",
     "text": [
      "                                                                                \r"
     ]
    },
    {
     "name": "stdout",
     "output_type": "stream",
     "text": [
      "-------------------------------------------\n",
      "Batch: 626\n",
      "-------------------------------------------\n",
      "+--------------------+-----+\n",
      "|word                |count|\n",
      "+--------------------+-----+\n",
      "|#UAM                |117  |\n",
      "|#ForoCambio11J      |108  |\n",
      "|#Apple              |90   |\n",
      "|#UniDeVerano        |87   |\n",
      "|#TuitUtil           |80   |\n",
      "|#TrabajarHacerCrecer|76   |\n",
      "|#Ciencia            |63   |\n",
      "|#VotaPP             |56   |\n",
      "|#destacada          |54   |\n",
      "|#FelizMiercoles     |43   |\n",
      "+--------------------+-----+\n",
      "\n"
     ]
    },
    {
     "name": "stderr",
     "output_type": "stream",
     "text": [
      "                                                                                \r"
     ]
    },
    {
     "name": "stdout",
     "output_type": "stream",
     "text": [
      "-------------------------------------------\n",
      "Batch: 627\n",
      "-------------------------------------------\n",
      "+--------------------+-----+\n",
      "|word                |count|\n",
      "+--------------------+-----+\n",
      "|#UAM                |117  |\n",
      "|#ForoCambio11J      |108  |\n",
      "|#Apple              |90   |\n",
      "|#UniDeVerano        |87   |\n",
      "|#TuitUtil           |80   |\n",
      "|#TrabajarHacerCrecer|77   |\n",
      "|#Ciencia            |64   |\n",
      "|#VotaPP             |57   |\n",
      "|#destacada          |54   |\n",
      "|#FelizMiercoles     |43   |\n",
      "+--------------------+-----+\n",
      "\n"
     ]
    },
    {
     "name": "stderr",
     "output_type": "stream",
     "text": [
      "                                                                                \r"
     ]
    },
    {
     "name": "stdout",
     "output_type": "stream",
     "text": [
      "-------------------------------------------\n",
      "Batch: 628\n",
      "-------------------------------------------\n",
      "+--------------------+-----+\n",
      "|word                |count|\n",
      "+--------------------+-----+\n",
      "|#UAM                |117  |\n",
      "|#ForoCambio11J      |108  |\n",
      "|#Apple              |90   |\n",
      "|#UniDeVerano        |87   |\n",
      "|#TuitUtil           |80   |\n",
      "|#TrabajarHacerCrecer|78   |\n",
      "|#Ciencia            |64   |\n",
      "|#VotaPP             |58   |\n",
      "|#destacada          |54   |\n",
      "|#FelizMiercoles     |43   |\n",
      "+--------------------+-----+\n",
      "\n"
     ]
    },
    {
     "name": "stderr",
     "output_type": "stream",
     "text": [
      "                                                                                \r"
     ]
    },
    {
     "name": "stdout",
     "output_type": "stream",
     "text": [
      "-------------------------------------------\n",
      "Batch: 629\n",
      "-------------------------------------------\n",
      "+--------------------+-----+\n",
      "|word                |count|\n",
      "+--------------------+-----+\n",
      "|#UAM                |117  |\n",
      "|#ForoCambio11J      |108  |\n",
      "|#Apple              |90   |\n",
      "|#UniDeVerano        |89   |\n",
      "|#TuitUtil           |81   |\n",
      "|#TrabajarHacerCrecer|78   |\n",
      "|#Ciencia            |64   |\n",
      "|#VotaPP             |58   |\n",
      "|#destacada          |54   |\n",
      "|#FelizMiercoles     |44   |\n",
      "+--------------------+-----+\n",
      "\n"
     ]
    },
    {
     "name": "stderr",
     "output_type": "stream",
     "text": [
      "                                                                                \r"
     ]
    },
    {
     "name": "stdout",
     "output_type": "stream",
     "text": [
      "-------------------------------------------\n",
      "Batch: 630\n",
      "-------------------------------------------\n",
      "+--------------------+-----+\n",
      "|word                |count|\n",
      "+--------------------+-----+\n",
      "|#UAM                |118  |\n",
      "|#ForoCambio11J      |108  |\n",
      "|#Apple              |90   |\n",
      "|#UniDeVerano        |89   |\n",
      "|#TuitUtil           |82   |\n",
      "|#TrabajarHacerCrecer|78   |\n",
      "|#Ciencia            |64   |\n",
      "|#VotaPP             |58   |\n",
      "|#destacada          |54   |\n",
      "|#FelizMiercoles     |44   |\n",
      "+--------------------+-----+\n",
      "\n"
     ]
    },
    {
     "name": "stderr",
     "output_type": "stream",
     "text": [
      "[Stage 1894:===============================================>    (181 + 8) / 200]\r"
     ]
    },
    {
     "name": "stdout",
     "output_type": "stream",
     "text": [
      "-------------------------------------------\n",
      "Batch: 631\n",
      "-------------------------------------------\n",
      "+--------------------+-----+\n",
      "|word                |count|\n",
      "+--------------------+-----+\n",
      "|#UAM                |118  |\n",
      "|#ForoCambio11J      |109  |\n",
      "|#Apple              |90   |\n",
      "|#UniDeVerano        |89   |\n",
      "|#TuitUtil           |82   |\n",
      "|#TrabajarHacerCrecer|78   |\n",
      "|#Ciencia            |64   |\n",
      "|#VotaPP             |58   |\n",
      "|#destacada          |54   |\n",
      "|#FelizMiercoles     |44   |\n",
      "+--------------------+-----+\n",
      "\n"
     ]
    },
    {
     "name": "stderr",
     "output_type": "stream",
     "text": [
      "                                                                                \r"
     ]
    },
    {
     "name": "stdout",
     "output_type": "stream",
     "text": [
      "-------------------------------------------\n",
      "Batch: 632\n",
      "-------------------------------------------\n",
      "+--------------------+-----+\n",
      "|word                |count|\n",
      "+--------------------+-----+\n",
      "|#UAM                |118  |\n",
      "|#ForoCambio11J      |109  |\n",
      "|#Apple              |90   |\n",
      "|#UniDeVerano        |89   |\n",
      "|#TuitUtil           |82   |\n",
      "|#TrabajarHacerCrecer|78   |\n",
      "|#Ciencia            |64   |\n",
      "|#VotaPP             |58   |\n",
      "|#destacada          |54   |\n",
      "|#FelizMiercoles     |44   |\n",
      "+--------------------+-----+\n",
      "\n"
     ]
    },
    {
     "name": "stderr",
     "output_type": "stream",
     "text": [
      "                                                                                \r"
     ]
    },
    {
     "name": "stdout",
     "output_type": "stream",
     "text": [
      "-------------------------------------------\n",
      "Batch: 633\n",
      "-------------------------------------------\n",
      "+--------------------+-----+\n",
      "|word                |count|\n",
      "+--------------------+-----+\n",
      "|#UAM                |118  |\n",
      "|#ForoCambio11J      |109  |\n",
      "|#Apple              |90   |\n",
      "|#UniDeVerano        |89   |\n",
      "|#TuitUtil           |82   |\n",
      "|#TrabajarHacerCrecer|78   |\n",
      "|#Ciencia            |64   |\n",
      "|#VotaPP             |58   |\n",
      "|#destacada          |54   |\n",
      "|#FelizMiercoles     |44   |\n",
      "+--------------------+-----+\n",
      "\n"
     ]
    },
    {
     "name": "stderr",
     "output_type": "stream",
     "text": [
      "                                                                                \r"
     ]
    },
    {
     "name": "stdout",
     "output_type": "stream",
     "text": [
      "-------------------------------------------\n",
      "Batch: 634\n",
      "-------------------------------------------\n",
      "+--------------------+-----+\n",
      "|word                |count|\n",
      "+--------------------+-----+\n",
      "|#UAM                |119  |\n",
      "|#ForoCambio11J      |109  |\n",
      "|#Apple              |91   |\n",
      "|#UniDeVerano        |89   |\n",
      "|#TuitUtil           |82   |\n",
      "|#TrabajarHacerCrecer|78   |\n",
      "|#Ciencia            |64   |\n",
      "|#VotaPP             |58   |\n",
      "|#destacada          |54   |\n",
      "|#FelizMiercoles     |44   |\n",
      "+--------------------+-----+\n",
      "\n"
     ]
    },
    {
     "name": "stderr",
     "output_type": "stream",
     "text": [
      "                                                                                \r"
     ]
    },
    {
     "name": "stdout",
     "output_type": "stream",
     "text": [
      "-------------------------------------------\n",
      "Batch: 635\n",
      "-------------------------------------------\n",
      "+--------------------+-----+\n",
      "|word                |count|\n",
      "+--------------------+-----+\n",
      "|#UAM                |120  |\n",
      "|#ForoCambio11J      |110  |\n",
      "|#Apple              |91   |\n",
      "|#UniDeVerano        |89   |\n",
      "|#TuitUtil           |82   |\n",
      "|#TrabajarHacerCrecer|78   |\n",
      "|#Ciencia            |64   |\n",
      "|#VotaPP             |58   |\n",
      "|#destacada          |54   |\n",
      "|#FelizMiercoles     |44   |\n",
      "+--------------------+-----+\n",
      "\n"
     ]
    },
    {
     "name": "stderr",
     "output_type": "stream",
     "text": [
      "[Stage 1909:=================================================>  (190 + 8) / 200]\r"
     ]
    },
    {
     "name": "stdout",
     "output_type": "stream",
     "text": [
      "-------------------------------------------\n",
      "Batch: 636\n",
      "-------------------------------------------\n",
      "+--------------------+-----+\n",
      "|word                |count|\n",
      "+--------------------+-----+\n",
      "|#UAM                |120  |\n",
      "|#ForoCambio11J      |110  |\n",
      "|#Apple              |91   |\n",
      "|#UniDeVerano        |89   |\n",
      "|#TuitUtil           |82   |\n",
      "|#TrabajarHacerCrecer|78   |\n",
      "|#Ciencia            |64   |\n",
      "|#VotaPP             |58   |\n",
      "|#destacada          |54   |\n",
      "|#FelizMiercoles     |44   |\n",
      "+--------------------+-----+\n",
      "\n"
     ]
    },
    {
     "name": "stderr",
     "output_type": "stream",
     "text": [
      "                                                                                \r"
     ]
    },
    {
     "name": "stdout",
     "output_type": "stream",
     "text": [
      "-------------------------------------------\n",
      "Batch: 637\n",
      "-------------------------------------------\n",
      "+--------------------+-----+\n",
      "|word                |count|\n",
      "+--------------------+-----+\n",
      "|#UAM                |120  |\n",
      "|#ForoCambio11J      |110  |\n",
      "|#Apple              |91   |\n",
      "|#UniDeVerano        |89   |\n",
      "|#TuitUtil           |83   |\n",
      "|#TrabajarHacerCrecer|78   |\n",
      "|#Ciencia            |64   |\n",
      "|#VotaPP             |58   |\n",
      "|#destacada          |54   |\n",
      "|#FelizMiercoles     |44   |\n",
      "+--------------------+-----+\n",
      "\n"
     ]
    },
    {
     "name": "stderr",
     "output_type": "stream",
     "text": [
      "                                                                                \r"
     ]
    },
    {
     "name": "stdout",
     "output_type": "stream",
     "text": [
      "-------------------------------------------\n",
      "Batch: 638\n",
      "-------------------------------------------\n",
      "+--------------------+-----+\n",
      "|word                |count|\n",
      "+--------------------+-----+\n",
      "|#UAM                |120  |\n",
      "|#ForoCambio11J      |110  |\n",
      "|#Apple              |91   |\n",
      "|#UniDeVerano        |89   |\n",
      "|#TuitUtil           |83   |\n",
      "|#TrabajarHacerCrecer|78   |\n",
      "|#Ciencia            |64   |\n",
      "|#VotaPP             |58   |\n",
      "|#destacada          |54   |\n",
      "|#FelizMiercoles     |44   |\n",
      "+--------------------+-----+\n",
      "\n"
     ]
    },
    {
     "name": "stderr",
     "output_type": "stream",
     "text": [
      "                                                                                \r"
     ]
    },
    {
     "name": "stdout",
     "output_type": "stream",
     "text": [
      "-------------------------------------------\n",
      "Batch: 639\n",
      "-------------------------------------------\n",
      "+--------------------+-----+\n",
      "|word                |count|\n",
      "+--------------------+-----+\n",
      "|#UAM                |120  |\n",
      "|#ForoCambio11J      |111  |\n",
      "|#Apple              |91   |\n",
      "|#UniDeVerano        |89   |\n",
      "|#TuitUtil           |83   |\n",
      "|#TrabajarHacerCrecer|78   |\n",
      "|#Ciencia            |64   |\n",
      "|#VotaPP             |58   |\n",
      "|#destacada          |54   |\n",
      "|#FelizMiercoles     |44   |\n",
      "+--------------------+-----+\n",
      "\n"
     ]
    },
    {
     "name": "stderr",
     "output_type": "stream",
     "text": [
      "                                                                                \r"
     ]
    },
    {
     "name": "stdout",
     "output_type": "stream",
     "text": [
      "-------------------------------------------\n",
      "Batch: 640\n",
      "-------------------------------------------\n",
      "+--------------------+-----+\n",
      "|word                |count|\n",
      "+--------------------+-----+\n",
      "|#UAM                |121  |\n",
      "|#ForoCambio11J      |112  |\n",
      "|#Apple              |91   |\n",
      "|#UniDeVerano        |89   |\n",
      "|#TuitUtil           |83   |\n",
      "|#TrabajarHacerCrecer|78   |\n",
      "|#Ciencia            |64   |\n",
      "|#VotaPP             |58   |\n",
      "|#destacada          |54   |\n",
      "|#FelizMiercoles     |44   |\n",
      "+--------------------+-----+\n",
      "\n"
     ]
    },
    {
     "name": "stderr",
     "output_type": "stream",
     "text": [
      "                                                                                \r"
     ]
    },
    {
     "name": "stdout",
     "output_type": "stream",
     "text": [
      "-------------------------------------------\n",
      "Batch: 641\n",
      "-------------------------------------------\n",
      "+--------------------+-----+\n",
      "|word                |count|\n",
      "+--------------------+-----+\n",
      "|#UAM                |121  |\n",
      "|#ForoCambio11J      |112  |\n",
      "|#Apple              |91   |\n",
      "|#UniDeVerano        |89   |\n",
      "|#TuitUtil           |83   |\n",
      "|#TrabajarHacerCrecer|78   |\n",
      "|#Ciencia            |64   |\n",
      "|#VotaPP             |58   |\n",
      "|#destacada          |54   |\n",
      "|#FelizMiercoles     |44   |\n",
      "+--------------------+-----+\n",
      "\n"
     ]
    },
    {
     "name": "stderr",
     "output_type": "stream",
     "text": [
      "                                                                                \r"
     ]
    },
    {
     "name": "stdout",
     "output_type": "stream",
     "text": [
      "-------------------------------------------\n",
      "Batch: 642\n",
      "-------------------------------------------\n",
      "+--------------------+-----+\n",
      "|word                |count|\n",
      "+--------------------+-----+\n",
      "|#UAM                |121  |\n",
      "|#ForoCambio11J      |112  |\n",
      "|#Apple              |91   |\n",
      "|#UniDeVerano        |89   |\n",
      "|#TuitUtil           |83   |\n",
      "|#TrabajarHacerCrecer|78   |\n",
      "|#Ciencia            |65   |\n",
      "|#VotaPP             |58   |\n",
      "|#destacada          |54   |\n",
      "|#FelizMiercoles     |44   |\n",
      "+--------------------+-----+\n",
      "\n"
     ]
    },
    {
     "name": "stderr",
     "output_type": "stream",
     "text": [
      "                                                                                \r"
     ]
    },
    {
     "name": "stdout",
     "output_type": "stream",
     "text": [
      "-------------------------------------------\n",
      "Batch: 643\n",
      "-------------------------------------------\n",
      "+--------------------+-----+\n",
      "|word                |count|\n",
      "+--------------------+-----+\n",
      "|#UAM                |122  |\n",
      "|#ForoCambio11J      |112  |\n",
      "|#Apple              |91   |\n",
      "|#UniDeVerano        |89   |\n",
      "|#TuitUtil           |83   |\n",
      "|#TrabajarHacerCrecer|78   |\n",
      "|#Ciencia            |65   |\n",
      "|#VotaPP             |58   |\n",
      "|#destacada          |54   |\n",
      "|#FelizMiercoles     |44   |\n",
      "+--------------------+-----+\n",
      "\n"
     ]
    },
    {
     "name": "stderr",
     "output_type": "stream",
     "text": [
      "                                                                                \r"
     ]
    },
    {
     "name": "stdout",
     "output_type": "stream",
     "text": [
      "-------------------------------------------\n",
      "Batch: 644\n",
      "-------------------------------------------\n",
      "+--------------------+-----+\n",
      "|word                |count|\n",
      "+--------------------+-----+\n",
      "|#UAM                |122  |\n",
      "|#ForoCambio11J      |112  |\n",
      "|#Apple              |91   |\n",
      "|#UniDeVerano        |89   |\n",
      "|#TuitUtil           |83   |\n",
      "|#TrabajarHacerCrecer|78   |\n",
      "|#Ciencia            |65   |\n",
      "|#VotaPP             |58   |\n",
      "|#destacada          |54   |\n",
      "|#FelizMiercoles     |45   |\n",
      "+--------------------+-----+\n",
      "\n"
     ]
    },
    {
     "name": "stderr",
     "output_type": "stream",
     "text": [
      "                                                                                \r"
     ]
    },
    {
     "name": "stdout",
     "output_type": "stream",
     "text": [
      "-------------------------------------------\n",
      "Batch: 645\n",
      "-------------------------------------------\n",
      "+--------------------+-----+\n",
      "|word                |count|\n",
      "+--------------------+-----+\n",
      "|#UAM                |122  |\n",
      "|#ForoCambio11J      |112  |\n",
      "|#Apple              |91   |\n",
      "|#UniDeVerano        |89   |\n",
      "|#TuitUtil           |83   |\n",
      "|#TrabajarHacerCrecer|78   |\n",
      "|#Ciencia            |65   |\n",
      "|#VotaPP             |58   |\n",
      "|#destacada          |55   |\n",
      "|#FelizMiercoles     |45   |\n",
      "+--------------------+-----+\n",
      "\n"
     ]
    },
    {
     "name": "stderr",
     "output_type": "stream",
     "text": [
      "                                                                                \r"
     ]
    },
    {
     "name": "stdout",
     "output_type": "stream",
     "text": [
      "-------------------------------------------\n",
      "Batch: 646\n",
      "-------------------------------------------\n",
      "+--------------------+-----+\n",
      "|word                |count|\n",
      "+--------------------+-----+\n",
      "|#UAM                |122  |\n",
      "|#ForoCambio11J      |112  |\n",
      "|#Apple              |91   |\n",
      "|#UniDeVerano        |89   |\n",
      "|#TuitUtil           |83   |\n",
      "|#TrabajarHacerCrecer|78   |\n",
      "|#Ciencia            |65   |\n",
      "|#VotaPP             |58   |\n",
      "|#destacada          |55   |\n",
      "|#FelizMiercoles     |45   |\n",
      "+--------------------+-----+\n",
      "\n"
     ]
    },
    {
     "name": "stderr",
     "output_type": "stream",
     "text": [
      "                                                                                \r"
     ]
    },
    {
     "name": "stdout",
     "output_type": "stream",
     "text": [
      "-------------------------------------------\n",
      "Batch: 647\n",
      "-------------------------------------------\n",
      "+--------------------+-----+\n",
      "|word                |count|\n",
      "+--------------------+-----+\n",
      "|#UAM                |122  |\n",
      "|#ForoCambio11J      |112  |\n",
      "|#Apple              |91   |\n",
      "|#UniDeVerano        |90   |\n",
      "|#TuitUtil           |83   |\n",
      "|#TrabajarHacerCrecer|78   |\n",
      "|#Ciencia            |65   |\n",
      "|#VotaPP             |58   |\n",
      "|#destacada          |55   |\n",
      "|#FelizMiercoles     |45   |\n",
      "+--------------------+-----+\n",
      "\n"
     ]
    },
    {
     "name": "stderr",
     "output_type": "stream",
     "text": [
      "                                                                                \r"
     ]
    },
    {
     "name": "stdout",
     "output_type": "stream",
     "text": [
      "-------------------------------------------\n",
      "Batch: 648\n",
      "-------------------------------------------\n",
      "+--------------------+-----+\n",
      "|word                |count|\n",
      "+--------------------+-----+\n",
      "|#UAM                |123  |\n",
      "|#ForoCambio11J      |114  |\n",
      "|#Apple              |91   |\n",
      "|#UniDeVerano        |90   |\n",
      "|#TuitUtil           |83   |\n",
      "|#TrabajarHacerCrecer|79   |\n",
      "|#Ciencia            |65   |\n",
      "|#VotaPP             |58   |\n",
      "|#destacada          |55   |\n",
      "|#FelizMiercoles     |45   |\n",
      "+--------------------+-----+\n",
      "\n"
     ]
    },
    {
     "name": "stderr",
     "output_type": "stream",
     "text": [
      "[Stage 1948:================================================>   (186 + 9) / 200]\r"
     ]
    },
    {
     "name": "stdout",
     "output_type": "stream",
     "text": [
      "-------------------------------------------\n",
      "Batch: 649\n",
      "-------------------------------------------\n",
      "+--------------------+-----+\n",
      "|word                |count|\n",
      "+--------------------+-----+\n",
      "|#UAM                |123  |\n",
      "|#ForoCambio11J      |114  |\n",
      "|#UniDeVerano        |91   |\n",
      "|#Apple              |91   |\n",
      "|#TuitUtil           |84   |\n",
      "|#TrabajarHacerCrecer|79   |\n",
      "|#Ciencia            |65   |\n",
      "|#VotaPP             |58   |\n",
      "|#destacada          |55   |\n",
      "|#FelizMiercoles     |45   |\n",
      "+--------------------+-----+\n",
      "\n"
     ]
    },
    {
     "name": "stderr",
     "output_type": "stream",
     "text": [
      "                                                                                \r"
     ]
    },
    {
     "name": "stdout",
     "output_type": "stream",
     "text": [
      "-------------------------------------------\n",
      "Batch: 650\n",
      "-------------------------------------------\n",
      "+--------------------+-----+\n",
      "|word                |count|\n",
      "+--------------------+-----+\n",
      "|#UAM                |123  |\n",
      "|#ForoCambio11J      |114  |\n",
      "|#UniDeVerano        |91   |\n",
      "|#Apple              |91   |\n",
      "|#TuitUtil           |84   |\n",
      "|#TrabajarHacerCrecer|79   |\n",
      "|#Ciencia            |65   |\n",
      "|#VotaPP             |58   |\n",
      "|#destacada          |55   |\n",
      "|#FelizMiercoles     |45   |\n",
      "+--------------------+-----+\n",
      "\n"
     ]
    },
    {
     "name": "stderr",
     "output_type": "stream",
     "text": [
      "                                                                                \r"
     ]
    },
    {
     "name": "stdout",
     "output_type": "stream",
     "text": [
      "-------------------------------------------\n",
      "Batch: 651\n",
      "-------------------------------------------\n",
      "+--------------------+-----+\n",
      "|word                |count|\n",
      "+--------------------+-----+\n",
      "|#UAM                |123  |\n",
      "|#ForoCambio11J      |114  |\n",
      "|#UniDeVerano        |92   |\n",
      "|#Apple              |91   |\n",
      "|#TuitUtil           |84   |\n",
      "|#TrabajarHacerCrecer|80   |\n",
      "|#Ciencia            |66   |\n",
      "|#VotaPP             |59   |\n",
      "|#destacada          |55   |\n",
      "|#FelizMiercoles     |45   |\n",
      "+--------------------+-----+\n",
      "\n"
     ]
    },
    {
     "name": "stderr",
     "output_type": "stream",
     "text": [
      "                                                                                \r"
     ]
    },
    {
     "name": "stdout",
     "output_type": "stream",
     "text": [
      "-------------------------------------------\n",
      "Batch: 652\n",
      "-------------------------------------------\n",
      "+--------------------+-----+\n",
      "|word                |count|\n",
      "+--------------------+-----+\n",
      "|#UAM                |124  |\n",
      "|#ForoCambio11J      |114  |\n",
      "|#UniDeVerano        |92   |\n",
      "|#Apple              |91   |\n",
      "|#TuitUtil           |84   |\n",
      "|#TrabajarHacerCrecer|80   |\n",
      "|#Ciencia            |66   |\n",
      "|#VotaPP             |59   |\n",
      "|#destacada          |55   |\n",
      "|#FelizMiercoles     |45   |\n",
      "+--------------------+-----+\n",
      "\n"
     ]
    },
    {
     "name": "stderr",
     "output_type": "stream",
     "text": [
      "                                                                                \r"
     ]
    },
    {
     "name": "stdout",
     "output_type": "stream",
     "text": [
      "-------------------------------------------\n",
      "Batch: 653\n",
      "-------------------------------------------\n",
      "+--------------------+-----+\n",
      "|word                |count|\n",
      "+--------------------+-----+\n",
      "|#UAM                |124  |\n",
      "|#ForoCambio11J      |114  |\n",
      "|#UniDeVerano        |94   |\n",
      "|#Apple              |92   |\n",
      "|#TuitUtil           |84   |\n",
      "|#TrabajarHacerCrecer|80   |\n",
      "|#Ciencia            |66   |\n",
      "|#VotaPP             |59   |\n",
      "|#destacada          |55   |\n",
      "|#FelizMiercoles     |45   |\n",
      "+--------------------+-----+\n",
      "\n"
     ]
    },
    {
     "name": "stderr",
     "output_type": "stream",
     "text": [
      "                                                                                \r"
     ]
    },
    {
     "name": "stdout",
     "output_type": "stream",
     "text": [
      "-------------------------------------------\n",
      "Batch: 654\n",
      "-------------------------------------------\n",
      "+--------------------+-----+\n",
      "|word                |count|\n",
      "+--------------------+-----+\n",
      "|#UAM                |124  |\n",
      "|#ForoCambio11J      |115  |\n",
      "|#UniDeVerano        |94   |\n",
      "|#Apple              |92   |\n",
      "|#TuitUtil           |84   |\n",
      "|#TrabajarHacerCrecer|81   |\n",
      "|#Ciencia            |66   |\n",
      "|#VotaPP             |60   |\n",
      "|#destacada          |55   |\n",
      "|#FelizMiercoles     |45   |\n",
      "+--------------------+-----+\n",
      "\n"
     ]
    },
    {
     "name": "stderr",
     "output_type": "stream",
     "text": [
      "                                                                                \r"
     ]
    },
    {
     "name": "stdout",
     "output_type": "stream",
     "text": [
      "-------------------------------------------\n",
      "Batch: 655\n",
      "-------------------------------------------\n",
      "+--------------------+-----+\n",
      "|word                |count|\n",
      "+--------------------+-----+\n",
      "|#UAM                |124  |\n",
      "|#ForoCambio11J      |115  |\n",
      "|#UniDeVerano        |94   |\n",
      "|#Apple              |92   |\n",
      "|#TuitUtil           |84   |\n",
      "|#TrabajarHacerCrecer|82   |\n",
      "|#Ciencia            |66   |\n",
      "|#VotaPP             |61   |\n",
      "|#destacada          |55   |\n",
      "|#FelizMiercoles     |45   |\n",
      "+--------------------+-----+\n",
      "\n"
     ]
    },
    {
     "name": "stderr",
     "output_type": "stream",
     "text": [
      "                                                                                \r"
     ]
    },
    {
     "name": "stdout",
     "output_type": "stream",
     "text": [
      "-------------------------------------------\n",
      "Batch: 656\n",
      "-------------------------------------------\n",
      "+--------------------+-----+\n",
      "|word                |count|\n",
      "+--------------------+-----+\n",
      "|#UAM                |124  |\n",
      "|#ForoCambio11J      |117  |\n",
      "|#UniDeVerano        |94   |\n",
      "|#Apple              |92   |\n",
      "|#TuitUtil           |84   |\n",
      "|#TrabajarHacerCrecer|82   |\n",
      "|#Ciencia            |66   |\n",
      "|#VotaPP             |61   |\n",
      "|#destacada          |55   |\n",
      "|#FelizMiercoles     |45   |\n",
      "+--------------------+-----+\n",
      "\n"
     ]
    },
    {
     "name": "stderr",
     "output_type": "stream",
     "text": [
      "                                                                                \r"
     ]
    },
    {
     "name": "stdout",
     "output_type": "stream",
     "text": [
      "-------------------------------------------\n",
      "Batch: 657\n",
      "-------------------------------------------\n",
      "+--------------------+-----+\n",
      "|word                |count|\n",
      "+--------------------+-----+\n",
      "|#UAM                |124  |\n",
      "|#ForoCambio11J      |117  |\n",
      "|#UniDeVerano        |94   |\n",
      "|#Apple              |92   |\n",
      "|#TuitUtil           |84   |\n",
      "|#TrabajarHacerCrecer|82   |\n",
      "|#Ciencia            |66   |\n",
      "|#VotaPP             |61   |\n",
      "|#destacada          |55   |\n",
      "|#FelizMiercoles     |45   |\n",
      "+--------------------+-----+\n",
      "\n"
     ]
    },
    {
     "name": "stderr",
     "output_type": "stream",
     "text": [
      "[Stage 1975:============================================>       (171 + 8) / 200]\r"
     ]
    },
    {
     "name": "stdout",
     "output_type": "stream",
     "text": [
      "-------------------------------------------\n",
      "Batch: 658\n",
      "-------------------------------------------\n",
      "+--------------------+-----+\n",
      "|word                |count|\n",
      "+--------------------+-----+\n",
      "|#UAM                |124  |\n",
      "|#ForoCambio11J      |117  |\n",
      "|#UniDeVerano        |95   |\n",
      "|#Apple              |92   |\n",
      "|#TuitUtil           |84   |\n",
      "|#TrabajarHacerCrecer|82   |\n",
      "|#Ciencia            |66   |\n",
      "|#VotaPP             |61   |\n",
      "|#destacada          |55   |\n",
      "|#FelizMiercoles     |45   |\n",
      "+--------------------+-----+\n",
      "\n"
     ]
    },
    {
     "name": "stderr",
     "output_type": "stream",
     "text": [
      "                                                                                \r"
     ]
    },
    {
     "name": "stdout",
     "output_type": "stream",
     "text": [
      "-------------------------------------------\n",
      "Batch: 659\n",
      "-------------------------------------------\n",
      "+--------------------+-----+\n",
      "|word                |count|\n",
      "+--------------------+-----+\n",
      "|#UAM                |124  |\n",
      "|#ForoCambio11J      |117  |\n",
      "|#UniDeVerano        |96   |\n",
      "|#Apple              |92   |\n",
      "|#TuitUtil           |84   |\n",
      "|#TrabajarHacerCrecer|83   |\n",
      "|#Ciencia            |66   |\n",
      "|#VotaPP             |61   |\n",
      "|#destacada          |55   |\n",
      "|#FelizMiercoles     |45   |\n",
      "+--------------------+-----+\n",
      "\n"
     ]
    },
    {
     "name": "stderr",
     "output_type": "stream",
     "text": [
      "                                                                                \r"
     ]
    },
    {
     "name": "stdout",
     "output_type": "stream",
     "text": [
      "-------------------------------------------\n",
      "Batch: 660\n",
      "-------------------------------------------\n",
      "+----------------------+-----+\n",
      "|word                  |count|\n",
      "+----------------------+-----+\n",
      "|#UAM                  |124  |\n",
      "|#ForoCambio11J        |117  |\n",
      "|#UniDeVerano          |96   |\n",
      "|#Apple                |92   |\n",
      "|#TuitUtil             |84   |\n",
      "|#TrabajarHacerCrecer  |83   |\n",
      "|#Ciencia              |66   |\n",
      "|#VotaPP               |61   |\n",
      "|#destacada            |55   |\n",
      "|#GobernarParaLaMayoría|45   |\n",
      "+----------------------+-----+\n",
      "\n"
     ]
    },
    {
     "name": "stderr",
     "output_type": "stream",
     "text": [
      "                                                                                \r"
     ]
    },
    {
     "name": "stdout",
     "output_type": "stream",
     "text": [
      "-------------------------------------------\n",
      "Batch: 661\n",
      "-------------------------------------------\n",
      "+----------------------+-----+\n",
      "|word                  |count|\n",
      "+----------------------+-----+\n",
      "|#UAM                  |124  |\n",
      "|#ForoCambio11J        |118  |\n",
      "|#UniDeVerano          |96   |\n",
      "|#Apple                |92   |\n",
      "|#TuitUtil             |84   |\n",
      "|#TrabajarHacerCrecer  |83   |\n",
      "|#Ciencia              |66   |\n",
      "|#VotaPP               |61   |\n",
      "|#destacada            |55   |\n",
      "|#GobernarParaLaMayoría|45   |\n",
      "+----------------------+-----+\n",
      "\n"
     ]
    },
    {
     "name": "stderr",
     "output_type": "stream",
     "text": [
      "                                                                                \r"
     ]
    },
    {
     "name": "stdout",
     "output_type": "stream",
     "text": [
      "-------------------------------------------\n",
      "Batch: 662\n",
      "-------------------------------------------\n",
      "+--------------------+-----+\n",
      "|word                |count|\n",
      "+--------------------+-----+\n",
      "|#UAM                |124  |\n",
      "|#ForoCambio11J      |118  |\n",
      "|#UniDeVerano        |96   |\n",
      "|#Apple              |92   |\n",
      "|#TuitUtil           |84   |\n",
      "|#TrabajarHacerCrecer|83   |\n",
      "|#Ciencia            |66   |\n",
      "|#VotaPP             |61   |\n",
      "|#destacada          |55   |\n",
      "|#FelizMiercoles     |45   |\n",
      "+--------------------+-----+\n",
      "\n"
     ]
    },
    {
     "name": "stderr",
     "output_type": "stream",
     "text": [
      "                                                                                \r"
     ]
    },
    {
     "name": "stdout",
     "output_type": "stream",
     "text": [
      "-------------------------------------------\n",
      "Batch: 663\n",
      "-------------------------------------------\n",
      "+--------------------+-----+\n",
      "|word                |count|\n",
      "+--------------------+-----+\n",
      "|#UAM                |124  |\n",
      "|#ForoCambio11J      |118  |\n",
      "|#UniDeVerano        |96   |\n",
      "|#Apple              |92   |\n",
      "|#TuitUtil           |84   |\n",
      "|#TrabajarHacerCrecer|83   |\n",
      "|#Ciencia            |66   |\n",
      "|#VotaPP             |61   |\n",
      "|#destacada          |55   |\n",
      "|#FelizMiercoles     |45   |\n",
      "+--------------------+-----+\n",
      "\n"
     ]
    },
    {
     "name": "stderr",
     "output_type": "stream",
     "text": [
      "                                                                                \r"
     ]
    },
    {
     "name": "stdout",
     "output_type": "stream",
     "text": [
      "-------------------------------------------\n",
      "Batch: 664\n",
      "-------------------------------------------\n",
      "+--------------------+-----+\n",
      "|word                |count|\n",
      "+--------------------+-----+\n",
      "|#UAM                |124  |\n",
      "|#ForoCambio11J      |118  |\n",
      "|#UniDeVerano        |96   |\n",
      "|#Apple              |92   |\n",
      "|#TuitUtil           |84   |\n",
      "|#TrabajarHacerCrecer|83   |\n",
      "|#Ciencia            |66   |\n",
      "|#VotaPP             |61   |\n",
      "|#destacada          |55   |\n",
      "|#FelizMiercoles     |45   |\n",
      "+--------------------+-----+\n",
      "\n"
     ]
    },
    {
     "name": "stderr",
     "output_type": "stream",
     "text": [
      "                                                                                \r"
     ]
    },
    {
     "name": "stdout",
     "output_type": "stream",
     "text": [
      "-------------------------------------------\n",
      "Batch: 665\n",
      "-------------------------------------------\n",
      "+--------------------+-----+\n",
      "|word                |count|\n",
      "+--------------------+-----+\n",
      "|#UAM                |125  |\n",
      "|#ForoCambio11J      |118  |\n",
      "|#UniDeVerano        |96   |\n",
      "|#Apple              |92   |\n",
      "|#TuitUtil           |84   |\n",
      "|#TrabajarHacerCrecer|84   |\n",
      "|#Ciencia            |66   |\n",
      "|#VotaPP             |61   |\n",
      "|#destacada          |56   |\n",
      "|#FelizMiercoles     |45   |\n",
      "+--------------------+-----+\n",
      "\n"
     ]
    },
    {
     "name": "stderr",
     "output_type": "stream",
     "text": [
      "                                                                                \r"
     ]
    },
    {
     "name": "stdout",
     "output_type": "stream",
     "text": [
      "-------------------------------------------\n",
      "Batch: 666\n",
      "-------------------------------------------\n",
      "+--------------------+-----+\n",
      "|word                |count|\n",
      "+--------------------+-----+\n",
      "|#UAM                |126  |\n",
      "|#ForoCambio11J      |118  |\n",
      "|#UniDeVerano        |96   |\n",
      "|#Apple              |92   |\n",
      "|#TuitUtil           |84   |\n",
      "|#TrabajarHacerCrecer|84   |\n",
      "|#Ciencia            |66   |\n",
      "|#VotaPP             |61   |\n",
      "|#destacada          |56   |\n",
      "|#FelizMiercoles     |45   |\n",
      "+--------------------+-----+\n",
      "\n"
     ]
    },
    {
     "name": "stderr",
     "output_type": "stream",
     "text": [
      "                                                                                \r"
     ]
    },
    {
     "name": "stdout",
     "output_type": "stream",
     "text": [
      "-------------------------------------------\n",
      "Batch: 667\n",
      "-------------------------------------------\n",
      "+--------------------+-----+\n",
      "|word                |count|\n",
      "+--------------------+-----+\n",
      "|#UAM                |126  |\n",
      "|#ForoCambio11J      |119  |\n",
      "|#UniDeVerano        |97   |\n",
      "|#Apple              |92   |\n",
      "|#TuitUtil           |84   |\n",
      "|#TrabajarHacerCrecer|84   |\n",
      "|#Ciencia            |66   |\n",
      "|#VotaPP             |61   |\n",
      "|#destacada          |56   |\n",
      "|#FelizMiercoles     |45   |\n",
      "+--------------------+-----+\n",
      "\n"
     ]
    },
    {
     "name": "stderr",
     "output_type": "stream",
     "text": [
      "                                                                                \r"
     ]
    },
    {
     "name": "stdout",
     "output_type": "stream",
     "text": [
      "-------------------------------------------\n",
      "Batch: 668\n",
      "-------------------------------------------\n",
      "+--------------------+-----+\n",
      "|word                |count|\n",
      "+--------------------+-----+\n",
      "|#UAM                |126  |\n",
      "|#ForoCambio11J      |119  |\n",
      "|#UniDeVerano        |97   |\n",
      "|#Apple              |92   |\n",
      "|#TuitUtil           |84   |\n",
      "|#TrabajarHacerCrecer|84   |\n",
      "|#Ciencia            |66   |\n",
      "|#VotaPP             |61   |\n",
      "|#destacada          |56   |\n",
      "|#FelizMiercoles     |45   |\n",
      "+--------------------+-----+\n",
      "\n"
     ]
    },
    {
     "name": "stderr",
     "output_type": "stream",
     "text": [
      "                                                                                \r"
     ]
    },
    {
     "name": "stdout",
     "output_type": "stream",
     "text": [
      "-------------------------------------------\n",
      "Batch: 669\n",
      "-------------------------------------------\n",
      "+--------------------+-----+\n",
      "|word                |count|\n",
      "+--------------------+-----+\n",
      "|#UAM                |126  |\n",
      "|#ForoCambio11J      |119  |\n",
      "|#UniDeVerano        |97   |\n",
      "|#Apple              |92   |\n",
      "|#TuitUtil           |84   |\n",
      "|#TrabajarHacerCrecer|84   |\n",
      "|#Ciencia            |66   |\n",
      "|#VotaPP             |61   |\n",
      "|#destacada          |56   |\n",
      "|#FelizMiercoles     |45   |\n",
      "+--------------------+-----+\n",
      "\n"
     ]
    },
    {
     "name": "stderr",
     "output_type": "stream",
     "text": [
      "                                                                                \r"
     ]
    },
    {
     "name": "stdout",
     "output_type": "stream",
     "text": [
      "-------------------------------------------\n",
      "Batch: 670\n",
      "-------------------------------------------\n",
      "+--------------------+-----+\n",
      "|word                |count|\n",
      "+--------------------+-----+\n",
      "|#UAM                |127  |\n",
      "|#ForoCambio11J      |119  |\n",
      "|#UniDeVerano        |98   |\n",
      "|#Apple              |92   |\n",
      "|#TuitUtil           |84   |\n",
      "|#TrabajarHacerCrecer|84   |\n",
      "|#Ciencia            |66   |\n",
      "|#VotaPP             |61   |\n",
      "|#destacada          |56   |\n",
      "|#FelizMiercoles     |45   |\n",
      "+--------------------+-----+\n",
      "\n"
     ]
    },
    {
     "name": "stderr",
     "output_type": "stream",
     "text": [
      "                                                                                \r"
     ]
    },
    {
     "name": "stdout",
     "output_type": "stream",
     "text": [
      "-------------------------------------------\n",
      "Batch: 671\n",
      "-------------------------------------------\n",
      "+--------------------+-----+\n",
      "|word                |count|\n",
      "+--------------------+-----+\n",
      "|#UAM                |127  |\n",
      "|#ForoCambio11J      |119  |\n",
      "|#UniDeVerano        |98   |\n",
      "|#Apple              |93   |\n",
      "|#TuitUtil           |84   |\n",
      "|#TrabajarHacerCrecer|84   |\n",
      "|#Ciencia            |66   |\n",
      "|#VotaPP             |61   |\n",
      "|#destacada          |56   |\n",
      "|#FelizMiercoles     |45   |\n",
      "+--------------------+-----+\n",
      "\n"
     ]
    },
    {
     "name": "stderr",
     "output_type": "stream",
     "text": [
      "                                                                                \r"
     ]
    },
    {
     "name": "stdout",
     "output_type": "stream",
     "text": [
      "-------------------------------------------\n",
      "Batch: 672\n",
      "-------------------------------------------\n",
      "+--------------------+-----+\n",
      "|word                |count|\n",
      "+--------------------+-----+\n",
      "|#UAM                |127  |\n",
      "|#ForoCambio11J      |119  |\n",
      "|#UniDeVerano        |98   |\n",
      "|#Apple              |93   |\n",
      "|#TuitUtil           |84   |\n",
      "|#TrabajarHacerCrecer|84   |\n",
      "|#Ciencia            |66   |\n",
      "|#VotaPP             |61   |\n",
      "|#destacada          |56   |\n",
      "|#FelizMiercoles     |45   |\n",
      "+--------------------+-----+\n",
      "\n"
     ]
    },
    {
     "name": "stderr",
     "output_type": "stream",
     "text": [
      "                                                                                \r"
     ]
    },
    {
     "name": "stdout",
     "output_type": "stream",
     "text": [
      "-------------------------------------------\n",
      "Batch: 673\n",
      "-------------------------------------------\n",
      "+--------------------+-----+\n",
      "|word                |count|\n",
      "+--------------------+-----+\n",
      "|#UAM                |127  |\n",
      "|#ForoCambio11J      |119  |\n",
      "|#UniDeVerano        |98   |\n",
      "|#Apple              |93   |\n",
      "|#TuitUtil           |84   |\n",
      "|#TrabajarHacerCrecer|84   |\n",
      "|#Ciencia            |66   |\n",
      "|#VotaPP             |61   |\n",
      "|#destacada          |56   |\n",
      "|#FelizMiercoles     |45   |\n",
      "+--------------------+-----+\n",
      "\n"
     ]
    },
    {
     "name": "stderr",
     "output_type": "stream",
     "text": [
      "                                                                                \r"
     ]
    },
    {
     "name": "stdout",
     "output_type": "stream",
     "text": [
      "-------------------------------------------\n",
      "Batch: 674\n",
      "-------------------------------------------\n",
      "+----------------------+-----+\n",
      "|word                  |count|\n",
      "+----------------------+-----+\n",
      "|#UAM                  |127  |\n",
      "|#ForoCambio11J        |119  |\n",
      "|#UniDeVerano          |98   |\n",
      "|#Apple                |93   |\n",
      "|#TuitUtil             |85   |\n",
      "|#TrabajarHacerCrecer  |84   |\n",
      "|#Ciencia              |66   |\n",
      "|#VotaPP               |62   |\n",
      "|#destacada            |56   |\n",
      "|#GobernarParaLaMayoría|46   |\n",
      "+----------------------+-----+\n",
      "\n"
     ]
    },
    {
     "name": "stderr",
     "output_type": "stream",
     "text": [
      "                                                                                \r"
     ]
    },
    {
     "name": "stdout",
     "output_type": "stream",
     "text": [
      "-------------------------------------------\n",
      "Batch: 675\n",
      "-------------------------------------------\n",
      "+----------------------+-----+\n",
      "|word                  |count|\n",
      "+----------------------+-----+\n",
      "|#UAM                  |127  |\n",
      "|#ForoCambio11J        |119  |\n",
      "|#UniDeVerano          |98   |\n",
      "|#Apple                |93   |\n",
      "|#TuitUtil             |85   |\n",
      "|#TrabajarHacerCrecer  |84   |\n",
      "|#Ciencia              |66   |\n",
      "|#VotaPP               |62   |\n",
      "|#destacada            |56   |\n",
      "|#GobernarParaLaMayoría|46   |\n",
      "+----------------------+-----+\n",
      "\n"
     ]
    },
    {
     "name": "stderr",
     "output_type": "stream",
     "text": [
      "                                                                                \r"
     ]
    },
    {
     "name": "stdout",
     "output_type": "stream",
     "text": [
      "-------------------------------------------\n",
      "Batch: 676\n",
      "-------------------------------------------\n",
      "+----------------------+-----+\n",
      "|word                  |count|\n",
      "+----------------------+-----+\n",
      "|#UAM                  |127  |\n",
      "|#ForoCambio11J        |119  |\n",
      "|#UniDeVerano          |98   |\n",
      "|#Apple                |93   |\n",
      "|#TuitUtil             |85   |\n",
      "|#TrabajarHacerCrecer  |85   |\n",
      "|#Ciencia              |66   |\n",
      "|#VotaPP               |62   |\n",
      "|#destacada            |56   |\n",
      "|#GobernarParaLaMayoría|46   |\n",
      "+----------------------+-----+\n",
      "\n"
     ]
    },
    {
     "name": "stderr",
     "output_type": "stream",
     "text": [
      "                                                                                \r"
     ]
    },
    {
     "name": "stdout",
     "output_type": "stream",
     "text": [
      "-------------------------------------------\n",
      "Batch: 677\n",
      "-------------------------------------------\n",
      "+----------------------+-----+\n",
      "|word                  |count|\n",
      "+----------------------+-----+\n",
      "|#UAM                  |128  |\n",
      "|#ForoCambio11J        |119  |\n",
      "|#UniDeVerano          |98   |\n",
      "|#Apple                |93   |\n",
      "|#TuitUtil             |85   |\n",
      "|#TrabajarHacerCrecer  |85   |\n",
      "|#Ciencia              |66   |\n",
      "|#VotaPP               |62   |\n",
      "|#destacada            |56   |\n",
      "|#GobernarParaLaMayoría|46   |\n",
      "+----------------------+-----+\n",
      "\n"
     ]
    },
    {
     "name": "stderr",
     "output_type": "stream",
     "text": [
      "                                                                                \r"
     ]
    },
    {
     "name": "stdout",
     "output_type": "stream",
     "text": [
      "-------------------------------------------\n",
      "Batch: 678\n",
      "-------------------------------------------\n",
      "+----------------------+-----+\n",
      "|word                  |count|\n",
      "+----------------------+-----+\n",
      "|#UAM                  |128  |\n",
      "|#ForoCambio11J        |120  |\n",
      "|#UniDeVerano          |98   |\n",
      "|#Apple                |93   |\n",
      "|#TuitUtil             |85   |\n",
      "|#TrabajarHacerCrecer  |85   |\n",
      "|#Ciencia              |66   |\n",
      "|#VotaPP               |62   |\n",
      "|#destacada            |56   |\n",
      "|#GobernarParaLaMayoría|46   |\n",
      "+----------------------+-----+\n",
      "\n"
     ]
    },
    {
     "name": "stderr",
     "output_type": "stream",
     "text": [
      "                                                                                \r"
     ]
    },
    {
     "name": "stdout",
     "output_type": "stream",
     "text": [
      "-------------------------------------------\n",
      "Batch: 679\n",
      "-------------------------------------------\n",
      "+----------------------+-----+\n",
      "|word                  |count|\n",
      "+----------------------+-----+\n",
      "|#UAM                  |128  |\n",
      "|#ForoCambio11J        |120  |\n",
      "|#UniDeVerano          |98   |\n",
      "|#Apple                |93   |\n",
      "|#TuitUtil             |85   |\n",
      "|#TrabajarHacerCrecer  |85   |\n",
      "|#Ciencia              |66   |\n",
      "|#VotaPP               |62   |\n",
      "|#destacada            |56   |\n",
      "|#GobernarParaLaMayoría|46   |\n",
      "+----------------------+-----+\n",
      "\n"
     ]
    },
    {
     "name": "stderr",
     "output_type": "stream",
     "text": [
      "                                                                                \r"
     ]
    },
    {
     "name": "stdout",
     "output_type": "stream",
     "text": [
      "-------------------------------------------\n",
      "Batch: 680\n",
      "-------------------------------------------\n",
      "+----------------------+-----+\n",
      "|word                  |count|\n",
      "+----------------------+-----+\n",
      "|#UAM                  |128  |\n",
      "|#ForoCambio11J        |120  |\n",
      "|#UniDeVerano          |98   |\n",
      "|#Apple                |93   |\n",
      "|#TuitUtil             |85   |\n",
      "|#TrabajarHacerCrecer  |85   |\n",
      "|#Ciencia              |66   |\n",
      "|#VotaPP               |62   |\n",
      "|#destacada            |56   |\n",
      "|#GobernarParaLaMayoría|46   |\n",
      "+----------------------+-----+\n",
      "\n"
     ]
    },
    {
     "name": "stderr",
     "output_type": "stream",
     "text": [
      "                                                                                \r"
     ]
    },
    {
     "name": "stdout",
     "output_type": "stream",
     "text": [
      "-------------------------------------------\n",
      "Batch: 681\n",
      "-------------------------------------------\n",
      "+----------------------+-----+\n",
      "|word                  |count|\n",
      "+----------------------+-----+\n",
      "|#UAM                  |128  |\n",
      "|#ForoCambio11J        |120  |\n",
      "|#UniDeVerano          |98   |\n",
      "|#Apple                |93   |\n",
      "|#TuitUtil             |85   |\n",
      "|#TrabajarHacerCrecer  |85   |\n",
      "|#Ciencia              |67   |\n",
      "|#VotaPP               |62   |\n",
      "|#destacada            |56   |\n",
      "|#GobernarParaLaMayoría|46   |\n",
      "+----------------------+-----+\n",
      "\n"
     ]
    },
    {
     "name": "stderr",
     "output_type": "stream",
     "text": [
      "                                                                                \r"
     ]
    },
    {
     "name": "stdout",
     "output_type": "stream",
     "text": [
      "-------------------------------------------\n",
      "Batch: 682\n",
      "-------------------------------------------\n",
      "+----------------------+-----+\n",
      "|word                  |count|\n",
      "+----------------------+-----+\n",
      "|#UAM                  |128  |\n",
      "|#ForoCambio11J        |120  |\n",
      "|#UniDeVerano          |98   |\n",
      "|#Apple                |94   |\n",
      "|#TuitUtil             |85   |\n",
      "|#TrabajarHacerCrecer  |85   |\n",
      "|#Ciencia              |68   |\n",
      "|#VotaPP               |62   |\n",
      "|#destacada            |56   |\n",
      "|#GobernarParaLaMayoría|46   |\n",
      "+----------------------+-----+\n",
      "\n"
     ]
    },
    {
     "name": "stderr",
     "output_type": "stream",
     "text": [
      "                                                                                \r"
     ]
    },
    {
     "name": "stdout",
     "output_type": "stream",
     "text": [
      "-------------------------------------------\n",
      "Batch: 683\n",
      "-------------------------------------------\n",
      "+----------------------+-----+\n",
      "|word                  |count|\n",
      "+----------------------+-----+\n",
      "|#UAM                  |128  |\n",
      "|#ForoCambio11J        |120  |\n",
      "|#UniDeVerano          |98   |\n",
      "|#Apple                |94   |\n",
      "|#TuitUtil             |85   |\n",
      "|#TrabajarHacerCrecer  |85   |\n",
      "|#Ciencia              |68   |\n",
      "|#VotaPP               |62   |\n",
      "|#destacada            |57   |\n",
      "|#GobernarParaLaMayoría|47   |\n",
      "+----------------------+-----+\n",
      "\n"
     ]
    },
    {
     "name": "stderr",
     "output_type": "stream",
     "text": [
      "                                                                                \r"
     ]
    },
    {
     "name": "stdout",
     "output_type": "stream",
     "text": [
      "-------------------------------------------\n",
      "Batch: 684\n",
      "-------------------------------------------\n",
      "+----------------------+-----+\n",
      "|word                  |count|\n",
      "+----------------------+-----+\n",
      "|#UAM                  |128  |\n",
      "|#ForoCambio11J        |120  |\n",
      "|#UniDeVerano          |98   |\n",
      "|#Apple                |94   |\n",
      "|#TuitUtil             |85   |\n",
      "|#TrabajarHacerCrecer  |85   |\n",
      "|#Ciencia              |68   |\n",
      "|#VotaPP               |62   |\n",
      "|#destacada            |57   |\n",
      "|#GobernarParaLaMayoría|47   |\n",
      "+----------------------+-----+\n",
      "\n"
     ]
    }
   ],
   "source": [
    "hashtagsCounts\\\n",
    "        .writeStream\\\n",
    "        .outputMode('complete')\\\n",
    "        .format('console')\\\n",
    "        .option('truncate', 'false')\\\n",
    "        .start()"
   ]
  },
  {
   "cell_type": "markdown",
   "id": "d936e173",
   "metadata": {},
   "source": [
    "## Conclusiones"
   ]
  },
  {
   "cell_type": "markdown",
   "id": "b47dbee5",
   "metadata": {},
   "source": [
    "Esta segunda parte de la práctica me ha resultado muy interesante porque me ha permitido poner en práctica mis conocimientos de Kafka y de SparkStreaming. Considero que\n",
    "una de las características principales de un ingeniero de datos debe ser saber conectar más de un sistema para lograr un fin aprovechando las características de cada uno, como se realiza en esta práctica. \n",
    "\n",
    "A pesar de haberme atascado al comienzo luego he podido ir avanzando poco a poco empleando la extensa documentación que hay en internet sobre SparkStreaming\n",
    "y consultando ciertos ejemplos de los libros de la bibliografía. Sin embargo, por falta de tiempo no he podido entregar el tercer ejercicio de esta parte por fala de tiempo.\n",
    "Como punto a mejorar para los próximos años, comentar que los ejemplos incluidos en las transparencias respecto a Kafka están desactualizados porque funcionan con versiones de Spark inferiores a la versión 3 y requieren de Python2. Debido a esto he tenido que emplear más tiempo del deseado en preparar el entorno para la práctica y en encontrar una documentación que me fuera útil. Sería muy recomendable adaptar ese contenido al uso de Spark 3 y de Python 3 para aplicar todas las ventajas que estas versiones ofrecen. \n",
    "\n",
    "Por último, agradecer de nuevo las facilidades del equipo docente respecto a permitir entregas después de la fecha de entrega. "
   ]
  }
 ],
 "metadata": {
  "interpreter": {
   "hash": "f1b6b944af751438664b850d02c3c5659743de066c9297a57f93498c68a935ce"
  },
  "kernelspec": {
   "display_name": "Python 3.8.10 64-bit ('venv': venv)",
   "language": "python",
   "name": "python3"
  },
  "language_info": {
   "codemirror_mode": {
    "name": "ipython",
    "version": 3
   },
   "file_extension": ".py",
   "mimetype": "text/x-python",
   "name": "python",
   "nbconvert_exporter": "python",
   "pygments_lexer": "ipython3",
   "version": "3.8.10"
  }
 },
 "nbformat": 4,
 "nbformat_minor": 5
}
