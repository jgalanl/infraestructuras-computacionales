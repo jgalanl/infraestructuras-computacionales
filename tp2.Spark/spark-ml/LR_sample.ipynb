{
 "cells": [
  {
   "cell_type": "markdown",
   "metadata": {},
   "source": [
    "## Machine Learning en Spark"
   ]
  },
  {
   "cell_type": "code",
   "execution_count": 1,
   "metadata": {
    "scrolled": true
   },
   "outputs": [
    {
     "name": "stderr",
     "output_type": "stream",
     "text": [
      "21/12/01 23:13:36 WARN Utils: Your hostname, jesus-Aspire-A514-52 resolves to a loopback address: 127.0.1.1; using 192.168.1.54 instead (on interface wlp2s0)\n",
      "21/12/01 23:13:36 WARN Utils: Set SPARK_LOCAL_IP if you need to bind to another address\n",
      "WARNING: An illegal reflective access operation has occurred\n",
      "WARNING: Illegal reflective access by org.apache.spark.unsafe.Platform (file:/opt/spark/jars/spark-unsafe_2.12-3.2.0.jar) to constructor java.nio.DirectByteBuffer(long,int)\n",
      "WARNING: Please consider reporting this to the maintainers of org.apache.spark.unsafe.Platform\n",
      "WARNING: Use --illegal-access=warn to enable warnings of further illegal reflective access operations\n",
      "WARNING: All illegal access operations will be denied in a future release\n",
      "Using Spark's default log4j profile: org/apache/spark/log4j-defaults.properties\n",
      "Setting default log level to \"WARN\".\n",
      "To adjust logging level use sc.setLogLevel(newLevel). For SparkR, use setLogLevel(newLevel).\n",
      "21/12/01 23:13:37 WARN NativeCodeLoader: Unable to load native-hadoop library for your platform... using builtin-java classes where applicable\n"
     ]
    }
   ],
   "source": [
    "from pyspark.sql import SparkSession\n",
    "spark = SparkSession.builder.appName('ml-example').getOrCreate()\n",
    "sc = spark.sparkContext"
   ]
  },
  {
   "cell_type": "code",
   "execution_count": 2,
   "metadata": {
    "scrolled": false
   },
   "outputs": [
    {
     "name": "stdout",
     "output_type": "stream",
     "text": [
      "spark.app.name=ml-example\n",
      "spark.master=local[*]\n",
      "spark.submit.deployMode=client\n",
      "spark.submit.pyFiles=\n",
      "spark.ui.showConsoleProgress=true\n"
     ]
    }
   ],
   "source": [
    "from pyspark.conf import SparkConf\n",
    "conf = SparkConf()\n",
    "print(conf.toDebugString())"
   ]
  },
  {
   "cell_type": "code",
   "execution_count": 4,
   "metadata": {},
   "outputs": [],
   "source": [
    "df_cars = spark.read.option(\"header\",True).option(\"inferSchema\",True).csv('car_milage.csv')"
   ]
  },
  {
   "cell_type": "code",
   "execution_count": 5,
   "metadata": {},
   "outputs": [
    {
     "name": "stdout",
     "output_type": "stream",
     "text": [
      "root\n",
      " |-- mpg: double (nullable = true)\n",
      " |-- displacement: double (nullable = true)\n",
      " |-- hp: integer (nullable = true)\n",
      " |-- torque: integer (nullable = true)\n",
      " |-- CRatio: double (nullable = true)\n",
      " |-- RARatio: double (nullable = true)\n",
      " |-- CarbBarrells: integer (nullable = true)\n",
      " |-- NoOfSpeed: integer (nullable = true)\n",
      " |-- length: double (nullable = true)\n",
      " |-- width: double (nullable = true)\n",
      " |-- weight: integer (nullable = true)\n",
      " |-- automatic: integer (nullable = true)\n",
      "\n"
     ]
    }
   ],
   "source": [
    "df_cars.printSchema()"
   ]
  },
  {
   "cell_type": "code",
   "execution_count": 6,
   "metadata": {
    "scrolled": false
   },
   "outputs": [
    {
     "data": {
      "text/plain": [
       "32"
      ]
     },
     "execution_count": 6,
     "metadata": {},
     "output_type": "execute_result"
    }
   ],
   "source": [
    "df_cars.count()"
   ]
  },
  {
   "cell_type": "code",
   "execution_count": 7,
   "metadata": {
    "scrolled": false
   },
   "outputs": [
    {
     "name": "stdout",
     "output_type": "stream",
     "text": [
      "+-----+------------+---+------+------+-------+------------+---------+------+-----+------+---------+\n",
      "|  mpg|displacement| hp|torque|CRatio|RARatio|CarbBarrells|NoOfSpeed|length|width|weight|automatic|\n",
      "+-----+------------+---+------+------+-------+------------+---------+------+-----+------+---------+\n",
      "| 18.9|       350.0|165|   260|   8.0|   2.56|           4|        3| 200.3| 69.9|  3910|        1|\n",
      "| 17.0|       350.0|170|   275|   8.5|   2.56|           4|        3| 199.6| 72.9|  3860|        1|\n",
      "| 20.0|       250.0|105|   185|  8.25|   2.73|           1|        3| 196.7| 72.2|  3510|        1|\n",
      "|18.25|       351.0|143|   255|   8.0|    3.0|           2|        3| 199.9| 74.0|  3890|        1|\n",
      "|20.07|       225.0| 95|   170|   8.4|   2.76|           1|        3| 194.1| 71.8|  3365|        0|\n",
      "| 11.2|       440.0|215|   330|   8.2|   2.88|           4|        3| 184.5| 69.0|  4215|        1|\n",
      "|22.12|       231.0|110|   175|   8.0|   2.56|           2|        3| 179.3| 65.4|  3020|        1|\n",
      "|21.47|       262.0|110|   200|   8.5|   2.56|           2|        3| 179.3| 65.4|  3180|        1|\n",
      "| 34.7|        89.7| 70|    81|   8.2|    3.9|           2|        4| 155.7| 64.0|  1905|        0|\n",
      "| 30.4|        96.9| 75|    83|   9.0|    4.3|           2|        5| 165.2| 65.0|  2320|        0|\n",
      "| 16.5|       350.0|155|   250|   8.5|   3.08|           4|        3| 195.4| 74.4|  3885|        1|\n",
      "| 36.5|        85.3| 80|    83|   8.5|   3.89|           2|        4| 160.6| 62.2|  2009|        0|\n",
      "| 21.5|       171.0|109|   146|   8.2|   3.22|           2|        4| 170.4| 66.9|  2655|        0|\n",
      "| 19.7|       258.0|110|   195|   8.0|   3.08|           1|        3| 171.5| 77.0|  3375|        1|\n",
      "| 20.3|       140.0| 83|   109|   8.4|    3.4|           2|        4| 168.8| 69.4|  2700|        0|\n",
      "| 17.8|       302.0|129|   220|   8.0|    3.0|           2|        3| 199.9| 74.0|  3890|        1|\n",
      "|14.39|       500.0|190|   360|   8.5|   2.73|           4|        3| 224.1| 79.8|  5290|        1|\n",
      "|14.89|       440.0|215|   330|   8.2|   2.71|           4|        3| 231.0| 79.7|  5185|        1|\n",
      "| 17.8|       350.0|155|   250|   8.5|   3.08|           4|        3| 196.7| 72.2|  3910|        1|\n",
      "|16.41|       318.0|145|   255|   8.5|   2.45|           2|        3| 197.6| 71.0|  3660|        1|\n",
      "|23.54|       231.0|110|   175|   8.0|   2.56|           2|        3| 179.3| 65.4|  3050|        1|\n",
      "|21.47|       360.0|180|   290|   8.4|   2.45|           2|        3| 214.2| 76.3|  4250|        1|\n",
      "|16.59|       400.0|185|  null|   7.6|   3.08|           4|        3| 196.0| 73.0|  3850|        1|\n",
      "| 31.9|        96.9| 75|    83|   9.0|    4.3|           2|        5| 165.2| 61.8|  2275|        0|\n",
      "| 29.4|       140.0| 86|  null|   8.0|   2.92|           2|        4| 176.4| 65.4|  2150|        0|\n",
      "|13.27|       460.0|223|   366|   8.0|    3.0|           4|        3| 228.0| 79.8|  5430|        1|\n",
      "| 23.9|       133.6| 96|   120|   8.4|   3.91|           2|        5| 171.5| 63.4|  2535|        0|\n",
      "|19.73|       318.0|140|   255|   8.5|   2.71|           2|        3| 215.3| 76.3|  4370|        1|\n",
      "| 13.9|       351.0|148|   243|   8.0|   3.25|           2|        3| 215.5| 78.5|  4540|        1|\n",
      "|13.27|       351.0|148|   243|   8.0|   3.26|           2|        3| 216.1| 78.5|  4715|        1|\n",
      "|13.77|       360.0|195|   295|  8.25|   3.15|           4|        3| 209.3| 77.4|  4215|        1|\n",
      "| 16.5|       360.0|165|   255|   8.5|   2.73|           4|        3| 185.2| 69.0|  3660|        1|\n",
      "+-----+------------+---+------+------+-------+------------+---------+------+-----+------+---------+\n",
      "\n"
     ]
    }
   ],
   "source": [
    "df_cars.show(32)"
   ]
  },
  {
   "cell_type": "code",
   "execution_count": 8,
   "metadata": {},
   "outputs": [],
   "source": [
    "df_cars = df_cars.na.drop()"
   ]
  },
  {
   "cell_type": "code",
   "execution_count": 9,
   "metadata": {},
   "outputs": [
    {
     "data": {
      "text/plain": [
       "30"
      ]
     },
     "execution_count": 9,
     "metadata": {},
     "output_type": "execute_result"
    }
   ],
   "source": [
    "df_cars.count()"
   ]
  },
  {
   "cell_type": "code",
   "execution_count": 10,
   "metadata": {},
   "outputs": [
    {
     "name": "stdout",
     "output_type": "stream",
     "text": [
      "+-----+------------+---+------+------+-------+------------+---------+------+-----+------+---------+\n",
      "|  mpg|displacement| hp|torque|CRatio|RARatio|CarbBarrells|NoOfSpeed|length|width|weight|automatic|\n",
      "+-----+------------+---+------+------+-------+------------+---------+------+-----+------+---------+\n",
      "| 18.9|       350.0|165|   260|   8.0|   2.56|           4|        3| 200.3| 69.9|  3910|        1|\n",
      "| 17.0|       350.0|170|   275|   8.5|   2.56|           4|        3| 199.6| 72.9|  3860|        1|\n",
      "| 20.0|       250.0|105|   185|  8.25|   2.73|           1|        3| 196.7| 72.2|  3510|        1|\n",
      "|18.25|       351.0|143|   255|   8.0|    3.0|           2|        3| 199.9| 74.0|  3890|        1|\n",
      "|20.07|       225.0| 95|   170|   8.4|   2.76|           1|        3| 194.1| 71.8|  3365|        0|\n",
      "| 11.2|       440.0|215|   330|   8.2|   2.88|           4|        3| 184.5| 69.0|  4215|        1|\n",
      "|22.12|       231.0|110|   175|   8.0|   2.56|           2|        3| 179.3| 65.4|  3020|        1|\n",
      "|21.47|       262.0|110|   200|   8.5|   2.56|           2|        3| 179.3| 65.4|  3180|        1|\n",
      "| 34.7|        89.7| 70|    81|   8.2|    3.9|           2|        4| 155.7| 64.0|  1905|        0|\n",
      "| 30.4|        96.9| 75|    83|   9.0|    4.3|           2|        5| 165.2| 65.0|  2320|        0|\n",
      "| 16.5|       350.0|155|   250|   8.5|   3.08|           4|        3| 195.4| 74.4|  3885|        1|\n",
      "| 36.5|        85.3| 80|    83|   8.5|   3.89|           2|        4| 160.6| 62.2|  2009|        0|\n",
      "| 21.5|       171.0|109|   146|   8.2|   3.22|           2|        4| 170.4| 66.9|  2655|        0|\n",
      "| 19.7|       258.0|110|   195|   8.0|   3.08|           1|        3| 171.5| 77.0|  3375|        1|\n",
      "| 20.3|       140.0| 83|   109|   8.4|    3.4|           2|        4| 168.8| 69.4|  2700|        0|\n",
      "| 17.8|       302.0|129|   220|   8.0|    3.0|           2|        3| 199.9| 74.0|  3890|        1|\n",
      "|14.39|       500.0|190|   360|   8.5|   2.73|           4|        3| 224.1| 79.8|  5290|        1|\n",
      "|14.89|       440.0|215|   330|   8.2|   2.71|           4|        3| 231.0| 79.7|  5185|        1|\n",
      "| 17.8|       350.0|155|   250|   8.5|   3.08|           4|        3| 196.7| 72.2|  3910|        1|\n",
      "|16.41|       318.0|145|   255|   8.5|   2.45|           2|        3| 197.6| 71.0|  3660|        1|\n",
      "|23.54|       231.0|110|   175|   8.0|   2.56|           2|        3| 179.3| 65.4|  3050|        1|\n",
      "|21.47|       360.0|180|   290|   8.4|   2.45|           2|        3| 214.2| 76.3|  4250|        1|\n",
      "| 31.9|        96.9| 75|    83|   9.0|    4.3|           2|        5| 165.2| 61.8|  2275|        0|\n",
      "|13.27|       460.0|223|   366|   8.0|    3.0|           4|        3| 228.0| 79.8|  5430|        1|\n",
      "| 23.9|       133.6| 96|   120|   8.4|   3.91|           2|        5| 171.5| 63.4|  2535|        0|\n",
      "|19.73|       318.0|140|   255|   8.5|   2.71|           2|        3| 215.3| 76.3|  4370|        1|\n",
      "| 13.9|       351.0|148|   243|   8.0|   3.25|           2|        3| 215.5| 78.5|  4540|        1|\n",
      "|13.27|       351.0|148|   243|   8.0|   3.26|           2|        3| 216.1| 78.5|  4715|        1|\n",
      "|13.77|       360.0|195|   295|  8.25|   3.15|           4|        3| 209.3| 77.4|  4215|        1|\n",
      "| 16.5|       360.0|165|   255|   8.5|   2.73|           4|        3| 185.2| 69.0|  3660|        1|\n",
      "+-----+------------+---+------+------+-------+------------+---------+------+-----+------+---------+\n",
      "\n"
     ]
    }
   ],
   "source": [
    "df_cars.show(30)"
   ]
  },
  {
   "cell_type": "markdown",
   "metadata": {},
   "source": [
    "## Funciones estadísticas"
   ]
  },
  {
   "cell_type": "code",
   "execution_count": 11,
   "metadata": {},
   "outputs": [
    {
     "name": "stdout",
     "output_type": "stream",
     "text": [
      "+-------+------------------+------------------+------------------+----------------+------------------+------------------+-----------------+------------------+------------------+-----------------+-----------------+-------------------+\n",
      "|summary|               mpg|      displacement|                hp|          torque|            CRatio|           RARatio|     CarbBarrells|         NoOfSpeed|            length|            width|           weight|          automatic|\n",
      "+-------+------------------+------------------+------------------+----------------+------------------+------------------+-----------------+------------------+------------------+-----------------+-----------------+-------------------+\n",
      "|  count|                30|                30|                30|              30|                30|                30|               30|                30|                30|               30|               30|                 30|\n",
      "|   mean|20.038333333333334| 286.0466666666667|136.96666666666667|           217.9| 8.313333333333334|3.0589999999999997|2.566666666666667|3.3333333333333335|192.34000000000003|            71.42|           3625.8| 0.7333333333333333|\n",
      "| stddev| 6.267334627521761|116.23704891397529| 44.65073913998654|83.0697048391829|0.2772815490999435|0.5290808555638146|1.072648457158112|0.6608945522512667|21.031005026241445|5.678477212094443|940.9677117110652|0.44977644510880366|\n",
      "|    min|              11.2|              85.3|                70|              81|               8.0|              2.45|                1|                 3|             155.7|             61.8|             1905|                  0|\n",
      "|    max|              36.5|             500.0|               223|             366|               9.0|               4.3|                4|                 5|             231.0|             79.8|             5430|                  1|\n",
      "+-------+------------------+------------------+------------------+----------------+------------------+------------------+-----------------+------------------+------------------+-----------------+-----------------+-------------------+\n",
      "\n",
      "+-------+------------------+------------------+-----------------+-------------------+\n",
      "|summary|               mpg|                hp|           weight|          automatic|\n",
      "+-------+------------------+------------------+-----------------+-------------------+\n",
      "|  count|                30|                30|               30|                 30|\n",
      "|   mean|20.038333333333334|136.96666666666667|           3625.8| 0.7333333333333333|\n",
      "| stddev| 6.267334627521761| 44.65073913998654|940.9677117110652|0.44977644510880366|\n",
      "|    min|              11.2|                70|             1905|                  0|\n",
      "|    max|              36.5|               223|             5430|                  1|\n",
      "+-------+------------------+------------------+-----------------+-------------------+\n",
      "\n"
     ]
    }
   ],
   "source": [
    "df_cars.describe().show()\n",
    "df_cars.describe(\"mpg\",\"hp\",\"weight\",\"automatic\").show()"
   ]
  },
  {
   "cell_type": "code",
   "execution_count": 12,
   "metadata": {},
   "outputs": [
    {
     "name": "stdout",
     "output_type": "stream",
     "text": [
      "hp to weight : Correlation = 0.8879\n",
      "hp to weight : Covariance = 37304.2345\n"
     ]
    }
   ],
   "source": [
    "# Correlaciones/Covarianzas\n",
    "cor1 = df_cars.stat.corr(\"hp\",\"weight\",method=\"pearson\")\n",
    "print (\"hp to weight : Correlation = {0:.4f}\".format(cor1))\n",
    "# cor2 = df_cars.stat.corr(\"hp\",\"weight\",method=\"spearman\")\n",
    "# print \"hp to weight : Correlation = {0:.4f}\".format(cor2)\n",
    "cov = df_cars.stat.cov(\"hp\",\"weight\")\n",
    "print (\"hp to weight : Covariance = {0:.4f}\".format(cov))\n"
   ]
  },
  {
   "cell_type": "markdown",
   "metadata": {},
   "source": [
    "## Regresión lineal"
   ]
  },
  {
   "cell_type": "code",
   "execution_count": 17,
   "metadata": {},
   "outputs": [
    {
     "data": {
      "image/png": "[encoded data removed]",
      "text/plain": [
       "<Figure size 432x288 with 1 Axes>"
      ]
     },
     "metadata": {
      "needs_background": "light"
     },
     "output_type": "display_data"
    }
   ],
   "source": [
    "import matplotlib.pyplot as plt\n",
    "%matplotlib inline\n",
    "\n",
    "df_pandas = df_cars.toPandas() \n",
    "plt.plot( df_pandas [\"hp\"], df_pandas [\"weight\"],'bo' )\n",
    "plt.ylabel('Weight')\n",
    "plt.xlabel('Horsepower')\n",
    "plt.title(\"Car-Attributes\")\n",
    "plt.show()"
   ]
  },
  {
   "cell_type": "code",
   "execution_count": 18,
   "metadata": {},
   "outputs": [
    {
     "name": "stdout",
     "output_type": "stream",
     "text": [
      "+-----+------------+---+------+------+-------+------------+---------+------+-----+------+---------+--------------------+\n",
      "|  mpg|displacement| hp|torque|CRatio|RARatio|CarbBarrells|NoOfSpeed|length|width|weight|automatic|            features|\n",
      "+-----+------------+---+------+------+-------+------------+---------+------+-----+------+---------+--------------------+\n",
      "| 18.9|       350.0|165|   260|   8.0|   2.56|           4|        3| 200.3| 69.9|  3910|        1|[350.0,165.0,260....|\n",
      "| 17.0|       350.0|170|   275|   8.5|   2.56|           4|        3| 199.6| 72.9|  3860|        1|[350.0,170.0,275....|\n",
      "| 20.0|       250.0|105|   185|  8.25|   2.73|           1|        3| 196.7| 72.2|  3510|        1|[250.0,105.0,185....|\n",
      "|18.25|       351.0|143|   255|   8.0|    3.0|           2|        3| 199.9| 74.0|  3890|        1|[351.0,143.0,255....|\n",
      "|20.07|       225.0| 95|   170|   8.4|   2.76|           1|        3| 194.1| 71.8|  3365|        0|[225.0,95.0,170.0...|\n",
      "| 11.2|       440.0|215|   330|   8.2|   2.88|           4|        3| 184.5| 69.0|  4215|        1|[440.0,215.0,330....|\n",
      "|22.12|       231.0|110|   175|   8.0|   2.56|           2|        3| 179.3| 65.4|  3020|        1|[231.0,110.0,175....|\n",
      "|21.47|       262.0|110|   200|   8.5|   2.56|           2|        3| 179.3| 65.4|  3180|        1|[262.0,110.0,200....|\n",
      "| 34.7|        89.7| 70|    81|   8.2|    3.9|           2|        4| 155.7| 64.0|  1905|        0|[89.7,70.0,81.0,8...|\n",
      "| 30.4|        96.9| 75|    83|   9.0|    4.3|           2|        5| 165.2| 65.0|  2320|        0|[96.9,75.0,83.0,9...|\n",
      "| 16.5|       350.0|155|   250|   8.5|   3.08|           4|        3| 195.4| 74.4|  3885|        1|[350.0,155.0,250....|\n",
      "| 36.5|        85.3| 80|    83|   8.5|   3.89|           2|        4| 160.6| 62.2|  2009|        0|[85.3,80.0,83.0,8...|\n",
      "| 21.5|       171.0|109|   146|   8.2|   3.22|           2|        4| 170.4| 66.9|  2655|        0|[171.0,109.0,146....|\n",
      "| 19.7|       258.0|110|   195|   8.0|   3.08|           1|        3| 171.5| 77.0|  3375|        1|[258.0,110.0,195....|\n",
      "| 20.3|       140.0| 83|   109|   8.4|    3.4|           2|        4| 168.8| 69.4|  2700|        0|[140.0,83.0,109.0...|\n",
      "| 17.8|       302.0|129|   220|   8.0|    3.0|           2|        3| 199.9| 74.0|  3890|        1|[302.0,129.0,220....|\n",
      "|14.39|       500.0|190|   360|   8.5|   2.73|           4|        3| 224.1| 79.8|  5290|        1|[500.0,190.0,360....|\n",
      "|14.89|       440.0|215|   330|   8.2|   2.71|           4|        3| 231.0| 79.7|  5185|        1|[440.0,215.0,330....|\n",
      "| 17.8|       350.0|155|   250|   8.5|   3.08|           4|        3| 196.7| 72.2|  3910|        1|[350.0,155.0,250....|\n",
      "|16.41|       318.0|145|   255|   8.5|   2.45|           2|        3| 197.6| 71.0|  3660|        1|[318.0,145.0,255....|\n",
      "+-----+------------+---+------+------+-------+------------+---------+------+-----+------+---------+--------------------+\n",
      "only showing top 20 rows\n",
      "\n"
     ]
    }
   ],
   "source": [
    "# Features (Modelamos mpg a partir del resto de datos)\n",
    "from pyspark.ml.feature import VectorAssembler\n",
    "\n",
    "\n",
    "assembler = VectorAssembler(\n",
    "    inputCols=[\"displacement\",\"hp\",\"torque\",\"CRatio\",\"RARatio\",\"CarbBarrells\",\"NoOfSpeed\",\"length\",\"width\",\"weight\",\"automatic\"],\n",
    "    outputCol=\"features\")\n",
    "\n",
    "df_cars_features = assembler.transform(df_cars)\n",
    "df_cars_features.show()"
   ]
  },
  {
   "cell_type": "code",
   "execution_count": 19,
   "metadata": {},
   "outputs": [
    {
     "name": "stdout",
     "output_type": "stream",
     "text": [
      "+-----+--------------------+\n",
      "|  mpg|            features|\n",
      "+-----+--------------------+\n",
      "| 11.2|[440.0,215.0,330....|\n",
      "|13.27|[351.0,148.0,243....|\n",
      "|13.77|[360.0,195.0,295....|\n",
      "| 13.9|[351.0,148.0,243....|\n",
      "|14.39|[500.0,190.0,360....|\n",
      "|16.41|[318.0,145.0,255....|\n",
      "| 16.5|[360.0,165.0,255....|\n",
      "| 17.0|[350.0,170.0,275....|\n",
      "| 17.8|[302.0,129.0,220....|\n",
      "| 17.8|[350.0,155.0,250....|\n",
      "| 18.9|[350.0,165.0,260....|\n",
      "| 19.7|[258.0,110.0,195....|\n",
      "|19.73|[318.0,140.0,255....|\n",
      "| 20.0|[250.0,105.0,185....|\n",
      "|20.07|[225.0,95.0,170.0...|\n",
      "|21.47|[262.0,110.0,200....|\n",
      "|21.47|[360.0,180.0,290....|\n",
      "| 21.5|[171.0,109.0,146....|\n",
      "|23.54|[231.0,110.0,175....|\n",
      "| 23.9|[133.6,96.0,120.0...|\n",
      "+-----+--------------------+\n",
      "only showing top 20 rows\n",
      "\n",
      "+-----+--------------------+\n",
      "|  mpg|            features|\n",
      "+-----+--------------------+\n",
      "|13.27|[460.0,223.0,366....|\n",
      "|14.89|[440.0,215.0,330....|\n",
      "| 16.5|[350.0,155.0,250....|\n",
      "|18.25|[351.0,143.0,255....|\n",
      "| 20.3|[140.0,83.0,109.0...|\n",
      "|22.12|[231.0,110.0,175....|\n",
      "| 36.5|[85.3,80.0,83.0,8...|\n",
      "+-----+--------------------+\n",
      "\n"
     ]
    }
   ],
   "source": [
    "# Split data\n",
    "train, test = df_cars_features.select(\"mpg\",\"features\").randomSplit([0.8,0.2], seed=42)\n",
    "train.show()\n",
    "test.show()"
   ]
  },
  {
   "cell_type": "code",
   "execution_count": 20,
   "metadata": {
    "scrolled": false
   },
   "outputs": [],
   "source": [
    "# Train model\n",
    "from pyspark.ml.regression import LinearRegression\n",
    "lr = LinearRegression(labelCol=\"mpg\", maxIter=100, regParam=0.3, elasticNetParam=0.8)\n",
    "model = lr.fit(train)"
   ]
  },
  {
   "cell_type": "code",
   "execution_count": 21,
   "metadata": {},
   "outputs": [
    {
     "name": "stdout",
     "output_type": "stream",
     "text": [
      "[-0.020094745260189763,-0.02187432039558865,0.0,2.8596093092681545,0.0,0.0,0.1920895876683277,0.0,0.0,-0.0019722838146656306,0.0]\n",
      "11.216768509192315\n",
      "numIterations: 92\n",
      "Iteration Summary History: [0.5, 0.4005607819922413, 0.1507950452713826, 0.1480506776872756, 0.1372029038675859, 0.13619773650659617, 0.13462323237061233, 0.1345102367883969, 0.134406020406936, 0.13432715021263553, 0.13419944409424905, 0.13407470495203783, 0.13401267117783958, 0.13385626494312694, 0.1337819117419502, 0.13372681130641476, 0.13361262101895627, 0.1335946467023359, 0.13355851239893118, 0.13354612724147452, 0.13353078415407144, 0.13352176256582232, 0.13351559020993556, 0.13350476662822416, 0.13349539514635644, 0.13349224359651002, 0.133474773629811, 0.13345981063340426, 0.13341647174368476, 0.13340564080143263, 0.13339188617102843, 0.13338138240865893, 0.1333637709388418, 0.13335904831465706, 0.13334284256157247, 0.13333808576117878, 0.13333452629428347, 0.1333058578354482, 0.13328554378486585, 0.1332255570249746, 0.1331844593948627, 0.13318327940374158, 0.13318159245676683, 0.13317873297295268, 0.1331780836604424, 0.1331770945530784, 0.13317629135236864, 0.13317369192490888, 0.13317298342999187, 0.13317235869667035, 0.13317100576669133, 0.1331623671855653, 0.1331550552787917, 0.13315264926987944, 0.1331481346051397, 0.13314742651273936, 0.13314555440856057, 0.13314470754890045, 0.13314217160578862, 0.13313968559022532, 0.13313913579007183, 0.13313816371723025, 0.13313651522401643, 0.13313588505008273, 0.13313544103708685, 0.13313522009154974, 0.13313477582766275, 0.13313458246878454, 0.13313422695422, 0.13313396835739633, 0.1331338984159116, 0.13313384838178044, 0.13313381941267943, 0.13313378155760988, 0.13313372795840953, 0.13313362411950924, 0.13313360072895006, 0.13313356784766328, 0.13313352161145015, 0.13313350338117505, 0.1331334504171815, 0.13313343753273937, 0.1331334069810643, 0.1331334014909103, 0.13313338100171565, 0.13313336502139575, 0.13313335172608995, 0.1331333491437321, 0.1331333377893145, 0.1331333272131477, 0.1331333169389737, 0.13313331234255435, 0.13313330237271837]\n",
      "+--------------------+\n",
      "|           residuals|\n",
      "+--------------------+\n",
      "| -2.1839905298454756|\n",
      "| -1.8099385553203575|\n",
      "| -1.8020370240358368|\n",
      "| -1.5250882228868434|\n",
      "|  2.9271584838613034|\n",
      "| -2.9092521891997016|\n",
      "| -1.5377864803599586|\n",
      "| -0.7349055680507881|\n",
      "|-0.30732730768498584|\n",
      "|-0.16440618325133372|\n",
      "|   2.584141675338625|\n",
      "| -0.7228343512023194|\n",
      "|  1.7016977172349534|\n",
      "| -1.1416079275989617|\n",
      "|   -2.50764231257633|\n",
      "| -0.6868553686554364|\n",
      "|   5.209936707153403|\n",
      "| -2.8770073053156295|\n",
      "|  1.9336152870062264|\n",
      "|  -2.513602450471218|\n",
      "+--------------------+\n",
      "only showing top 20 rows\n",
      "\n",
      "RMSE: 2.488192970025698\n",
      "r2: 0.8164007180095704\n"
     ]
    },
    {
     "name": "stderr",
     "output_type": "stream",
     "text": [
      "/home/jesus/universidad/Infraestructuras_Computacionales/practicas/TP2/sparkenv/lib/python3.8/site-packages/pyspark/sql/context.py:125: FutureWarning: Deprecated in 3.0.0. Use SparkSession.builder.getOrCreate() instead.\n",
      "  warnings.warn(\n"
     ]
    }
   ],
   "source": [
    "print (model.coefficients) \n",
    "print (model.intercept)\n",
    "trSummary = model.summary\n",
    "print (\"numIterations: \" + str(trSummary.totalIterations))\n",
    "print (\"Iteration Summary History: \" + str(trSummary.objectiveHistory))\n",
    "trSummary.residuals.show()\n",
    "print (\"RMSE: \" + str(trSummary.rootMeanSquaredError))\n",
    "print (\"r2: \" + str(trSummary.r2))"
   ]
  },
  {
   "cell_type": "code",
   "execution_count": 22,
   "metadata": {},
   "outputs": [
    {
     "name": "stdout",
     "output_type": "stream",
     "text": [
      "+-----+--------------------+------------------+\n",
      "|  mpg|            features|        prediction|\n",
      "+-----+--------------------+------------------+\n",
      "|13.27|[460.0,223.0,366....| 9.838854364804599|\n",
      "|14.89|[440.0,215.0,330....|11.470875229619812|\n",
      "| 16.5|[350.0,155.0,250....|18.013713278617974|\n",
      "|18.25|[351.0,143.0,255....|16.816444304397447|\n",
      "| 20.3|[140.0,83.0,109.0...|  26.0518458288605|\n",
      "|22.12|[231.0,110.0,175....|21.665553227433744|\n",
      "| 36.5|[85.3,80.0,83.0,8...| 28.86546040264041|\n",
      "+-----+--------------------+------------------+\n",
      "\n"
     ]
    }
   ],
   "source": [
    "# Predict model\n",
    "predictions = model.transform(test)\n",
    "predictions.show()"
   ]
  },
  {
   "cell_type": "code",
   "execution_count": 23,
   "metadata": {},
   "outputs": [
    {
     "name": "stdout",
     "output_type": "stream",
     "text": [
      "Root Mean Squared Error = 4.1298\n",
      "Mean Squared Error = 17.0551\n"
     ]
    }
   ],
   "source": [
    "# Model evalluation\n",
    "from pyspark.ml.evaluation import RegressionEvaluator\n",
    "evaluator = RegressionEvaluator(labelCol=\"mpg\")\n",
    "rmse = evaluator.evaluate(predictions)\n",
    "print (\"Root Mean Squared Error = {0:.4f}\".format(rmse))\n",
    "evaluator.setMetricName(\"mse\")\n",
    "mse = evaluator.evaluate(predictions)\n",
    "print (\"Mean Squared Error = {0:.4f}\".format(mse))"
   ]
  }
 ],
 "metadata": {
  "kernelspec": {
   "display_name": "Python 3",
   "language": "python",
   "name": "python3"
  },
  "language_info": {
   "codemirror_mode": {
    "name": "ipython",
    "version": 3
   },
   "file_extension": ".py",
   "mimetype": "text/x-python",
   "name": "python",
   "nbconvert_exporter": "python",
   "pygments_lexer": "ipython3",
   "version": "3.8.10"
  }
 },
 "nbformat": 4,
 "nbformat_minor": 1
}
