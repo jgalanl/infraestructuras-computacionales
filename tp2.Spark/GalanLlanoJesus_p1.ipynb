{
 "cells": [
  {
   "cell_type": "markdown",
   "metadata": {},
   "source": [
    "## Infraestructuras Computacionales para el Procesamiento de Datos Masivos\n",
    "### Práctica del Módulo 2: Procesamiento paralelo basado en memoria con Apache Spark\n",
    "### Autor: Jesús Galán Llano\n",
    "#### Correo: jgalan279@alumno.uned.es"
   ]
  },
  {
   "cell_type": "markdown",
   "metadata": {},
   "source": [
    "##### Parte 1: Uso de Spark para análisis de datos, Dataframes"
   ]
  },
  {
   "cell_type": "markdown",
   "metadata": {},
   "source": [
    "Esta primera parte de la práctica consiste en utilizar PySpark para realizar procesamientos sobre un conjunto de datos proporcionado.\n",
    "En primer lugar, se importan las librerías necesarias. En este caso solamente se van a utilizar la librería SparkSession que permite utilizar los objetos SparkSession y SparkContext necesarios para realizar cualquier procesamiento de datos. Además, también se importa la librería functions que proporciona una serie de funciones útiles para el tratamiento de datos."
   ]
  },
  {
   "cell_type": "code",
   "execution_count": 1,
   "metadata": {},
   "outputs": [
    {
     "name": "stderr",
     "output_type": "stream",
     "text": [
      "21/12/10 01:43:59 WARN Utils: Your hostname, jesus-Aspire-A514-52 resolves to a loopback address: 127.0.1.1; using 192.168.1.54 instead (on interface wlp2s0)\n",
      "21/12/10 01:43:59 WARN Utils: Set SPARK_LOCAL_IP if you need to bind to another address\n",
      "WARNING: An illegal reflective access operation has occurred\n",
      "WARNING: Illegal reflective access by org.apache.spark.unsafe.Platform (file:/opt/spark/jars/spark-unsafe_2.12-3.2.0.jar) to constructor java.nio.DirectByteBuffer(long,int)\n",
      "WARNING: Please consider reporting this to the maintainers of org.apache.spark.unsafe.Platform\n",
      "WARNING: Use --illegal-access=warn to enable warnings of further illegal reflective access operations\n",
      "WARNING: All illegal access operations will be denied in a future release\n",
      "Using Spark's default log4j profile: org/apache/spark/log4j-defaults.properties\n",
      "Setting default log level to \"WARN\".\n",
      "To adjust logging level use sc.setLogLevel(newLevel). For SparkR, use setLogLevel(newLevel).\n",
      "21/12/10 01:43:59 WARN NativeCodeLoader: Unable to load native-hadoop library for your platform... using builtin-java classes where applicable\n"
     ]
    }
   ],
   "source": [
    "from pyspark.sql import SparkSession\n",
    "import pyspark.sql.functions as F\n",
    "\n",
    "spark = SparkSession.builder.appName('pt2').getOrCreate()\n",
    "sc = spark.sparkContext"
   ]
  },
  {
   "cell_type": "markdown",
   "metadata": {},
   "source": [
    "Se debe mencionar que la versión de Spark que se ha empleado es la 3.2.0. Esto es debido a que la versión de Python utilizada es la 3.8.10, que es la versión más reciente compatible con la versión de Spark mencionada. Para el desarrollo de esta práctica se ha creado un entorno virtual para facilitar la gestión de las dependecias de Python."
   ]
  },
  {
   "cell_type": "code",
   "execution_count": 2,
   "metadata": {},
   "outputs": [
    {
     "name": "stdout",
     "output_type": "stream",
     "text": [
      "Running Spark Version 3.2.0\n",
      "spark.app.name=pt2\n",
      "spark.master=local[*]\n",
      "spark.submit.deployMode=client\n",
      "spark.submit.pyFiles=\n",
      "spark.ui.showConsoleProgress=true\n"
     ]
    }
   ],
   "source": [
    "print(f'Running Spark Version {sc.version}')\n",
    "\n",
    "from pyspark.conf import SparkConf\n",
    "conf = SparkConf()\n",
    "print(conf.toDebugString())"
   ]
  },
  {
   "cell_type": "markdown",
   "metadata": {},
   "source": [
    "El primer paso consiste en cargar el conjunto de datos en un DataFrame de Spark. Como los datos de entrada están en formato csv utilizamos la función read.csv. Además, indicamos que elimine aquellas filas que no tengan el formato correcto de este tipo de archivos, que el esquema de datos se genera automáticamente y que el fichero contiene el nombre de las columnas. Inferir el esquema es una forma útil y rápida para comenzar a trabajar con los datos, pero requiere revisar qué tipos de datos se han determinado para cada columna."
   ]
  },
  {
   "cell_type": "code",
   "execution_count": 3,
   "metadata": {},
   "outputs": [
    {
     "name": "stderr",
     "output_type": "stream",
     "text": []
    }
   ],
   "source": [
    "df = spark.read.csv('dataset_descriptor.csv', mode=\"DROPMALFORMED\", inferSchema=True, header=True)"
   ]
  },
  {
   "cell_type": "markdown",
   "metadata": {},
   "source": [
    "Mostrar el schema heredado\n"
   ]
  },
  {
   "cell_type": "code",
   "execution_count": 4,
   "metadata": {},
   "outputs": [
    {
     "name": "stdout",
     "output_type": "stream",
     "text": [
      "root\n",
      " |-- ip_proto: double (nullable = true)\n",
      " |-- ip_len_mean: double (nullable = true)\n",
      " |-- ip_len_median: double (nullable = true)\n",
      " |-- ip_len_var: double (nullable = true)\n",
      " |-- ip_len_std: double (nullable = true)\n",
      " |-- ip_len_entropy: double (nullable = true)\n",
      " |-- ip_len_cv: double (nullable = true)\n",
      " |-- ip_len_cvq: double (nullable = true)\n",
      " |-- ip_len_rte: double (nullable = true)\n",
      " |-- ip_ttl_mean: double (nullable = true)\n",
      " |-- ip_ttl_median: double (nullable = true)\n",
      " |-- ip_ttl_var: double (nullable = true)\n",
      " |-- ip_ttl_std: double (nullable = true)\n",
      " |-- ip_ttl_entropy: double (nullable = true)\n",
      " |-- ip_ttl_cv: double (nullable = true)\n",
      " |-- ip_ttl_cvq: double (nullable = true)\n",
      " |-- ip_ttl_rte: double (nullable = true)\n",
      " |-- sport_mean: double (nullable = true)\n",
      " |-- sport_median: double (nullable = true)\n",
      " |-- sport_var: double (nullable = true)\n",
      " |-- sport_std: double (nullable = true)\n",
      " |-- sport_entropy: double (nullable = true)\n",
      " |-- sport_cv: double (nullable = true)\n",
      " |-- sport_cvq: double (nullable = true)\n",
      " |-- sport_rte: double (nullable = true)\n",
      " |-- dport_mean: double (nullable = true)\n",
      " |-- dport_median: double (nullable = true)\n",
      " |-- dport_var: double (nullable = true)\n",
      " |-- dport_std: double (nullable = true)\n",
      " |-- dport_entropy: double (nullable = true)\n",
      " |-- dport_cv: double (nullable = true)\n",
      " |-- dport_cvq: double (nullable = true)\n",
      " |-- dport_rte: double (nullable = true)\n",
      " |-- tcp_seq_median: double (nullable = true)\n",
      " |-- tcp_seq_mean: double (nullable = true)\n",
      " |-- tcp_seq_var: double (nullable = true)\n",
      " |-- tcp_seq_std: double (nullable = true)\n",
      " |-- tcp_seq_entropy: double (nullable = true)\n",
      " |-- tcp_seq_cv: double (nullable = true)\n",
      " |-- tcp_seq_cvq: double (nullable = true)\n",
      " |-- tcp_seq_rte: double (nullable = true)\n",
      " |-- tcp_ack_mean: double (nullable = true)\n",
      " |-- tcp_ack_median: double (nullable = true)\n",
      " |-- tcp_ack_var: double (nullable = true)\n",
      " |-- tcp_ack_std: double (nullable = true)\n",
      " |-- tcp_ack_entropy: double (nullable = true)\n",
      " |-- tcp_ack_cv: double (nullable = true)\n",
      " |-- tcp_ack_cvq: double (nullable = true)\n",
      " |-- tcp_ack_rte: double (nullable = true)\n",
      " |-- tcp_dataofs_mean: double (nullable = true)\n",
      " |-- tcp_dataofs_median: double (nullable = true)\n",
      " |-- tcp_dataofs_var: double (nullable = true)\n",
      " |-- tcp_dataofs_std: double (nullable = true)\n",
      " |-- tcp_dataofs_entropy: double (nullable = true)\n",
      " |-- tcp_dataofs_cv: double (nullable = true)\n",
      " |-- tcp_dataofs_cvq: double (nullable = true)\n",
      " |-- tcp_dataofs_rte: double (nullable = true)\n",
      " |-- tcp_flags_mean: double (nullable = true)\n",
      " |-- tcp_flags_median: double (nullable = true)\n",
      " |-- tcp_flags_var: double (nullable = true)\n",
      " |-- tcp_flags_std: double (nullable = true)\n",
      " |-- tcp_flags_entropy: double (nullable = true)\n",
      " |-- tcp_flags_cv: double (nullable = true)\n",
      " |-- tcp_flags_cvq: double (nullable = true)\n",
      " |-- tcp_flags_rte: double (nullable = true)\n",
      " |-- tcp_window_mean: double (nullable = true)\n",
      " |-- tcp_window_median: double (nullable = true)\n",
      " |-- tcp_window_var: double (nullable = true)\n",
      " |-- tcp_window_std: double (nullable = true)\n",
      " |-- tcp_window_entropy: double (nullable = true)\n",
      " |-- tcp_window_cv: double (nullable = true)\n",
      " |-- tcp_window_cvq: double (nullable = true)\n",
      " |-- tcp_window_rte: double (nullable = true)\n",
      " |-- Label1: string (nullable = true)\n",
      " |-- Label2: string (nullable = true)\n",
      " |-- Label3: string (nullable = true)\n",
      "\n"
     ]
    }
   ],
   "source": [
    "df.printSchema()"
   ]
  },
  {
   "cell_type": "markdown",
   "metadata": {},
   "source": [
    "Mostrar el número de registros del dataframe\n"
   ]
  },
  {
   "cell_type": "code",
   "execution_count": 5,
   "metadata": {},
   "outputs": [
    {
     "data": {
      "text/plain": [
       "45500"
      ]
     },
     "execution_count": 5,
     "metadata": {},
     "output_type": "execute_result"
    }
   ],
   "source": [
    "df.count()"
   ]
  },
  {
   "cell_type": "markdown",
   "metadata": {},
   "source": [
    "Q1. ¿Cuantas clases de tipo de tráfico hay clasificadas en el campo label1?\n",
    "\n",
    "Para responder a este pregunta primero obtenemos el subconjunto de datos relativo a la columna label1. Seguidamente, utilizamos la función distinct para obtener todos los elementos evitando los repetidos. "
   ]
  },
  {
   "cell_type": "code",
   "execution_count": 6,
   "metadata": {},
   "outputs": [
    {
     "name": "stdout",
     "output_type": "stream",
     "text": [
      "+-----------------+\n",
      "|           label1|\n",
      "+-----------------+\n",
      "|       http_flood|\n",
      "|   http_slow_body|\n",
      "|  http_slow_range|\n",
      "|           normal|\n",
      "|   http_slow_read|\n",
      "|http_slow_headers|\n",
      "|    tcp_ack_flood|\n",
      "|    tcp_fin_flood|\n",
      "|tcp_syn_ack_flood|\n",
      "|        udp_flood|\n",
      "|    tcp_syn_flood|\n",
      "+-----------------+\n",
      "\n"
     ]
    }
   ],
   "source": [
    "df.select(df['label1'])\\\n",
    "    .distinct()\\\n",
    "        .show()"
   ]
  },
  {
   "cell_type": "markdown",
   "metadata": {},
   "source": [
    "Q2. ¿Cuantas clases de tipo de tráfico hay clasificadas en el campo label3?\n",
    "\n",
    "La manera de proceder con esta cuestión es idéntica que la pregunta anterior, solo que se modifica la columna sobre la que operar.\n"
   ]
  },
  {
   "cell_type": "code",
   "execution_count": 7,
   "metadata": {},
   "outputs": [
    {
     "name": "stdout",
     "output_type": "stream",
     "text": [
      "+----------+\n",
      "|    label3|\n",
      "+----------+\n",
      "|http_flood|\n",
      "|    normal|\n",
      "| http_slow|\n",
      "| tcp_flood|\n",
      "| udp_flood|\n",
      "+----------+\n",
      "\n"
     ]
    }
   ],
   "source": [
    "df.select(df['label3'])\\\n",
    "    .distinct()\\\n",
    "        .show()"
   ]
  },
  {
   "cell_type": "markdown",
   "metadata": {},
   "source": [
    "Q3 ¿Que porcentaje de tráfico está catalogado como anormal? Entiendase por anormal aquel que no está etiquetado como normal. Los resultados para label1 y para label3 son idénticos\n",
    "\n",
    "Para resolver esta pregunta primero utilizamos el método filter que permite hacer una selección de los datos que cumplen una serie de condiciones. En este caso tenemos que filtrar el tráfico cuyo valor para la columna label1 sea distinto de normal. Tras esto, utilizamos la función count para calcular el número de filas de tráfico normal y el número total de filas del dataset. Con estos dos datos se realiza el cálculo del porcentaje."
   ]
  },
  {
   "cell_type": "code",
   "execution_count": 8,
   "metadata": {},
   "outputs": [
    {
     "data": {
      "text/plain": [
       "49.26"
      ]
     },
     "execution_count": 8,
     "metadata": {},
     "output_type": "execute_result"
    }
   ],
   "source": [
    "round(df.filter(df['label1'] != 'normal').count()\\\n",
    "         / df.count() * 100\\\n",
    "             , 2)"
   ]
  },
  {
   "cell_type": "markdown",
   "metadata": {},
   "source": [
    "Q4 Mostrar los porcentajes de trafico sobre el total asociados a cada tipo de etiqueta de tráfico (usar el campo genérico Label3 y no el detallado Label 1). Mostrar un diagrama con estos porcentajes (bar plot)\n",
    "\n",
    "En primer lugar, se agrupan los datos utilizando el campo label3 con la función groupBy. Seguidamente, se utiliza la función count para contar cuántos datos hay en cada etiqueta de tráfico. Para calcular el porcentaje se crea una nueva columna, percentage, y se utiliza el dato anterior y la cantidad de filas del dataset. Para evitar calcular más de una vez el número de filas se ha calculado antes este valor y se ha guardado en una variable. Por último, seleccionamos solamente los camopos que nos interesan con la función select.\n"
   ]
  },
  {
   "cell_type": "code",
   "execution_count": 9,
   "metadata": {},
   "outputs": [
    {
     "name": "stdout",
     "output_type": "stream",
     "text": [
      "+----------+----------+\n",
      "|    label3|percentage|\n",
      "+----------+----------+\n",
      "|http_flood|    0.7626|\n",
      "|    normal|   50.7429|\n",
      "| http_slow|    0.4022|\n",
      "| tcp_flood|   32.9407|\n",
      "| udp_flood|   15.1516|\n",
      "+----------+----------+\n",
      "\n"
     ]
    }
   ],
   "source": [
    "\n",
    "total_traffic = df.count()\n",
    "\n",
    "df.groupBy(df['label3'])\\\n",
    "    .count() \\\n",
    "        .withColumnRenamed('count', 'count_renamed') \\\n",
    "            .withColumn('percentage', F.round(F.col('count_renamed') / total_traffic * 100, scale=4)) \\\n",
    "                .select('label3', 'percentage') \\\n",
    "                    .show()"
   ]
  },
  {
   "cell_type": "markdown",
   "metadata": {},
   "source": [
    "Para mostrar los resultados de forma gráfica utilizamos la librería matplotlib. Con el fin de guardar los resultados en una variable utilizamos el método collect. "
   ]
  },
  {
   "cell_type": "code",
   "execution_count": 10,
   "metadata": {},
   "outputs": [
    {
     "data": {
      "image/png": "[encoded data removed]",
      "text/plain": [
       "<Figure size 432x288 with 1 Axes>"
      ]
     },
     "metadata": {
      "needs_background": "light"
     },
     "output_type": "display_data"
    }
   ],
   "source": [
    "import matplotlib.pyplot as plt\n",
    "\n",
    "q4 = df.groupBy(df['label3'])\\\n",
    "    .count() \\\n",
    "        .withColumnRenamed('count', 'count_renamed') \\\n",
    "            .withColumn('percentage', F.round(F.col('count_renamed') / total_traffic * 100, scale=4)) \\\n",
    "                .select('label3', 'percentage') \\\n",
    "                    .collect()\n",
    "\n",
    "indexes = list(range(len(q4)))\n",
    "values = [r['percentage'] for r in q4]\n",
    "labels = [r['label3'] for r in q4]\n",
    "\n",
    "plt.bar(indexes, values)\n",
    "labelidx = [i + 0.3 for i in indexes] \n",
    "plt.xticks(labelidx, labels)\n",
    "plt.show()"
   ]
  },
  {
   "cell_type": "markdown",
   "metadata": {},
   "source": [
    "Q5 Identificar que tipo de tráfico de red está incluido en el dataset (usar el campo ip_proto y convertir ese valor al real que debería tener, es decir, un entero en el rango definido por el IANA) https://www.iana.org/assignments/protocol-numbers/protocol-numbers.xhtml\n",
    "\n",
    "Para responder a esta pregunta primero seleccionamos solamente la columna que nos interesa, ip_proto, eliminando lo elementos duplicados. Una vez hecho esto, convertimos el dato al tipo de dato correcto especificado por el IANA, es decir, un número entero. Para ello multiplicamos este valor por 1000 y utilizamos la función cast para convertilo a entero. Finalmente, obtenemos dos resultados: 17, que identifica el tráfico TCP, y 6, que se corresponde con el tráfico UDP."
   ]
  },
  {
   "cell_type": "code",
   "execution_count": 11,
   "metadata": {},
   "outputs": [
    {
     "name": "stdout",
     "output_type": "stream",
     "text": [
      "+------------+\n",
      "|ip_proto_int|\n",
      "+------------+\n",
      "|          17|\n",
      "|           6|\n",
      "+------------+\n",
      "\n"
     ]
    }
   ],
   "source": [
    "\n",
    "df.select('ip_proto')\\\n",
    "    .distinct()\\\n",
    "        .withColumn('ip_proto_int', (df[\"ip_proto\"] * 1000).cast(\"int\"))\\\n",
    "            .select('ip_proto_int')\\\n",
    "                .show()"
   ]
  },
  {
   "cell_type": "markdown",
   "metadata": {},
   "source": [
    "Para evitar tener que hacer este cálculo en las consultas siguientes se actualiza el DataFrame creando una nueva columna, ip_proto_int, que contiene el valor correcto de tipo entero."
   ]
  },
  {
   "cell_type": "code",
   "execution_count": 12,
   "metadata": {},
   "outputs": [],
   "source": [
    "df = df.withColumn('ip_proto_int', (df[\"ip_proto\"] * 1000).cast(\"int\"))\n"
   ]
  },
  {
   "cell_type": "markdown",
   "metadata": {},
   "source": [
    "Q6 Calcular la cantidad total (suponer que el dato a aculumar para cada paquete es ip_len_mean) de bytes transmitidos agrupados por protocolo.\n",
    "\n",
    "En primer lugar, utilizamos la función groupBy para agrupar los datos respecto al nuevo campo ip_proto_int. Una vez hecho esto, empleamos la función sum para que calcule el sumatorio del campo ip_len_mean. Por último, seleccionamos solamente estas dos columnas."
   ]
  },
  {
   "cell_type": "code",
   "execution_count": 13,
   "metadata": {},
   "outputs": [
    {
     "name": "stdout",
     "output_type": "stream",
     "text": [
      "+------------+-----------------+\n",
      "|ip_proto_int| sum(ip_len_mean)|\n",
      "+------------+-----------------+\n",
      "|           6| 26867.1914740567|\n",
      "|          17|7064.346040678178|\n",
      "+------------+-----------------+\n",
      "\n"
     ]
    }
   ],
   "source": [
    "\n",
    "df.groupBy(df['ip_proto_int'])\\\n",
    "    .sum('ip_len_mean')\\\n",
    "        .select('ip_proto_int', 'sum(ip_len_mean)')\\\n",
    "            .show()"
   ]
  },
  {
   "cell_type": "markdown",
   "metadata": {},
   "source": [
    "Q7 Indicar cual es tráfico anómalo en UDP que usa más tráfico de red.Presentar los resultados en orden de mayor a menor.\n",
    "\n",
    "Para conestar a esta pregunta primero se realiza un filtrado de los datos utilizando la función filter seleccionando solamente el tráfico UDP. Seguidamente, se agrupan los resultados utilizando el campo label1 y se calcula el sumatorio del campo ip_len_mean. Finalmente, se utiliza la función desc para ordenar los resultados de mayor a menor tráfico de red.\n"
   ]
  },
  {
   "cell_type": "code",
   "execution_count": 14,
   "metadata": {},
   "outputs": [
    {
     "name": "stdout",
     "output_type": "stream",
     "text": [
      "+---------+------------------+\n",
      "|   Label1|   sum_ip_len_mean|\n",
      "+---------+------------------+\n",
      "|udp_flood|            6894.0|\n",
      "|   normal|170.34604067817844|\n",
      "+---------+------------------+\n",
      "\n"
     ]
    }
   ],
   "source": [
    "df.filter(df['ip_proto_int'] == 17)\\\n",
    "    .groupBy('Label1').agg(F.sum('ip_len_mean').alias('sum_ip_len_mean'))\\\n",
    "        .orderBy(F.desc('sum_ip_len_mean'))\\\n",
    "            .show()"
   ]
  },
  {
   "cell_type": "markdown",
   "metadata": {},
   "source": [
    "Q8 Indicar cual es tráfico anómalo en TCP que usa más tráfico de red. Presentar los resultados en orden de mayor a menor\n",
    "\n",
    "El razonamiento de esta pregunta es idéntica a la pregunta anterior, salvo que se modifica el filtro inicial. En este caso se selecciona el tráfico TCP."
   ]
  },
  {
   "cell_type": "code",
   "execution_count": 15,
   "metadata": {},
   "outputs": [
    {
     "name": "stdout",
     "output_type": "stream",
     "text": [
      "+-----------------+------------------+\n",
      "|           Label1|   sum_ip_len_mean|\n",
      "+-----------------+------------------+\n",
      "|           normal|11615.053998509025|\n",
      "|    tcp_syn_flood| 5713.195544936026|\n",
      "|tcp_syn_ack_flood| 5273.157952268173|\n",
      "|    tcp_ack_flood|            2000.0|\n",
      "|    tcp_fin_flood|            2000.0|\n",
      "|       http_flood| 90.88054677859463|\n",
      "|  http_slow_range| 44.20993791090954|\n",
      "|http_slow_headers|44.157370741482964|\n",
      "|   http_slow_read|43.283366733466934|\n",
      "|   http_slow_body|43.252756179024715|\n",
      "+-----------------+------------------+\n",
      "\n"
     ]
    }
   ],
   "source": [
    "df.filter((df['ip_proto_int'] == 6))\\\n",
    "    .groupBy('Label1').agg(F.sum('ip_len_mean').alias('sum_ip_len_mean'))\\\n",
    "        .orderBy(F.desc('sum_ip_len_mean'))\\\n",
    "            .show()"
   ]
  },
  {
   "cell_type": "markdown",
   "metadata": {},
   "source": [
    "##### Parte 2: Uso de Spark para análisis de datos, Spark SQL\n",
    "\n",
    "Esta segunda parte de la práctica consiste en contestar a las cuestiones anteriores, pero esta vez empleando Spark SQL."
   ]
  },
  {
   "cell_type": "markdown",
   "metadata": {},
   "source": [
    "En primer lugar, se importan las librerías necesarias y se crean los objetos SparkSession y SparkContext."
   ]
  },
  {
   "cell_type": "code",
   "execution_count": 16,
   "metadata": {},
   "outputs": [],
   "source": [
    "from pyspark.sql import SparkSession\n",
    "import pyspark.sql.functions as F\n",
    "\n",
    "spark = SparkSession.builder.appName('pt2').getOrCreate()\n",
    "sc = spark.sparkContext"
   ]
  },
  {
   "cell_type": "markdown",
   "metadata": {},
   "source": [
    "Seguidamente, leemos el dataset de la misma forma que en el primer apartado y analizamos el esquema de datos que se ha inferido.\n"
   ]
  },
  {
   "cell_type": "code",
   "execution_count": 17,
   "metadata": {},
   "outputs": [
    {
     "name": "stdout",
     "output_type": "stream",
     "text": [
      "root\n",
      " |-- ip_proto: double (nullable = true)\n",
      " |-- ip_len_mean: double (nullable = true)\n",
      " |-- ip_len_median: double (nullable = true)\n",
      " |-- ip_len_var: double (nullable = true)\n",
      " |-- ip_len_std: double (nullable = true)\n",
      " |-- ip_len_entropy: double (nullable = true)\n",
      " |-- ip_len_cv: double (nullable = true)\n",
      " |-- ip_len_cvq: double (nullable = true)\n",
      " |-- ip_len_rte: double (nullable = true)\n",
      " |-- ip_ttl_mean: double (nullable = true)\n",
      " |-- ip_ttl_median: double (nullable = true)\n",
      " |-- ip_ttl_var: double (nullable = true)\n",
      " |-- ip_ttl_std: double (nullable = true)\n",
      " |-- ip_ttl_entropy: double (nullable = true)\n",
      " |-- ip_ttl_cv: double (nullable = true)\n",
      " |-- ip_ttl_cvq: double (nullable = true)\n",
      " |-- ip_ttl_rte: double (nullable = true)\n",
      " |-- sport_mean: double (nullable = true)\n",
      " |-- sport_median: double (nullable = true)\n",
      " |-- sport_var: double (nullable = true)\n",
      " |-- sport_std: double (nullable = true)\n",
      " |-- sport_entropy: double (nullable = true)\n",
      " |-- sport_cv: double (nullable = true)\n",
      " |-- sport_cvq: double (nullable = true)\n",
      " |-- sport_rte: double (nullable = true)\n",
      " |-- dport_mean: double (nullable = true)\n",
      " |-- dport_median: double (nullable = true)\n",
      " |-- dport_var: double (nullable = true)\n",
      " |-- dport_std: double (nullable = true)\n",
      " |-- dport_entropy: double (nullable = true)\n",
      " |-- dport_cv: double (nullable = true)\n",
      " |-- dport_cvq: double (nullable = true)\n",
      " |-- dport_rte: double (nullable = true)\n",
      " |-- tcp_seq_median: double (nullable = true)\n",
      " |-- tcp_seq_mean: double (nullable = true)\n",
      " |-- tcp_seq_var: double (nullable = true)\n",
      " |-- tcp_seq_std: double (nullable = true)\n",
      " |-- tcp_seq_entropy: double (nullable = true)\n",
      " |-- tcp_seq_cv: double (nullable = true)\n",
      " |-- tcp_seq_cvq: double (nullable = true)\n",
      " |-- tcp_seq_rte: double (nullable = true)\n",
      " |-- tcp_ack_mean: double (nullable = true)\n",
      " |-- tcp_ack_median: double (nullable = true)\n",
      " |-- tcp_ack_var: double (nullable = true)\n",
      " |-- tcp_ack_std: double (nullable = true)\n",
      " |-- tcp_ack_entropy: double (nullable = true)\n",
      " |-- tcp_ack_cv: double (nullable = true)\n",
      " |-- tcp_ack_cvq: double (nullable = true)\n",
      " |-- tcp_ack_rte: double (nullable = true)\n",
      " |-- tcp_dataofs_mean: double (nullable = true)\n",
      " |-- tcp_dataofs_median: double (nullable = true)\n",
      " |-- tcp_dataofs_var: double (nullable = true)\n",
      " |-- tcp_dataofs_std: double (nullable = true)\n",
      " |-- tcp_dataofs_entropy: double (nullable = true)\n",
      " |-- tcp_dataofs_cv: double (nullable = true)\n",
      " |-- tcp_dataofs_cvq: double (nullable = true)\n",
      " |-- tcp_dataofs_rte: double (nullable = true)\n",
      " |-- tcp_flags_mean: double (nullable = true)\n",
      " |-- tcp_flags_median: double (nullable = true)\n",
      " |-- tcp_flags_var: double (nullable = true)\n",
      " |-- tcp_flags_std: double (nullable = true)\n",
      " |-- tcp_flags_entropy: double (nullable = true)\n",
      " |-- tcp_flags_cv: double (nullable = true)\n",
      " |-- tcp_flags_cvq: double (nullable = true)\n",
      " |-- tcp_flags_rte: double (nullable = true)\n",
      " |-- tcp_window_mean: double (nullable = true)\n",
      " |-- tcp_window_median: double (nullable = true)\n",
      " |-- tcp_window_var: double (nullable = true)\n",
      " |-- tcp_window_std: double (nullable = true)\n",
      " |-- tcp_window_entropy: double (nullable = true)\n",
      " |-- tcp_window_cv: double (nullable = true)\n",
      " |-- tcp_window_cvq: double (nullable = true)\n",
      " |-- tcp_window_rte: double (nullable = true)\n",
      " |-- Label1: string (nullable = true)\n",
      " |-- Label2: string (nullable = true)\n",
      " |-- Label3: string (nullable = true)\n",
      "\n"
     ]
    }
   ],
   "source": [
    "df = spark.read.csv('dataset_descriptor.csv', mode=\"DROPMALFORMED\", inferSchema=True, header=True)\n",
    "\n",
    "df.printSchema()\n"
   ]
  },
  {
   "cell_type": "markdown",
   "metadata": {},
   "source": [
    "Seguidamente, registramos el DataFrame como una tabla y creamos una vista temporal para trabajar sobre ella."
   ]
  },
  {
   "cell_type": "code",
   "execution_count": 18,
   "metadata": {},
   "outputs": [
    {
     "name": "stderr",
     "output_type": "stream",
     "text": [
      "/home/jesus/universidad/Infraestructuras_Computacionales/practicas/TP2/sparkenv/lib/python3.8/site-packages/pyspark/sql/dataframe.py:138: FutureWarning: Deprecated in 2.0, use createOrReplaceTempView instead.\n",
      "  warnings.warn(\n",
      "21/12/10 01:44:14 WARN package: Truncated the string representation of a plan since it was too large. This behavior can be adjusted by setting 'spark.sql.debug.maxToStringFields'.\n"
     ]
    }
   ],
   "source": [
    "df.registerTempTable(\"cyberattacks\")\n",
    "\n",
    "df.createOrReplaceTempView(\"cyberattacks\")"
   ]
  },
  {
   "cell_type": "markdown",
   "metadata": {},
   "source": [
    "Q1. ¿Cuantas clases de tipo de tráfico hay clasificadas en el campo label1?\n",
    "\n",
    "Para contestar a esta pregunta utilizamos el operador DISTINCT para eliminar los datos duplicados."
   ]
  },
  {
   "cell_type": "code",
   "execution_count": 19,
   "metadata": {},
   "outputs": [
    {
     "name": "stdout",
     "output_type": "stream",
     "text": [
      "+-----------------+\n",
      "|           Label1|\n",
      "+-----------------+\n",
      "|       http_flood|\n",
      "|   http_slow_body|\n",
      "|  http_slow_range|\n",
      "|           normal|\n",
      "|   http_slow_read|\n",
      "|http_slow_headers|\n",
      "|    tcp_ack_flood|\n",
      "|    tcp_fin_flood|\n",
      "|tcp_syn_ack_flood|\n",
      "|        udp_flood|\n",
      "|    tcp_syn_flood|\n",
      "+-----------------+\n",
      "\n"
     ]
    }
   ],
   "source": [
    "sql_statement = \"SELECT DISTINCT Label1 FROM cyberattacks\"\n",
    "sparksql_q1 = spark.sql(sql_statement)\n",
    "sparksql_q1.show()"
   ]
  },
  {
   "cell_type": "markdown",
   "metadata": {},
   "source": [
    "Q2. ¿Cuantas clases de tipo de tráfico hay clasificadas en el campo label3?\n",
    "\n",
    "Esta pregunta tiene el mismo razonamiento anterior, salvo que se ejecuta sobre el campo label3."
   ]
  },
  {
   "cell_type": "code",
   "execution_count": 20,
   "metadata": {},
   "outputs": [
    {
     "name": "stdout",
     "output_type": "stream",
     "text": [
      "+----------+\n",
      "|    label3|\n",
      "+----------+\n",
      "|http_flood|\n",
      "|    normal|\n",
      "| http_slow|\n",
      "| tcp_flood|\n",
      "| udp_flood|\n",
      "+----------+\n",
      "\n"
     ]
    }
   ],
   "source": [
    "sql_statement = \"SELECT DISTINCT label3 from cyberattacks\"\n",
    "sparksql_q2 = spark.sql(sql_statement)\n",
    "sparksql_q2.show()"
   ]
  },
  {
   "cell_type": "markdown",
   "metadata": {},
   "source": [
    "Q3 ¿Que porcentaje de tráfico está catalogado como anormal? Entiendase por anormal aquel que no está etiquetado como normal.\n",
    "\n",
    "Para conestar a esta pregunta realizamos un primer filtro para obtener el tráfico distinto del normal. Seguidamente, utilizamos la función count para obtener el número de filas que tienen un tráfico normal y calculamos el porcentaje sobre el total de filas."
   ]
  },
  {
   "cell_type": "code",
   "execution_count": 21,
   "metadata": {},
   "outputs": [
    {
     "name": "stdout",
     "output_type": "stream",
     "text": [
      "+-----------------------------+\n",
      "|percentage_traffic_not_normal|\n",
      "+-----------------------------+\n",
      "|                        49.26|\n",
      "+-----------------------------+\n",
      "\n"
     ]
    }
   ],
   "source": [
    "sql_statement = \"SELECT ROUND(COUNT(*) * 100.0 / (SELECT COUNT(*) FROM cyberattacks), 2) AS percentage_traffic_not_normal \\\n",
    "    FROM cyberattacks \\\n",
    "        WHERE label1 != 'normal';\" \\\n",
    "\n",
    "sparksql_q3 = spark.sql(sql_statement)\n",
    "sparksql_q3.show()"
   ]
  },
  {
   "cell_type": "markdown",
   "metadata": {},
   "source": [
    "Q4 Mostrar los porcentajes de trafico sobre el total asociados a cada tipo de etiqueta de tráfico (usar el campo genérico Label3 y no el detallado Label 1).Mostrar un diagrama con estos porcentajes (bar plot)\n",
    "\n",
    "Para responder a esta pregunta agrupamos los datos a través de la función GROUP BY utilizando el campo label3. Tras esto, calculamos el total de cada tipo de tráfico junto con el tráfico total para obtener su porcentaje correspondiente."
   ]
  },
  {
   "cell_type": "code",
   "execution_count": 22,
   "metadata": {},
   "outputs": [
    {
     "name": "stdout",
     "output_type": "stream",
     "text": [
      "+----------+-----------------------------+\n",
      "|    label3|percentage_traffic_not_normal|\n",
      "+----------+-----------------------------+\n",
      "|http_flood|                       0.7626|\n",
      "|    normal|                      50.7429|\n",
      "| http_slow|                       0.4022|\n",
      "| tcp_flood|                      32.9407|\n",
      "| udp_flood|                      15.1516|\n",
      "+----------+-----------------------------+\n",
      "\n"
     ]
    }
   ],
   "source": [
    "\n",
    "sql_statement = \"SELECT label3, ROUND(COUNT(*) * 100.0 / (SELECT COUNT(*) FROM cyberattacks), 4) AS percentage_traffic_not_normal \\\n",
    "    FROM cyberattacks \\\n",
    "        GROUP BY label3;\"\n",
    "\n",
    "sparksql_q4 = spark.sql(sql_statement)\n",
    "sparksql_q4.show()"
   ]
  },
  {
   "cell_type": "markdown",
   "metadata": {},
   "source": [
    "Para mostrar los resultados de forma gráfica utilizamos la librería matplotlib. Se debe convertir el DataFrame a un DataFrame de pandas para poder visualizarlo."
   ]
  },
  {
   "cell_type": "code",
   "execution_count": 23,
   "metadata": {},
   "outputs": [
    {
     "data": {
      "image/png": "[encoded data removed]",
      "text/plain": [
       "<Figure size 432x288 with 1 Axes>"
      ]
     },
     "metadata": {
      "needs_background": "light"
     },
     "output_type": "display_data"
    }
   ],
   "source": [
    "indexes = list(range(len(sparksql_q4.toPandas())))\n",
    "values = [r['percentage'] for r in q4]\n",
    "labels = [r['label3'] for r in q4]\n",
    "\n",
    "plt.bar(indexes, values)\n",
    "labelidx = [i + 0.3 for i in indexes] \n",
    "plt.xticks(labelidx, labels)\n",
    "plt.show()"
   ]
  },
  {
   "cell_type": "markdown",
   "metadata": {},
   "source": [
    "Q5 Identificar que tipo de tráfico de red está incluido en el dataset (usar el campo ip_proto y convertir ese valor al real que debería tener, es decir, un entero en el rango definido por el IANA)\n",
    "https://www.iana.org/assignments/protocol-numbers/protocol-numbers.xhtml\n",
    "\n",
    "Para contestar a esta pregunta utilizamos la función distinct para obtener los distintos protocolos. Una vez obtenidos, multiplicamos su valor por 1000 y convertimos el resultado a entero."
   ]
  },
  {
   "cell_type": "code",
   "execution_count": 24,
   "metadata": {},
   "outputs": [
    {
     "name": "stdout",
     "output_type": "stream",
     "text": [
      "+------------+\n",
      "|ip_proto_int|\n",
      "+------------+\n",
      "|           6|\n",
      "|          17|\n",
      "+------------+\n",
      "\n"
     ]
    }
   ],
   "source": [
    "\n",
    "sql_statement = \"select distinct CAST(ip_proto * 1000 AS int) AS ip_proto_int \\\n",
    "    from cyberattacks;\" \\\n",
    "\n",
    "sparksql_q5 = spark.sql(sql_statement)\n",
    "sparksql_q5.show()"
   ]
  },
  {
   "cell_type": "markdown",
   "metadata": {},
   "source": [
    "Para evitar volver a calcular este valor en las futuras consultas, se crea un nuevo dataset con todas las columnas anteriores más una nueva columna con el valor correcto del campo ip_proto. También se registra de nuevo la tabla y se crea una nueva vista.\n"
   ]
  },
  {
   "cell_type": "code",
   "execution_count": 25,
   "metadata": {},
   "outputs": [
    {
     "name": "stdout",
     "output_type": "stream",
     "text": [
      "-RECORD 0----------------------------------\n",
      " ip_proto            | 0.006               \n",
      " ip_len_mean         | 0.262966611188479   \n",
      " ip_len_median       | 0.110169491525424   \n",
      " ip_len_var          | 0.0890553991458792  \n",
      " ip_len_std          | 0.298421512538689   \n",
      " ip_len_entropy      | 0.00350492747587452 \n",
      " ip_len_cv           | 1.0                 \n",
      " ip_len_cvq          | 0.772428884026258   \n",
      " ip_len_rte          | 0.128256513026052   \n",
      " ip_ttl_mean         | 0.262966611188479   \n",
      " ip_ttl_median       | 0.110169491525424   \n",
      " ip_ttl_var          | 0.0890553991458792  \n",
      " ip_ttl_std          | 0.298421512538689   \n",
      " ip_ttl_entropy      | 0.00350492747587452 \n",
      " ip_ttl_cv           | 1.0                 \n",
      " ip_ttl_cvq          | 0.772428884026258   \n",
      " ip_ttl_rte          | 0.128256513026052   \n",
      " sport_mean          | 0.996074644258336   \n",
      " sport_median        | 0.998106284767428   \n",
      " sport_var           | 1.89306485398115E-5 \n",
      " sport_std           | 0.00435093651296034 \n",
      " sport_entropy       | 0.00783952162849506 \n",
      " sport_cv            | 0.00436808279182731 \n",
      " sport_cvq           | 0.00471036041394081 \n",
      " sport_rte           | 0.100200400801603   \n",
      " dport_mean          | 1.0                 \n",
      " dport_median        | 1.0                 \n",
      " dport_var           | 0.0                 \n",
      " dport_std           | 0.0                 \n",
      " dport_entropy       | 0.0                 \n",
      " dport_cv            | 0.0                 \n",
      " dport_cvq           | 0.0                 \n",
      " dport_rte           | 0.00200400801603206 \n",
      " tcp_seq_median      | 0.490815980956112   \n",
      " tcp_seq_mean        | 0.469613039354611   \n",
      " tcp_seq_var         | 0.106273488663984   \n",
      " tcp_seq_std         | 0.32599614823489    \n",
      " tcp_seq_entropy     | 0.0113421948663545  \n",
      " tcp_seq_cv          | 0.664192204173645   \n",
      " tcp_seq_cvq         | 0.890895034070561   \n",
      " tcp_seq_rte         | 0.601202404809619   \n",
      " tcp_ack_mean        | 0.408051350972827   \n",
      " tcp_ack_median      | 0.384694929278806   \n",
      " tcp_ack_var         | 0.110009236003102   \n",
      " tcp_ack_std         | 0.331676402541848   \n",
      " tcp_ack_entropy     | 0.00949273635575093 \n",
      " tcp_ack_cv          | 0.812830056195391   \n",
      " tcp_ack_cvq         | 1.0                 \n",
      " tcp_ack_rte         | 0.402805611222445   \n",
      " tcp_dataofs_mean    | 0.840080160320641   \n",
      " tcp_dataofs_median  | 0.8                 \n",
      " tcp_dataofs_var     | 0.00642248352125938 \n",
      " tcp_dataofs_std     | 0.0801403988089614  \n",
      " tcp_dataofs_entropy | 0.00100392294746665 \n",
      " tcp_dataofs_cv      | 0.0953961331242169  \n",
      " tcp_dataofs_cvq     | 0.111111111111111   \n",
      " tcp_dataofs_rte     | 0.00400801603206413 \n",
      " tcp_flags_mean      | 0.624916499665999   \n",
      " tcp_flags_median    | 0.666666666666667   \n",
      " tcp_flags_var       | 0.0892423792252063  \n",
      " tcp_flags_std       | 0.298734630107067   \n",
      " tcp_flags_entropy   | 0.00267136166466563 \n",
      " tcp_flags_cv        | 0.478039274473843   \n",
      " tcp_flags_cvq       | 0.846153846153846   \n",
      " tcp_flags_rte       | 0.00801603206412826 \n",
      " tcp_window_mean     | 0.206972094874681   \n",
      " tcp_window_median   | 0.0085958904109589  \n",
      " tcp_window_var      | 0.157933972390619   \n",
      " tcp_window_std      | 0.39740907436874    \n",
      " tcp_window_entropy  | 0.00211461917723791 \n",
      " tcp_window_cv       | 1.0                 \n",
      " tcp_window_cvq      | 0.984437119847769   \n",
      " tcp_window_rte      | 0.00601202404809619 \n",
      " Label1              | http_flood          \n",
      " Label2              | attack              \n",
      " Label3              | http_flood          \n",
      " ip_proto_int        | 6                   \n",
      "-RECORD 1----------------------------------\n",
      " ip_proto            | 0.006               \n",
      " ip_len_mean         | 0.263974300532395   \n",
      " ip_len_median       | 0.111587982832618   \n",
      " ip_len_var          | 0.0884909892092427  \n",
      " ip_len_std          | 0.297474350506464   \n",
      " ip_len_entropy      | 0.0034906764953354  \n",
      " ip_len_cv           | 1.0                 \n",
      " ip_len_cvq          | 0.770419426048565   \n",
      " ip_len_rte          | 0.12625250501002    \n",
      " ip_ttl_mean         | 0.263974300532395   \n",
      " ip_ttl_median       | 0.111587982832618   \n",
      " ip_ttl_var          | 0.0884909892092427  \n",
      " ip_ttl_std          | 0.297474350506464   \n",
      " ip_ttl_entropy      | 0.0034906764953354  \n",
      " ip_ttl_cv           | 1.0                 \n",
      " ip_ttl_cvq          | 0.770419426048565   \n",
      " ip_ttl_rte          | 0.12625250501002    \n",
      " sport_mean          | 0.995513485600042   \n",
      " sport_median        | 0.996749408983452   \n",
      " sport_var           | 2.39026802867322E-5 \n",
      " sport_std           | 0.00488903674426079 \n",
      " sport_entropy       | 0.00783952162849506 \n",
      " sport_cv            | 0.00491107033202463 \n",
      " sport_cvq           | 0.00522969037855827 \n",
      " sport_rte           | 0.100200400801603   \n",
      " dport_mean          | 1.0                 \n",
      " dport_median        | 1.0                 \n",
      " dport_var           | 0.0                 \n",
      " dport_std           | 0.0                 \n",
      " dport_entropy       | 0.0                 \n",
      " dport_cv            | 0.0                 \n",
      " dport_cvq           | 0.0                 \n",
      " dport_rte           | 0.00200400801603206 \n",
      " tcp_seq_median      | 0.576450051749074   \n",
      " tcp_seq_mean        | 0.578042146113205   \n",
      " tcp_seq_var         | 0.0690461211135023  \n",
      " tcp_seq_std         | 0.262766286105167   \n",
      " tcp_seq_entropy     | 0.0113421948663545  \n",
      " tcp_seq_cv          | 0.455835306646043   \n",
      " tcp_seq_cvq         | 0.646938266587073   \n",
      " tcp_seq_rte         | 0.601202404809619   \n",
      " tcp_ack_mean        | 0.392836700268966   \n",
      " tcp_ack_median      | 0.317261042749511   \n",
      " tcp_ack_var         | 0.10404925019263    \n",
      " tcp_ack_std         | 0.322566660076069   \n",
      " tcp_ack_entropy     | 0.00949273635575093 \n",
      " tcp_ack_cv          | 0.821121498717446   \n",
      " tcp_ack_cvq         | 1.0                 \n",
      " tcp_ack_rte         | 0.402805611222445   \n",
      " tcp_dataofs_mean    | 0.840080160320641   \n",
      " tcp_dataofs_median  | 0.8                 \n",
      " tcp_dataofs_var     | 0.00642248352125938 \n",
      " tcp_dataofs_std     | 0.0801403988089614  \n",
      " tcp_dataofs_entropy | 0.00100392294746665 \n",
      " tcp_dataofs_cv      | 0.0953961331242169  \n",
      " tcp_dataofs_cvq     | 0.111111111111111   \n",
      " tcp_dataofs_rte     | 0.00400801603206413 \n",
      " tcp_flags_mean      | 0.624832999331997   \n",
      " tcp_flags_median    | 0.666666666666667   \n",
      " tcp_flags_var       | 0.0892318997656178  \n",
      " tcp_flags_std       | 0.298717089845254   \n",
      " tcp_flags_entropy   | 0.00266856786161284 \n",
      " tcp_flags_cv        | 0.478075085926335   \n",
      " tcp_flags_cvq       | 0.846153846153846   \n",
      " tcp_flags_rte       | 0.00801603206412826 \n",
      " tcp_window_mean     | 0.206972094874681   \n",
      " tcp_window_median   | 0.0085958904109589  \n",
      " tcp_window_var      | 0.157933972390619   \n",
      " tcp_window_std      | 0.39740907436874    \n",
      " tcp_window_entropy  | 0.00211461917723791 \n",
      " tcp_window_cv       | 1.0                 \n",
      " tcp_window_cvq      | 0.984437119847769   \n",
      " tcp_window_rte      | 0.00601202404809619 \n",
      " Label1              | http_flood          \n",
      " Label2              | attack              \n",
      " Label3              | http_flood          \n",
      " ip_proto_int        | 6                   \n",
      "-RECORD 2----------------------------------\n",
      " ip_proto            | 0.006               \n",
      " ip_len_mean         | 0.267897864694907   \n",
      " ip_len_median       | 0.112068965517241   \n",
      " ip_len_var          | 0.0923871214961548  \n",
      " ip_len_std          | 0.303952498749648   \n",
      " ip_len_entropy      | 0.00353066321051749 \n",
      " ip_len_cv           | 1.0                 \n",
      " ip_len_cvq          | 0.77292576419214    \n",
      " ip_len_rte          | 0.132264529058116   \n",
      " ip_ttl_mean         | 0.267897864694907   \n",
      " ip_ttl_median       | 0.112068965517241   \n",
      " ip_ttl_var          | 0.0923871214961548  \n",
      " ip_ttl_std          | 0.303952498749648   \n",
      " ip_ttl_entropy      | 0.00353066321051749 \n",
      " ip_ttl_cv           | 1.0                 \n",
      " ip_ttl_cvq          | 0.77292576419214    \n",
      " ip_ttl_rte          | 0.132264529058116   \n",
      " sport_mean          | 0.994825955463388   \n",
      " sport_median        | 0.998583736575003   \n",
      " sport_var           | 3.19299116329848E-5 \n",
      " sport_std           | 0.00565065585865789 \n",
      " sport_entropy       | 0.00783952162849506 \n",
      " sport_cv            | 0.00568004466271272 \n",
      " sport_cvq           | 0.00598560604261188 \n",
      " sport_rte           | 0.100200400801603   \n",
      " dport_mean          | 1.0                 \n",
      " dport_median        | 1.0                 \n",
      " dport_var           | 0.0                 \n",
      " dport_std           | 0.0                 \n",
      " dport_entropy       | 0.0                 \n",
      " dport_cv            | 0.0                 \n",
      " dport_cvq           | 0.0                 \n",
      " dport_rte           | 0.00200400801603206 \n",
      " tcp_seq_median      | 0.507075995643927   \n",
      " tcp_seq_mean        | 0.483425462846416   \n",
      " tcp_seq_var         | 0.0755110933073355  \n",
      " tcp_seq_std         | 0.274792818878761   \n",
      " tcp_seq_entropy     | 0.0113421948663545  \n",
      " tcp_seq_cv          | 0.541916441005665   \n",
      " tcp_seq_cvq         | 0.782399219672998   \n",
      " tcp_seq_rte         | 0.601202404809619   \n",
      " tcp_ack_mean        | 0.424176052057533   \n",
      " tcp_ack_median      | 0.401446102479727   \n",
      " tcp_ack_var         | 0.121924179992642   \n",
      " tcp_ack_std         | 0.349176431038297   \n",
      " tcp_ack_entropy     | 0.00949273635575093 \n",
      " tcp_ack_cv          | 0.823187516939159   \n",
      " tcp_ack_cvq         | 1.0                 \n",
      " tcp_ack_rte         | 0.402805611222445   \n",
      " tcp_dataofs_mean    | 0.840080160320641   \n",
      " tcp_dataofs_median  | 0.8                 \n",
      " tcp_dataofs_var     | 0.00642248352125938 \n",
      " tcp_dataofs_std     | 0.0801403988089614  \n",
      " tcp_dataofs_entropy | 0.00100392294746665 \n",
      " tcp_dataofs_cv      | 0.0953961331242169  \n",
      " tcp_dataofs_cvq     | 0.111111111111111   \n",
      " tcp_dataofs_rte     | 0.00400801603206413 \n",
      " tcp_flags_mean      | 0.624916499665999   \n",
      " tcp_flags_median    | 0.666666666666667   \n",
      " tcp_flags_var       | 0.0892423792252063  \n",
      " tcp_flags_std       | 0.298734630107067   \n",
      " tcp_flags_entropy   | 0.00267136166466563 \n",
      " tcp_flags_cv        | 0.478039274473843   \n",
      " tcp_flags_cvq       | 0.846153846153846   \n",
      " tcp_flags_rte       | 0.00801603206412826 \n",
      " tcp_window_mean     | 0.206973604743734   \n",
      " tcp_window_median   | 0.0085958904109589  \n",
      " tcp_window_var      | 0.157933371001393   \n",
      " tcp_window_std      | 0.397408317730509   \n",
      " tcp_window_entropy  | 0.00211461917723791 \n",
      " tcp_window_cv       | 1.0                 \n",
      " tcp_window_cvq      | 0.984437119847769   \n",
      " tcp_window_rte      | 0.00601202404809619 \n",
      " Label1              | http_flood          \n",
      " Label2              | attack              \n",
      " Label3              | http_flood          \n",
      " ip_proto_int        | 6                   \n",
      "-RECORD 3----------------------------------\n",
      " ip_proto            | 0.006               \n",
      " ip_len_mean         | 0.262924135208318   \n",
      " ip_len_median       | 0.11134903640257    \n",
      " ip_len_var          | 0.0877590582433658  \n",
      " ip_len_std          | 0.296241553876842   \n",
      " ip_len_entropy      | 0.00351816371535149 \n",
      " ip_len_cv           | 1.0                 \n",
      " ip_len_cvq          | 0.767960731816154   \n",
      " ip_len_rte          | 0.132264529058116   \n",
      " ip_ttl_mean         | 0.262924135208318   \n",
      " ip_ttl_median       | 0.11134903640257    \n",
      " ip_ttl_var          | 0.0877590582433658  \n",
      " ip_ttl_std          | 0.296241553876842   \n",
      " ip_ttl_entropy      | 0.00351816371535149 \n",
      " ip_ttl_cv           | 1.0                 \n",
      " ip_ttl_cvq          | 0.767960731816154   \n",
      " ip_ttl_rte          | 0.132264529058116   \n",
      " sport_mean          | 0.994323512112005   \n",
      " sport_median        | 0.998527159184635   \n",
      " sport_var           | 4.54385718681927E-5 \n",
      " sport_std           | 0.00674081388766911 \n",
      " sport_entropy       | 0.00783952162849506 \n",
      " sport_cv            | 0.00677929648203853 \n",
      " sport_cvq           | 0.00710415269477064 \n",
      " sport_rte           | 0.100200400801603   \n",
      " dport_mean          | 1.0                 \n",
      " dport_median        | 1.0                 \n",
      " dport_var           | 0.0                 \n",
      " dport_std           | 0.0                 \n",
      " dport_entropy       | 0.0                 \n",
      " dport_cv            | 0.0                 \n",
      " dport_cvq           | 0.0                 \n",
      " dport_rte           | 0.00200400801603206 \n",
      " tcp_seq_median      | 0.512212577133104   \n",
      " tcp_seq_mean        | 0.49986955969146    \n",
      " tcp_seq_var         | 0.0926127261969481  \n",
      " tcp_seq_std         | 0.304323390814686   \n",
      " tcp_seq_entropy     | 0.0113421948663545  \n",
      " tcp_seq_cv          | 0.594134943968008   \n",
      " tcp_seq_cvq         | 0.823053719805963   \n",
      " tcp_seq_rte         | 0.601202404809619   \n",
      " tcp_ack_mean        | 0.417267242488873   \n",
      " tcp_ack_median      | 0.460200561225999   \n",
      " tcp_ack_var         | 0.102621182300514   \n",
      " tcp_ack_std         | 0.320345410924698   \n",
      " tcp_ack_entropy     | 0.00949273635575093 \n",
      " tcp_ack_cv          | 0.767722404984235   \n",
      " tcp_ack_cvq         | 1.0                 \n",
      " tcp_ack_rte         | 0.402805611222445   \n",
      " tcp_dataofs_mean    | 0.840080160320641   \n",
      " tcp_dataofs_median  | 0.8                 \n",
      " tcp_dataofs_var     | 0.00642248352125938 \n",
      " tcp_dataofs_std     | 0.0801403988089614  \n",
      " tcp_dataofs_entropy | 0.00100392294746665 \n",
      " tcp_dataofs_cv      | 0.0953961331242169  \n",
      " tcp_dataofs_cvq     | 0.111111111111111   \n",
      " tcp_dataofs_rte     | 0.00400801603206413 \n",
      " tcp_flags_mean      | 0.624832999331997   \n",
      " tcp_flags_median    | 0.666666666666667   \n",
      " tcp_flags_var       | 0.0892318997656178  \n",
      " tcp_flags_std       | 0.298717089845254   \n",
      " tcp_flags_entropy   | 0.00266856786161284 \n",
      " tcp_flags_cv        | 0.478075085926335   \n",
      " tcp_flags_cvq       | 0.846153846153846   \n",
      " tcp_flags_rte       | 0.00801603206412826 \n",
      " tcp_window_mean     | 0.206972094874681   \n",
      " tcp_window_median   | 0.0085958904109589  \n",
      " tcp_window_var      | 0.157933972390619   \n",
      " tcp_window_std      | 0.39740907436874    \n",
      " tcp_window_entropy  | 0.00211461917723791 \n",
      " tcp_window_cv       | 1.0                 \n",
      " tcp_window_cvq      | 0.984437119847769   \n",
      " tcp_window_rte      | 0.00601202404809619 \n",
      " Label1              | http_flood          \n",
      " Label2              | attack              \n",
      " Label3              | http_flood          \n",
      " ip_proto_int        | 6                   \n",
      "-RECORD 4----------------------------------\n",
      " ip_proto            | 0.006               \n",
      " ip_len_mean         | 0.263094565198774   \n",
      " ip_len_median       | 0.111111111111111   \n",
      " ip_len_var          | 0.0879833325520576  \n",
      " ip_len_std          | 0.296619845175702   \n",
      " ip_len_entropy      | 0.00355639894516047 \n",
      " ip_len_cv           | 1.0                 \n",
      " ip_len_cvq          | 0.770925110132159   \n",
      " ip_len_rte          | 0.142284569138277   \n",
      " ip_ttl_mean         | 0.263094565198774   \n",
      " ip_ttl_median       | 0.111111111111111   \n",
      " ip_ttl_var          | 0.0879833325520576  \n",
      " ip_ttl_std          | 0.296619845175702   \n",
      " ip_ttl_entropy      | 0.00355639894516047 \n",
      " ip_ttl_cv           | 1.0                 \n",
      " ip_ttl_cvq          | 0.770925110132159   \n",
      " ip_ttl_rte          | 0.142284569138277   \n",
      " sport_mean          | 0.995367844618754   \n",
      " sport_median        | 0.998589148198225   \n",
      " sport_var           | 4.52297890037387E-5 \n",
      " sport_std           | 0.00672530958423021 \n",
      " sport_entropy       | 0.00783952162849506 \n",
      " sport_cv            | 0.00675660723881043 \n",
      " sport_cvq           | 0.00764941844274196 \n",
      " sport_rte           | 0.100200400801603   \n",
      " dport_mean          | 1.0                 \n",
      " dport_median        | 1.0                 \n",
      " dport_var           | 0.0                 \n",
      " dport_std           | 0.0                 \n",
      " dport_entropy       | 0.0                 \n",
      " dport_cv            | 0.0                 \n",
      " dport_cvq           | 0.0                 \n",
      " dport_rte           | 0.00200400801603206 \n",
      " tcp_seq_median      | 0.473721225686309   \n",
      " tcp_seq_mean        | 0.422488089072164   \n",
      " tcp_seq_var         | 0.0951099473667438  \n",
      " tcp_seq_std         | 0.308399006753822   \n",
      " tcp_seq_entropy     | 0.0113421948663545  \n",
      " tcp_seq_cv          | 0.651013697575035   \n",
      " tcp_seq_cvq         | 0.796610196510838   \n",
      " tcp_seq_rte         | 0.601202404809619   \n",
      " tcp_ack_mean        | 0.460568143787137   \n",
      " tcp_ack_median      | 0.462599147034378   \n",
      " tcp_ack_var         | 0.126707252932591   \n",
      " tcp_ack_std         | 0.35595962261553    \n",
      " tcp_ack_entropy     | 0.00949273635575093 \n",
      " tcp_ack_cv          | 0.772870697674752   \n",
      " tcp_ack_cvq         | 1.0                 \n",
      " tcp_ack_rte         | 0.402805611222445   \n",
      " tcp_dataofs_mean    | 0.840080160320641   \n",
      " tcp_dataofs_median  | 0.8                 \n",
      " tcp_dataofs_var     | 0.00642248352125938 \n",
      " tcp_dataofs_std     | 0.0801403988089614  \n",
      " tcp_dataofs_entropy | 0.00100392294746665 \n",
      " tcp_dataofs_cv      | 0.0953961331242169  \n",
      " tcp_dataofs_cvq     | 0.111111111111111   \n",
      " tcp_dataofs_rte     | 0.00400801603206413 \n",
      " tcp_flags_mean      | 0.624916499665999   \n",
      " tcp_flags_median    | 0.666666666666667   \n",
      " tcp_flags_var       | 0.0892423792252063  \n",
      " tcp_flags_std       | 0.298734630107067   \n",
      " tcp_flags_entropy   | 0.00267136166466563 \n",
      " tcp_flags_cv        | 0.478039274473843   \n",
      " tcp_flags_cvq       | 0.846153846153846   \n",
      " tcp_flags_rte       | 0.00801603206412826 \n",
      " tcp_window_mean     | 0.206972094874681   \n",
      " tcp_window_median   | 0.0085958904109589  \n",
      " tcp_window_var      | 0.157933972390619   \n",
      " tcp_window_std      | 0.39740907436874    \n",
      " tcp_window_entropy  | 0.00211461917723791 \n",
      " tcp_window_cv       | 1.0                 \n",
      " tcp_window_cvq      | 0.984437119847769   \n",
      " tcp_window_rte      | 0.00601202404809619 \n",
      " Label1              | http_flood          \n",
      " Label2              | attack              \n",
      " Label3              | http_flood          \n",
      " ip_proto_int        | 6                   \n",
      "only showing top 5 rows\n",
      "\n"
     ]
    }
   ],
   "source": [
    "df = df.withColumn('ip_proto_int', (df[\"ip_proto\"] * 1000).cast(\"int\"))\n",
    "# Registrar la tabla\n",
    "df.registerTempTable(\"cyberattacks_updated\")\n",
    "df.createOrReplaceTempView(\"cyberattacks_updated\")\n",
    "df.show(n=5, truncate=True, vertical=True)"
   ]
  },
  {
   "cell_type": "markdown",
   "metadata": {},
   "source": [
    "Q6 Calcular la cantidad total (suponer que el dato a aculumar para cada paquete es ip_len_mean) de bytes transmitidos agrupados por protocolo.\n",
    "\n",
    "Para responder a esta pregunta utilizamos el método GROUP BY para agrupar los datos en base a su protocolo. Tras esto, utilizamos la función SUM para calcular el sumatorio de la columna ip_lean_mean."
   ]
  },
  {
   "cell_type": "code",
   "execution_count": 26,
   "metadata": {},
   "outputs": [
    {
     "name": "stdout",
     "output_type": "stream",
     "text": [
      "+------------+-----------------+\n",
      "|ip_proto_int| sum(ip_len_mean)|\n",
      "+------------+-----------------+\n",
      "|           6| 26867.1914740567|\n",
      "|          17|7064.346040678178|\n",
      "+------------+-----------------+\n",
      "\n"
     ]
    }
   ],
   "source": [
    "\n",
    "sql_statement = \"SELECT ip_proto_int, SUM(ip_len_mean) \\\n",
    "    FROM cyberattacks_updated \\\n",
    "        GROUP BY ip_proto_int;\"\n",
    "\n",
    "sparksql_q6 = spark.sql(sql_statement)\n",
    "sparksql_q6.show()"
   ]
  },
  {
   "cell_type": "markdown",
   "metadata": {},
   "source": [
    "Q7 Indicar cual es tráfico anómalo en UDP que usa más tráfico de red. Presentar los resultados en orden demayor a menor\n",
    "\n",
    "En primer lugar, filtramos el tráfico seleccionando solamente el tráfico UDP. Tras esto, agrupamos los datos en base al campo label1 y calculamos el sumatorio de la columna ip_len_mean. Finalmente, ordenamos los resultados de mayor a menor tráfico."
   ]
  },
  {
   "cell_type": "code",
   "execution_count": 27,
   "metadata": {},
   "outputs": [
    {
     "name": "stdout",
     "output_type": "stream",
     "text": [
      "+---------+------------------+\n",
      "|   label1|   sum_ip_len_mean|\n",
      "+---------+------------------+\n",
      "|udp_flood|            6894.0|\n",
      "|   normal|170.34604067817844|\n",
      "+---------+------------------+\n",
      "\n"
     ]
    }
   ],
   "source": [
    "sql_statement = \"SELECT label1, SUM(ip_len_mean) AS sum_ip_len_mean \\\n",
    "    FROM cyberattacks_updated \\\n",
    "        WHERE ip_proto_int == 17 \\\n",
    "            GROUP BY label1 \\\n",
    "                ORDER BY sum_ip_len_mean DESC;\"\n",
    "\n",
    "sparksql_q7 = spark.sql(sql_statement)\n",
    "sparksql_q7.show()"
   ]
  },
  {
   "cell_type": "markdown",
   "metadata": {},
   "source": [
    "Q8 Indicar cual es tráfico anómalo en TCP que usa más tráfico de red. Presentar los resultados en orden demayor a menor\n",
    "\n",
    "El razonamiento de esta pregunta es el mismo que para la pregunta anterior, salvo que se filta por el tráfico TCP.\n"
   ]
  },
  {
   "cell_type": "code",
   "execution_count": 28,
   "metadata": {},
   "outputs": [
    {
     "name": "stdout",
     "output_type": "stream",
     "text": [
      "+-----------------+------------------+\n",
      "|           label1|   sum_ip_len_mean|\n",
      "+-----------------+------------------+\n",
      "|           normal|11615.053998509025|\n",
      "|    tcp_syn_flood| 5713.195544936026|\n",
      "|tcp_syn_ack_flood| 5273.157952268173|\n",
      "|    tcp_ack_flood|            2000.0|\n",
      "|    tcp_fin_flood|            2000.0|\n",
      "|       http_flood| 90.88054677859463|\n",
      "|  http_slow_range| 44.20993791090954|\n",
      "|http_slow_headers|44.157370741482964|\n",
      "|   http_slow_read|43.283366733466934|\n",
      "|   http_slow_body|43.252756179024715|\n",
      "+-----------------+------------------+\n",
      "\n"
     ]
    }
   ],
   "source": [
    "sql_statement = \"SELECT label1, SUM(ip_len_mean) AS sum_ip_len_mean \\\n",
    "    FROM cyberattacks_updated \\\n",
    "        WHERE ip_proto_int == 6 \\\n",
    "            GROUP BY label1 \\\n",
    "                ORDER BY sum_ip_len_mean DESC;\"\n",
    "\n",
    "sparksql_q8 = spark.sql(sql_statement)\n",
    "sparksql_q8.show()"
   ]
  },
  {
   "cell_type": "markdown",
   "metadata": {},
   "source": [
    "Por último, se finaliza la sesión de Spark para liberar los recursos utilizados."
   ]
  },
  {
   "cell_type": "code",
   "execution_count": 29,
   "metadata": {},
   "outputs": [],
   "source": [
    "spark.stop()"
   ]
  }
 ],
 "metadata": {
  "kernelspec": {
   "display_name": "Python 3",
   "language": "python",
   "name": "python3"
  },
  "language_info": {
   "codemirror_mode": {
    "name": "ipython",
    "version": 3
   },
   "file_extension": ".py",
   "mimetype": "text/x-python",
   "name": "python",
   "nbconvert_exporter": "python",
   "pygments_lexer": "ipython3",
   "version": "3.8.10"
  }
 },
 "nbformat": 4,
 "nbformat_minor": 2
}
