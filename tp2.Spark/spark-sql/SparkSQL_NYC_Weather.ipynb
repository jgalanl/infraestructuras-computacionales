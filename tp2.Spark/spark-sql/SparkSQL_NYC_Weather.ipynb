{
 "cells": [
  {
   "cell_type": "code",
   "execution_count": 1,
   "metadata": {},
   "outputs": [
    {
     "name": "stderr",
     "output_type": "stream",
     "text": [
      "21/12/01 22:41:22 WARN Utils: Your hostname, jesus-Aspire-A514-52 resolves to a loopback address: 127.0.1.1; using 192.168.1.54 instead (on interface wlp2s0)\n",
      "21/12/01 22:41:22 WARN Utils: Set SPARK_LOCAL_IP if you need to bind to another address\n",
      "WARNING: An illegal reflective access operation has occurred\n",
      "WARNING: Illegal reflective access by org.apache.spark.unsafe.Platform (file:/opt/spark/jars/spark-unsafe_2.12-3.2.0.jar) to constructor java.nio.DirectByteBuffer(long,int)\n",
      "WARNING: Please consider reporting this to the maintainers of org.apache.spark.unsafe.Platform\n",
      "WARNING: Use --illegal-access=warn to enable warnings of further illegal reflective access operations\n",
      "WARNING: All illegal access operations will be denied in a future release\n",
      "Using Spark's default log4j profile: org/apache/spark/log4j-defaults.properties\n",
      "Setting default log level to \"WARN\".\n",
      "To adjust logging level use sc.setLogLevel(newLevel). For SparkR, use setLogLevel(newLevel).\n",
      "21/12/01 22:41:22 WARN NativeCodeLoader: Unable to load native-hadoop library for your platform... using builtin-java classes where applicable\n"
     ]
    }
   ],
   "source": [
    "from pyspark.sql import SparkSession\n",
    "spark = SparkSession.builder.appName('sql-example').getOrCreate()\n",
    "sc = spark.sparkContext"
   ]
  },
  {
   "cell_type": "code",
   "execution_count": 3,
   "metadata": {},
   "outputs": [
    {
     "name": "stdout",
     "output_type": "stream",
     "text": [
      "['_c0', '_c1', '_c2']\n",
      "['Datetime', 'Temp', 'Precip']\n",
      "root\n",
      " |-- Datetime: string (nullable = true)\n",
      " |-- Temp: integer (nullable = true)\n",
      " |-- Precip: double (nullable = true)\n",
      "\n",
      "+----------+----+------+\n",
      "|  Datetime|Temp|Precip|\n",
      "+----------+----+------+\n",
      "|2013-01-01|   1|   0.0|\n",
      "|2013-01-02|  -2|   0.0|\n",
      "|2013-01-03|  -2|   0.0|\n",
      "|2013-01-04|   1|   0.0|\n",
      "|2013-01-05|   3|   0.0|\n",
      "|2013-01-06|   4|   0.0|\n",
      "|2013-01-07|   5|   0.0|\n",
      "|2013-01-08|   6|   0.0|\n",
      "|2013-01-09|   7|   0.0|\n",
      "|2013-01-10|   7|   0.0|\n",
      "|2013-01-11|   6| 13.97|\n",
      "|2013-01-12|   7|  0.51|\n",
      "|2013-01-13|   8|   0.0|\n",
      "|2013-01-14|   8|  2.29|\n",
      "|2013-01-15|   3|  3.05|\n",
      "|2013-01-16|   2| 17.53|\n",
      "|2013-01-17|   4|   0.0|\n",
      "|2013-01-18|  -1|   0.0|\n",
      "|2013-01-19|   5|   0.0|\n",
      "|2013-01-20|   6|   0.0|\n",
      "+----------+----+------+\n",
      "only showing top 20 rows\n",
      "\n"
     ]
    }
   ],
   "source": [
    "# Se leen como Dataframe, por simplicidad\n",
    "weather = spark.read.csv(\"nycweather.csv\", mode=\"DROPMALFORMED\",inferSchema=True)\n",
    "print(weather.columns)\n",
    "# Las columnas se nombran automáticamente \n",
    "# Los campos del datset son la fecha, la temperatura media en grados\n",
    "# Celsius y la precipitación (litros?)\n",
    "# Cambiamos los nombres por claridad\n",
    "weather = weather.withColumnRenamed('_c0', 'Datetime').withColumnRenamed('_c1','Temp').withColumnRenamed('_c2','Precip')\n",
    "print(weather.columns)\n",
    "# Schema inferido\n",
    "weather.printSchema()\n",
    "# Veamos los datos\n",
    "weather.show()"
   ]
  },
  {
   "cell_type": "code",
   "execution_count": 4,
   "metadata": {},
   "outputs": [
    {
     "name": "stdout",
     "output_type": "stream",
     "text": [
      "+----+------+----+-----+---+\n",
      "|Temp|Precip|Year|Month|Day|\n",
      "+----+------+----+-----+---+\n",
      "|   1|   0.0|2013|   01| 01|\n",
      "|  -2|   0.0|2013|   01| 02|\n",
      "|  -2|   0.0|2013|   01| 03|\n",
      "|   1|   0.0|2013|   01| 04|\n",
      "|   3|   0.0|2013|   01| 05|\n",
      "|   4|   0.0|2013|   01| 06|\n",
      "|   5|   0.0|2013|   01| 07|\n",
      "|   6|   0.0|2013|   01| 08|\n",
      "|   7|   0.0|2013|   01| 09|\n",
      "|   7|   0.0|2013|   01| 10|\n",
      "|   6| 13.97|2013|   01| 11|\n",
      "|   7|  0.51|2013|   01| 12|\n",
      "|   8|   0.0|2013|   01| 13|\n",
      "|   8|  2.29|2013|   01| 14|\n",
      "|   3|  3.05|2013|   01| 15|\n",
      "|   2| 17.53|2013|   01| 16|\n",
      "|   4|   0.0|2013|   01| 17|\n",
      "|  -1|   0.0|2013|   01| 18|\n",
      "|   5|   0.0|2013|   01| 19|\n",
      "|   6|   0.0|2013|   01| 20|\n",
      "+----+------+----+-----+---+\n",
      "only showing top 20 rows\n",
      "\n",
      "root\n",
      " |-- Temp: integer (nullable = true)\n",
      " |-- Precip: double (nullable = true)\n",
      " |-- Year: string (nullable = true)\n",
      " |-- Month: string (nullable = true)\n",
      " |-- Day: string (nullable = true)\n",
      "\n"
     ]
    }
   ],
   "source": [
    "# Solo nos interesa la parte del año (date) y tener las tres partes por separado (Year, Month, Day)\n",
    "from pyspark.sql.functions import to_date, split\n",
    "date_col = to_date(weather['Datetime'])\n",
    "splited_col = split(date_col,\"-\")\n",
    "year_col = splited_col.getItem(0)\n",
    "month_col = splited_col.getItem(1)\n",
    "day_col = splited_col.getItem(2)\n",
    "weather = weather.withColumn('Year', year_col).withColumn('Month', month_col).withColumn('Day', day_col)\n",
    "# Delete Datetime column\n",
    "weather = weather.drop('Datetime')\n",
    "# Veamos los campos nuevos\n",
    "weather.show()\n",
    "# Schema inferido\n",
    "weather.printSchema()"
   ]
  },
  {
   "cell_type": "code",
   "execution_count": 5,
   "metadata": {},
   "outputs": [
    {
     "name": "stderr",
     "output_type": "stream",
     "text": [
      "/home/jesus/universidad/Infraestructuras_Computacionales/practicas/TP2/sparkenv/lib/python3.8/site-packages/pyspark/sql/dataframe.py:138: FutureWarning: Deprecated in 2.0, use createOrReplaceTempView instead.\n",
      "  warnings.warn(\n"
     ]
    }
   ],
   "source": [
    "# Registramos la tabla\n",
    "weather.registerTempTable(\"weather\")"
   ]
  },
  {
   "cell_type": "code",
   "execution_count": 7,
   "metadata": {},
   "outputs": [],
   "source": [
    "weather.createOrReplaceTempView(\"weather\")"
   ]
  },
  {
   "cell_type": "markdown",
   "metadata": {},
   "source": [
    "Obtenemos los días en los que llovió, ordenados por la temperatura (de mas a menos temperatura)"
   ]
  },
  {
   "cell_type": "code",
   "execution_count": 8,
   "metadata": {},
   "outputs": [
    {
     "name": "stdout",
     "output_type": "stream",
     "text": [
      "+----+------+----+-----+---+\n",
      "|Temp|Precip|Year|Month|Day|\n",
      "+----+------+----+-----+---+\n",
      "|  27|  7.87|2013|   07| 23|\n",
      "|  27|  5.59|2013|   07| 08|\n",
      "|  27|  1.27|2013|   08| 09|\n",
      "|  27|  5.84|2013|   07| 09|\n",
      "|  27|   6.1|2013|   06| 27|\n",
      "|  27|  1.27|2013|   06| 26|\n",
      "|  27|  1.52|2013|   07| 22|\n",
      "|  26| 21.59|2013|   06| 02|\n",
      "|  26|  0.25|2013|   09| 10|\n",
      "|  26|  1.27|2013|   09| 02|\n",
      "|  26|  0.25|2013|   08| 27|\n",
      "|  26| 10.92|2013|   08| 28|\n",
      "|  26| 40.64|2013|   09| 12|\n",
      "|  26| 13.46|2013|   07| 03|\n",
      "|  25|  0.25|2013|   06| 17|\n",
      "|  25|  2.03|2013|   07| 02|\n",
      "|  25|  0.25|2013|   07| 29|\n",
      "|  24| 21.34|2013|   07| 01|\n",
      "|  24| 11.68|2013|   08| 08|\n",
      "|  24|  1.27|2013|   08| 12|\n",
      "+----+------+----+-----+---+\n",
      "only showing top 20 rows\n",
      "\n"
     ]
    }
   ],
   "source": [
    "hottest_with_precip = spark.sql(\"SELECT * FROM weather WHERE Precip > 0.0 ORDER BY Temp DESC\")\n",
    "hottest_with_precip.show()"
   ]
  },
  {
   "cell_type": "markdown",
   "metadata": {},
   "source": [
    "Calculamos el total de precipitaciones por mes"
   ]
  },
  {
   "cell_type": "code",
   "execution_count": 9,
   "metadata": {},
   "outputs": [
    {
     "name": "stdout",
     "output_type": "stream",
     "text": [
      "+---------+-----+\n",
      "|PrepTotal|Month|\n",
      "+---------+-----+\n",
      "|    257.0|   06|\n",
      "|    203.0|   05|\n",
      "|    108.0|   02|\n",
      "|     80.0|   11|\n",
      "|     80.0|   12|\n",
      "|     75.0|   09|\n",
      "|     73.0|   03|\n",
      "|     72.0|   07|\n",
      "|     72.0|   08|\n",
      "|     70.0|   01|\n",
      "|     33.0|   04|\n",
      "|      9.0|   10|\n",
      "+---------+-----+\n",
      "\n"
     ]
    }
   ],
   "source": [
    "group_by_month = spark.sql(\"SELECT ROUND(SUM(Precip)) AS PrepTotal, Month  FROM weather GROUP BY Month ORDER BY PrepTotal DESC\")\n",
    "group_by_month.show()"
   ]
  }
 ],
 "metadata": {
  "kernelspec": {
   "display_name": "Python 3",
   "language": "python",
   "name": "python3"
  },
  "language_info": {
   "codemirror_mode": {
    "name": "ipython",
    "version": 3
   },
   "file_extension": ".py",
   "mimetype": "text/x-python",
   "name": "python",
   "nbconvert_exporter": "python",
   "pygments_lexer": "ipython3",
   "version": "3.8.10"
  },
  "widgets": {
   "state": {},
   "version": "1.1.2"
  }
 },
 "nbformat": 4,
 "nbformat_minor": 1
}
