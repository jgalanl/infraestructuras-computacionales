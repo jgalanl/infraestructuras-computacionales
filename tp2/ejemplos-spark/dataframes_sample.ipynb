{
 "cells": [
  {
   "cell_type": "code",
   "execution_count": 1,
   "metadata": {},
   "outputs": [
    {
     "data": {
      "text/html": [
       "\n",
       "            <div>\n",
       "                <p><b>SparkSession - hive</b></p>\n",
       "                \n",
       "        <div>\n",
       "            <p><b>SparkContext</b></p>\n",
       "\n",
       "            <p><a href=\"http://RPV-PORTATIL.mshome.net:4040\">Spark UI</a></p>\n",
       "\n",
       "            <dl>\n",
       "              <dt>Version</dt>\n",
       "                <dd><code>v2.4.3</code></dd>\n",
       "              <dt>Master</dt>\n",
       "                <dd><code>local[*]</code></dd>\n",
       "              <dt>AppName</dt>\n",
       "                <dd><code>PySparkShell</code></dd>\n",
       "            </dl>\n",
       "        </div>\n",
       "        \n",
       "            </div>\n",
       "        "
      ],
      "text/plain": [
       "<pyspark.sql.session.SparkSession at 0x1a4c9a1be80>"
      ]
     },
     "execution_count": 1,
     "metadata": {},
     "output_type": "execute_result"
    }
   ],
   "source": [
    "# Comprobamos que la variable saprk (SparkSession) existe\n",
    "spark"
   ]
  },
  {
   "cell_type": "code",
   "execution_count": 2,
   "metadata": {},
   "outputs": [],
   "source": [
    "#  Leer el fichero de ejemplo\n",
    "df = spark.read.json(\"../databricks/people.json\")"
   ]
  },
  {
   "cell_type": "code",
   "execution_count": 3,
   "metadata": {},
   "outputs": [
    {
     "name": "stdout",
     "output_type": "stream",
     "text": [
      "+---+-------------+---+-----------------+--------------+\n",
      "|age|         city| id|             name|    occupation|\n",
      "+---+-------------+---+-----------------+--------------+\n",
      "| 23|San Francisco|  1|      Jules Damji|      Advocate|\n",
      "| 42|       London|  2|      Arther Dent|  Hitch-hicker|\n",
      "| 37|     Milkyway|  3|Zaphod Beeblebrox|       Wiseman|\n",
      "| 42|        Essex|  4|     Ford Prefect|       Realtor|\n",
      "| 45|    Andromeda|  5|         Trillian|Space-Traveler|\n",
      "| 67|          M33|  6|    Slartibarfast|       Creator|\n",
      "| 23|          X33|  7|      Random Dent|     Invisible|\n",
      "+---+-------------+---+-----------------+--------------+\n",
      "\n"
     ]
    }
   ],
   "source": [
    "# Mostrar las estructura\n",
    "df.show()"
   ]
  },
  {
   "cell_type": "code",
   "execution_count": 4,
   "metadata": {},
   "outputs": [
    {
     "name": "stdout",
     "output_type": "stream",
     "text": [
      "root\n",
      " |-- age: long (nullable = true)\n",
      " |-- city: string (nullable = true)\n",
      " |-- id: long (nullable = true)\n",
      " |-- name: string (nullable = true)\n",
      " |-- occupation: string (nullable = true)\n",
      "\n"
     ]
    }
   ],
   "source": [
    "# Ver el esquema\n",
    "df.printSchema()"
   ]
  },
  {
   "cell_type": "code",
   "execution_count": 5,
   "metadata": {},
   "outputs": [
    {
     "name": "stdout",
     "output_type": "stream",
     "text": [
      "+-----------------+\n",
      "|             name|\n",
      "+-----------------+\n",
      "|      Jules Damji|\n",
      "|      Arther Dent|\n",
      "|Zaphod Beeblebrox|\n",
      "|     Ford Prefect|\n",
      "|         Trillian|\n",
      "|    Slartibarfast|\n",
      "|      Random Dent|\n",
      "+-----------------+\n",
      "\n"
     ]
    }
   ],
   "source": [
    "# La selección se puede hacer por atributo (nombre de columna) o indice --> df.age === df['age'] (RECOMENDADO)\n",
    "df.select(\"name\").show()"
   ]
  },
  {
   "cell_type": "code",
   "execution_count": 6,
   "metadata": {},
   "outputs": [
    {
     "name": "stdout",
     "output_type": "stream",
     "text": [
      "+-----------------+---------+\n",
      "|             name|(age + 1)|\n",
      "+-----------------+---------+\n",
      "|      Jules Damji|       24|\n",
      "|      Arther Dent|       43|\n",
      "|Zaphod Beeblebrox|       38|\n",
      "|     Ford Prefect|       43|\n",
      "|         Trillian|       46|\n",
      "|    Slartibarfast|       68|\n",
      "|      Random Dent|       24|\n",
      "+-----------------+---------+\n",
      "\n"
     ]
    }
   ],
   "source": [
    "# se pueden combinar operaciones\n",
    "df.select(df['name'], df['age'] + 1).show()"
   ]
  },
  {
   "cell_type": "code",
   "execution_count": 7,
   "metadata": {},
   "outputs": [
    {
     "name": "stdout",
     "output_type": "stream",
     "text": [
      "+---+---------+---+-----------------+--------------+\n",
      "|age|     city| id|             name|    occupation|\n",
      "+---+---------+---+-----------------+--------------+\n",
      "| 42|   London|  2|      Arther Dent|  Hitch-hicker|\n",
      "| 37| Milkyway|  3|Zaphod Beeblebrox|       Wiseman|\n",
      "| 42|    Essex|  4|     Ford Prefect|       Realtor|\n",
      "| 45|Andromeda|  5|         Trillian|Space-Traveler|\n",
      "| 67|      M33|  6|    Slartibarfast|       Creator|\n",
      "+---+---------+---+-----------------+--------------+\n",
      "\n"
     ]
    }
   ],
   "source": [
    "# Operaciones de filtrado\n",
    "df.filter(df['age'] > 25).show()"
   ]
  },
  {
   "cell_type": "code",
   "execution_count": 8,
   "metadata": {},
   "outputs": [
    {
     "name": "stdout",
     "output_type": "stream",
     "text": [
      "+---+-----+\n",
      "|age|count|\n",
      "+---+-----+\n",
      "| 67|    1|\n",
      "| 37|    1|\n",
      "| 42|    2|\n",
      "| 23|    2|\n",
      "| 45|    1|\n",
      "+---+-----+\n",
      "\n"
     ]
    }
   ],
   "source": [
    "# Operaciones de agregación\n",
    "df.groupBy(\"age\").count().show()"
   ]
  },
  {
   "cell_type": "code",
   "execution_count": 9,
   "metadata": {},
   "outputs": [],
   "source": [
    "# Convertimos a un Pandas DF\n",
    "pandasDF = df.toPandas()"
   ]
  },
  {
   "cell_type": "code",
   "execution_count": 10,
   "metadata": {},
   "outputs": [
    {
     "data": {
      "text/html": [
       "<div>\n",
       "<style scoped>\n",
       "    .dataframe tbody tr th:only-of-type {\n",
       "        vertical-align: middle;\n",
       "    }\n",
       "\n",
       "    .dataframe tbody tr th {\n",
       "        vertical-align: top;\n",
       "    }\n",
       "\n",
       "    .dataframe thead th {\n",
       "        text-align: right;\n",
       "    }\n",
       "</style>\n",
       "<table border=\"1\" class=\"dataframe\">\n",
       "  <thead>\n",
       "    <tr style=\"text-align: right;\">\n",
       "      <th></th>\n",
       "      <th>age</th>\n",
       "      <th>city</th>\n",
       "      <th>id</th>\n",
       "      <th>name</th>\n",
       "      <th>occupation</th>\n",
       "    </tr>\n",
       "  </thead>\n",
       "  <tbody>\n",
       "    <tr>\n",
       "      <th>0</th>\n",
       "      <td>23</td>\n",
       "      <td>San Francisco</td>\n",
       "      <td>1</td>\n",
       "      <td>Jules Damji</td>\n",
       "      <td>Advocate</td>\n",
       "    </tr>\n",
       "    <tr>\n",
       "      <th>1</th>\n",
       "      <td>42</td>\n",
       "      <td>London</td>\n",
       "      <td>2</td>\n",
       "      <td>Arther Dent</td>\n",
       "      <td>Hitch-hicker</td>\n",
       "    </tr>\n",
       "    <tr>\n",
       "      <th>2</th>\n",
       "      <td>37</td>\n",
       "      <td>Milkyway</td>\n",
       "      <td>3</td>\n",
       "      <td>Zaphod Beeblebrox</td>\n",
       "      <td>Wiseman</td>\n",
       "    </tr>\n",
       "    <tr>\n",
       "      <th>3</th>\n",
       "      <td>42</td>\n",
       "      <td>Essex</td>\n",
       "      <td>4</td>\n",
       "      <td>Ford Prefect</td>\n",
       "      <td>Realtor</td>\n",
       "    </tr>\n",
       "    <tr>\n",
       "      <th>4</th>\n",
       "      <td>45</td>\n",
       "      <td>Andromeda</td>\n",
       "      <td>5</td>\n",
       "      <td>Trillian</td>\n",
       "      <td>Space-Traveler</td>\n",
       "    </tr>\n",
       "    <tr>\n",
       "      <th>5</th>\n",
       "      <td>67</td>\n",
       "      <td>M33</td>\n",
       "      <td>6</td>\n",
       "      <td>Slartibarfast</td>\n",
       "      <td>Creator</td>\n",
       "    </tr>\n",
       "    <tr>\n",
       "      <th>6</th>\n",
       "      <td>23</td>\n",
       "      <td>X33</td>\n",
       "      <td>7</td>\n",
       "      <td>Random Dent</td>\n",
       "      <td>Invisible</td>\n",
       "    </tr>\n",
       "  </tbody>\n",
       "</table>\n",
       "</div>"
      ],
      "text/plain": [
       "   age           city  id               name      occupation\n",
       "0   23  San Francisco   1        Jules Damji        Advocate\n",
       "1   42         London   2        Arther Dent    Hitch-hicker\n",
       "2   37       Milkyway   3  Zaphod Beeblebrox         Wiseman\n",
       "3   42          Essex   4       Ford Prefect         Realtor\n",
       "4   45      Andromeda   5           Trillian  Space-Traveler\n",
       "5   67            M33   6      Slartibarfast         Creator\n",
       "6   23            X33   7        Random Dent       Invisible"
      ]
     },
     "metadata": {},
     "output_type": "display_data"
    }
   ],
   "source": [
    "# Observamos los datos\n",
    "display(pandasDF)"
   ]
  },
  {
   "cell_type": "code",
   "execution_count": null,
   "metadata": {},
   "outputs": [],
   "source": []
  }
 ],
 "metadata": {
  "kernelspec": {
   "display_name": "Python 3",
   "language": "python",
   "name": "python3"
  },
  "language_info": {
   "codemirror_mode": {
    "name": "ipython",
    "version": 3
   },
   "file_extension": ".py",
   "mimetype": "text/x-python",
   "name": "python",
   "nbconvert_exporter": "python",
   "pygments_lexer": "ipython3",
   "version": "3.7.3"
  }
 },
 "nbformat": 4,
 "nbformat_minor": 2
}
