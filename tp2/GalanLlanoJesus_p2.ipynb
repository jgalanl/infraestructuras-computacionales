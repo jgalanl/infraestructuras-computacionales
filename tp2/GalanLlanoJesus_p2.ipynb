{
 "cells": [
  {
   "cell_type": "markdown",
   "metadata": {},
   "source": [
    "## Infraestructuras Computacionales para el Procesamiento de Datos Masivos\n",
    "### Práctica del Módulo 2: Procesamiento paralelo basado en memoria con Apache Spark\n",
    "### Autor: Jesús Galán Llano\n",
    "#### Correo: jgalan279@alumno.uned.es"
   ]
  },
  {
   "cell_type": "markdown",
   "metadata": {},
   "source": [
    "##### Parte 2: Spark y Machine Learning"
   ]
  },
  {
   "cell_type": "markdown",
   "metadata": {},
   "source": [
    "Esta segunda parte de la práctica consiste en crear un modelo de Machine Learning utilizando técnicas soportadas por Spark. \n",
    "\n",
    "En este caso se ha utilizado un dataset obtenido de la página web Kaggle que contiene datos sobre la calidad del vino tinto \"Vinho Verde\" portugués (https://www.kaggle.com/uciml/red-wine-quality-cortez-et-al-2009). \n",
    "\n",
    "Con estos datos se pretende generar un modelo que prediga la calidad final de vino. Una calidad mayor de 6,5 indica que el vino es considerado \"bueno\", mientras que un valor inferior categoriza al vino como \"malo\". \n",
    "\n",
    "Debido a estas características se plantea un problema de regresión, es decir, a través de los datos de entrada el modelo deberá predecir la calidad final del vino que permitirá catalogar el vino como \"bueno\" o \"malo\"."
   ]
  },
  {
   "cell_type": "markdown",
   "metadata": {},
   "source": [
    "En primer lugar, importamos las librerías necesarias y creamos los objetos SparkSession y SparkContext."
   ]
  },
  {
   "cell_type": "code",
   "execution_count": 1,
   "metadata": {},
   "outputs": [
    {
     "name": "stderr",
     "output_type": "stream",
     "text": [
      "21/12/11 13:45:29 WARN Utils: Your hostname, jesus-Aspire-A514-52 resolves to a loopback address: 127.0.1.1; using 192.168.1.54 instead (on interface wlp2s0)\n",
      "21/12/11 13:45:29 WARN Utils: Set SPARK_LOCAL_IP if you need to bind to another address\n",
      "WARNING: An illegal reflective access operation has occurred\n",
      "WARNING: Illegal reflective access by org.apache.spark.unsafe.Platform (file:/opt/spark/jars/spark-unsafe_2.12-3.2.0.jar) to constructor java.nio.DirectByteBuffer(long,int)\n",
      "WARNING: Please consider reporting this to the maintainers of org.apache.spark.unsafe.Platform\n",
      "WARNING: Use --illegal-access=warn to enable warnings of further illegal reflective access operations\n",
      "WARNING: All illegal access operations will be denied in a future release\n",
      "Using Spark's default log4j profile: org/apache/spark/log4j-defaults.properties\n",
      "Setting default log level to \"WARN\".\n",
      "To adjust logging level use sc.setLogLevel(newLevel). For SparkR, use setLogLevel(newLevel).\n",
      "21/12/11 13:45:30 WARN NativeCodeLoader: Unable to load native-hadoop library for your platform... using builtin-java classes where applicable\n"
     ]
    }
   ],
   "source": [
    "from pyspark.sql import SparkSession\n",
    "from pyspark.conf import SparkConf\n",
    "from pyspark.ml.feature import VectorAssembler\n",
    "from pyspark.ml import Pipeline\n",
    "from pyspark.ml.regression import GeneralizedLinearRegression\n",
    "from pyspark.ml.evaluation import RegressionEvaluator\n",
    "\n",
    "spark = SparkSession.builder.appName('pt2').getOrCreate()\n",
    "sc = spark.sparkContext"
   ]
  },
  {
   "cell_type": "markdown",
   "metadata": {},
   "source": [
    "La versión de Spark utilizada es la 3.2.0. Esto es debido a que es la versión más reciente compatible con Python 3.8.10."
   ]
  },
  {
   "cell_type": "code",
   "execution_count": 2,
   "metadata": {},
   "outputs": [
    {
     "name": "stdout",
     "output_type": "stream",
     "text": [
      "Running Spark Version 3.2.0\n",
      "spark.app.name=pt2\n",
      "spark.master=local[*]\n",
      "spark.submit.deployMode=client\n",
      "spark.submit.pyFiles=\n",
      "spark.ui.showConsoleProgress=true\n"
     ]
    }
   ],
   "source": [
    "print(f'Running Spark Version {sc.version}')\n",
    "\n",
    "conf = SparkConf()\n",
    "print(conf.toDebugString())"
   ]
  },
  {
   "cell_type": "markdown",
   "metadata": {},
   "source": [
    "En primer lugar, se procede a cargar los datos, incluidos en el fichero winequality-red.csv, en un DataFrame. Debido a que el peso del archivo sobrepasa el límite configurado en el entregador de la práctica no se ha añadido en la entrega, pero se puede descargar desde el siguiente enlace: https://www.kaggle.com/uciml/red-wine-quality-cortez-et-al-2009/download. \n",
    "Se añade la opción de inferir el esquema de datos a través de los mismos."
   ]
  },
  {
   "cell_type": "code",
   "execution_count": 3,
   "metadata": {},
   "outputs": [],
   "source": [
    "df = spark.read.csv('winequality-red.csv', mode=\"DROPMALFORMED\", inferSchema=True, header=True)"
   ]
  },
  {
   "cell_type": "markdown",
   "metadata": {},
   "source": [
    "Mostrar el esquema heredado."
   ]
  },
  {
   "cell_type": "code",
   "execution_count": 4,
   "metadata": {},
   "outputs": [
    {
     "name": "stdout",
     "output_type": "stream",
     "text": [
      "root\n",
      " |-- fixed acidity: double (nullable = true)\n",
      " |-- volatile acidity: double (nullable = true)\n",
      " |-- citric acid: double (nullable = true)\n",
      " |-- residual sugar: double (nullable = true)\n",
      " |-- chlorides: double (nullable = true)\n",
      " |-- free sulfur dioxide: double (nullable = true)\n",
      " |-- total sulfur dioxide: double (nullable = true)\n",
      " |-- density: double (nullable = true)\n",
      " |-- pH: double (nullable = true)\n",
      " |-- sulphates: double (nullable = true)\n",
      " |-- alcohol: double (nullable = true)\n",
      " |-- quality: integer (nullable = true)\n",
      "\n"
     ]
    }
   ],
   "source": [
    "df.printSchema()"
   ]
  },
  {
   "cell_type": "markdown",
   "metadata": {},
   "source": [
    "Como se puede comprobar, todas las variables son tipos numéricos, lo que facilita enormemente la limpieza y la transformación de datos para el futuro entrenamiento del modelo. \n",
    "\n",
    "Las variables de entrada del modelo se corresponden con: fixed acidity, volatile acidity, citric acid, residual sugar, chlorides, free sulfur dioxide, total sulfur dioxide, density, pH y sulphates. En el enlace anterior se proporciona más información acerca de qué representa cada una de estas características. \n",
    "\n",
    "La única variable de salida es la variable quality, que representa la calidad final del vino."
   ]
  },
  {
   "cell_type": "markdown",
   "metadata": {},
   "source": [
    "Mostrar el número de registros del dataset.\n"
   ]
  },
  {
   "cell_type": "code",
   "execution_count": 5,
   "metadata": {},
   "outputs": [
    {
     "data": {
      "text/plain": [
       "1599"
      ]
     },
     "execution_count": 5,
     "metadata": {},
     "output_type": "execute_result"
    }
   ],
   "source": [
    "df.count()"
   ]
  },
  {
   "cell_type": "markdown",
   "metadata": {},
   "source": [
    "Mostrar una muestra de los datos."
   ]
  },
  {
   "cell_type": "code",
   "execution_count": 6,
   "metadata": {},
   "outputs": [
    {
     "name": "stdout",
     "output_type": "stream",
     "text": [
      "-RECORD 0----------------------\n",
      " fixed acidity        | 7.4    \n",
      " volatile acidity     | 0.7    \n",
      " citric acid          | 0.0    \n",
      " residual sugar       | 1.9    \n",
      " chlorides            | 0.076  \n",
      " free sulfur dioxide  | 11.0   \n",
      " total sulfur dioxide | 34.0   \n",
      " density              | 0.9978 \n",
      " pH                   | 3.51   \n",
      " sulphates            | 0.56   \n",
      " alcohol              | 9.4    \n",
      " quality              | 5      \n",
      "-RECORD 1----------------------\n",
      " fixed acidity        | 7.8    \n",
      " volatile acidity     | 0.88   \n",
      " citric acid          | 0.0    \n",
      " residual sugar       | 2.6    \n",
      " chlorides            | 0.098  \n",
      " free sulfur dioxide  | 25.0   \n",
      " total sulfur dioxide | 67.0   \n",
      " density              | 0.9968 \n",
      " pH                   | 3.2    \n",
      " sulphates            | 0.68   \n",
      " alcohol              | 9.8    \n",
      " quality              | 5      \n",
      "-RECORD 2----------------------\n",
      " fixed acidity        | 7.8    \n",
      " volatile acidity     | 0.76   \n",
      " citric acid          | 0.04   \n",
      " residual sugar       | 2.3    \n",
      " chlorides            | 0.092  \n",
      " free sulfur dioxide  | 15.0   \n",
      " total sulfur dioxide | 54.0   \n",
      " density              | 0.997  \n",
      " pH                   | 3.26   \n",
      " sulphates            | 0.65   \n",
      " alcohol              | 9.8    \n",
      " quality              | 5      \n",
      "-RECORD 3----------------------\n",
      " fixed acidity        | 11.2   \n",
      " volatile acidity     | 0.28   \n",
      " citric acid          | 0.56   \n",
      " residual sugar       | 1.9    \n",
      " chlorides            | 0.075  \n",
      " free sulfur dioxide  | 17.0   \n",
      " total sulfur dioxide | 60.0   \n",
      " density              | 0.998  \n",
      " pH                   | 3.16   \n",
      " sulphates            | 0.58   \n",
      " alcohol              | 9.8    \n",
      " quality              | 6      \n",
      "-RECORD 4----------------------\n",
      " fixed acidity        | 7.4    \n",
      " volatile acidity     | 0.7    \n",
      " citric acid          | 0.0    \n",
      " residual sugar       | 1.9    \n",
      " chlorides            | 0.076  \n",
      " free sulfur dioxide  | 11.0   \n",
      " total sulfur dioxide | 34.0   \n",
      " density              | 0.9978 \n",
      " pH                   | 3.51   \n",
      " sulphates            | 0.56   \n",
      " alcohol              | 9.4    \n",
      " quality              | 5      \n",
      "only showing top 5 rows\n",
      "\n"
     ]
    }
   ],
   "source": [
    "df.show(n=5, truncate=True, vertical=True)"
   ]
  },
  {
   "cell_type": "markdown",
   "metadata": {},
   "source": [
    "Limpiar el dataset eliminando las filas con elementos nulos."
   ]
  },
  {
   "cell_type": "code",
   "execution_count": 7,
   "metadata": {},
   "outputs": [],
   "source": [
    "df = df.dropna()"
   ]
  },
  {
   "cell_type": "code",
   "execution_count": 8,
   "metadata": {},
   "outputs": [
    {
     "data": {
      "text/plain": [
       "1599"
      ]
     },
     "execution_count": 8,
     "metadata": {},
     "output_type": "execute_result"
    }
   ],
   "source": [
    "df.count()"
   ]
  },
  {
   "cell_type": "markdown",
   "metadata": {},
   "source": [
    "Limpiar el dataset eliminando las filas con elementos duplicados."
   ]
  },
  {
   "cell_type": "code",
   "execution_count": 9,
   "metadata": {},
   "outputs": [],
   "source": [
    "df = df.dropDuplicates()"
   ]
  },
  {
   "cell_type": "code",
   "execution_count": 10,
   "metadata": {},
   "outputs": [
    {
     "data": {
      "text/plain": [
       "1359"
      ]
     },
     "execution_count": 10,
     "metadata": {},
     "output_type": "execute_result"
    }
   ],
   "source": [
    "df.count()"
   ]
  },
  {
   "cell_type": "markdown",
   "metadata": {},
   "source": [
    "A continuación, realizamos un estudio de las variables de entrada del modelo. De esta forma se podrán analizar los datos para determinar si son útiles para crear un modelo fiable."
   ]
  },
  {
   "cell_type": "code",
   "execution_count": 11,
   "metadata": {},
   "outputs": [
    {
     "data": {
      "text/html": [
       "<div>\n",
       "<style scoped>\n",
       "    .dataframe tbody tr th:only-of-type {\n",
       "        vertical-align: middle;\n",
       "    }\n",
       "\n",
       "    .dataframe tbody tr th {\n",
       "        vertical-align: top;\n",
       "    }\n",
       "\n",
       "    .dataframe thead th {\n",
       "        text-align: right;\n",
       "    }\n",
       "</style>\n",
       "<table border=\"1\" class=\"dataframe\">\n",
       "  <thead>\n",
       "    <tr style=\"text-align: right;\">\n",
       "      <th></th>\n",
       "      <th>0</th>\n",
       "      <th>1</th>\n",
       "      <th>2</th>\n",
       "      <th>3</th>\n",
       "      <th>4</th>\n",
       "    </tr>\n",
       "  </thead>\n",
       "  <tbody>\n",
       "    <tr>\n",
       "      <th>summary</th>\n",
       "      <td>count</td>\n",
       "      <td>mean</td>\n",
       "      <td>stddev</td>\n",
       "      <td>min</td>\n",
       "      <td>max</td>\n",
       "    </tr>\n",
       "    <tr>\n",
       "      <th>fixed acidity</th>\n",
       "      <td>1359</td>\n",
       "      <td>8.310596026490076</td>\n",
       "      <td>1.7369898075324683</td>\n",
       "      <td>4.6</td>\n",
       "      <td>15.9</td>\n",
       "    </tr>\n",
       "    <tr>\n",
       "      <th>volatile acidity</th>\n",
       "      <td>1359</td>\n",
       "      <td>0.5294775570272255</td>\n",
       "      <td>0.18303131761907196</td>\n",
       "      <td>0.12</td>\n",
       "      <td>1.58</td>\n",
       "    </tr>\n",
       "    <tr>\n",
       "      <th>citric acid</th>\n",
       "      <td>1359</td>\n",
       "      <td>0.27233259749816047</td>\n",
       "      <td>0.1955365445504638</td>\n",
       "      <td>0.0</td>\n",
       "      <td>1.0</td>\n",
       "    </tr>\n",
       "    <tr>\n",
       "      <th>residual sugar</th>\n",
       "      <td>1359</td>\n",
       "      <td>2.5233995584988946</td>\n",
       "      <td>1.3523137577104223</td>\n",
       "      <td>0.9</td>\n",
       "      <td>15.5</td>\n",
       "    </tr>\n",
       "    <tr>\n",
       "      <th>chlorides</th>\n",
       "      <td>1359</td>\n",
       "      <td>0.08812362030905024</td>\n",
       "      <td>0.049376862443486075</td>\n",
       "      <td>0.012</td>\n",
       "      <td>0.611</td>\n",
       "    </tr>\n",
       "    <tr>\n",
       "      <th>free sulfur dioxide</th>\n",
       "      <td>1359</td>\n",
       "      <td>15.893303899926417</td>\n",
       "      <td>10.447270259048686</td>\n",
       "      <td>1.0</td>\n",
       "      <td>72.0</td>\n",
       "    </tr>\n",
       "    <tr>\n",
       "      <th>total sulfur dioxide</th>\n",
       "      <td>1359</td>\n",
       "      <td>46.82597498160412</td>\n",
       "      <td>33.408945706616564</td>\n",
       "      <td>6.0</td>\n",
       "      <td>289.0</td>\n",
       "    </tr>\n",
       "    <tr>\n",
       "      <th>density</th>\n",
       "      <td>1359</td>\n",
       "      <td>0.9967089477557036</td>\n",
       "      <td>0.001868917132559179</td>\n",
       "      <td>0.9900700000000001</td>\n",
       "      <td>1.00369</td>\n",
       "    </tr>\n",
       "    <tr>\n",
       "      <th>pH</th>\n",
       "      <td>1359</td>\n",
       "      <td>3.3097866077998535</td>\n",
       "      <td>0.1550363112872961</td>\n",
       "      <td>2.74</td>\n",
       "      <td>4.01</td>\n",
       "    </tr>\n",
       "    <tr>\n",
       "      <th>sulphates</th>\n",
       "      <td>1359</td>\n",
       "      <td>0.6587049300956583</td>\n",
       "      <td>0.1706668905742068</td>\n",
       "      <td>0.33</td>\n",
       "      <td>2.0</td>\n",
       "    </tr>\n",
       "    <tr>\n",
       "      <th>alcohol</th>\n",
       "      <td>1359</td>\n",
       "      <td>10.432315428010774</td>\n",
       "      <td>1.0820654499402536</td>\n",
       "      <td>8.4</td>\n",
       "      <td>14.9</td>\n",
       "    </tr>\n",
       "    <tr>\n",
       "      <th>quality</th>\n",
       "      <td>1359</td>\n",
       "      <td>5.6232523914643116</td>\n",
       "      <td>0.8235780017165556</td>\n",
       "      <td>3</td>\n",
       "      <td>8</td>\n",
       "    </tr>\n",
       "  </tbody>\n",
       "</table>\n",
       "</div>"
      ],
      "text/plain": [
       "                          0                    1                     2  \\\n",
       "summary               count                 mean                stddev   \n",
       "fixed acidity          1359    8.310596026490076    1.7369898075324683   \n",
       "volatile acidity       1359   0.5294775570272255   0.18303131761907196   \n",
       "citric acid            1359  0.27233259749816047    0.1955365445504638   \n",
       "residual sugar         1359   2.5233995584988946    1.3523137577104223   \n",
       "chlorides              1359  0.08812362030905024  0.049376862443486075   \n",
       "free sulfur dioxide    1359   15.893303899926417    10.447270259048686   \n",
       "total sulfur dioxide   1359    46.82597498160412    33.408945706616564   \n",
       "density                1359   0.9967089477557036  0.001868917132559179   \n",
       "pH                     1359   3.3097866077998535    0.1550363112872961   \n",
       "sulphates              1359   0.6587049300956583    0.1706668905742068   \n",
       "alcohol                1359   10.432315428010774    1.0820654499402536   \n",
       "quality                1359   5.6232523914643116    0.8235780017165556   \n",
       "\n",
       "                                       3        4  \n",
       "summary                              min      max  \n",
       "fixed acidity                        4.6     15.9  \n",
       "volatile acidity                    0.12     1.58  \n",
       "citric acid                          0.0      1.0  \n",
       "residual sugar                       0.9     15.5  \n",
       "chlorides                          0.012    0.611  \n",
       "free sulfur dioxide                  1.0     72.0  \n",
       "total sulfur dioxide                 6.0    289.0  \n",
       "density               0.9900700000000001  1.00369  \n",
       "pH                                  2.74     4.01  \n",
       "sulphates                           0.33      2.0  \n",
       "alcohol                              8.4     14.9  \n",
       "quality                                3        8  "
      ]
     },
     "execution_count": 11,
     "metadata": {},
     "output_type": "execute_result"
    }
   ],
   "source": [
    "numeric_features = [t[0] for t in df.dtypes if t[1] == 'int' or t[1] == 'double']\n",
    "df.select(numeric_features).describe().toPandas().transpose()"
   ]
  },
  {
   "cell_type": "markdown",
   "metadata": {},
   "source": [
    "Como se puede observar en la tabla anterior, la media de la clase quality es menor de 6.5, por lo que podemos deducir que los datos están desbalanceados, hay más vinos considerados \"malos\" que \"buenos\"."
   ]
  },
  {
   "cell_type": "markdown",
   "metadata": {},
   "source": [
    "Seguidamente, creamos un objeto VectorAssembler para unir varias columnas en una única. Estas columnas se corresponden con las columnas de entrada del modelo. "
   ]
  },
  {
   "cell_type": "code",
   "execution_count": 12,
   "metadata": {},
   "outputs": [],
   "source": [
    "assembler = VectorAssembler(\n",
    "    inputCols=[\"fixed acidity\",\"volatile acidity\",\"citric acid\",\"residual sugar\",\"chlorides\",\"free sulfur dioxide\",\n",
    "    \"total sulfur dioxide\",\"density\",\"pH\",\"sulphates\",\"alcohol\"],\n",
    "    outputCol=\"features\")"
   ]
  },
  {
   "cell_type": "markdown",
   "metadata": {},
   "source": [
    "Se dividen los datos de entrada en subconjuntos de prueba y de entrenamiento. Para evitar que el modelo esté sobreentrenado se establece que el 75% de los datos formen parte del subconjunto de entrenamiento y el restante 25% formen el subconjunto de test."
   ]
  },
  {
   "cell_type": "code",
   "execution_count": 13,
   "metadata": {},
   "outputs": [
    {
     "name": "stdout",
     "output_type": "stream",
     "text": [
      "Training Dataset Count: 1026\n",
      "Test Dataset Count: 333\n"
     ]
    }
   ],
   "source": [
    "train_df, test_df = df.randomSplit([0.75,0.25], seed=80)\n",
    "print(\"Training Dataset Count: \" + str(train_df.count()))\n",
    "print(\"Test Dataset Count: \" + str(test_df.count()))"
   ]
  },
  {
   "cell_type": "markdown",
   "metadata": {},
   "source": [
    "Como se ha comentado anteriormente, el problema es tratado como un problema de regresión lineal. Dentro de esta familia de algortimos se ha elegido el método gausiano porque el dato que precide es un valor continuo al igual que el valor con el que se mide la calidad del vino, que es la característica que se pretende predecir (https://spark.apache.org/docs/latest/ml-classification-regression.html#linear-regression.)"
   ]
  },
  {
   "cell_type": "code",
   "execution_count": 14,
   "metadata": {},
   "outputs": [],
   "source": [
    "glr = GeneralizedLinearRegression(family=\"gaussian\", link=\"Identity\", featuresCol=\"features\", labelCol=\"quality\",maxIter=10, regParam=0.3)"
   ]
  },
  {
   "cell_type": "markdown",
   "metadata": {},
   "source": [
    "Con el fin de utilizar distintos transformadores y estimadores juntos utilizamos el método Pipeline que se encarga de crear un flujo de trabajo o workflow. "
   ]
  },
  {
   "cell_type": "code",
   "execution_count": 15,
   "metadata": {},
   "outputs": [],
   "source": [
    "pipeline = Pipeline(stages=[assembler, glr])"
   ]
  },
  {
   "cell_type": "markdown",
   "metadata": {},
   "source": [
    "A continuación, entrenamos el modelo con los datos de entrenamiento."
   ]
  },
  {
   "cell_type": "code",
   "execution_count": 16,
   "metadata": {},
   "outputs": [],
   "source": [
    "model = pipeline.fit(train_df)"
   ]
  },
  {
   "cell_type": "markdown",
   "metadata": {},
   "source": [
    "Tras esto, se generan las predicciones utilizando el modelo generado y los datos de test."
   ]
  },
  {
   "cell_type": "code",
   "execution_count": 17,
   "metadata": {},
   "outputs": [],
   "source": [
    "predictions = model.transform(test_df)"
   ]
  },
  {
   "cell_type": "markdown",
   "metadata": {},
   "source": [
    "Por último, se evalua el modelo creado obteniendo el error cuadrático medio (RMSE)."
   ]
  },
  {
   "cell_type": "code",
   "execution_count": 18,
   "metadata": {},
   "outputs": [
    {
     "name": "stdout",
     "output_type": "stream",
     "text": [
      "RMSE: 0.4936894482155893\n"
     ]
    }
   ],
   "source": [
    "evaluator = RegressionEvaluator(labelCol=\"quality\",predictionCol=\"prediction\", metricName=\"mse\")\n",
    "rmse = evaluator.evaluate(predictions)\n",
    "\n",
    "print(f'RMSE: {rmse}')"
   ]
  },
  {
   "cell_type": "markdown",
   "metadata": {},
   "source": [
    "El RMSE mide la cantidad de error que hay entre dos conjuntos de datos, los valores predichos y los valores conocidos. Cuanto más pequeño es este valor más cercanos son los valores predichos y observados. Por tanto, se podría considerar que el modelo creado es suficientemente bueno con un RMSE del 0.4937."
   ]
  },
  {
   "cell_type": "markdown",
   "metadata": {},
   "source": [
    "Además, se calculan otras métricas que son útiles para la evaluación del modelo generado."
   ]
  },
  {
   "cell_type": "code",
   "execution_count": 19,
   "metadata": {},
   "outputs": [
    {
     "name": "stdout",
     "output_type": "stream",
     "text": [
      "Coefficients: [0.018178444087013024,-0.7824214756567364,0.17941567981650883,0.002222012200290806,-1.613248711982213,0.0015791410285770024,-0.0022784230175551534,-38.68046925529207,-0.16794392530541905,0.7485294052811008,0.19572528081694826]\n",
      "Intercept: 42.619657854273136\n"
     ]
    }
   ],
   "source": [
    "str_model = model.stages[-1]\n",
    "print(\"Coefficients: \" + str(str_model.coefficients))\n",
    "print(\"Intercept: \" + str(str_model.intercept))"
   ]
  },
  {
   "cell_type": "code",
   "execution_count": 20,
   "metadata": {},
   "outputs": [
    {
     "name": "stdout",
     "output_type": "stream",
     "text": [
      "Coefficient Standard Errors: [0.013774958285278863, 0.1078562350567655, 0.11539488465751785, 0.013920032345109471, 0.4118763892939464, 0.001931787141533024, 0.0006109783907734636, 12.298768555801455, 0.13969837708336016, 0.11290054473983274, 0.018727672459651207, 12.250502493258121]\n",
      "T Values: [1.3196732585709616, -7.254299904358263, 1.5547975141965713, 0.15962694232326738, -3.9168273635391024, 0.8174508436389274, -3.729138463752868, -3.1450684741153285, -1.2021895229692205, 6.6299893149852105, 10.451126867935063, 3.479013034585987]\n",
      "P Values: [0.18724199830291122, 8.01136934569513e-13, 0.12030634062577117, 0.8732067440407345, 9.572822579939633e-05, 0.4138628574893837, 0.00020277687469860695, 0.0017088068235480147, 0.2295707741292583, 5.447375883704808e-11, 0.0, 0.0005246524791024942]\n",
      "Dispersion: 0.432361561837038\n",
      "Null Deviance: 684.6978557504877\n",
      "Residual Degree Of Freedom Null: 1025\n",
      "Deviance: 438.41462370275656\n",
      "Residual Degree Of Freedom: 1014\n",
      "AIC: 2065.2972301936197\n",
      "Deviance Residuals: \n",
      "+--------------------+\n",
      "|   devianceResiduals|\n",
      "+--------------------+\n",
      "|  -2.008436487726634|\n",
      "| 0.12703332902712816|\n",
      "| 0.44532076924106434|\n",
      "| -0.5994979426462805|\n",
      "| -0.5545240551780495|\n",
      "|   1.441382622828833|\n",
      "| 0.19017675674383128|\n",
      "| -1.0652197447599718|\n",
      "| -0.3562287121514558|\n",
      "|  0.6194453686842891|\n",
      "|-0.16392719341433803|\n",
      "|    0.71382386507495|\n",
      "|-0.38367754978357027|\n",
      "| -0.6285010087671168|\n",
      "|  1.0899559569099964|\n",
      "|  0.1647238538876934|\n",
      "| 0.15193232451763805|\n",
      "|  0.5265986569185515|\n",
      "|  0.5200744808913313|\n",
      "|  0.8145494633290298|\n",
      "+--------------------+\n",
      "only showing top 20 rows\n",
      "\n"
     ]
    }
   ],
   "source": [
    "summary = str_model.summary\n",
    "print(\"Coefficient Standard Errors: \" + str(summary.coefficientStandardErrors))\n",
    "print(\"T Values: \" + str(summary.tValues))\n",
    "print(\"P Values: \" + str(summary.pValues))\n",
    "print(\"Dispersion: \" + str(summary.dispersion))\n",
    "print(\"Null Deviance: \" + str(summary.nullDeviance))\n",
    "print(\"Residual Degree Of Freedom Null: \" + str(summary.residualDegreeOfFreedomNull))\n",
    "print(\"Deviance: \" + str(summary.deviance))\n",
    "print(\"Residual Degree Of Freedom: \" + str(summary.residualDegreeOfFreedom))\n",
    "print(\"AIC: \" + str(summary.aic))\n",
    "print(\"Deviance Residuals: \")\n",
    "summary.residuals().show()"
   ]
  },
  {
   "cell_type": "markdown",
   "metadata": {},
   "source": [
    "Finalmente, se guarda el modelo creado con el fin de poder utilizarlo en el futuro para predecir nuevos conjuntos de datos. "
   ]
  },
  {
   "cell_type": "code",
   "execution_count": 21,
   "metadata": {},
   "outputs": [
    {
     "name": "stderr",
     "output_type": "stream",
     "text": [
      "                                                                                \r"
     ]
    }
   ],
   "source": [
    "model.write().overwrite().save(\"models/red-wine\")"
   ]
  },
  {
   "cell_type": "code",
   "execution_count": 22,
   "metadata": {},
   "outputs": [],
   "source": [
    "spark.stop()"
   ]
  },
  {
   "cell_type": "markdown",
   "metadata": {},
   "source": [
    "## Conclusiones"
   ]
  },
  {
   "cell_type": "markdown",
   "metadata": {},
   "source": [
    "A modo de conclusiones, me gustaría comentar que esta segunda práctica de la asignatura me ha ayudado a comprender mejor la utilización de Apache Spark así como sus características. Este módulo era uno de los que más me interesaban en el máster y he terminado satisfecho con todos los conocimientos que he adquirido. Además, la bibliografía recomendada es muy extensa y gracias a su calidad he podido ampliar varios conceptos. \n",
    "\n",
    "La primera parte de Spark SQL me ha resultado sencilla porque tengo conocimientos previos de SQL en el grado de Ingeniería Informática. Por otra parte, me hubiera gustado que se le hubiera dado más importancia a la parte de Machine Learning con Spark porque pienso que actualmente está muy demandada debido a sus aplicaciones en \n",
    "diversos sectores. Quizá se podría equilibrar el porcentaje de peso entre las dos partes de la práctica y extender los recursos proporcionados por el equipo docente en la parte de Machine Learning."
   ]
  }
 ],
 "metadata": {
  "interpreter": {
   "hash": "0edc6be82717b6f70cf2dcee2738879529564b037caedb2b71f713659d814bfb"
  },
  "kernelspec": {
   "display_name": "Python 3.8.10 64-bit ('sparkenv': venv)",
   "language": "python",
   "name": "python3"
  },
  "language_info": {
   "codemirror_mode": {
    "name": "ipython",
    "version": 3
   },
   "file_extension": ".py",
   "mimetype": "text/x-python",
   "name": "python",
   "nbconvert_exporter": "python",
   "pygments_lexer": "ipython3",
   "version": "3.8.10"
  },
  "orig_nbformat": 4
 },
 "nbformat": 4,
 "nbformat_minor": 2
}
