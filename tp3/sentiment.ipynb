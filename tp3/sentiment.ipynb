{
 "cells": [
  {
   "cell_type": "markdown",
   "metadata": {},
   "source": [
    "## Infraestructuras Computacionales para el Procesamiento de Datos Masivos\n",
    "### Práctica del Módulo 3: Gestión de datos en tiempo real (Streaming)\n",
    "### Autor: Jesús Galán Llano\n",
    "#### Correo: jgalan279@alumno.uned.es"
   ]
  }
 ],
 "metadata": {
  "interpreter": {
   "hash": "8de8a589add48b80f6827af05e807dbcd2bd3827f84dec81fe71df8e7bb571de"
  },
  "kernelspec": {
   "display_name": "Python 3.8.10 64-bit ('venv': venv)",
   "language": "python",
   "name": "python3"
  },
  "language_info": {
   "name": "python",
   "version": "3.8.10"
  },
  "orig_nbformat": 4
 },
 "nbformat": 4,
 "nbformat_minor": 2
}
