{
 "cells": [
  {
   "cell_type": "markdown",
   "metadata": {},
   "source": [
    "## Infraestructuras Computacionales para el Procesamiento de Datos Masivos\n",
    "### Práctica del Módulo 3: Gestión de datos en tiempo real (Streaming)\n",
    "### Autor: Jesús Galán Llano\n",
    "#### Correo: jgalan279@alumno.uned.es"
   ]
  },
  {
   "cell_type": "markdown",
   "metadata": {},
   "source": [
    "Este script permite configurar el sistema necesario para realizar esta parte de la práctica.\n"
   ]
  },
  {
   "cell_type": "code",
   "execution_count": null,
   "metadata": {},
   "outputs": [],
   "source": [
    "import os\n",
    "\n",
    "os.chdir(\"/home/jesus/Descargas/kafka_2.13-3.0.0\")"
   ]
  },
  {
   "cell_type": "markdown",
   "metadata": {},
   "source": [
    "En primer lugar, levanta el servidor zookeeper"
   ]
  },
  {
   "cell_type": "code",
   "execution_count": null,
   "metadata": {},
   "outputs": [],
   "source": [
    "! bin/zookeeper-server-start.sh -daemon config/zookeeper.properties "
   ]
  },
  {
   "cell_type": "markdown",
   "metadata": {},
   "source": [
    "Levantar dos brokers"
   ]
  },
  {
   "cell_type": "code",
   "execution_count": null,
   "metadata": {},
   "outputs": [],
   "source": [
    "! bin/kafka-server-start.sh -daemon config/server0.properties"
   ]
  },
  {
   "cell_type": "code",
   "execution_count": null,
   "metadata": {},
   "outputs": [],
   "source": [
    "! bin/kafka-server-start.sh -daemon config/server1.properties"
   ]
  },
  {
   "cell_type": "markdown",
   "metadata": {},
   "source": [
    "Crear un topic con el nombre \"kafkaTwitter\" con 2 particiones y un factor de replicación igual a 2."
   ]
  },
  {
   "cell_type": "code",
   "execution_count": null,
   "metadata": {},
   "outputs": [],
   "source": [
    "! bin/kafka-topics.sh --create --partitions 2 --replication-factor 2 --topic kafkaTwitter --bootstrap-server localhost:9092"
   ]
  }
 ],
 "metadata": {
  "interpreter": {
   "hash": "8de8a589add48b80f6827af05e807dbcd2bd3827f84dec81fe71df8e7bb571de"
  },
  "kernelspec": {
   "display_name": "Python 3.8.10 64-bit ('venv': venv)",
   "language": "python",
   "name": "python3"
  },
  "language_info": {
   "codemirror_mode": {
    "name": "ipython",
    "version": 3
   },
   "file_extension": ".py",
   "mimetype": "text/x-python",
   "name": "python",
   "nbconvert_exporter": "python",
   "pygments_lexer": "ipython3",
   "version": "3.8.10"
  },
  "orig_nbformat": 4
 },
 "nbformat": 4,
 "nbformat_minor": 2
}
